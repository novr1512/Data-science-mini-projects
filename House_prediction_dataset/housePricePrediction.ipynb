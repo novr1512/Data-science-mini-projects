{
 "cells": [
  {
   "cell_type": "markdown",
   "metadata": {},
   "source": []
  },
  {
   "cell_type": "code",
   "execution_count": 74,
   "metadata": {},
   "outputs": [],
   "source": [
    "import numpy as np\n",
    "import pandas as pd\n",
    "import seaborn as sns\n",
    "import plotly.express as px\n",
    "import matplotlib.pyplot as plt\n",
    "import statsmodels.formula.api as smf\n",
    "import datetime\n",
    "import scipy.stats as stats\n",
    "from dash import Dash, html, dcc\n",
    "import plotly.graph_objects as go\n",
    "import sklearn"
   ]
  },
  {
   "cell_type": "code",
   "execution_count": 75,
   "metadata": {},
   "outputs": [],
   "source": [
    "import tensorflow as tf\n",
    "\n",
    "from tensorflow import keras\n",
    "from tensorflow.keras import layers\n",
    "from tensorflow.keras import backend as K"
   ]
  },
  {
   "cell_type": "code",
   "execution_count": 76,
   "metadata": {},
   "outputs": [
    {
     "name": "stdout",
     "output_type": "stream",
     "text": [
      "TensorFlow version: 2.10.1\n"
     ]
    }
   ],
   "source": [
    "print(\"TensorFlow version:\", tf.__version__)"
   ]
  },
  {
   "cell_type": "code",
   "execution_count": 77,
   "metadata": {},
   "outputs": [],
   "source": [
    "train = pd.read_csv(\"train.csv\")\n",
    "#test = pd.read_csv(\"test.csv\")"
   ]
  },
  {
   "cell_type": "code",
   "execution_count": 78,
   "metadata": {},
   "outputs": [
    {
     "data": {
      "text/html": [
       "<div>\n",
       "<style scoped>\n",
       "    .dataframe tbody tr th:only-of-type {\n",
       "        vertical-align: middle;\n",
       "    }\n",
       "\n",
       "    .dataframe tbody tr th {\n",
       "        vertical-align: top;\n",
       "    }\n",
       "\n",
       "    .dataframe thead th {\n",
       "        text-align: right;\n",
       "    }\n",
       "</style>\n",
       "<table border=\"1\" class=\"dataframe\">\n",
       "  <thead>\n",
       "    <tr style=\"text-align: right;\">\n",
       "      <th></th>\n",
       "      <th>Id</th>\n",
       "      <th>MSSubClass</th>\n",
       "      <th>MSZoning</th>\n",
       "      <th>LotFrontage</th>\n",
       "      <th>LotArea</th>\n",
       "      <th>Street</th>\n",
       "      <th>Alley</th>\n",
       "      <th>LotShape</th>\n",
       "      <th>LandContour</th>\n",
       "      <th>Utilities</th>\n",
       "      <th>...</th>\n",
       "      <th>PoolArea</th>\n",
       "      <th>PoolQC</th>\n",
       "      <th>Fence</th>\n",
       "      <th>MiscFeature</th>\n",
       "      <th>MiscVal</th>\n",
       "      <th>MoSold</th>\n",
       "      <th>YrSold</th>\n",
       "      <th>SaleType</th>\n",
       "      <th>SaleCondition</th>\n",
       "      <th>SalePrice</th>\n",
       "    </tr>\n",
       "  </thead>\n",
       "  <tbody>\n",
       "    <tr>\n",
       "      <th>0</th>\n",
       "      <td>1</td>\n",
       "      <td>60</td>\n",
       "      <td>RL</td>\n",
       "      <td>65.0</td>\n",
       "      <td>8450</td>\n",
       "      <td>Pave</td>\n",
       "      <td>NaN</td>\n",
       "      <td>Reg</td>\n",
       "      <td>Lvl</td>\n",
       "      <td>AllPub</td>\n",
       "      <td>...</td>\n",
       "      <td>0</td>\n",
       "      <td>NaN</td>\n",
       "      <td>NaN</td>\n",
       "      <td>NaN</td>\n",
       "      <td>0</td>\n",
       "      <td>2</td>\n",
       "      <td>2008</td>\n",
       "      <td>WD</td>\n",
       "      <td>Normal</td>\n",
       "      <td>208500</td>\n",
       "    </tr>\n",
       "    <tr>\n",
       "      <th>1</th>\n",
       "      <td>2</td>\n",
       "      <td>20</td>\n",
       "      <td>RL</td>\n",
       "      <td>80.0</td>\n",
       "      <td>9600</td>\n",
       "      <td>Pave</td>\n",
       "      <td>NaN</td>\n",
       "      <td>Reg</td>\n",
       "      <td>Lvl</td>\n",
       "      <td>AllPub</td>\n",
       "      <td>...</td>\n",
       "      <td>0</td>\n",
       "      <td>NaN</td>\n",
       "      <td>NaN</td>\n",
       "      <td>NaN</td>\n",
       "      <td>0</td>\n",
       "      <td>5</td>\n",
       "      <td>2007</td>\n",
       "      <td>WD</td>\n",
       "      <td>Normal</td>\n",
       "      <td>181500</td>\n",
       "    </tr>\n",
       "    <tr>\n",
       "      <th>2</th>\n",
       "      <td>3</td>\n",
       "      <td>60</td>\n",
       "      <td>RL</td>\n",
       "      <td>68.0</td>\n",
       "      <td>11250</td>\n",
       "      <td>Pave</td>\n",
       "      <td>NaN</td>\n",
       "      <td>IR1</td>\n",
       "      <td>Lvl</td>\n",
       "      <td>AllPub</td>\n",
       "      <td>...</td>\n",
       "      <td>0</td>\n",
       "      <td>NaN</td>\n",
       "      <td>NaN</td>\n",
       "      <td>NaN</td>\n",
       "      <td>0</td>\n",
       "      <td>9</td>\n",
       "      <td>2008</td>\n",
       "      <td>WD</td>\n",
       "      <td>Normal</td>\n",
       "      <td>223500</td>\n",
       "    </tr>\n",
       "    <tr>\n",
       "      <th>3</th>\n",
       "      <td>4</td>\n",
       "      <td>70</td>\n",
       "      <td>RL</td>\n",
       "      <td>60.0</td>\n",
       "      <td>9550</td>\n",
       "      <td>Pave</td>\n",
       "      <td>NaN</td>\n",
       "      <td>IR1</td>\n",
       "      <td>Lvl</td>\n",
       "      <td>AllPub</td>\n",
       "      <td>...</td>\n",
       "      <td>0</td>\n",
       "      <td>NaN</td>\n",
       "      <td>NaN</td>\n",
       "      <td>NaN</td>\n",
       "      <td>0</td>\n",
       "      <td>2</td>\n",
       "      <td>2006</td>\n",
       "      <td>WD</td>\n",
       "      <td>Abnorml</td>\n",
       "      <td>140000</td>\n",
       "    </tr>\n",
       "    <tr>\n",
       "      <th>4</th>\n",
       "      <td>5</td>\n",
       "      <td>60</td>\n",
       "      <td>RL</td>\n",
       "      <td>84.0</td>\n",
       "      <td>14260</td>\n",
       "      <td>Pave</td>\n",
       "      <td>NaN</td>\n",
       "      <td>IR1</td>\n",
       "      <td>Lvl</td>\n",
       "      <td>AllPub</td>\n",
       "      <td>...</td>\n",
       "      <td>0</td>\n",
       "      <td>NaN</td>\n",
       "      <td>NaN</td>\n",
       "      <td>NaN</td>\n",
       "      <td>0</td>\n",
       "      <td>12</td>\n",
       "      <td>2008</td>\n",
       "      <td>WD</td>\n",
       "      <td>Normal</td>\n",
       "      <td>250000</td>\n",
       "    </tr>\n",
       "    <tr>\n",
       "      <th>...</th>\n",
       "      <td>...</td>\n",
       "      <td>...</td>\n",
       "      <td>...</td>\n",
       "      <td>...</td>\n",
       "      <td>...</td>\n",
       "      <td>...</td>\n",
       "      <td>...</td>\n",
       "      <td>...</td>\n",
       "      <td>...</td>\n",
       "      <td>...</td>\n",
       "      <td>...</td>\n",
       "      <td>...</td>\n",
       "      <td>...</td>\n",
       "      <td>...</td>\n",
       "      <td>...</td>\n",
       "      <td>...</td>\n",
       "      <td>...</td>\n",
       "      <td>...</td>\n",
       "      <td>...</td>\n",
       "      <td>...</td>\n",
       "      <td>...</td>\n",
       "    </tr>\n",
       "    <tr>\n",
       "      <th>1455</th>\n",
       "      <td>1456</td>\n",
       "      <td>60</td>\n",
       "      <td>RL</td>\n",
       "      <td>62.0</td>\n",
       "      <td>7917</td>\n",
       "      <td>Pave</td>\n",
       "      <td>NaN</td>\n",
       "      <td>Reg</td>\n",
       "      <td>Lvl</td>\n",
       "      <td>AllPub</td>\n",
       "      <td>...</td>\n",
       "      <td>0</td>\n",
       "      <td>NaN</td>\n",
       "      <td>NaN</td>\n",
       "      <td>NaN</td>\n",
       "      <td>0</td>\n",
       "      <td>8</td>\n",
       "      <td>2007</td>\n",
       "      <td>WD</td>\n",
       "      <td>Normal</td>\n",
       "      <td>175000</td>\n",
       "    </tr>\n",
       "    <tr>\n",
       "      <th>1456</th>\n",
       "      <td>1457</td>\n",
       "      <td>20</td>\n",
       "      <td>RL</td>\n",
       "      <td>85.0</td>\n",
       "      <td>13175</td>\n",
       "      <td>Pave</td>\n",
       "      <td>NaN</td>\n",
       "      <td>Reg</td>\n",
       "      <td>Lvl</td>\n",
       "      <td>AllPub</td>\n",
       "      <td>...</td>\n",
       "      <td>0</td>\n",
       "      <td>NaN</td>\n",
       "      <td>MnPrv</td>\n",
       "      <td>NaN</td>\n",
       "      <td>0</td>\n",
       "      <td>2</td>\n",
       "      <td>2010</td>\n",
       "      <td>WD</td>\n",
       "      <td>Normal</td>\n",
       "      <td>210000</td>\n",
       "    </tr>\n",
       "    <tr>\n",
       "      <th>1457</th>\n",
       "      <td>1458</td>\n",
       "      <td>70</td>\n",
       "      <td>RL</td>\n",
       "      <td>66.0</td>\n",
       "      <td>9042</td>\n",
       "      <td>Pave</td>\n",
       "      <td>NaN</td>\n",
       "      <td>Reg</td>\n",
       "      <td>Lvl</td>\n",
       "      <td>AllPub</td>\n",
       "      <td>...</td>\n",
       "      <td>0</td>\n",
       "      <td>NaN</td>\n",
       "      <td>GdPrv</td>\n",
       "      <td>Shed</td>\n",
       "      <td>2500</td>\n",
       "      <td>5</td>\n",
       "      <td>2010</td>\n",
       "      <td>WD</td>\n",
       "      <td>Normal</td>\n",
       "      <td>266500</td>\n",
       "    </tr>\n",
       "    <tr>\n",
       "      <th>1458</th>\n",
       "      <td>1459</td>\n",
       "      <td>20</td>\n",
       "      <td>RL</td>\n",
       "      <td>68.0</td>\n",
       "      <td>9717</td>\n",
       "      <td>Pave</td>\n",
       "      <td>NaN</td>\n",
       "      <td>Reg</td>\n",
       "      <td>Lvl</td>\n",
       "      <td>AllPub</td>\n",
       "      <td>...</td>\n",
       "      <td>0</td>\n",
       "      <td>NaN</td>\n",
       "      <td>NaN</td>\n",
       "      <td>NaN</td>\n",
       "      <td>0</td>\n",
       "      <td>4</td>\n",
       "      <td>2010</td>\n",
       "      <td>WD</td>\n",
       "      <td>Normal</td>\n",
       "      <td>142125</td>\n",
       "    </tr>\n",
       "    <tr>\n",
       "      <th>1459</th>\n",
       "      <td>1460</td>\n",
       "      <td>20</td>\n",
       "      <td>RL</td>\n",
       "      <td>75.0</td>\n",
       "      <td>9937</td>\n",
       "      <td>Pave</td>\n",
       "      <td>NaN</td>\n",
       "      <td>Reg</td>\n",
       "      <td>Lvl</td>\n",
       "      <td>AllPub</td>\n",
       "      <td>...</td>\n",
       "      <td>0</td>\n",
       "      <td>NaN</td>\n",
       "      <td>NaN</td>\n",
       "      <td>NaN</td>\n",
       "      <td>0</td>\n",
       "      <td>6</td>\n",
       "      <td>2008</td>\n",
       "      <td>WD</td>\n",
       "      <td>Normal</td>\n",
       "      <td>147500</td>\n",
       "    </tr>\n",
       "  </tbody>\n",
       "</table>\n",
       "<p>1460 rows × 81 columns</p>\n",
       "</div>"
      ],
      "text/plain": [
       "        Id  MSSubClass MSZoning  LotFrontage  LotArea Street Alley LotShape  \\\n",
       "0        1          60       RL         65.0     8450   Pave   NaN      Reg   \n",
       "1        2          20       RL         80.0     9600   Pave   NaN      Reg   \n",
       "2        3          60       RL         68.0    11250   Pave   NaN      IR1   \n",
       "3        4          70       RL         60.0     9550   Pave   NaN      IR1   \n",
       "4        5          60       RL         84.0    14260   Pave   NaN      IR1   \n",
       "...    ...         ...      ...          ...      ...    ...   ...      ...   \n",
       "1455  1456          60       RL         62.0     7917   Pave   NaN      Reg   \n",
       "1456  1457          20       RL         85.0    13175   Pave   NaN      Reg   \n",
       "1457  1458          70       RL         66.0     9042   Pave   NaN      Reg   \n",
       "1458  1459          20       RL         68.0     9717   Pave   NaN      Reg   \n",
       "1459  1460          20       RL         75.0     9937   Pave   NaN      Reg   \n",
       "\n",
       "     LandContour Utilities  ... PoolArea PoolQC  Fence MiscFeature MiscVal  \\\n",
       "0            Lvl    AllPub  ...        0    NaN    NaN         NaN       0   \n",
       "1            Lvl    AllPub  ...        0    NaN    NaN         NaN       0   \n",
       "2            Lvl    AllPub  ...        0    NaN    NaN         NaN       0   \n",
       "3            Lvl    AllPub  ...        0    NaN    NaN         NaN       0   \n",
       "4            Lvl    AllPub  ...        0    NaN    NaN         NaN       0   \n",
       "...          ...       ...  ...      ...    ...    ...         ...     ...   \n",
       "1455         Lvl    AllPub  ...        0    NaN    NaN         NaN       0   \n",
       "1456         Lvl    AllPub  ...        0    NaN  MnPrv         NaN       0   \n",
       "1457         Lvl    AllPub  ...        0    NaN  GdPrv        Shed    2500   \n",
       "1458         Lvl    AllPub  ...        0    NaN    NaN         NaN       0   \n",
       "1459         Lvl    AllPub  ...        0    NaN    NaN         NaN       0   \n",
       "\n",
       "     MoSold YrSold  SaleType  SaleCondition  SalePrice  \n",
       "0         2   2008        WD         Normal     208500  \n",
       "1         5   2007        WD         Normal     181500  \n",
       "2         9   2008        WD         Normal     223500  \n",
       "3         2   2006        WD        Abnorml     140000  \n",
       "4        12   2008        WD         Normal     250000  \n",
       "...     ...    ...       ...            ...        ...  \n",
       "1455      8   2007        WD         Normal     175000  \n",
       "1456      2   2010        WD         Normal     210000  \n",
       "1457      5   2010        WD         Normal     266500  \n",
       "1458      4   2010        WD         Normal     142125  \n",
       "1459      6   2008        WD         Normal     147500  \n",
       "\n",
       "[1460 rows x 81 columns]"
      ]
     },
     "execution_count": 78,
     "metadata": {},
     "output_type": "execute_result"
    }
   ],
   "source": [
    "train"
   ]
  },
  {
   "cell_type": "code",
   "execution_count": 79,
   "metadata": {},
   "outputs": [
    {
     "data": {
      "text/plain": [
       "Index(['Id', 'MSSubClass', 'MSZoning', 'LotFrontage', 'LotArea', 'Street',\n",
       "       'Alley', 'LotShape', 'LandContour', 'Utilities', 'LotConfig',\n",
       "       'LandSlope', 'Neighborhood', 'Condition1', 'Condition2', 'BldgType',\n",
       "       'HouseStyle', 'OverallQual', 'OverallCond', 'YearBuilt', 'YearRemodAdd',\n",
       "       'RoofStyle', 'RoofMatl', 'Exterior1st', 'Exterior2nd', 'MasVnrType',\n",
       "       'MasVnrArea', 'ExterQual', 'ExterCond', 'Foundation', 'BsmtQual',\n",
       "       'BsmtCond', 'BsmtExposure', 'BsmtFinType1', 'BsmtFinSF1',\n",
       "       'BsmtFinType2', 'BsmtFinSF2', 'BsmtUnfSF', 'TotalBsmtSF', 'Heating',\n",
       "       'HeatingQC', 'CentralAir', 'Electrical', '1stFlrSF', '2ndFlrSF',\n",
       "       'LowQualFinSF', 'GrLivArea', 'BsmtFullBath', 'BsmtHalfBath', 'FullBath',\n",
       "       'HalfBath', 'BedroomAbvGr', 'KitchenAbvGr', 'KitchenQual',\n",
       "       'TotRmsAbvGrd', 'Functional', 'Fireplaces', 'FireplaceQu', 'GarageType',\n",
       "       'GarageYrBlt', 'GarageFinish', 'GarageCars', 'GarageArea', 'GarageQual',\n",
       "       'GarageCond', 'PavedDrive', 'WoodDeckSF', 'OpenPorchSF',\n",
       "       'EnclosedPorch', '3SsnPorch', 'ScreenPorch', 'PoolArea', 'PoolQC',\n",
       "       'Fence', 'MiscFeature', 'MiscVal', 'MoSold', 'YrSold', 'SaleType',\n",
       "       'SaleCondition', 'SalePrice'],\n",
       "      dtype='object')"
      ]
     },
     "execution_count": 79,
     "metadata": {},
     "output_type": "execute_result"
    }
   ],
   "source": [
    "train.columns"
   ]
  },
  {
   "cell_type": "code",
   "execution_count": 80,
   "metadata": {},
   "outputs": [],
   "source": [
    "#train.drop(['RoofMatl','MasVnrType','Exterior2nd','Exterior1st','MasVnrArea','LowQualFinSF','GarageYrBlt','FireplaceQu','BsmtHalfBath','BsmtFullBath'], axis=1, inplace=True)"
   ]
  },
  {
   "cell_type": "code",
   "execution_count": 81,
   "metadata": {},
   "outputs": [
    {
     "name": "stdout",
     "output_type": "stream",
     "text": [
      "<class 'pandas.core.frame.DataFrame'>\n",
      "RangeIndex: 1460 entries, 0 to 1459\n",
      "Data columns (total 81 columns):\n",
      " #   Column         Non-Null Count  Dtype  \n",
      "---  ------         --------------  -----  \n",
      " 0   Id             1460 non-null   int64  \n",
      " 1   MSSubClass     1460 non-null   int64  \n",
      " 2   MSZoning       1460 non-null   object \n",
      " 3   LotFrontage    1201 non-null   float64\n",
      " 4   LotArea        1460 non-null   int64  \n",
      " 5   Street         1460 non-null   object \n",
      " 6   Alley          91 non-null     object \n",
      " 7   LotShape       1460 non-null   object \n",
      " 8   LandContour    1460 non-null   object \n",
      " 9   Utilities      1460 non-null   object \n",
      " 10  LotConfig      1460 non-null   object \n",
      " 11  LandSlope      1460 non-null   object \n",
      " 12  Neighborhood   1460 non-null   object \n",
      " 13  Condition1     1460 non-null   object \n",
      " 14  Condition2     1460 non-null   object \n",
      " 15  BldgType       1460 non-null   object \n",
      " 16  HouseStyle     1460 non-null   object \n",
      " 17  OverallQual    1460 non-null   int64  \n",
      " 18  OverallCond    1460 non-null   int64  \n",
      " 19  YearBuilt      1460 non-null   int64  \n",
      " 20  YearRemodAdd   1460 non-null   int64  \n",
      " 21  RoofStyle      1460 non-null   object \n",
      " 22  RoofMatl       1460 non-null   object \n",
      " 23  Exterior1st    1460 non-null   object \n",
      " 24  Exterior2nd    1460 non-null   object \n",
      " 25  MasVnrType     1452 non-null   object \n",
      " 26  MasVnrArea     1452 non-null   float64\n",
      " 27  ExterQual      1460 non-null   object \n",
      " 28  ExterCond      1460 non-null   object \n",
      " 29  Foundation     1460 non-null   object \n",
      " 30  BsmtQual       1423 non-null   object \n",
      " 31  BsmtCond       1423 non-null   object \n",
      " 32  BsmtExposure   1422 non-null   object \n",
      " 33  BsmtFinType1   1423 non-null   object \n",
      " 34  BsmtFinSF1     1460 non-null   int64  \n",
      " 35  BsmtFinType2   1422 non-null   object \n",
      " 36  BsmtFinSF2     1460 non-null   int64  \n",
      " 37  BsmtUnfSF      1460 non-null   int64  \n",
      " 38  TotalBsmtSF    1460 non-null   int64  \n",
      " 39  Heating        1460 non-null   object \n",
      " 40  HeatingQC      1460 non-null   object \n",
      " 41  CentralAir     1460 non-null   object \n",
      " 42  Electrical     1459 non-null   object \n",
      " 43  1stFlrSF       1460 non-null   int64  \n",
      " 44  2ndFlrSF       1460 non-null   int64  \n",
      " 45  LowQualFinSF   1460 non-null   int64  \n",
      " 46  GrLivArea      1460 non-null   int64  \n",
      " 47  BsmtFullBath   1460 non-null   int64  \n",
      " 48  BsmtHalfBath   1460 non-null   int64  \n",
      " 49  FullBath       1460 non-null   int64  \n",
      " 50  HalfBath       1460 non-null   int64  \n",
      " 51  BedroomAbvGr   1460 non-null   int64  \n",
      " 52  KitchenAbvGr   1460 non-null   int64  \n",
      " 53  KitchenQual    1460 non-null   object \n",
      " 54  TotRmsAbvGrd   1460 non-null   int64  \n",
      " 55  Functional     1460 non-null   object \n",
      " 56  Fireplaces     1460 non-null   int64  \n",
      " 57  FireplaceQu    770 non-null    object \n",
      " 58  GarageType     1379 non-null   object \n",
      " 59  GarageYrBlt    1379 non-null   float64\n",
      " 60  GarageFinish   1379 non-null   object \n",
      " 61  GarageCars     1460 non-null   int64  \n",
      " 62  GarageArea     1460 non-null   int64  \n",
      " 63  GarageQual     1379 non-null   object \n",
      " 64  GarageCond     1379 non-null   object \n",
      " 65  PavedDrive     1460 non-null   object \n",
      " 66  WoodDeckSF     1460 non-null   int64  \n",
      " 67  OpenPorchSF    1460 non-null   int64  \n",
      " 68  EnclosedPorch  1460 non-null   int64  \n",
      " 69  3SsnPorch      1460 non-null   int64  \n",
      " 70  ScreenPorch    1460 non-null   int64  \n",
      " 71  PoolArea       1460 non-null   int64  \n",
      " 72  PoolQC         7 non-null      object \n",
      " 73  Fence          281 non-null    object \n",
      " 74  MiscFeature    54 non-null     object \n",
      " 75  MiscVal        1460 non-null   int64  \n",
      " 76  MoSold         1460 non-null   int64  \n",
      " 77  YrSold         1460 non-null   int64  \n",
      " 78  SaleType       1460 non-null   object \n",
      " 79  SaleCondition  1460 non-null   object \n",
      " 80  SalePrice      1460 non-null   int64  \n",
      "dtypes: float64(3), int64(35), object(43)\n",
      "memory usage: 924.0+ KB\n"
     ]
    }
   ],
   "source": [
    "train.info()"
   ]
  },
  {
   "cell_type": "code",
   "execution_count": 82,
   "metadata": {},
   "outputs": [],
   "source": [
    "train.drop(['Alley','MiscFeature','Fence','PoolQC','GarageCond','GarageQual','FireplaceQu'], axis=1, inplace=True)"
   ]
  },
  {
   "cell_type": "code",
   "execution_count": 83,
   "metadata": {},
   "outputs": [],
   "source": [
    "LotMean = train[train['LotFrontage'].isna()==False]['LotFrontage'].mean()\n",
    "train.fillna( LotMean,inplace=True)\n"
   ]
  },
  {
   "cell_type": "code",
   "execution_count": 84,
   "metadata": {},
   "outputs": [
    {
     "data": {
      "image/png": "[encoded data removed]",
      "text/plain": [
       "<Figure size 800x1200 with 2 Axes>"
      ]
     },
     "metadata": {},
     "output_type": "display_data"
    }
   ],
   "source": [
    "plt.figure(figsize=(8, 12))\n",
    "heatmap = sns.heatmap(train.corr()[['SalePrice']].sort_values(by='SalePrice', ascending=False), vmin=-1, vmax=1, annot=True, cmap='BrBG')\n",
    "heatmap.set_title('Features Correlating with sale price', fontdict={'fontsize':18}, pad=16);"
   ]
  },
  {
   "attachments": {},
   "cell_type": "markdown",
   "metadata": {},
   "source": [
    "drop any column between -0.10 and 0.10"
   ]
  },
  {
   "cell_type": "code",
   "execution_count": 85,
   "metadata": {},
   "outputs": [],
   "source": [
    "train.drop(['Id','PoolArea','MoSold','3SsnPorch','BsmtHalfBath','BsmtFinSF2','MiscVal','LowQualFinSF','YrSold','OverallCond','MSSubClass'], axis=1, inplace=True)"
   ]
  },
  {
   "cell_type": "code",
   "execution_count": 86,
   "metadata": {},
   "outputs": [],
   "source": [
    "train.drop(['ScreenPorch'], axis=1, inplace=True)"
   ]
  },
  {
   "cell_type": "code",
   "execution_count": 87,
   "metadata": {},
   "outputs": [
    {
     "data": {
      "text/plain": [
       "Street\n",
       "Grvl       6\n",
       "Pave    1454\n",
       "dtype: int64"
      ]
     },
     "execution_count": 87,
     "metadata": {},
     "output_type": "execute_result"
    }
   ],
   "source": [
    "train.groupby('Street').size()"
   ]
  },
  {
   "cell_type": "code",
   "execution_count": 88,
   "metadata": {},
   "outputs": [],
   "source": [
    "train.drop(['Street'], axis=1, inplace=True)"
   ]
  },
  {
   "cell_type": "code",
   "execution_count": 89,
   "metadata": {},
   "outputs": [
    {
     "data": {
      "text/plain": [
       "Utilities\n",
       "AllPub    1459\n",
       "NoSeWa       1\n",
       "dtype: int64"
      ]
     },
     "execution_count": 89,
     "metadata": {},
     "output_type": "execute_result"
    }
   ],
   "source": [
    "train.groupby('Utilities').size()"
   ]
  },
  {
   "cell_type": "code",
   "execution_count": 90,
   "metadata": {},
   "outputs": [],
   "source": [
    "train.drop(['Utilities'], axis=1, inplace=True)"
   ]
  },
  {
   "cell_type": "code",
   "execution_count": 119,
   "metadata": {},
   "outputs": [
    {
     "data": {
      "text/html": [
       "<div>\n",
       "<style scoped>\n",
       "    .dataframe tbody tr th:only-of-type {\n",
       "        vertical-align: middle;\n",
       "    }\n",
       "\n",
       "    .dataframe tbody tr th {\n",
       "        vertical-align: top;\n",
       "    }\n",
       "\n",
       "    .dataframe thead th {\n",
       "        text-align: right;\n",
       "    }\n",
       "</style>\n",
       "<table border=\"1\" class=\"dataframe\">\n",
       "  <thead>\n",
       "    <tr style=\"text-align: right;\">\n",
       "      <th></th>\n",
       "      <th>MSZoning</th>\n",
       "      <th>LotFrontage</th>\n",
       "      <th>LotArea</th>\n",
       "      <th>LotShape</th>\n",
       "      <th>LandContour</th>\n",
       "      <th>LotConfig</th>\n",
       "      <th>LandSlope</th>\n",
       "      <th>Neighborhood</th>\n",
       "      <th>Condition1</th>\n",
       "      <th>Condition2</th>\n",
       "      <th>...</th>\n",
       "      <th>GarageFinish</th>\n",
       "      <th>GarageCars</th>\n",
       "      <th>GarageArea</th>\n",
       "      <th>PavedDrive</th>\n",
       "      <th>WoodDeckSF</th>\n",
       "      <th>OpenPorchSF</th>\n",
       "      <th>EnclosedPorch</th>\n",
       "      <th>SaleType</th>\n",
       "      <th>SaleCondition</th>\n",
       "      <th>SalePrice</th>\n",
       "    </tr>\n",
       "  </thead>\n",
       "  <tbody>\n",
       "  </tbody>\n",
       "</table>\n",
       "<p>0 rows × 60 columns</p>\n",
       "</div>"
      ],
      "text/plain": [
       "Empty DataFrame\n",
       "Columns: [MSZoning, LotFrontage, LotArea, LotShape, LandContour, LotConfig, LandSlope, Neighborhood, Condition1, Condition2, BldgType, HouseStyle, OverallQual, YearBuilt, YearRemodAdd, RoofStyle, RoofMatl, Exterior1st, Exterior2nd, MasVnrType, MasVnrArea, ExterQual, ExterCond, Foundation, BsmtQual, BsmtCond, BsmtExposure, BsmtFinType1, BsmtFinSF1, BsmtFinType2, BsmtUnfSF, TotalBsmtSF, Heating, HeatingQC, CentralAir, Electrical, 1stFlrSF, 2ndFlrSF, GrLivArea, BsmtFullBath, FullBath, HalfBath, BedroomAbvGr, KitchenAbvGr, KitchenQual, TotRmsAbvGrd, Functional, Fireplaces, GarageType, GarageYrBlt, GarageFinish, GarageCars, GarageArea, PavedDrive, WoodDeckSF, OpenPorchSF, EnclosedPorch, SaleType, SaleCondition, SalePrice]\n",
       "Index: []\n",
       "\n",
       "[0 rows x 60 columns]"
      ]
     },
     "execution_count": 119,
     "metadata": {},
     "output_type": "execute_result"
    }
   ],
   "source": [
    "train[train['BsmtQual']== 70.04995836802665]"
   ]
  },
  {
   "cell_type": "code",
   "execution_count": 92,
   "metadata": {},
   "outputs": [],
   "source": [
    "train['BsmtQual'].replace(to_replace=70.04995836802665, value='Po',inplace=True)"
   ]
  },
  {
   "cell_type": "code",
   "execution_count": 120,
   "metadata": {},
   "outputs": [],
   "source": [
    "train['BsmtCond'].replace(to_replace=70.04995836802665, value='Fa',inplace=True)"
   ]
  },
  {
   "cell_type": "code",
   "execution_count": 93,
   "metadata": {},
   "outputs": [
    {
     "data": {
      "text/plain": [
       "BsmtQual\n",
       "Ex    121\n",
       "Fa     35\n",
       "Gd    618\n",
       "Po     37\n",
       "TA    649\n",
       "dtype: int64"
      ]
     },
     "execution_count": 93,
     "metadata": {},
     "output_type": "execute_result"
    }
   ],
   "source": [
    "train.groupby('BsmtQual').size()"
   ]
  },
  {
   "cell_type": "code",
   "execution_count": 94,
   "metadata": {},
   "outputs": [],
   "source": [
    "train.drop(train[train['MasVnrType']== 70.04995836802665].index, axis=0, inplace=True)"
   ]
  },
  {
   "attachments": {},
   "cell_type": "markdown",
   "metadata": {},
   "source": [
    "#### EDA : exploratory data analysis\n",
    "\n",
    "the figure below demonstrate each variables and their values"
   ]
  },
  {
   "cell_type": "code",
   "execution_count": 95,
   "metadata": {},
   "outputs": [
    {
     "data": {
      "image/png": "[encoded data removed]",
      "text/plain": [
       "<Figure size 3000x2400 with 30 Axes>"
      ]
     },
     "metadata": {},
     "output_type": "display_data"
    }
   ],
   "source": [
    "train.hist(figsize=(30,24))\n",
    "plt.show()"
   ]
  },
  {
   "attachments": {},
   "cell_type": "markdown",
   "metadata": {},
   "source": []
  },
  {
   "cell_type": "code",
   "execution_count": 96,
   "metadata": {},
   "outputs": [
    {
     "data": {
      "application/vnd.plotly.v1+json": {
       "config": {
        "plotlyServerURL": "https://plot.ly"
       },
       "data": [
        {
         "alignmentgroup": "True",
         "bingroup": "x",
         "hovertemplate": "SalePrice=%{x}<br>count=%{y}<extra></extra>",
         "legendgroup": "",
         "marker": {
          "color": "#636efa",
          "pattern": {
           "shape": ""
          }
         },
         "name": "",
         "offsetgroup": "",
         "orientation": "v",
         "showlegend": false,
         "type": "histogram",
         "x": [
          208500,
          181500,
          223500,
          140000,
          250000,
          143000,
          307000,
          200000,
          129900,
          118000,
          129500,
          345000,
          144000,
          279500,
          157000,
          132000,
          149000,
          90000,
          159000,
          139000,
          325300,
          139400,
          230000,
          129900,
          154000,
          256300,
          134800,
          306000,
          207500,
          68500,
          40000,
          149350,
          179900,
          165500,
          277500,
          309000,
          145000,
          153000,
          109000,
          82000,
          160000,
          170000,
          144000,
          130250,
          141000,
          319900,
          239686,
          249700,
          113000,
          127000,
          177000,
          114500,
          110000,
          385000,
          130000,
          180500,
          172500,
          196500,
          438780,
          124900,
          158000,
          101000,
          202500,
          140000,
          219500,
          317000,
          180000,
          226000,
          80000,
          225000,
          244000,
          129500,
          185000,
          144900,
          107400,
          91000,
          135750,
          127000,
          136500,
          110000,
          193500,
          153500,
          245000,
          126500,
          168500,
          260000,
          174000,
          164500,
          85000,
          123600,
          109900,
          98600,
          163500,
          133900,
          204750,
          185000,
          214000,
          94750,
          83000,
          128950,
          205000,
          178000,
          118964,
          198900,
          169500,
          250000,
          100000,
          115000,
          115000,
          190000,
          136900,
          180000,
          383970,
          217000,
          259500,
          176000,
          139000,
          155000,
          320000,
          163990,
          180000,
          100000,
          136000,
          153900,
          181000,
          84500,
          128000,
          87000,
          155000,
          150000,
          226000,
          244000,
          150750,
          220000,
          180000,
          174000,
          143000,
          171000,
          230000,
          231500,
          115000,
          260000,
          166000,
          204000,
          125000,
          130000,
          105000,
          222500,
          141000,
          115000,
          122000,
          372402,
          190000,
          235000,
          125000,
          79000,
          109500,
          269500,
          254900,
          320000,
          162500,
          412500,
          220000,
          103200,
          152000,
          127500,
          190000,
          325624,
          183500,
          228000,
          128500,
          215000,
          239000,
          163000,
          184000,
          243000,
          211000,
          172500,
          501837,
          100000,
          177000,
          200100,
          120000,
          200000,
          127000,
          475000,
          173000,
          135000,
          153337,
          286000,
          315000,
          184000,
          192000,
          130000,
          127000,
          148500,
          311872,
          235000,
          104000,
          274900,
          140000,
          171500,
          112000,
          149000,
          110000,
          180500,
          143900,
          141000,
          277000,
          145000,
          98000,
          186000,
          252678,
          156000,
          161750,
          134450,
          210000,
          107000,
          311500,
          167240,
          204900,
          200000,
          179900,
          97000,
          386250,
          112000,
          290000,
          106000,
          125000,
          192500,
          148000,
          403000,
          94500,
          128200,
          89500,
          185500,
          194500,
          318000,
          113000,
          262500,
          110500,
          79000,
          120000,
          205000,
          241500,
          137000,
          140000,
          180000,
          277000,
          76500,
          235000,
          173000,
          158000,
          145000,
          230000,
          207500,
          220000,
          231500,
          97000,
          176000,
          276000,
          151000,
          130000,
          73000,
          175500,
          185000,
          179500,
          120500,
          148000,
          266000,
          241500,
          290000,
          139000,
          124500,
          205000,
          201000,
          141000,
          415298,
          192000,
          228500,
          185000,
          207500,
          244600,
          179200,
          164700,
          159000,
          88000,
          122000,
          153575,
          233230,
          135900,
          131000,
          235000,
          167000,
          142500,
          152000,
          239000,
          175000,
          158500,
          157000,
          267000,
          205000,
          149900,
          295000,
          305900,
          225000,
          89500,
          82500,
          360000,
          165600,
          132000,
          119900,
          375000,
          178000,
          188500,
          260000,
          270000,
          260000,
          187500,
          342643,
          354000,
          301000,
          126175,
          242000,
          87000,
          324000,
          145250,
          214500,
          78000,
          119000,
          139000,
          284000,
          207000,
          192000,
          228950,
          377426,
          214000,
          202500,
          155000,
          202900,
          82000,
          87500,
          266000,
          85000,
          140200,
          151500,
          157500,
          154000,
          437154,
          318061,
          190000,
          95000,
          105900,
          140000,
          177500,
          173000,
          134000,
          130000,
          280000,
          156000,
          145000,
          198500,
          118000,
          190000,
          147000,
          159000,
          165000,
          132000,
          162000,
          172400,
          134432,
          125000,
          123000,
          219500,
          61000,
          148000,
          340000,
          394432,
          179000,
          127000,
          187750,
          213500,
          76000,
          240000,
          192000,
          81000,
          125000,
          191000,
          426000,
          119000,
          215000,
          106500,
          100000,
          109000,
          129000,
          123000,
          169500,
          67000,
          241000,
          245500,
          164990,
          108000,
          258000,
          168000,
          150000,
          115000,
          177000,
          280000,
          339750,
          60000,
          145000,
          222000,
          115000,
          228000,
          181134,
          149500,
          239000,
          126000,
          142000,
          206300,
          215000,
          113000,
          315000,
          139000,
          135000,
          275000,
          109008,
          195400,
          175000,
          85400,
          79900,
          122500,
          181000,
          81000,
          212000,
          116000,
          119000,
          90350,
          110000,
          555000,
          118000,
          162900,
          172500,
          210000,
          127500,
          190000,
          199900,
          119500,
          120000,
          110000,
          280000,
          204000,
          210000,
          188000,
          175500,
          98000,
          256000,
          161000,
          110000,
          263435,
          155000,
          62383,
          188700,
          124000,
          178740,
          167000,
          146500,
          250000,
          187000,
          212000,
          190000,
          148000,
          440000,
          251000,
          132500,
          208900,
          380000,
          297000,
          89471,
          326000,
          374000,
          155000,
          164000,
          132500,
          147000,
          156000,
          175000,
          160000,
          86000,
          115000,
          133000,
          172785,
          155000,
          91300,
          34900,
          430000,
          184000,
          130000,
          120000,
          113000,
          226700,
          140000,
          289000,
          147000,
          124500,
          215000,
          208300,
          161000,
          124500,
          164900,
          202665,
          129900,
          134000,
          96500,
          402861,
          158000,
          265000,
          211000,
          234000,
          106250,
          150000,
          159000,
          184750,
          315750,
          176000,
          132000,
          446261,
          86000,
          175000,
          128000,
          107500,
          39300,
          178000,
          107500,
          188000,
          111250,
          158000,
          272000,
          315000,
          248000,
          213250,
          133000,
          179665,
          229000,
          210000,
          129500,
          125000,
          263000,
          140000,
          112500,
          255500,
          108000,
          284000,
          113000,
          141000,
          108000,
          175000,
          234000,
          121500,
          170000,
          108000,
          185000,
          268000,
          128000,
          325000,
          214000,
          316600,
          135960,
          142600,
          120000,
          224500,
          170000,
          139000,
          118500,
          145000,
          164500,
          146000,
          131500,
          181900,
          253293,
          118500,
          325000,
          133000,
          369900,
          130000,
          137000,
          143000,
          79500,
          185900,
          451950,
          138000,
          140000,
          110000,
          319000,
          114504,
          194201,
          217500,
          151000,
          275000,
          141000,
          220000,
          151000,
          221000,
          205000,
          152000,
          225000,
          359100,
          118500,
          313000,
          148000,
          261500,
          147000,
          75500,
          137500,
          183200,
          105500,
          314813,
          305000,
          67000,
          240000,
          135000,
          168500,
          165150,
          160000,
          139900,
          153000,
          135000,
          168500,
          124000,
          209500,
          82500,
          139400,
          144000,
          200000,
          60000,
          93000,
          85000,
          264561,
          274000,
          226000,
          345000,
          152000,
          370878,
          143250,
          98300,
          155000,
          155000,
          84500,
          108000,
          191000,
          135000,
          350000,
          88000,
          145500,
          149000,
          97500,
          167000,
          197900,
          402000,
          110000,
          137500,
          423000,
          230500,
          129000,
          193500,
          168000,
          137500,
          173500,
          103600,
          165000,
          257500,
          140000,
          148500,
          87000,
          109500,
          372500,
          128500,
          143000,
          159434,
          173000,
          285000,
          221000,
          207500,
          227875,
          148800,
          392000,
          194700,
          141000,
          755000,
          335000,
          108480,
          141500,
          176000,
          89000,
          123500,
          138500,
          196000,
          312500,
          140000,
          361919,
          140000,
          213000,
          55000,
          302000,
          254000,
          179540,
          109900,
          52000,
          102776,
          189000,
          129000,
          130500,
          165000,
          159500,
          157000,
          341000,
          128500,
          275000,
          143000,
          124500,
          135000,
          320000,
          120500,
          222000,
          194500,
          110000,
          103000,
          236500,
          187500,
          222500,
          131400,
          108000,
          163000,
          93500,
          239900,
          179000,
          190000,
          132000,
          142000,
          179000,
          175000,
          180000,
          299800,
          236000,
          265979,
          260400,
          98000,
          96500,
          162000,
          217000,
          275500,
          156000,
          172500,
          212000,
          158900,
          179400,
          290000,
          127500,
          100000,
          215200,
          337000,
          270000,
          264132,
          196500,
          160000,
          216837,
          538000,
          134900,
          102000,
          107000,
          114500,
          395000,
          162000,
          221500,
          142500,
          144000,
          135000,
          176000,
          175900,
          187100,
          165500,
          128000,
          161500,
          139000,
          233000,
          107900,
          187500,
          160200,
          146800,
          269790,
          225000,
          194500,
          171000,
          143500,
          110000,
          485000,
          175000,
          200000,
          109900,
          189000,
          582933,
          118000,
          227680,
          135500,
          223500,
          159950,
          106000,
          181000,
          144500,
          55993,
          157900,
          116000,
          224900,
          137000,
          271000,
          155000,
          224000,
          183000,
          93000,
          225000,
          139500,
          232600,
          385000,
          109500,
          189000,
          185000,
          147400,
          166000,
          151000,
          237000,
          167000,
          139950,
          128000,
          153500,
          100000,
          144000,
          130500,
          140000,
          157500,
          174900,
          141000,
          153900,
          171000,
          213000,
          133500,
          240000,
          187000,
          131500,
          215000,
          164000,
          158000,
          170000,
          127000,
          147000,
          174000,
          152000,
          250000,
          189950,
          131500,
          152000,
          132500,
          250580,
          148500,
          248900,
          129000,
          169000,
          236000,
          109500,
          200500,
          116000,
          133000,
          66500,
          303477,
          132250,
          350000,
          148000,
          136500,
          157000,
          187500,
          178000,
          118500,
          100000,
          328900,
          145000,
          135500,
          268000,
          149500,
          122900,
          172500,
          154500,
          165000,
          118858,
          140000,
          106500,
          142953,
          611657,
          135000,
          110000,
          153000,
          180000,
          240000,
          125500,
          128000,
          255000,
          250000,
          131000,
          174000,
          154300,
          143500,
          88000,
          145000,
          173733,
          75000,
          35311,
          135000,
          238000,
          176500,
          201000,
          145900,
          169990,
          193000,
          207500,
          175000,
          285000,
          176000,
          236500,
          222000,
          201000,
          117500,
          320000,
          190000,
          242000,
          79900,
          253000,
          239799,
          244400,
          150900,
          214000,
          150000,
          143000,
          137500,
          124900,
          143000,
          270000,
          192500,
          197500,
          129000,
          119900,
          133900,
          172000,
          127500,
          145000,
          124000,
          132000,
          185000,
          155000,
          116500,
          272000,
          155000,
          239000,
          214900,
          178900,
          160000,
          135000,
          37900,
          140000,
          135000,
          173000,
          99500,
          167500,
          165000,
          85500,
          110000,
          139000,
          178400,
          336000,
          159895,
          255900,
          126000,
          125000,
          117000,
          395192,
          195000,
          197000,
          348000,
          168000,
          187000,
          173900,
          337500,
          121600,
          136500,
          185000,
          91000,
          206000,
          82000,
          86000,
          232000,
          136905,
          181000,
          149900,
          163500,
          88000,
          240000,
          102000,
          135000,
          100000,
          165000,
          85000,
          119200,
          227000,
          203000,
          187500,
          160000,
          213490,
          176000,
          194000,
          87000,
          191000,
          287000,
          112500,
          167500,
          293077,
          105000,
          118000,
          160000,
          197000,
          310000,
          230000,
          119750,
          84000,
          315500,
          287000,
          97000,
          80000,
          155000,
          173000,
          196000,
          262280,
          278000,
          139600,
          556581,
          145000,
          115000,
          84900,
          176485,
          200141,
          165000,
          144500,
          255000,
          180000,
          185850,
          248000,
          335000,
          220000,
          213500,
          81000,
          90000,
          110500,
          154000,
          328000,
          178000,
          167900,
          151400,
          135000,
          135000,
          154000,
          91500,
          159500,
          194000,
          219500,
          170000,
          138800,
          155900,
          126000,
          145000,
          133000,
          192000,
          160000,
          187500,
          147000,
          83500,
          252000,
          137500,
          197000,
          92900,
          160000,
          136500,
          146000,
          129000,
          176432,
          127000,
          170000,
          128000,
          157000,
          60000,
          119500,
          135000,
          159500,
          106000,
          325000,
          179900,
          274725,
          181000,
          280000,
          188000,
          205000,
          129900,
          134500,
          117000,
          318000,
          184100,
          130000,
          140000,
          133700,
          118400,
          212900,
          112000,
          118000,
          163900,
          115000,
          174000,
          259000,
          215000,
          140000,
          135000,
          93500,
          117500,
          239500,
          169000,
          102000,
          119000,
          94000,
          196000,
          144000,
          139000,
          197500,
          424870,
          80000,
          80000,
          149000,
          180000,
          174500,
          116900,
          143000,
          124000,
          149900,
          230000,
          120500,
          201800,
          218000,
          179900,
          230000,
          235128,
          185000,
          146000,
          224000,
          129000,
          108959,
          194000,
          233170,
          245350,
          173000,
          235000,
          625000,
          171000,
          163000,
          171900,
          200500,
          239000,
          285000,
          119500,
          115000,
          154900,
          93000,
          250000,
          392500,
          745000,
          120000,
          186700,
          104900,
          95000,
          262000,
          195000,
          189000,
          168000,
          174000,
          125000,
          165000,
          158000,
          176000,
          219210,
          144000,
          178000,
          148000,
          116050,
          197900,
          117000,
          213000,
          153500,
          271900,
          107000,
          200000,
          140000,
          290000,
          189000,
          164000,
          113000,
          145000,
          134500,
          125000,
          112000,
          229456,
          80500,
          91500,
          115000,
          134000,
          143000,
          137900,
          184000,
          145000,
          214000,
          147000,
          367294,
          127000,
          190000,
          132500,
          101800,
          142000,
          130000,
          138887,
          175500,
          195000,
          142500,
          265900,
          224900,
          248328,
          170000,
          230000,
          178000,
          186500,
          169900,
          129500,
          119000,
          244000,
          171750,
          130000,
          294000,
          165400,
          127500,
          301500,
          99900,
          190000,
          151000,
          181000,
          128900,
          161500,
          180500,
          181000,
          183900,
          122000,
          378500,
          381000,
          144000,
          260000,
          185750,
          137000,
          177000,
          139000,
          137000,
          162000,
          197900,
          68400,
          227000,
          180000,
          150500,
          139000,
          169000,
          132500,
          143000,
          190000,
          278000,
          281000,
          180500,
          119500,
          107500,
          162900,
          115000,
          138500,
          155000,
          140000,
          160000,
          154000,
          225000,
          177500,
          290000,
          232000,
          130000,
          325000,
          202500,
          138000,
          147000,
          179200,
          335000,
          203000,
          302000,
          333168,
          119000,
          206900,
          295493,
          208900,
          275000,
          111000,
          156500,
          72500,
          190000,
          82500,
          147000,
          55000,
          79000,
          130500,
          256000,
          176500,
          227000,
          132500,
          100000,
          125500,
          125000,
          167900,
          135000,
          52500,
          200000,
          128500,
          123000,
          155000,
          228500,
          177000,
          155835,
          108500,
          262500,
          283463,
          215000,
          122000,
          200000,
          171000,
          134900,
          410000,
          235000,
          170000,
          110000,
          149900,
          177500,
          315000,
          189000,
          260000,
          104900,
          156932,
          144152,
          216000,
          193000,
          127000,
          144000,
          232000,
          105000,
          165500,
          274300,
          466500,
          250000,
          239000,
          91000,
          117000,
          83000,
          167500,
          58500,
          237500,
          157000,
          112000,
          105000,
          125500,
          250000,
          136000,
          377500,
          131000,
          235000,
          124000,
          123000,
          163000,
          246578,
          281213,
          160000,
          137500,
          138000,
          137450,
          120000,
          193000,
          193879,
          282922,
          105000,
          275000,
          133000,
          112000,
          125500,
          215000,
          230000,
          140000,
          90000,
          257000,
          207000,
          175900,
          122500,
          340000,
          124000,
          223000,
          179900,
          127500,
          136500,
          274970,
          144000,
          142000,
          271000,
          140000,
          119000,
          182900,
          192140,
          143750,
          64500,
          186500,
          160000,
          174000,
          120500,
          394617,
          149700,
          197000,
          191000,
          149300,
          310000,
          121000,
          179600,
          129000,
          157900,
          240000,
          112000,
          92000,
          136000,
          287090,
          145000,
          84500,
          185000,
          175000,
          210000,
          266500,
          142125,
          147500
         ],
         "xaxis": "x",
         "yaxis": "y"
        }
       ],
       "layout": {
        "barmode": "relative",
        "legend": {
         "tracegroupgap": 0
        },
        "margin": {
         "t": 60
        },
        "template": {
         "data": {
          "bar": [
           {
            "error_x": {
             "color": "#2a3f5f"
            },
            "error_y": {
             "color": "#2a3f5f"
            },
            "marker": {
             "line": {
              "color": "#E5ECF6",
              "width": 0.5
             },
             "pattern": {
              "fillmode": "overlay",
              "size": 10,
              "solidity": 0.2
             }
            },
            "type": "bar"
           }
          ],
          "barpolar": [
           {
            "marker": {
             "line": {
              "color": "#E5ECF6",
              "width": 0.5
             },
             "pattern": {
              "fillmode": "overlay",
              "size": 10,
              "solidity": 0.2
             }
            },
            "type": "barpolar"
           }
          ],
          "carpet": [
           {
            "aaxis": {
             "endlinecolor": "#2a3f5f",
             "gridcolor": "white",
             "linecolor": "white",
             "minorgridcolor": "white",
             "startlinecolor": "#2a3f5f"
            },
            "baxis": {
             "endlinecolor": "#2a3f5f",
             "gridcolor": "white",
             "linecolor": "white",
             "minorgridcolor": "white",
             "startlinecolor": "#2a3f5f"
            },
            "type": "carpet"
           }
          ],
          "choropleth": [
           {
            "colorbar": {
             "outlinewidth": 0,
             "ticks": ""
            },
            "type": "choropleth"
           }
          ],
          "contour": [
           {
            "colorbar": {
             "outlinewidth": 0,
             "ticks": ""
            },
            "colorscale": [
             [
              0,
              "#0d0887"
             ],
             [
              0.1111111111111111,
              "#46039f"
             ],
             [
              0.2222222222222222,
              "#7201a8"
             ],
             [
              0.3333333333333333,
              "#9c179e"
             ],
             [
              0.4444444444444444,
              "#bd3786"
             ],
             [
              0.5555555555555556,
              "#d8576b"
             ],
             [
              0.6666666666666666,
              "#ed7953"
             ],
             [
              0.7777777777777778,
              "#fb9f3a"
             ],
             [
              0.8888888888888888,
              "#fdca26"
             ],
             [
              1,
              "#f0f921"
             ]
            ],
            "type": "contour"
           }
          ],
          "contourcarpet": [
           {
            "colorbar": {
             "outlinewidth": 0,
             "ticks": ""
            },
            "type": "contourcarpet"
           }
          ],
          "heatmap": [
           {
            "colorbar": {
             "outlinewidth": 0,
             "ticks": ""
            },
            "colorscale": [
             [
              0,
              "#0d0887"
             ],
             [
              0.1111111111111111,
              "#46039f"
             ],
             [
              0.2222222222222222,
              "#7201a8"
             ],
             [
              0.3333333333333333,
              "#9c179e"
             ],
             [
              0.4444444444444444,
              "#bd3786"
             ],
             [
              0.5555555555555556,
              "#d8576b"
             ],
             [
              0.6666666666666666,
              "#ed7953"
             ],
             [
              0.7777777777777778,
              "#fb9f3a"
             ],
             [
              0.8888888888888888,
              "#fdca26"
             ],
             [
              1,
              "#f0f921"
             ]
            ],
            "type": "heatmap"
           }
          ],
          "heatmapgl": [
           {
            "colorbar": {
             "outlinewidth": 0,
             "ticks": ""
            },
            "colorscale": [
             [
              0,
              "#0d0887"
             ],
             [
              0.1111111111111111,
              "#46039f"
             ],
             [
              0.2222222222222222,
              "#7201a8"
             ],
             [
              0.3333333333333333,
              "#9c179e"
             ],
             [
              0.4444444444444444,
              "#bd3786"
             ],
             [
              0.5555555555555556,
              "#d8576b"
             ],
             [
              0.6666666666666666,
              "#ed7953"
             ],
             [
              0.7777777777777778,
              "#fb9f3a"
             ],
             [
              0.8888888888888888,
              "#fdca26"
             ],
             [
              1,
              "#f0f921"
             ]
            ],
            "type": "heatmapgl"
           }
          ],
          "histogram": [
           {
            "marker": {
             "pattern": {
              "fillmode": "overlay",
              "size": 10,
              "solidity": 0.2
             }
            },
            "type": "histogram"
           }
          ],
          "histogram2d": [
           {
            "colorbar": {
             "outlinewidth": 0,
             "ticks": ""
            },
            "colorscale": [
             [
              0,
              "#0d0887"
             ],
             [
              0.1111111111111111,
              "#46039f"
             ],
             [
              0.2222222222222222,
              "#7201a8"
             ],
             [
              0.3333333333333333,
              "#9c179e"
             ],
             [
              0.4444444444444444,
              "#bd3786"
             ],
             [
              0.5555555555555556,
              "#d8576b"
             ],
             [
              0.6666666666666666,
              "#ed7953"
             ],
             [
              0.7777777777777778,
              "#fb9f3a"
             ],
             [
              0.8888888888888888,
              "#fdca26"
             ],
             [
              1,
              "#f0f921"
             ]
            ],
            "type": "histogram2d"
           }
          ],
          "histogram2dcontour": [
           {
            "colorbar": {
             "outlinewidth": 0,
             "ticks": ""
            },
            "colorscale": [
             [
              0,
              "#0d0887"
             ],
             [
              0.1111111111111111,
              "#46039f"
             ],
             [
              0.2222222222222222,
              "#7201a8"
             ],
             [
              0.3333333333333333,
              "#9c179e"
             ],
             [
              0.4444444444444444,
              "#bd3786"
             ],
             [
              0.5555555555555556,
              "#d8576b"
             ],
             [
              0.6666666666666666,
              "#ed7953"
             ],
             [
              0.7777777777777778,
              "#fb9f3a"
             ],
             [
              0.8888888888888888,
              "#fdca26"
             ],
             [
              1,
              "#f0f921"
             ]
            ],
            "type": "histogram2dcontour"
           }
          ],
          "mesh3d": [
           {
            "colorbar": {
             "outlinewidth": 0,
             "ticks": ""
            },
            "type": "mesh3d"
           }
          ],
          "parcoords": [
           {
            "line": {
             "colorbar": {
              "outlinewidth": 0,
              "ticks": ""
             }
            },
            "type": "parcoords"
           }
          ],
          "pie": [
           {
            "automargin": true,
            "type": "pie"
           }
          ],
          "scatter": [
           {
            "fillpattern": {
             "fillmode": "overlay",
             "size": 10,
             "solidity": 0.2
            },
            "type": "scatter"
           }
          ],
          "scatter3d": [
           {
            "line": {
             "colorbar": {
              "outlinewidth": 0,
              "ticks": ""
             }
            },
            "marker": {
             "colorbar": {
              "outlinewidth": 0,
              "ticks": ""
             }
            },
            "type": "scatter3d"
           }
          ],
          "scattercarpet": [
           {
            "marker": {
             "colorbar": {
              "outlinewidth": 0,
              "ticks": ""
             }
            },
            "type": "scattercarpet"
           }
          ],
          "scattergeo": [
           {
            "marker": {
             "colorbar": {
              "outlinewidth": 0,
              "ticks": ""
             }
            },
            "type": "scattergeo"
           }
          ],
          "scattergl": [
           {
            "marker": {
             "colorbar": {
              "outlinewidth": 0,
              "ticks": ""
             }
            },
            "type": "scattergl"
           }
          ],
          "scattermapbox": [
           {
            "marker": {
             "colorbar": {
              "outlinewidth": 0,
              "ticks": ""
             }
            },
            "type": "scattermapbox"
           }
          ],
          "scatterpolar": [
           {
            "marker": {
             "colorbar": {
              "outlinewidth": 0,
              "ticks": ""
             }
            },
            "type": "scatterpolar"
           }
          ],
          "scatterpolargl": [
           {
            "marker": {
             "colorbar": {
              "outlinewidth": 0,
              "ticks": ""
             }
            },
            "type": "scatterpolargl"
           }
          ],
          "scatterternary": [
           {
            "marker": {
             "colorbar": {
              "outlinewidth": 0,
              "ticks": ""
             }
            },
            "type": "scatterternary"
           }
          ],
          "surface": [
           {
            "colorbar": {
             "outlinewidth": 0,
             "ticks": ""
            },
            "colorscale": [
             [
              0,
              "#0d0887"
             ],
             [
              0.1111111111111111,
              "#46039f"
             ],
             [
              0.2222222222222222,
              "#7201a8"
             ],
             [
              0.3333333333333333,
              "#9c179e"
             ],
             [
              0.4444444444444444,
              "#bd3786"
             ],
             [
              0.5555555555555556,
              "#d8576b"
             ],
             [
              0.6666666666666666,
              "#ed7953"
             ],
             [
              0.7777777777777778,
              "#fb9f3a"
             ],
             [
              0.8888888888888888,
              "#fdca26"
             ],
             [
              1,
              "#f0f921"
             ]
            ],
            "type": "surface"
           }
          ],
          "table": [
           {
            "cells": {
             "fill": {
              "color": "#EBF0F8"
             },
             "line": {
              "color": "white"
             }
            },
            "header": {
             "fill": {
              "color": "#C8D4E3"
             },
             "line": {
              "color": "white"
             }
            },
            "type": "table"
           }
          ]
         },
         "layout": {
          "annotationdefaults": {
           "arrowcolor": "#2a3f5f",
           "arrowhead": 0,
           "arrowwidth": 1
          },
          "autotypenumbers": "strict",
          "coloraxis": {
           "colorbar": {
            "outlinewidth": 0,
            "ticks": ""
           }
          },
          "colorscale": {
           "diverging": [
            [
             0,
             "#8e0152"
            ],
            [
             0.1,
             "#c51b7d"
            ],
            [
             0.2,
             "#de77ae"
            ],
            [
             0.3,
             "#f1b6da"
            ],
            [
             0.4,
             "#fde0ef"
            ],
            [
             0.5,
             "#f7f7f7"
            ],
            [
             0.6,
             "#e6f5d0"
            ],
            [
             0.7,
             "#b8e186"
            ],
            [
             0.8,
             "#7fbc41"
            ],
            [
             0.9,
             "#4d9221"
            ],
            [
             1,
             "#276419"
            ]
           ],
           "sequential": [
            [
             0,
             "#0d0887"
            ],
            [
             0.1111111111111111,
             "#46039f"
            ],
            [
             0.2222222222222222,
             "#7201a8"
            ],
            [
             0.3333333333333333,
             "#9c179e"
            ],
            [
             0.4444444444444444,
             "#bd3786"
            ],
            [
             0.5555555555555556,
             "#d8576b"
            ],
            [
             0.6666666666666666,
             "#ed7953"
            ],
            [
             0.7777777777777778,
             "#fb9f3a"
            ],
            [
             0.8888888888888888,
             "#fdca26"
            ],
            [
             1,
             "#f0f921"
            ]
           ],
           "sequentialminus": [
            [
             0,
             "#0d0887"
            ],
            [
             0.1111111111111111,
             "#46039f"
            ],
            [
             0.2222222222222222,
             "#7201a8"
            ],
            [
             0.3333333333333333,
             "#9c179e"
            ],
            [
             0.4444444444444444,
             "#bd3786"
            ],
            [
             0.5555555555555556,
             "#d8576b"
            ],
            [
             0.6666666666666666,
             "#ed7953"
            ],
            [
             0.7777777777777778,
             "#fb9f3a"
            ],
            [
             0.8888888888888888,
             "#fdca26"
            ],
            [
             1,
             "#f0f921"
            ]
           ]
          },
          "colorway": [
           "#636efa",
           "#EF553B",
           "#00cc96",
           "#ab63fa",
           "#FFA15A",
           "#19d3f3",
           "#FF6692",
           "#B6E880",
           "#FF97FF",
           "#FECB52"
          ],
          "font": {
           "color": "#2a3f5f"
          },
          "geo": {
           "bgcolor": "white",
           "lakecolor": "white",
           "landcolor": "#E5ECF6",
           "showlakes": true,
           "showland": true,
           "subunitcolor": "white"
          },
          "hoverlabel": {
           "align": "left"
          },
          "hovermode": "closest",
          "mapbox": {
           "style": "light"
          },
          "paper_bgcolor": "white",
          "plot_bgcolor": "#E5ECF6",
          "polar": {
           "angularaxis": {
            "gridcolor": "white",
            "linecolor": "white",
            "ticks": ""
           },
           "bgcolor": "#E5ECF6",
           "radialaxis": {
            "gridcolor": "white",
            "linecolor": "white",
            "ticks": ""
           }
          },
          "scene": {
           "xaxis": {
            "backgroundcolor": "#E5ECF6",
            "gridcolor": "white",
            "gridwidth": 2,
            "linecolor": "white",
            "showbackground": true,
            "ticks": "",
            "zerolinecolor": "white"
           },
           "yaxis": {
            "backgroundcolor": "#E5ECF6",
            "gridcolor": "white",
            "gridwidth": 2,
            "linecolor": "white",
            "showbackground": true,
            "ticks": "",
            "zerolinecolor": "white"
           },
           "zaxis": {
            "backgroundcolor": "#E5ECF6",
            "gridcolor": "white",
            "gridwidth": 2,
            "linecolor": "white",
            "showbackground": true,
            "ticks": "",
            "zerolinecolor": "white"
           }
          },
          "shapedefaults": {
           "line": {
            "color": "#2a3f5f"
           }
          },
          "ternary": {
           "aaxis": {
            "gridcolor": "white",
            "linecolor": "white",
            "ticks": ""
           },
           "baxis": {
            "gridcolor": "white",
            "linecolor": "white",
            "ticks": ""
           },
           "bgcolor": "#E5ECF6",
           "caxis": {
            "gridcolor": "white",
            "linecolor": "white",
            "ticks": ""
           }
          },
          "title": {
           "x": 0.05
          },
          "xaxis": {
           "automargin": true,
           "gridcolor": "white",
           "linecolor": "white",
           "ticks": "",
           "title": {
            "standoff": 15
           },
           "zerolinecolor": "white",
           "zerolinewidth": 2
          },
          "yaxis": {
           "automargin": true,
           "gridcolor": "white",
           "linecolor": "white",
           "ticks": "",
           "title": {
            "standoff": 15
           },
           "zerolinecolor": "white",
           "zerolinewidth": 2
          }
         }
        },
        "xaxis": {
         "anchor": "y",
         "domain": [
          0,
          1
         ],
         "title": {
          "text": "SalePrice"
         }
        },
        "yaxis": {
         "anchor": "x",
         "domain": [
          0,
          1
         ],
         "title": {
          "text": "count"
         }
        }
       }
      }
     },
     "metadata": {},
     "output_type": "display_data"
    }
   ],
   "source": [
    "fig = px.histogram(train, x=\"SalePrice\")\n",
    "fig.show()"
   ]
  },
  {
   "cell_type": "code",
   "execution_count": 97,
   "metadata": {},
   "outputs": [
    {
     "data": {
      "application/vnd.plotly.v1+json": {
       "config": {
        "plotlyServerURL": "https://plot.ly"
       },
       "data": [
        {
         "alignmentgroup": "True",
         "bingroup": "x",
         "hovertemplate": "SalePrice=%{x}<br>count=%{y}<extra></extra>",
         "legendgroup": "",
         "marker": {
          "color": "#636efa",
          "pattern": {
           "shape": ""
          }
         },
         "name": "",
         "offsetgroup": "",
         "orientation": "v",
         "showlegend": false,
         "type": "histogram",
         "x": [
          208500,
          181500,
          223500,
          140000,
          250000,
          143000,
          307000,
          200000,
          129900,
          118000,
          129500,
          345000,
          144000,
          279500,
          157000,
          132000,
          149000,
          90000,
          159000,
          139000,
          325300,
          139400,
          230000,
          129900,
          154000,
          256300,
          134800,
          306000,
          207500,
          68500,
          40000,
          149350,
          179900,
          165500,
          277500,
          309000,
          145000,
          153000,
          109000,
          82000,
          160000,
          170000,
          144000,
          130250,
          141000,
          319900,
          239686,
          249700,
          113000,
          127000,
          177000,
          114500,
          110000,
          385000,
          130000,
          180500,
          172500,
          196500,
          124900,
          158000,
          101000,
          202500,
          140000,
          219500,
          317000,
          180000,
          226000,
          80000,
          225000,
          244000,
          129500,
          185000,
          144900,
          107400,
          91000,
          135750,
          127000,
          136500,
          110000,
          193500,
          153500,
          245000,
          126500,
          168500,
          260000,
          174000,
          164500,
          85000,
          123600,
          109900,
          98600,
          163500,
          133900,
          204750,
          185000,
          214000,
          94750,
          83000,
          128950,
          205000,
          178000,
          118964,
          198900,
          169500,
          250000,
          100000,
          115000,
          115000,
          190000,
          136900,
          180000,
          383970,
          217000,
          259500,
          176000,
          139000,
          155000,
          320000,
          163990,
          180000,
          100000,
          136000,
          153900,
          181000,
          84500,
          128000,
          87000,
          155000,
          150000,
          226000,
          244000,
          150750,
          220000,
          180000,
          174000,
          143000,
          171000,
          230000,
          231500,
          115000,
          260000,
          166000,
          204000,
          125000,
          130000,
          105000,
          222500,
          141000,
          115000,
          122000,
          372402,
          190000,
          235000,
          125000,
          79000,
          109500,
          269500,
          254900,
          320000,
          162500,
          412500,
          220000,
          103200,
          152000,
          127500,
          190000,
          325624,
          183500,
          228000,
          128500,
          215000,
          239000,
          163000,
          184000,
          243000,
          211000,
          172500,
          100000,
          177000,
          200100,
          120000,
          200000,
          127000,
          173000,
          135000,
          153337,
          286000,
          315000,
          184000,
          192000,
          130000,
          127000,
          148500,
          311872,
          235000,
          104000,
          274900,
          140000,
          171500,
          112000,
          149000,
          110000,
          180500,
          143900,
          141000,
          277000,
          145000,
          98000,
          186000,
          252678,
          156000,
          161750,
          134450,
          210000,
          107000,
          311500,
          167240,
          204900,
          200000,
          179900,
          97000,
          386250,
          112000,
          290000,
          106000,
          125000,
          192500,
          148000,
          403000,
          94500,
          128200,
          89500,
          185500,
          194500,
          318000,
          113000,
          262500,
          110500,
          79000,
          120000,
          205000,
          241500,
          137000,
          140000,
          180000,
          277000,
          76500,
          235000,
          173000,
          158000,
          145000,
          230000,
          207500,
          220000,
          231500,
          97000,
          176000,
          276000,
          151000,
          130000,
          73000,
          175500,
          185000,
          179500,
          120500,
          148000,
          266000,
          241500,
          290000,
          139000,
          124500,
          205000,
          201000,
          141000,
          415298,
          192000,
          228500,
          185000,
          207500,
          244600,
          179200,
          164700,
          159000,
          88000,
          122000,
          153575,
          233230,
          135900,
          131000,
          235000,
          167000,
          142500,
          152000,
          239000,
          175000,
          158500,
          157000,
          267000,
          205000,
          149900,
          295000,
          305900,
          225000,
          89500,
          82500,
          360000,
          165600,
          132000,
          119900,
          375000,
          178000,
          188500,
          260000,
          270000,
          260000,
          187500,
          342643,
          354000,
          301000,
          126175,
          242000,
          87000,
          324000,
          145250,
          214500,
          78000,
          119000,
          139000,
          284000,
          207000,
          192000,
          228950,
          377426,
          214000,
          202500,
          155000,
          202900,
          82000,
          87500,
          266000,
          85000,
          140200,
          151500,
          157500,
          154000,
          318061,
          190000,
          95000,
          105900,
          140000,
          177500,
          173000,
          134000,
          130000,
          280000,
          156000,
          145000,
          198500,
          118000,
          190000,
          147000,
          159000,
          165000,
          132000,
          162000,
          172400,
          134432,
          125000,
          123000,
          219500,
          61000,
          148000,
          340000,
          394432,
          179000,
          127000,
          187750,
          213500,
          76000,
          240000,
          192000,
          81000,
          125000,
          191000,
          119000,
          215000,
          106500,
          100000,
          109000,
          129000,
          123000,
          169500,
          67000,
          241000,
          245500,
          164990,
          108000,
          258000,
          168000,
          150000,
          115000,
          177000,
          280000,
          339750,
          60000,
          145000,
          222000,
          115000,
          228000,
          181134,
          149500,
          239000,
          126000,
          142000,
          206300,
          215000,
          113000,
          315000,
          139000,
          135000,
          275000,
          109008,
          195400,
          175000,
          85400,
          79900,
          122500,
          181000,
          81000,
          212000,
          116000,
          119000,
          90350,
          110000,
          118000,
          162900,
          172500,
          210000,
          127500,
          190000,
          199900,
          119500,
          120000,
          110000,
          280000,
          204000,
          210000,
          188000,
          175500,
          98000,
          256000,
          161000,
          110000,
          263435,
          155000,
          62383,
          188700,
          124000,
          178740,
          167000,
          146500,
          250000,
          187000,
          212000,
          190000,
          148000,
          251000,
          132500,
          208900,
          380000,
          297000,
          89471,
          326000,
          374000,
          155000,
          164000,
          132500,
          147000,
          156000,
          175000,
          160000,
          86000,
          115000,
          133000,
          172785,
          155000,
          91300,
          34900,
          184000,
          130000,
          120000,
          113000,
          226700,
          140000,
          289000,
          147000,
          124500,
          215000,
          208300,
          161000,
          124500,
          164900,
          202665,
          129900,
          134000,
          96500,
          402861,
          158000,
          265000,
          211000,
          234000,
          106250,
          150000,
          159000,
          184750,
          315750,
          176000,
          132000,
          86000,
          175000,
          128000,
          107500,
          39300,
          178000,
          107500,
          188000,
          111250,
          158000,
          272000,
          315000,
          248000,
          213250,
          133000,
          179665,
          229000,
          210000,
          129500,
          125000,
          263000,
          140000,
          112500,
          255500,
          108000,
          284000,
          113000,
          141000,
          108000,
          175000,
          234000,
          121500,
          170000,
          108000,
          185000,
          268000,
          128000,
          325000,
          214000,
          316600,
          135960,
          142600,
          120000,
          224500,
          170000,
          139000,
          118500,
          145000,
          164500,
          146000,
          131500,
          181900,
          253293,
          118500,
          325000,
          133000,
          369900,
          130000,
          137000,
          143000,
          79500,
          185900,
          138000,
          140000,
          110000,
          319000,
          114504,
          194201,
          217500,
          151000,
          275000,
          141000,
          220000,
          151000,
          221000,
          205000,
          152000,
          225000,
          359100,
          118500,
          313000,
          148000,
          261500,
          147000,
          75500,
          137500,
          183200,
          105500,
          314813,
          305000,
          67000,
          240000,
          135000,
          168500,
          165150,
          160000,
          139900,
          153000,
          135000,
          168500,
          124000,
          209500,
          82500,
          139400,
          144000,
          200000,
          60000,
          93000,
          85000,
          264561,
          274000,
          226000,
          345000,
          152000,
          370878,
          143250,
          98300,
          155000,
          155000,
          84500,
          108000,
          191000,
          135000,
          350000,
          88000,
          145500,
          149000,
          97500,
          167000,
          197900,
          402000,
          110000,
          137500,
          230500,
          129000,
          193500,
          168000,
          137500,
          173500,
          103600,
          165000,
          257500,
          140000,
          148500,
          87000,
          109500,
          372500,
          128500,
          143000,
          159434,
          173000,
          285000,
          221000,
          207500,
          227875,
          148800,
          392000,
          194700,
          141000,
          335000,
          108480,
          141500,
          176000,
          89000,
          123500,
          138500,
          196000,
          312500,
          140000,
          361919,
          140000,
          213000,
          55000,
          302000,
          254000,
          179540,
          109900,
          52000,
          102776,
          189000,
          129000,
          130500,
          165000,
          159500,
          157000,
          341000,
          128500,
          275000,
          143000,
          124500,
          135000,
          320000,
          120500,
          222000,
          194500,
          110000,
          103000,
          236500,
          187500,
          222500,
          131400,
          108000,
          163000,
          93500,
          239900,
          179000,
          190000,
          132000,
          142000,
          179000,
          175000,
          180000,
          299800,
          236000,
          265979,
          260400,
          98000,
          96500,
          162000,
          217000,
          275500,
          156000,
          172500,
          212000,
          158900,
          179400,
          290000,
          127500,
          100000,
          215200,
          337000,
          270000,
          264132,
          196500,
          160000,
          216837,
          134900,
          102000,
          107000,
          114500,
          395000,
          162000,
          221500,
          142500,
          144000,
          135000,
          176000,
          175900,
          187100,
          165500,
          128000,
          161500,
          139000,
          233000,
          107900,
          187500,
          160200,
          146800,
          269790,
          225000,
          194500,
          171000,
          143500,
          110000,
          175000,
          200000,
          109900,
          189000,
          118000,
          227680,
          135500,
          223500,
          159950,
          106000,
          181000,
          144500,
          55993,
          157900,
          116000,
          224900,
          137000,
          271000,
          155000,
          224000,
          183000,
          93000,
          225000,
          139500,
          232600,
          385000,
          109500,
          189000,
          185000,
          147400,
          166000,
          151000,
          237000,
          167000,
          139950,
          128000,
          153500,
          100000,
          144000,
          130500,
          140000,
          157500,
          174900,
          141000,
          153900,
          171000,
          213000,
          133500,
          240000,
          187000,
          131500,
          215000,
          164000,
          158000,
          170000,
          127000,
          147000,
          174000,
          152000,
          250000,
          189950,
          131500,
          152000,
          132500,
          250580,
          148500,
          248900,
          129000,
          169000,
          236000,
          109500,
          200500,
          116000,
          133000,
          66500,
          303477,
          132250,
          350000,
          148000,
          136500,
          157000,
          187500,
          178000,
          118500,
          100000,
          328900,
          145000,
          135500,
          268000,
          149500,
          122900,
          172500,
          154500,
          165000,
          118858,
          140000,
          106500,
          142953,
          135000,
          110000,
          153000,
          180000,
          240000,
          125500,
          128000,
          255000,
          250000,
          131000,
          174000,
          154300,
          143500,
          88000,
          145000,
          173733,
          75000,
          35311,
          135000,
          238000,
          176500,
          201000,
          145900,
          169990,
          193000,
          207500,
          175000,
          285000,
          176000,
          236500,
          222000,
          201000,
          117500,
          320000,
          190000,
          242000,
          79900,
          253000,
          239799,
          244400,
          150900,
          214000,
          150000,
          143000,
          137500,
          124900,
          143000,
          270000,
          192500,
          197500,
          129000,
          119900,
          133900,
          172000,
          127500,
          145000,
          124000,
          132000,
          185000,
          155000,
          116500,
          272000,
          155000,
          239000,
          214900,
          178900,
          160000,
          135000,
          37900,
          140000,
          135000,
          173000,
          99500,
          167500,
          165000,
          85500,
          110000,
          139000,
          178400,
          336000,
          159895,
          255900,
          126000,
          125000,
          117000,
          395192,
          195000,
          197000,
          348000,
          168000,
          187000,
          173900,
          337500,
          121600,
          136500,
          185000,
          91000,
          206000,
          82000,
          86000,
          232000,
          136905,
          181000,
          149900,
          163500,
          88000,
          240000,
          102000,
          135000,
          100000,
          165000,
          85000,
          119200,
          227000,
          203000,
          187500,
          160000,
          213490,
          176000,
          194000,
          87000,
          191000,
          287000,
          112500,
          167500,
          293077,
          105000,
          118000,
          160000,
          197000,
          310000,
          230000,
          119750,
          84000,
          315500,
          287000,
          97000,
          80000,
          155000,
          173000,
          196000,
          262280,
          278000,
          139600,
          145000,
          115000,
          84900,
          176485,
          200141,
          165000,
          144500,
          255000,
          180000,
          185850,
          248000,
          335000,
          220000,
          213500,
          81000,
          90000,
          110500,
          154000,
          328000,
          178000,
          167900,
          151400,
          135000,
          135000,
          154000,
          91500,
          159500,
          194000,
          219500,
          170000,
          138800,
          155900,
          126000,
          145000,
          133000,
          192000,
          160000,
          187500,
          147000,
          83500,
          252000,
          137500,
          197000,
          92900,
          160000,
          136500,
          146000,
          129000,
          176432,
          127000,
          170000,
          128000,
          157000,
          60000,
          119500,
          135000,
          159500,
          106000,
          325000,
          179900,
          274725,
          181000,
          280000,
          188000,
          205000,
          129900,
          134500,
          117000,
          318000,
          184100,
          130000,
          140000,
          133700,
          118400,
          212900,
          112000,
          118000,
          163900,
          115000,
          174000,
          259000,
          215000,
          140000,
          135000,
          93500,
          117500,
          239500,
          169000,
          102000,
          119000,
          94000,
          196000,
          144000,
          139000,
          197500,
          80000,
          80000,
          149000,
          180000,
          174500,
          116900,
          143000,
          124000,
          149900,
          230000,
          120500,
          201800,
          218000,
          179900,
          230000,
          235128,
          185000,
          146000,
          224000,
          129000,
          108959,
          194000,
          233170,
          245350,
          173000,
          235000,
          171000,
          163000,
          171900,
          200500,
          239000,
          285000,
          119500,
          115000,
          154900,
          93000,
          250000,
          392500,
          120000,
          186700,
          104900,
          95000,
          262000,
          195000,
          189000,
          168000,
          174000,
          125000,
          165000,
          158000,
          176000,
          219210,
          144000,
          178000,
          148000,
          116050,
          197900,
          117000,
          213000,
          153500,
          271900,
          107000,
          200000,
          140000,
          290000,
          189000,
          164000,
          113000,
          145000,
          134500,
          125000,
          112000,
          229456,
          80500,
          91500,
          115000,
          134000,
          143000,
          137900,
          184000,
          145000,
          214000,
          147000,
          367294,
          127000,
          190000,
          132500,
          101800,
          142000,
          130000,
          138887,
          175500,
          195000,
          142500,
          265900,
          224900,
          248328,
          170000,
          230000,
          178000,
          186500,
          169900,
          129500,
          119000,
          244000,
          171750,
          130000,
          294000,
          165400,
          127500,
          301500,
          99900,
          190000,
          151000,
          181000,
          128900,
          161500,
          180500,
          181000,
          183900,
          122000,
          378500,
          381000,
          144000,
          260000,
          185750,
          137000,
          177000,
          139000,
          137000,
          162000,
          197900,
          68400,
          227000,
          180000,
          150500,
          139000,
          169000,
          132500,
          143000,
          190000,
          278000,
          281000,
          180500,
          119500,
          107500,
          162900,
          115000,
          138500,
          155000,
          140000,
          160000,
          154000,
          225000,
          177500,
          290000,
          232000,
          130000,
          325000,
          202500,
          138000,
          147000,
          179200,
          335000,
          203000,
          302000,
          333168,
          119000,
          206900,
          295493,
          208900,
          275000,
          111000,
          156500,
          72500,
          190000,
          82500,
          147000,
          55000,
          79000,
          130500,
          256000,
          176500,
          227000,
          132500,
          100000,
          125500,
          125000,
          167900,
          135000,
          52500,
          200000,
          128500,
          123000,
          155000,
          228500,
          177000,
          155835,
          108500,
          262500,
          283463,
          215000,
          122000,
          200000,
          171000,
          134900,
          410000,
          235000,
          170000,
          110000,
          149900,
          177500,
          315000,
          189000,
          260000,
          104900,
          156932,
          144152,
          216000,
          193000,
          127000,
          144000,
          232000,
          105000,
          165500,
          274300,
          250000,
          239000,
          91000,
          117000,
          83000,
          167500,
          58500,
          237500,
          157000,
          112000,
          105000,
          125500,
          250000,
          136000,
          377500,
          131000,
          235000,
          124000,
          123000,
          163000,
          246578,
          281213,
          160000,
          137500,
          138000,
          137450,
          120000,
          193000,
          193879,
          282922,
          105000,
          275000,
          133000,
          112000,
          125500,
          215000,
          230000,
          140000,
          90000,
          257000,
          207000,
          175900,
          122500,
          340000,
          124000,
          223000,
          179900,
          127500,
          136500,
          274970,
          144000,
          142000,
          271000,
          140000,
          119000,
          182900,
          192140,
          143750,
          64500,
          186500,
          160000,
          174000,
          120500,
          394617,
          149700,
          197000,
          191000,
          149300,
          310000,
          121000,
          179600,
          129000,
          157900,
          240000,
          112000,
          92000,
          136000,
          287090,
          145000,
          84500,
          185000,
          175000,
          210000,
          266500,
          142125,
          147500
         ],
         "xaxis": "x",
         "yaxis": "y"
        }
       ],
       "layout": {
        "barmode": "relative",
        "legend": {
         "tracegroupgap": 0
        },
        "margin": {
         "t": 60
        },
        "template": {
         "data": {
          "bar": [
           {
            "error_x": {
             "color": "#2a3f5f"
            },
            "error_y": {
             "color": "#2a3f5f"
            },
            "marker": {
             "line": {
              "color": "#E5ECF6",
              "width": 0.5
             },
             "pattern": {
              "fillmode": "overlay",
              "size": 10,
              "solidity": 0.2
             }
            },
            "type": "bar"
           }
          ],
          "barpolar": [
           {
            "marker": {
             "line": {
              "color": "#E5ECF6",
              "width": 0.5
             },
             "pattern": {
              "fillmode": "overlay",
              "size": 10,
              "solidity": 0.2
             }
            },
            "type": "barpolar"
           }
          ],
          "carpet": [
           {
            "aaxis": {
             "endlinecolor": "#2a3f5f",
             "gridcolor": "white",
             "linecolor": "white",
             "minorgridcolor": "white",
             "startlinecolor": "#2a3f5f"
            },
            "baxis": {
             "endlinecolor": "#2a3f5f",
             "gridcolor": "white",
             "linecolor": "white",
             "minorgridcolor": "white",
             "startlinecolor": "#2a3f5f"
            },
            "type": "carpet"
           }
          ],
          "choropleth": [
           {
            "colorbar": {
             "outlinewidth": 0,
             "ticks": ""
            },
            "type": "choropleth"
           }
          ],
          "contour": [
           {
            "colorbar": {
             "outlinewidth": 0,
             "ticks": ""
            },
            "colorscale": [
             [
              0,
              "#0d0887"
             ],
             [
              0.1111111111111111,
              "#46039f"
             ],
             [
              0.2222222222222222,
              "#7201a8"
             ],
             [
              0.3333333333333333,
              "#9c179e"
             ],
             [
              0.4444444444444444,
              "#bd3786"
             ],
             [
              0.5555555555555556,
              "#d8576b"
             ],
             [
              0.6666666666666666,
              "#ed7953"
             ],
             [
              0.7777777777777778,
              "#fb9f3a"
             ],
             [
              0.8888888888888888,
              "#fdca26"
             ],
             [
              1,
              "#f0f921"
             ]
            ],
            "type": "contour"
           }
          ],
          "contourcarpet": [
           {
            "colorbar": {
             "outlinewidth": 0,
             "ticks": ""
            },
            "type": "contourcarpet"
           }
          ],
          "heatmap": [
           {
            "colorbar": {
             "outlinewidth": 0,
             "ticks": ""
            },
            "colorscale": [
             [
              0,
              "#0d0887"
             ],
             [
              0.1111111111111111,
              "#46039f"
             ],
             [
              0.2222222222222222,
              "#7201a8"
             ],
             [
              0.3333333333333333,
              "#9c179e"
             ],
             [
              0.4444444444444444,
              "#bd3786"
             ],
             [
              0.5555555555555556,
              "#d8576b"
             ],
             [
              0.6666666666666666,
              "#ed7953"
             ],
             [
              0.7777777777777778,
              "#fb9f3a"
             ],
             [
              0.8888888888888888,
              "#fdca26"
             ],
             [
              1,
              "#f0f921"
             ]
            ],
            "type": "heatmap"
           }
          ],
          "heatmapgl": [
           {
            "colorbar": {
             "outlinewidth": 0,
             "ticks": ""
            },
            "colorscale": [
             [
              0,
              "#0d0887"
             ],
             [
              0.1111111111111111,
              "#46039f"
             ],
             [
              0.2222222222222222,
              "#7201a8"
             ],
             [
              0.3333333333333333,
              "#9c179e"
             ],
             [
              0.4444444444444444,
              "#bd3786"
             ],
             [
              0.5555555555555556,
              "#d8576b"
             ],
             [
              0.6666666666666666,
              "#ed7953"
             ],
             [
              0.7777777777777778,
              "#fb9f3a"
             ],
             [
              0.8888888888888888,
              "#fdca26"
             ],
             [
              1,
              "#f0f921"
             ]
            ],
            "type": "heatmapgl"
           }
          ],
          "histogram": [
           {
            "marker": {
             "pattern": {
              "fillmode": "overlay",
              "size": 10,
              "solidity": 0.2
             }
            },
            "type": "histogram"
           }
          ],
          "histogram2d": [
           {
            "colorbar": {
             "outlinewidth": 0,
             "ticks": ""
            },
            "colorscale": [
             [
              0,
              "#0d0887"
             ],
             [
              0.1111111111111111,
              "#46039f"
             ],
             [
              0.2222222222222222,
              "#7201a8"
             ],
             [
              0.3333333333333333,
              "#9c179e"
             ],
             [
              0.4444444444444444,
              "#bd3786"
             ],
             [
              0.5555555555555556,
              "#d8576b"
             ],
             [
              0.6666666666666666,
              "#ed7953"
             ],
             [
              0.7777777777777778,
              "#fb9f3a"
             ],
             [
              0.8888888888888888,
              "#fdca26"
             ],
             [
              1,
              "#f0f921"
             ]
            ],
            "type": "histogram2d"
           }
          ],
          "histogram2dcontour": [
           {
            "colorbar": {
             "outlinewidth": 0,
             "ticks": ""
            },
            "colorscale": [
             [
              0,
              "#0d0887"
             ],
             [
              0.1111111111111111,
              "#46039f"
             ],
             [
              0.2222222222222222,
              "#7201a8"
             ],
             [
              0.3333333333333333,
              "#9c179e"
             ],
             [
              0.4444444444444444,
              "#bd3786"
             ],
             [
              0.5555555555555556,
              "#d8576b"
             ],
             [
              0.6666666666666666,
              "#ed7953"
             ],
             [
              0.7777777777777778,
              "#fb9f3a"
             ],
             [
              0.8888888888888888,
              "#fdca26"
             ],
             [
              1,
              "#f0f921"
             ]
            ],
            "type": "histogram2dcontour"
           }
          ],
          "mesh3d": [
           {
            "colorbar": {
             "outlinewidth": 0,
             "ticks": ""
            },
            "type": "mesh3d"
           }
          ],
          "parcoords": [
           {
            "line": {
             "colorbar": {
              "outlinewidth": 0,
              "ticks": ""
             }
            },
            "type": "parcoords"
           }
          ],
          "pie": [
           {
            "automargin": true,
            "type": "pie"
           }
          ],
          "scatter": [
           {
            "fillpattern": {
             "fillmode": "overlay",
             "size": 10,
             "solidity": 0.2
            },
            "type": "scatter"
           }
          ],
          "scatter3d": [
           {
            "line": {
             "colorbar": {
              "outlinewidth": 0,
              "ticks": ""
             }
            },
            "marker": {
             "colorbar": {
              "outlinewidth": 0,
              "ticks": ""
             }
            },
            "type": "scatter3d"
           }
          ],
          "scattercarpet": [
           {
            "marker": {
             "colorbar": {
              "outlinewidth": 0,
              "ticks": ""
             }
            },
            "type": "scattercarpet"
           }
          ],
          "scattergeo": [
           {
            "marker": {
             "colorbar": {
              "outlinewidth": 0,
              "ticks": ""
             }
            },
            "type": "scattergeo"
           }
          ],
          "scattergl": [
           {
            "marker": {
             "colorbar": {
              "outlinewidth": 0,
              "ticks": ""
             }
            },
            "type": "scattergl"
           }
          ],
          "scattermapbox": [
           {
            "marker": {
             "colorbar": {
              "outlinewidth": 0,
              "ticks": ""
             }
            },
            "type": "scattermapbox"
           }
          ],
          "scatterpolar": [
           {
            "marker": {
             "colorbar": {
              "outlinewidth": 0,
              "ticks": ""
             }
            },
            "type": "scatterpolar"
           }
          ],
          "scatterpolargl": [
           {
            "marker": {
             "colorbar": {
              "outlinewidth": 0,
              "ticks": ""
             }
            },
            "type": "scatterpolargl"
           }
          ],
          "scatterternary": [
           {
            "marker": {
             "colorbar": {
              "outlinewidth": 0,
              "ticks": ""
             }
            },
            "type": "scatterternary"
           }
          ],
          "surface": [
           {
            "colorbar": {
             "outlinewidth": 0,
             "ticks": ""
            },
            "colorscale": [
             [
              0,
              "#0d0887"
             ],
             [
              0.1111111111111111,
              "#46039f"
             ],
             [
              0.2222222222222222,
              "#7201a8"
             ],
             [
              0.3333333333333333,
              "#9c179e"
             ],
             [
              0.4444444444444444,
              "#bd3786"
             ],
             [
              0.5555555555555556,
              "#d8576b"
             ],
             [
              0.6666666666666666,
              "#ed7953"
             ],
             [
              0.7777777777777778,
              "#fb9f3a"
             ],
             [
              0.8888888888888888,
              "#fdca26"
             ],
             [
              1,
              "#f0f921"
             ]
            ],
            "type": "surface"
           }
          ],
          "table": [
           {
            "cells": {
             "fill": {
              "color": "#EBF0F8"
             },
             "line": {
              "color": "white"
             }
            },
            "header": {
             "fill": {
              "color": "#C8D4E3"
             },
             "line": {
              "color": "white"
             }
            },
            "type": "table"
           }
          ]
         },
         "layout": {
          "annotationdefaults": {
           "arrowcolor": "#2a3f5f",
           "arrowhead": 0,
           "arrowwidth": 1
          },
          "autotypenumbers": "strict",
          "coloraxis": {
           "colorbar": {
            "outlinewidth": 0,
            "ticks": ""
           }
          },
          "colorscale": {
           "diverging": [
            [
             0,
             "#8e0152"
            ],
            [
             0.1,
             "#c51b7d"
            ],
            [
             0.2,
             "#de77ae"
            ],
            [
             0.3,
             "#f1b6da"
            ],
            [
             0.4,
             "#fde0ef"
            ],
            [
             0.5,
             "#f7f7f7"
            ],
            [
             0.6,
             "#e6f5d0"
            ],
            [
             0.7,
             "#b8e186"
            ],
            [
             0.8,
             "#7fbc41"
            ],
            [
             0.9,
             "#4d9221"
            ],
            [
             1,
             "#276419"
            ]
           ],
           "sequential": [
            [
             0,
             "#0d0887"
            ],
            [
             0.1111111111111111,
             "#46039f"
            ],
            [
             0.2222222222222222,
             "#7201a8"
            ],
            [
             0.3333333333333333,
             "#9c179e"
            ],
            [
             0.4444444444444444,
             "#bd3786"
            ],
            [
             0.5555555555555556,
             "#d8576b"
            ],
            [
             0.6666666666666666,
             "#ed7953"
            ],
            [
             0.7777777777777778,
             "#fb9f3a"
            ],
            [
             0.8888888888888888,
             "#fdca26"
            ],
            [
             1,
             "#f0f921"
            ]
           ],
           "sequentialminus": [
            [
             0,
             "#0d0887"
            ],
            [
             0.1111111111111111,
             "#46039f"
            ],
            [
             0.2222222222222222,
             "#7201a8"
            ],
            [
             0.3333333333333333,
             "#9c179e"
            ],
            [
             0.4444444444444444,
             "#bd3786"
            ],
            [
             0.5555555555555556,
             "#d8576b"
            ],
            [
             0.6666666666666666,
             "#ed7953"
            ],
            [
             0.7777777777777778,
             "#fb9f3a"
            ],
            [
             0.8888888888888888,
             "#fdca26"
            ],
            [
             1,
             "#f0f921"
            ]
           ]
          },
          "colorway": [
           "#636efa",
           "#EF553B",
           "#00cc96",
           "#ab63fa",
           "#FFA15A",
           "#19d3f3",
           "#FF6692",
           "#B6E880",
           "#FF97FF",
           "#FECB52"
          ],
          "font": {
           "color": "#2a3f5f"
          },
          "geo": {
           "bgcolor": "white",
           "lakecolor": "white",
           "landcolor": "#E5ECF6",
           "showlakes": true,
           "showland": true,
           "subunitcolor": "white"
          },
          "hoverlabel": {
           "align": "left"
          },
          "hovermode": "closest",
          "mapbox": {
           "style": "light"
          },
          "paper_bgcolor": "white",
          "plot_bgcolor": "#E5ECF6",
          "polar": {
           "angularaxis": {
            "gridcolor": "white",
            "linecolor": "white",
            "ticks": ""
           },
           "bgcolor": "#E5ECF6",
           "radialaxis": {
            "gridcolor": "white",
            "linecolor": "white",
            "ticks": ""
           }
          },
          "scene": {
           "xaxis": {
            "backgroundcolor": "#E5ECF6",
            "gridcolor": "white",
            "gridwidth": 2,
            "linecolor": "white",
            "showbackground": true,
            "ticks": "",
            "zerolinecolor": "white"
           },
           "yaxis": {
            "backgroundcolor": "#E5ECF6",
            "gridcolor": "white",
            "gridwidth": 2,
            "linecolor": "white",
            "showbackground": true,
            "ticks": "",
            "zerolinecolor": "white"
           },
           "zaxis": {
            "backgroundcolor": "#E5ECF6",
            "gridcolor": "white",
            "gridwidth": 2,
            "linecolor": "white",
            "showbackground": true,
            "ticks": "",
            "zerolinecolor": "white"
           }
          },
          "shapedefaults": {
           "line": {
            "color": "#2a3f5f"
           }
          },
          "ternary": {
           "aaxis": {
            "gridcolor": "white",
            "linecolor": "white",
            "ticks": ""
           },
           "baxis": {
            "gridcolor": "white",
            "linecolor": "white",
            "ticks": ""
           },
           "bgcolor": "#E5ECF6",
           "caxis": {
            "gridcolor": "white",
            "linecolor": "white",
            "ticks": ""
           }
          },
          "title": {
           "x": 0.05
          },
          "xaxis": {
           "automargin": true,
           "gridcolor": "white",
           "linecolor": "white",
           "ticks": "",
           "title": {
            "standoff": 15
           },
           "zerolinecolor": "white",
           "zerolinewidth": 2
          },
          "yaxis": {
           "automargin": true,
           "gridcolor": "white",
           "linecolor": "white",
           "ticks": "",
           "title": {
            "standoff": 15
           },
           "zerolinecolor": "white",
           "zerolinewidth": 2
          }
         }
        },
        "xaxis": {
         "anchor": "y",
         "domain": [
          0,
          1
         ],
         "title": {
          "text": "SalePrice"
         }
        },
        "yaxis": {
         "anchor": "x",
         "domain": [
          0,
          1
         ],
         "title": {
          "text": "count"
         }
        }
       }
      }
     },
     "metadata": {},
     "output_type": "display_data"
    }
   ],
   "source": [
    "from scipy import stats\n",
    "\n",
    "# Calculate Z-values\n",
    "train['SalePrice_z'] = np.abs(stats.zscore(train['SalePrice']))\n",
    "\n",
    "# Filter out outliers\n",
    "train = train[train['SalePrice_z'] <= 3]\n",
    "\n",
    "# Remove houses listed for $0\n",
    "train = train[train['SalePrice'] != 0]\n",
    "\n",
    "# Drop the column\n",
    "train = train.drop('SalePrice_z', axis=1)\n",
    "\n",
    "# Draw a histogram\n",
    "fig = px.histogram(train, x=\"SalePrice\")\n",
    "fig.show()"
   ]
  },
  {
   "attachments": {},
   "cell_type": "markdown",
   "metadata": {},
   "source": [
    "### encode Categorical features\n"
   ]
  },
  {
   "attachments": {},
   "cell_type": "markdown",
   "metadata": {},
   "source": [
    "     MSZoning, Street, LotShape, LandContour, Utilities, LotConfig, LandSlope, Neighborhood, Condition1, Condition2, BldgType, HouseStyle, RoofStyle, RoofMatl, Exterior1st, Exterior2nd, MasVnrType, ExterQual, ExterCond, Foundation, BsmtQual, BsmtCond"
   ]
  },
  {
   "cell_type": "code",
   "execution_count": 98,
   "metadata": {},
   "outputs": [],
   "source": [
    "def findUnique(colNames):\n",
    "    for colName in colNames:\n",
    "        print(colName)\n",
    "        print(train[colName].unique())"
   ]
  },
  {
   "cell_type": "code",
   "execution_count": 121,
   "metadata": {},
   "outputs": [
    {
     "name": "stdout",
     "output_type": "stream",
     "text": [
      "MSZoning\n",
      "['RL' 'RM' 'C (all)' 'FV' 'RH']\n",
      "LotConfig\n",
      "['Inside' 'FR2' 'Corner' 'CulDSac' 'FR3']\n",
      "Neighborhood\n",
      "['CollgCr' 'Veenker' 'Crawfor' 'NoRidge' 'Mitchel' 'Somerst' 'NWAmes'\n",
      " 'OldTown' 'BrkSide' 'Sawyer' 'NridgHt' 'NAmes' 'SawyerW' 'IDOTRR'\n",
      " 'MeadowV' 'Edwards' 'Timber' 'Gilbert' 'ClearCr' 'NPkVill' 'StoneBr'\n",
      " 'Blmngtn' 'BrDale' 'SWISU' 'Blueste']\n",
      "Condition1\n",
      "['Norm' 'Feedr' 'PosN' 'Artery' 'RRAe' 'RRNn' 'RRAn' 'PosA' 'RRNe']\n",
      "Condition2\n",
      "['Norm' 'Artery' 'RRNn' 'Feedr' 'PosN' 'PosA' 'RRAn' 'RRAe']\n",
      "BldgType\n",
      "['1Fam' '2fmCon' 'Duplex' 'TwnhsE' 'Twnhs']\n",
      "HouseStyle\n",
      "['2Story' '1Story' '1.5Fin' '1.5Unf' 'SFoyer' 'SLvl' '2.5Unf' '2.5Fin']\n",
      "RoofStyle\n",
      "['Gable' 'Hip' 'Gambrel' 'Mansard' 'Flat' 'Shed']\n",
      "RoofMatl\n",
      "['CompShg' 'WdShngl' 'Metal' 'WdShake' 'Membran' 'Tar&Grv' 'Roll'\n",
      " 'ClyTile']\n",
      "Exterior1st\n",
      "['VinylSd' 'MetalSd' 'Wd Sdng' 'HdBoard' 'BrkFace' 'WdShing' 'CemntBd'\n",
      " 'Plywood' 'AsbShng' 'Stucco' 'BrkComm' 'AsphShn' 'Stone' 'ImStucc'\n",
      " 'CBlock']\n",
      "Exterior2nd\n",
      "['VinylSd' 'MetalSd' 'Wd Shng' 'HdBoard' 'Plywood' 'Wd Sdng' 'CmentBd'\n",
      " 'BrkFace' 'Stucco' 'AsbShng' 'Brk Cmn' 'ImStucc' 'AsphShn' 'Other'\n",
      " 'Stone' 'CBlock']\n",
      "MasVnrType\n",
      "['BrkFace' 'None' 'Stone' 'BrkCmn']\n",
      "Foundation\n",
      "['PConc' 'CBlock' 'BrkTil' 'Wood' 'Slab' 'Stone']\n"
     ]
    }
   ],
   "source": [
    "findUnique(['MSZoning', 'LotConfig', 'Neighborhood', 'Condition1', 'Condition2', 'BldgType', 'HouseStyle',\n",
    " 'RoofStyle', 'RoofMatl', 'Exterior1st', 'Exterior2nd', 'MasVnrType',  'Foundation'])"
   ]
  },
  {
   "attachments": {},
   "cell_type": "markdown",
   "metadata": {},
   "source": [
    "### Encode Ordinal Features"
   ]
  },
  {
   "attachments": {},
   "cell_type": "markdown",
   "metadata": {},
   "source": [
    "'LotShape', 'LandContour', 'LandSlope', 'ExterQual', 'ExterCond','BsmtQual', 'BsmtCond'"
   ]
  },
  {
   "cell_type": "code",
   "execution_count": 122,
   "metadata": {},
   "outputs": [
    {
     "name": "stdout",
     "output_type": "stream",
     "text": [
      "LotShape\n",
      "['Reg' 'IR1' 'IR2' 'IR3']\n",
      "LandContour\n",
      "['Lvl' 'Bnk' 'Low' 'HLS']\n",
      "LandSlope\n",
      "['Gtl' 'Mod' 'Sev']\n",
      "ExterQual\n",
      "['Gd' 'TA' 'Ex' 'Fa']\n",
      "ExterCond\n",
      "['TA' 'Gd' 'Fa' 'Po' 'Ex']\n",
      "BsmtQual\n",
      "['Gd' 'TA' 'Ex' 'Po' 'Fa']\n",
      "BsmtCond\n",
      "['TA' 'Gd' 'Fa' 'Po']\n"
     ]
    }
   ],
   "source": [
    "findUnique(['LotShape', 'LandContour', 'LandSlope', 'ExterQual', 'ExterCond','BsmtQual', 'BsmtCond'])"
   ]
  },
  {
   "cell_type": "code",
   "execution_count": 101,
   "metadata": {},
   "outputs": [],
   "source": [
    "def encode_ordinal(col,values):\n",
    "    train[col].replace({},inplace=True)"
   ]
  },
  {
   "attachments": {},
   "cell_type": "markdown",
   "metadata": {},
   "source": [
    "split data"
   ]
  },
  {
   "cell_type": "code",
   "execution_count": 102,
   "metadata": {},
   "outputs": [],
   "source": [
    "train_dataset = train.sample(frac=0.8, random_state=0)\n",
    "test_dataset = train.drop(train_dataset.index)"
   ]
  },
  {
   "cell_type": "code",
   "execution_count": 103,
   "metadata": {},
   "outputs": [],
   "source": [
    "train_features = train_dataset.copy()\n",
    "test_features = test_dataset.copy()\n",
    "\n",
    "train_labels = train_features.pop('SalePrice')\n",
    "test_labels = test_features.pop('SalePrice')"
   ]
  },
  {
   "cell_type": "code",
   "execution_count": 104,
   "metadata": {},
   "outputs": [
    {
     "data": {
      "text/html": [
       "<div>\n",
       "<style scoped>\n",
       "    .dataframe tbody tr th:only-of-type {\n",
       "        vertical-align: middle;\n",
       "    }\n",
       "\n",
       "    .dataframe tbody tr th {\n",
       "        vertical-align: top;\n",
       "    }\n",
       "\n",
       "    .dataframe thead th {\n",
       "        text-align: right;\n",
       "    }\n",
       "</style>\n",
       "<table border=\"1\" class=\"dataframe\">\n",
       "  <thead>\n",
       "    <tr style=\"text-align: right;\">\n",
       "      <th></th>\n",
       "      <th>mean</th>\n",
       "      <th>std</th>\n",
       "    </tr>\n",
       "  </thead>\n",
       "  <tbody>\n",
       "    <tr>\n",
       "      <th>LotFrontage</th>\n",
       "      <td>69.636848</td>\n",
       "      <td>22.412680</td>\n",
       "    </tr>\n",
       "    <tr>\n",
       "      <th>LotArea</th>\n",
       "      <td>10455.310044</td>\n",
       "      <td>10730.659934</td>\n",
       "    </tr>\n",
       "    <tr>\n",
       "      <th>OverallQual</th>\n",
       "      <td>6.042795</td>\n",
       "      <td>1.299174</td>\n",
       "    </tr>\n",
       "    <tr>\n",
       "      <th>YearBuilt</th>\n",
       "      <td>1970.536245</td>\n",
       "      <td>29.942730</td>\n",
       "    </tr>\n",
       "    <tr>\n",
       "      <th>YearRemodAdd</th>\n",
       "      <td>1984.515284</td>\n",
       "      <td>20.494242</td>\n",
       "    </tr>\n",
       "    <tr>\n",
       "      <th>MasVnrArea</th>\n",
       "      <td>97.214847</td>\n",
       "      <td>166.983771</td>\n",
       "    </tr>\n",
       "    <tr>\n",
       "      <th>BsmtFinSF1</th>\n",
       "      <td>436.948472</td>\n",
       "      <td>447.783738</td>\n",
       "    </tr>\n",
       "    <tr>\n",
       "      <th>BsmtUnfSF</th>\n",
       "      <td>551.950218</td>\n",
       "      <td>427.511911</td>\n",
       "    </tr>\n",
       "    <tr>\n",
       "      <th>TotalBsmtSF</th>\n",
       "      <td>1038.905677</td>\n",
       "      <td>422.691017</td>\n",
       "    </tr>\n",
       "    <tr>\n",
       "      <th>1stFlrSF</th>\n",
       "      <td>1146.627948</td>\n",
       "      <td>371.857638</td>\n",
       "    </tr>\n",
       "    <tr>\n",
       "      <th>2ndFlrSF</th>\n",
       "      <td>334.903930</td>\n",
       "      <td>423.259719</td>\n",
       "    </tr>\n",
       "    <tr>\n",
       "      <th>GrLivArea</th>\n",
       "      <td>1486.240175</td>\n",
       "      <td>483.741082</td>\n",
       "    </tr>\n",
       "    <tr>\n",
       "      <th>BsmtFullBath</th>\n",
       "      <td>0.427948</td>\n",
       "      <td>0.525824</td>\n",
       "    </tr>\n",
       "    <tr>\n",
       "      <th>FullBath</th>\n",
       "      <td>1.549345</td>\n",
       "      <td>0.541513</td>\n",
       "    </tr>\n",
       "    <tr>\n",
       "      <th>HalfBath</th>\n",
       "      <td>0.368559</td>\n",
       "      <td>0.502153</td>\n",
       "    </tr>\n",
       "    <tr>\n",
       "      <th>BedroomAbvGr</th>\n",
       "      <td>2.862009</td>\n",
       "      <td>0.804379</td>\n",
       "    </tr>\n",
       "    <tr>\n",
       "      <th>KitchenAbvGr</th>\n",
       "      <td>1.045415</td>\n",
       "      <td>0.216533</td>\n",
       "    </tr>\n",
       "    <tr>\n",
       "      <th>TotRmsAbvGrd</th>\n",
       "      <td>6.444541</td>\n",
       "      <td>1.534205</td>\n",
       "    </tr>\n",
       "    <tr>\n",
       "      <th>Fireplaces</th>\n",
       "      <td>0.598253</td>\n",
       "      <td>0.634936</td>\n",
       "    </tr>\n",
       "    <tr>\n",
       "      <th>GarageYrBlt</th>\n",
       "      <td>1867.615107</td>\n",
       "      <td>445.409279</td>\n",
       "    </tr>\n",
       "    <tr>\n",
       "      <th>GarageCars</th>\n",
       "      <td>1.738865</td>\n",
       "      <td>0.746156</td>\n",
       "    </tr>\n",
       "    <tr>\n",
       "      <th>GarageArea</th>\n",
       "      <td>464.220087</td>\n",
       "      <td>211.727420</td>\n",
       "    </tr>\n",
       "    <tr>\n",
       "      <th>WoodDeckSF</th>\n",
       "      <td>95.489083</td>\n",
       "      <td>126.247745</td>\n",
       "    </tr>\n",
       "    <tr>\n",
       "      <th>OpenPorchSF</th>\n",
       "      <td>44.220087</td>\n",
       "      <td>63.869298</td>\n",
       "    </tr>\n",
       "    <tr>\n",
       "      <th>EnclosedPorch</th>\n",
       "      <td>22.103930</td>\n",
       "      <td>60.832875</td>\n",
       "    </tr>\n",
       "    <tr>\n",
       "      <th>SalePrice</th>\n",
       "      <td>175055.875983</td>\n",
       "      <td>67316.740549</td>\n",
       "    </tr>\n",
       "  </tbody>\n",
       "</table>\n",
       "</div>"
      ],
      "text/plain": [
       "                        mean           std\n",
       "LotFrontage        69.636848     22.412680\n",
       "LotArea         10455.310044  10730.659934\n",
       "OverallQual         6.042795      1.299174\n",
       "YearBuilt        1970.536245     29.942730\n",
       "YearRemodAdd     1984.515284     20.494242\n",
       "MasVnrArea         97.214847    166.983771\n",
       "BsmtFinSF1        436.948472    447.783738\n",
       "BsmtUnfSF         551.950218    427.511911\n",
       "TotalBsmtSF      1038.905677    422.691017\n",
       "1stFlrSF         1146.627948    371.857638\n",
       "2ndFlrSF          334.903930    423.259719\n",
       "GrLivArea        1486.240175    483.741082\n",
       "BsmtFullBath        0.427948      0.525824\n",
       "FullBath            1.549345      0.541513\n",
       "HalfBath            0.368559      0.502153\n",
       "BedroomAbvGr        2.862009      0.804379\n",
       "KitchenAbvGr        1.045415      0.216533\n",
       "TotRmsAbvGrd        6.444541      1.534205\n",
       "Fireplaces          0.598253      0.634936\n",
       "GarageYrBlt      1867.615107    445.409279\n",
       "GarageCars          1.738865      0.746156\n",
       "GarageArea        464.220087    211.727420\n",
       "WoodDeckSF         95.489083    126.247745\n",
       "OpenPorchSF        44.220087     63.869298\n",
       "EnclosedPorch      22.103930     60.832875\n",
       "SalePrice      175055.875983  67316.740549"
      ]
     },
     "execution_count": 104,
     "metadata": {},
     "output_type": "execute_result"
    }
   ],
   "source": [
    "train_dataset.describe().transpose()[['mean', 'std']]"
   ]
  },
  {
   "attachments": {},
   "cell_type": "markdown",
   "metadata": {},
   "source": [
    "### Normalize values"
   ]
  },
  {
   "attachments": {},
   "cell_type": "markdown",
   "metadata": {},
   "source": [
    "### Simple Linear Regression\n",
    "\n",
    "LotArea"
   ]
  },
  {
   "cell_type": "code",
   "execution_count": 105,
   "metadata": {},
   "outputs": [],
   "source": [
    "Area = np.array(train_features['LotArea'])\n",
    "\n",
    "Area_normalizer = layers.Normalization(input_shape=[1,], axis=None)\n",
    "Area_normalizer.adapt(Area)"
   ]
  },
  {
   "cell_type": "code",
   "execution_count": 106,
   "metadata": {},
   "outputs": [
    {
     "name": "stdout",
     "output_type": "stream",
     "text": [
      "Model: \"sequential_1\"\n",
      "_________________________________________________________________\n",
      " Layer (type)                Output Shape              Param #   \n",
      "=================================================================\n",
      " normalization_1 (Normalizat  (None, 1)                3         \n",
      " ion)                                                            \n",
      "                                                                 \n",
      " dense_1 (Dense)             (None, 1)                 2         \n",
      "                                                                 \n",
      "=================================================================\n",
      "Total params: 5\n",
      "Trainable params: 2\n",
      "Non-trainable params: 3\n",
      "_________________________________________________________________\n"
     ]
    }
   ],
   "source": [
    "Area_model = tf.keras.Sequential([\n",
    "    Area_normalizer,\n",
    "    layers.Dense(units=1)\n",
    "])\n",
    "\n",
    "Area_model.summary()"
   ]
  },
  {
   "cell_type": "code",
   "execution_count": 107,
   "metadata": {},
   "outputs": [
    {
     "name": "stdout",
     "output_type": "stream",
     "text": [
      "1/1 [==============================] - 0s 31ms/step\n"
     ]
    },
    {
     "data": {
      "text/plain": [
       "array([[ 0.5011321 ],\n",
       "       [-0.08227936],\n",
       "       [ 0.24583313],\n",
       "       [ 0.11457172],\n",
       "       [-0.10715254],\n",
       "       [-0.03811511],\n",
       "       [-0.14007051],\n",
       "       [-0.15689889],\n",
       "       [-0.5565936 ],\n",
       "       [ 0.13492996]], dtype=float32)"
      ]
     },
     "execution_count": 107,
     "metadata": {},
     "output_type": "execute_result"
    }
   ],
   "source": [
    "Area_model.predict(Area[:10])"
   ]
  },
  {
   "cell_type": "code",
   "execution_count": 108,
   "metadata": {},
   "outputs": [],
   "source": [
    "Area_model.compile(\n",
    "    optimizer=tf.keras.optimizers.Adam(learning_rate=0.1),\n",
    "    loss='mean_absolute_error')"
   ]
  },
  {
   "attachments": {},
   "cell_type": "markdown",
   "metadata": {},
   "source": [
    "hyperparameter tuning "
   ]
  },
  {
   "cell_type": "code",
   "execution_count": 109,
   "metadata": {},
   "outputs": [],
   "source": [
    "history = Area_model.fit(\n",
    "    train_features['LotArea'],\n",
    "    train_labels,\n",
    "    epochs=200,\n",
    "    # Suppress logging.\n",
    "    verbose=0,\n",
    "    # Calculate validation results on 20% of the training data.\n",
    "    validation_split = 0.2)"
   ]
  },
  {
   "cell_type": "code",
   "execution_count": 110,
   "metadata": {},
   "outputs": [
    {
     "data": {
      "text/html": [
       "<div>\n",
       "<style scoped>\n",
       "    .dataframe tbody tr th:only-of-type {\n",
       "        vertical-align: middle;\n",
       "    }\n",
       "\n",
       "    .dataframe tbody tr th {\n",
       "        vertical-align: top;\n",
       "    }\n",
       "\n",
       "    .dataframe thead th {\n",
       "        text-align: right;\n",
       "    }\n",
       "</style>\n",
       "<table border=\"1\" class=\"dataframe\">\n",
       "  <thead>\n",
       "    <tr style=\"text-align: right;\">\n",
       "      <th></th>\n",
       "      <th>loss</th>\n",
       "      <th>val_loss</th>\n",
       "      <th>epoch</th>\n",
       "    </tr>\n",
       "  </thead>\n",
       "  <tbody>\n",
       "    <tr>\n",
       "      <th>195</th>\n",
       "      <td>175462.640625</td>\n",
       "      <td>170592.890625</td>\n",
       "      <td>195</td>\n",
       "    </tr>\n",
       "    <tr>\n",
       "      <th>196</th>\n",
       "      <td>175459.734375</td>\n",
       "      <td>170590.062500</td>\n",
       "      <td>196</td>\n",
       "    </tr>\n",
       "    <tr>\n",
       "      <th>197</th>\n",
       "      <td>175456.828125</td>\n",
       "      <td>170587.156250</td>\n",
       "      <td>197</td>\n",
       "    </tr>\n",
       "    <tr>\n",
       "      <th>198</th>\n",
       "      <td>175453.921875</td>\n",
       "      <td>170584.328125</td>\n",
       "      <td>198</td>\n",
       "    </tr>\n",
       "    <tr>\n",
       "      <th>199</th>\n",
       "      <td>175451.046875</td>\n",
       "      <td>170581.468750</td>\n",
       "      <td>199</td>\n",
       "    </tr>\n",
       "  </tbody>\n",
       "</table>\n",
       "</div>"
      ],
      "text/plain": [
       "              loss       val_loss  epoch\n",
       "195  175462.640625  170592.890625    195\n",
       "196  175459.734375  170590.062500    196\n",
       "197  175456.828125  170587.156250    197\n",
       "198  175453.921875  170584.328125    198\n",
       "199  175451.046875  170581.468750    199"
      ]
     },
     "execution_count": 110,
     "metadata": {},
     "output_type": "execute_result"
    }
   ],
   "source": [
    "hist = pd.DataFrame(history.history)\n",
    "hist['epoch'] = history.epoch\n",
    "hist.tail()"
   ]
  },
  {
   "cell_type": "code",
   "execution_count": 111,
   "metadata": {},
   "outputs": [
    {
     "data": {
      "text/html": [
       "<div>\n",
       "<style scoped>\n",
       "    .dataframe tbody tr th:only-of-type {\n",
       "        vertical-align: middle;\n",
       "    }\n",
       "\n",
       "    .dataframe tbody tr th {\n",
       "        vertical-align: top;\n",
       "    }\n",
       "\n",
       "    .dataframe thead th {\n",
       "        text-align: right;\n",
       "    }\n",
       "</style>\n",
       "<table border=\"1\" class=\"dataframe\">\n",
       "  <thead>\n",
       "    <tr style=\"text-align: right;\">\n",
       "      <th></th>\n",
       "      <th>loss</th>\n",
       "      <th>val_loss</th>\n",
       "      <th>epoch</th>\n",
       "    </tr>\n",
       "  </thead>\n",
       "  <tbody>\n",
       "    <tr>\n",
       "      <th>199</th>\n",
       "      <td>175451.046875</td>\n",
       "      <td>170581.46875</td>\n",
       "      <td>199</td>\n",
       "    </tr>\n",
       "  </tbody>\n",
       "</table>\n",
       "</div>"
      ],
      "text/plain": [
       "              loss      val_loss  epoch\n",
       "199  175451.046875  170581.46875    199"
      ]
     },
     "execution_count": 111,
     "metadata": {},
     "output_type": "execute_result"
    }
   ],
   "source": [
    "hist[hist['loss']==(hist['loss'].min())]"
   ]
  },
  {
   "cell_type": "code",
   "execution_count": 112,
   "metadata": {},
   "outputs": [],
   "source": [
    "def plot_loss(history):\n",
    "  plt.plot(history['loss'], label='loss')\n",
    "  plt.plot(history['val_loss'], label='val_loss')\n",
    "  plt.xlabel('Epoch')\n",
    "  plt.ylabel('Error [Area]')\n",
    "  plt.legend()\n",
    "  plt.grid(True)"
   ]
  },
  {
   "cell_type": "code",
   "execution_count": 113,
   "metadata": {},
   "outputs": [
    {
     "data": {
      "text/plain": [
       "0      176030.390625\n",
       "1      176027.500000\n",
       "2      176024.578125\n",
       "3      176021.640625\n",
       "4      176018.750000\n",
       "           ...      \n",
       "195    175462.640625\n",
       "196    175459.734375\n",
       "197    175456.828125\n",
       "198    175453.921875\n",
       "199    175451.046875\n",
       "Name: loss, Length: 200, dtype: float64"
      ]
     },
     "execution_count": 113,
     "metadata": {},
     "output_type": "execute_result"
    }
   ],
   "source": [
    "hist['loss']"
   ]
  },
  {
   "cell_type": "code",
   "execution_count": 114,
   "metadata": {},
   "outputs": [
    {
     "data": {
      "image/png": "[encoded data removed]",
      "text/plain": [
       "<Figure size 640x480 with 1 Axes>"
      ]
     },
     "metadata": {},
     "output_type": "display_data"
    }
   ],
   "source": [
    "plot_loss(hist)"
   ]
  },
  {
   "cell_type": "code",
   "execution_count": 115,
   "metadata": {},
   "outputs": [],
   "source": [
    "test_results = {}\n",
    "test_results['Area_model'] = Area_model.evaluate(\n",
    "    test_features['LotArea'],\n",
    "    test_labels, verbose=0)"
   ]
  },
  {
   "cell_type": "code",
   "execution_count": 116,
   "metadata": {},
   "outputs": [
    {
     "name": "stdout",
     "output_type": "stream",
     "text": [
      "9/9 [==============================] - 0s 1ms/step\n"
     ]
    },
    {
     "data": {
      "text/plain": [
       "array([566.00934, 639.3877 , 601.0594 , 544.03394, 524.1074 ],\n",
       "      dtype=float32)"
      ]
     },
     "execution_count": 116,
     "metadata": {},
     "output_type": "execute_result"
    }
   ],
   "source": [
    "predictions = Area_model.predict(test_features['LotArea'])\n",
    "predictions = np.ravel(predictions)\n",
    "predictions[:5]"
   ]
  },
  {
   "cell_type": "code",
   "execution_count": 117,
   "metadata": {},
   "outputs": [],
   "source": [
    "def rmse(y_true, y_pred):\n",
    "    return K.sqrt(K.mean(K.square(y_pred - y_true)))"
   ]
  },
  {
   "cell_type": "code",
   "execution_count": 118,
   "metadata": {},
   "outputs": [
    {
     "data": {
      "text/plain": [
       "190543.35015895762"
      ]
     },
     "execution_count": 118,
     "metadata": {},
     "output_type": "execute_result"
    }
   ],
   "source": [
    "rmse(test_labels, predictions).numpy()"
   ]
  },
  {
   "attachments": {},
   "cell_type": "markdown",
   "metadata": {},
   "source": [
    "YearBuilt\n"
   ]
  },
  {
   "cell_type": "code",
   "execution_count": null,
   "metadata": {},
   "outputs": [],
   "source": []
  },
  {
   "attachments": {},
   "cell_type": "markdown",
   "metadata": {},
   "source": [
    "OverallQual"
   ]
  },
  {
   "attachments": {},
   "cell_type": "markdown",
   "metadata": {},
   "source": [
    "MSSubClass"
   ]
  },
  {
   "attachments": {},
   "cell_type": "markdown",
   "metadata": {},
   "source": [
    "### Multiple Linear Regression"
   ]
  },
  {
   "attachments": {},
   "cell_type": "markdown",
   "metadata": {},
   "source": [
    "### Loss function"
   ]
  },
  {
   "attachments": {},
   "cell_type": "markdown",
   "metadata": {},
   "source": [
    "### Determining the right number of epochs"
   ]
  },
  {
   "cell_type": "code",
   "execution_count": null,
   "metadata": {},
   "outputs": [],
   "source": []
  }
 ],
 "metadata": {
  "kernelspec": {
   "display_name": "base",
   "language": "python",
   "name": "python3"
  },
  "language_info": {
   "codemirror_mode": {
    "name": "ipython",
    "version": 3
   },
   "file_extension": ".py",
   "mimetype": "text/x-python",
   "name": "python",
   "nbconvert_exporter": "python",
   "pygments_lexer": "ipython3",
   "version": "3.9.13"
  },
  "orig_nbformat": 4,
  "vscode": {
   "interpreter": {
    "hash": "3a9c20e25270862eb1677b1284953a7c1bb047c43aa5b8ab1ce898b0e9ee8ecd"
   }
  }
 },
 "nbformat": 4,
 "nbformat_minor": 2
}
