{
 "cells": [
  {
   "attachments": {},
   "cell_type": "markdown",
   "metadata": {},
   "source": [
    "# Student Performance Analysis "
   ]
  },
  {
   "attachments": {},
   "cell_type": "markdown",
   "metadata": {},
   "source": [
    "### About data\n",
    "\n",
    "This data set describes the student performance in various subjects and in this project aims to find what factors can play a role in the student grades\n",
    "\n",
    "### Features\n",
    "\n",
    "gender : (Female/Male)\n",
    "\n",
    "race/ethnicity : (as groups A,B,C,D,E)\n",
    "\n",
    "parental level of education : The parents' level of education\n",
    "\n",
    "lunch : (standard or free/reduced)\n",
    "\n",
    "test preparation course\t: (completed or not)\n",
    "\n",
    "math score : score in math \n",
    "\n",
    "reading score : score in reading\n",
    "\n",
    "writing score : score in writing\n"
   ]
  },
  {
   "attachments": {},
   "cell_type": "markdown",
   "metadata": {},
   "source": [
    "\n",
    "Step 1 : importing libraries and dataset"
   ]
  },
  {
   "cell_type": "code",
   "execution_count": 2,
   "metadata": {},
   "outputs": [],
   "source": [
    "import numpy as np\n",
    "import pandas as pd\n",
    "import seaborn as sns\n",
    "import plotly.express as px\n",
    "import matplotlib.pyplot as plt\n",
    "import statsmodels.formula.api as smf\n",
    "import datetime\n",
    "import scipy.stats as stats\n",
    "from dash import Dash, html, dcc\n",
    "import plotly.graph_objects as go\n",
    "from plotly.subplots import make_subplots"
   ]
  },
  {
   "cell_type": "code",
   "execution_count": 3,
   "metadata": {},
   "outputs": [],
   "source": [
    "df = pd.read_csv(\"StudentsPerformance.csv\")"
   ]
  },
  {
   "cell_type": "code",
   "execution_count": 4,
   "metadata": {},
   "outputs": [
    {
     "data": {
      "text/html": [
       "<div>\n",
       "<style scoped>\n",
       "    .dataframe tbody tr th:only-of-type {\n",
       "        vertical-align: middle;\n",
       "    }\n",
       "\n",
       "    .dataframe tbody tr th {\n",
       "        vertical-align: top;\n",
       "    }\n",
       "\n",
       "    .dataframe thead th {\n",
       "        text-align: right;\n",
       "    }\n",
       "</style>\n",
       "<table border=\"1\" class=\"dataframe\">\n",
       "  <thead>\n",
       "    <tr style=\"text-align: right;\">\n",
       "      <th></th>\n",
       "      <th>gender</th>\n",
       "      <th>race/ethnicity</th>\n",
       "      <th>parental level of education</th>\n",
       "      <th>lunch</th>\n",
       "      <th>test preparation course</th>\n",
       "      <th>math score</th>\n",
       "      <th>reading score</th>\n",
       "      <th>writing score</th>\n",
       "    </tr>\n",
       "  </thead>\n",
       "  <tbody>\n",
       "    <tr>\n",
       "      <th>0</th>\n",
       "      <td>female</td>\n",
       "      <td>group B</td>\n",
       "      <td>bachelor's degree</td>\n",
       "      <td>standard</td>\n",
       "      <td>none</td>\n",
       "      <td>72</td>\n",
       "      <td>72</td>\n",
       "      <td>74</td>\n",
       "    </tr>\n",
       "    <tr>\n",
       "      <th>1</th>\n",
       "      <td>female</td>\n",
       "      <td>group C</td>\n",
       "      <td>some college</td>\n",
       "      <td>standard</td>\n",
       "      <td>completed</td>\n",
       "      <td>69</td>\n",
       "      <td>90</td>\n",
       "      <td>88</td>\n",
       "    </tr>\n",
       "    <tr>\n",
       "      <th>2</th>\n",
       "      <td>female</td>\n",
       "      <td>group B</td>\n",
       "      <td>master's degree</td>\n",
       "      <td>standard</td>\n",
       "      <td>none</td>\n",
       "      <td>90</td>\n",
       "      <td>95</td>\n",
       "      <td>93</td>\n",
       "    </tr>\n",
       "    <tr>\n",
       "      <th>3</th>\n",
       "      <td>male</td>\n",
       "      <td>group A</td>\n",
       "      <td>associate's degree</td>\n",
       "      <td>free/reduced</td>\n",
       "      <td>none</td>\n",
       "      <td>47</td>\n",
       "      <td>57</td>\n",
       "      <td>44</td>\n",
       "    </tr>\n",
       "    <tr>\n",
       "      <th>4</th>\n",
       "      <td>male</td>\n",
       "      <td>group C</td>\n",
       "      <td>some college</td>\n",
       "      <td>standard</td>\n",
       "      <td>none</td>\n",
       "      <td>76</td>\n",
       "      <td>78</td>\n",
       "      <td>75</td>\n",
       "    </tr>\n",
       "  </tbody>\n",
       "</table>\n",
       "</div>"
      ],
      "text/plain": [
       "   gender race/ethnicity parental level of education         lunch  \\\n",
       "0  female        group B           bachelor's degree      standard   \n",
       "1  female        group C                some college      standard   \n",
       "2  female        group B             master's degree      standard   \n",
       "3    male        group A          associate's degree  free/reduced   \n",
       "4    male        group C                some college      standard   \n",
       "\n",
       "  test preparation course  math score  reading score  writing score  \n",
       "0                    none          72             72             74  \n",
       "1               completed          69             90             88  \n",
       "2                    none          90             95             93  \n",
       "3                    none          47             57             44  \n",
       "4                    none          76             78             75  "
      ]
     },
     "execution_count": 4,
     "metadata": {},
     "output_type": "execute_result"
    }
   ],
   "source": [
    "df.head()"
   ]
  },
  {
   "cell_type": "code",
   "execution_count": 5,
   "metadata": {},
   "outputs": [
    {
     "data": {
      "text/plain": [
       "(1000, 8)"
      ]
     },
     "execution_count": 5,
     "metadata": {},
     "output_type": "execute_result"
    }
   ],
   "source": [
    "df.shape"
   ]
  },
  {
   "cell_type": "code",
   "execution_count": 6,
   "metadata": {},
   "outputs": [
    {
     "name": "stdout",
     "output_type": "stream",
     "text": [
      "<class 'pandas.core.frame.DataFrame'>\n",
      "RangeIndex: 1000 entries, 0 to 999\n",
      "Data columns (total 8 columns):\n",
      " #   Column                       Non-Null Count  Dtype \n",
      "---  ------                       --------------  ----- \n",
      " 0   gender                       1000 non-null   object\n",
      " 1   race/ethnicity               1000 non-null   object\n",
      " 2   parental level of education  1000 non-null   object\n",
      " 3   lunch                        1000 non-null   object\n",
      " 4   test preparation course      1000 non-null   object\n",
      " 5   math score                   1000 non-null   int64 \n",
      " 6   reading score                1000 non-null   int64 \n",
      " 7   writing score                1000 non-null   int64 \n",
      "dtypes: int64(3), object(5)\n",
      "memory usage: 62.6+ KB\n"
     ]
    }
   ],
   "source": [
    "df.info()"
   ]
  },
  {
   "cell_type": "code",
   "execution_count": 7,
   "metadata": {},
   "outputs": [
    {
     "data": {
      "text/html": [
       "<div>\n",
       "<style scoped>\n",
       "    .dataframe tbody tr th:only-of-type {\n",
       "        vertical-align: middle;\n",
       "    }\n",
       "\n",
       "    .dataframe tbody tr th {\n",
       "        vertical-align: top;\n",
       "    }\n",
       "\n",
       "    .dataframe thead th {\n",
       "        text-align: right;\n",
       "    }\n",
       "</style>\n",
       "<table border=\"1\" class=\"dataframe\">\n",
       "  <thead>\n",
       "    <tr style=\"text-align: right;\">\n",
       "      <th></th>\n",
       "      <th>math score</th>\n",
       "      <th>reading score</th>\n",
       "      <th>writing score</th>\n",
       "    </tr>\n",
       "  </thead>\n",
       "  <tbody>\n",
       "    <tr>\n",
       "      <th>count</th>\n",
       "      <td>1000.00000</td>\n",
       "      <td>1000.000000</td>\n",
       "      <td>1000.000000</td>\n",
       "    </tr>\n",
       "    <tr>\n",
       "      <th>mean</th>\n",
       "      <td>66.08900</td>\n",
       "      <td>69.169000</td>\n",
       "      <td>68.054000</td>\n",
       "    </tr>\n",
       "    <tr>\n",
       "      <th>std</th>\n",
       "      <td>15.16308</td>\n",
       "      <td>14.600192</td>\n",
       "      <td>15.195657</td>\n",
       "    </tr>\n",
       "    <tr>\n",
       "      <th>min</th>\n",
       "      <td>0.00000</td>\n",
       "      <td>17.000000</td>\n",
       "      <td>10.000000</td>\n",
       "    </tr>\n",
       "    <tr>\n",
       "      <th>25%</th>\n",
       "      <td>57.00000</td>\n",
       "      <td>59.000000</td>\n",
       "      <td>57.750000</td>\n",
       "    </tr>\n",
       "    <tr>\n",
       "      <th>50%</th>\n",
       "      <td>66.00000</td>\n",
       "      <td>70.000000</td>\n",
       "      <td>69.000000</td>\n",
       "    </tr>\n",
       "    <tr>\n",
       "      <th>75%</th>\n",
       "      <td>77.00000</td>\n",
       "      <td>79.000000</td>\n",
       "      <td>79.000000</td>\n",
       "    </tr>\n",
       "    <tr>\n",
       "      <th>max</th>\n",
       "      <td>100.00000</td>\n",
       "      <td>100.000000</td>\n",
       "      <td>100.000000</td>\n",
       "    </tr>\n",
       "  </tbody>\n",
       "</table>\n",
       "</div>"
      ],
      "text/plain": [
       "       math score  reading score  writing score\n",
       "count  1000.00000    1000.000000    1000.000000\n",
       "mean     66.08900      69.169000      68.054000\n",
       "std      15.16308      14.600192      15.195657\n",
       "min       0.00000      17.000000      10.000000\n",
       "25%      57.00000      59.000000      57.750000\n",
       "50%      66.00000      70.000000      69.000000\n",
       "75%      77.00000      79.000000      79.000000\n",
       "max     100.00000     100.000000     100.000000"
      ]
     },
     "execution_count": 7,
     "metadata": {},
     "output_type": "execute_result"
    }
   ],
   "source": [
    "df.describe()"
   ]
  },
  {
   "attachments": {},
   "cell_type": "markdown",
   "metadata": {},
   "source": [
    "#### Data Pre-processing\n",
    "\n",
    "the data is almost clean but some attributes will be modified"
   ]
  },
  {
   "cell_type": "code",
   "execution_count": 8,
   "metadata": {},
   "outputs": [],
   "source": [
    "df['parental level of education'].replace({\"some college\": \"diploma\",'some high school':'high school'},inplace=True)"
   ]
  },
  {
   "attachments": {},
   "cell_type": "markdown",
   "metadata": {},
   "source": [
    "change none to not completed"
   ]
  },
  {
   "cell_type": "code",
   "execution_count": 9,
   "metadata": {},
   "outputs": [],
   "source": [
    "df['test preparation course'].replace({\"none\": \"not completed\"},inplace=True)"
   ]
  },
  {
   "attachments": {},
   "cell_type": "markdown",
   "metadata": {},
   "source": [
    "new feature that calculate the average score of the math, reading, writing scores"
   ]
  },
  {
   "cell_type": "code",
   "execution_count": 10,
   "metadata": {},
   "outputs": [],
   "source": [
    "df['overall score'] = (df['math score'] + df['reading score'] + df['writing score'])/3"
   ]
  },
  {
   "cell_type": "code",
   "execution_count": 11,
   "metadata": {},
   "outputs": [
    {
     "data": {
      "text/html": [
       "<div>\n",
       "<style scoped>\n",
       "    .dataframe tbody tr th:only-of-type {\n",
       "        vertical-align: middle;\n",
       "    }\n",
       "\n",
       "    .dataframe tbody tr th {\n",
       "        vertical-align: top;\n",
       "    }\n",
       "\n",
       "    .dataframe thead th {\n",
       "        text-align: right;\n",
       "    }\n",
       "</style>\n",
       "<table border=\"1\" class=\"dataframe\">\n",
       "  <thead>\n",
       "    <tr style=\"text-align: right;\">\n",
       "      <th></th>\n",
       "      <th>gender</th>\n",
       "      <th>race/ethnicity</th>\n",
       "      <th>parental level of education</th>\n",
       "      <th>lunch</th>\n",
       "      <th>test preparation course</th>\n",
       "      <th>math score</th>\n",
       "      <th>reading score</th>\n",
       "      <th>writing score</th>\n",
       "      <th>overall score</th>\n",
       "    </tr>\n",
       "  </thead>\n",
       "  <tbody>\n",
       "    <tr>\n",
       "      <th>358</th>\n",
       "      <td>male</td>\n",
       "      <td>group D</td>\n",
       "      <td>diploma</td>\n",
       "      <td>free/reduced</td>\n",
       "      <td>not completed</td>\n",
       "      <td>59</td>\n",
       "      <td>62</td>\n",
       "      <td>61</td>\n",
       "      <td>60.666667</td>\n",
       "    </tr>\n",
       "    <tr>\n",
       "      <th>179</th>\n",
       "      <td>female</td>\n",
       "      <td>group D</td>\n",
       "      <td>high school</td>\n",
       "      <td>standard</td>\n",
       "      <td>completed</td>\n",
       "      <td>97</td>\n",
       "      <td>100</td>\n",
       "      <td>100</td>\n",
       "      <td>99.000000</td>\n",
       "    </tr>\n",
       "    <tr>\n",
       "      <th>451</th>\n",
       "      <td>female</td>\n",
       "      <td>group E</td>\n",
       "      <td>diploma</td>\n",
       "      <td>standard</td>\n",
       "      <td>not completed</td>\n",
       "      <td>100</td>\n",
       "      <td>92</td>\n",
       "      <td>97</td>\n",
       "      <td>96.333333</td>\n",
       "    </tr>\n",
       "    <tr>\n",
       "      <th>958</th>\n",
       "      <td>female</td>\n",
       "      <td>group D</td>\n",
       "      <td>high school</td>\n",
       "      <td>standard</td>\n",
       "      <td>not completed</td>\n",
       "      <td>45</td>\n",
       "      <td>63</td>\n",
       "      <td>59</td>\n",
       "      <td>55.666667</td>\n",
       "    </tr>\n",
       "    <tr>\n",
       "      <th>891</th>\n",
       "      <td>female</td>\n",
       "      <td>group E</td>\n",
       "      <td>associate's degree</td>\n",
       "      <td>standard</td>\n",
       "      <td>not completed</td>\n",
       "      <td>85</td>\n",
       "      <td>92</td>\n",
       "      <td>85</td>\n",
       "      <td>87.333333</td>\n",
       "    </tr>\n",
       "    <tr>\n",
       "      <th>793</th>\n",
       "      <td>male</td>\n",
       "      <td>group E</td>\n",
       "      <td>high school</td>\n",
       "      <td>standard</td>\n",
       "      <td>completed</td>\n",
       "      <td>89</td>\n",
       "      <td>84</td>\n",
       "      <td>77</td>\n",
       "      <td>83.333333</td>\n",
       "    </tr>\n",
       "    <tr>\n",
       "      <th>273</th>\n",
       "      <td>female</td>\n",
       "      <td>group D</td>\n",
       "      <td>diploma</td>\n",
       "      <td>standard</td>\n",
       "      <td>not completed</td>\n",
       "      <td>65</td>\n",
       "      <td>70</td>\n",
       "      <td>71</td>\n",
       "      <td>68.666667</td>\n",
       "    </tr>\n",
       "    <tr>\n",
       "      <th>929</th>\n",
       "      <td>female</td>\n",
       "      <td>group C</td>\n",
       "      <td>high school</td>\n",
       "      <td>free/reduced</td>\n",
       "      <td>not completed</td>\n",
       "      <td>48</td>\n",
       "      <td>56</td>\n",
       "      <td>51</td>\n",
       "      <td>51.666667</td>\n",
       "    </tr>\n",
       "    <tr>\n",
       "      <th>758</th>\n",
       "      <td>female</td>\n",
       "      <td>group D</td>\n",
       "      <td>diploma</td>\n",
       "      <td>free/reduced</td>\n",
       "      <td>completed</td>\n",
       "      <td>52</td>\n",
       "      <td>59</td>\n",
       "      <td>65</td>\n",
       "      <td>58.666667</td>\n",
       "    </tr>\n",
       "    <tr>\n",
       "      <th>3</th>\n",
       "      <td>male</td>\n",
       "      <td>group A</td>\n",
       "      <td>associate's degree</td>\n",
       "      <td>free/reduced</td>\n",
       "      <td>not completed</td>\n",
       "      <td>47</td>\n",
       "      <td>57</td>\n",
       "      <td>44</td>\n",
       "      <td>49.333333</td>\n",
       "    </tr>\n",
       "  </tbody>\n",
       "</table>\n",
       "</div>"
      ],
      "text/plain": [
       "     gender race/ethnicity parental level of education         lunch  \\\n",
       "358    male        group D                     diploma  free/reduced   \n",
       "179  female        group D                 high school      standard   \n",
       "451  female        group E                     diploma      standard   \n",
       "958  female        group D                 high school      standard   \n",
       "891  female        group E          associate's degree      standard   \n",
       "793    male        group E                 high school      standard   \n",
       "273  female        group D                     diploma      standard   \n",
       "929  female        group C                 high school  free/reduced   \n",
       "758  female        group D                     diploma  free/reduced   \n",
       "3      male        group A          associate's degree  free/reduced   \n",
       "\n",
       "    test preparation course  math score  reading score  writing score  \\\n",
       "358           not completed          59             62             61   \n",
       "179               completed          97            100            100   \n",
       "451           not completed         100             92             97   \n",
       "958           not completed          45             63             59   \n",
       "891           not completed          85             92             85   \n",
       "793               completed          89             84             77   \n",
       "273           not completed          65             70             71   \n",
       "929           not completed          48             56             51   \n",
       "758               completed          52             59             65   \n",
       "3             not completed          47             57             44   \n",
       "\n",
       "     overall score  \n",
       "358      60.666667  \n",
       "179      99.000000  \n",
       "451      96.333333  \n",
       "958      55.666667  \n",
       "891      87.333333  \n",
       "793      83.333333  \n",
       "273      68.666667  \n",
       "929      51.666667  \n",
       "758      58.666667  \n",
       "3        49.333333  "
      ]
     },
     "execution_count": 11,
     "metadata": {},
     "output_type": "execute_result"
    }
   ],
   "source": [
    "df.sample(10)"
   ]
  },
  {
   "attachments": {},
   "cell_type": "markdown",
   "metadata": {},
   "source": [
    "create new columns to show the grade of students in all subjects"
   ]
  },
  {
   "cell_type": "code",
   "execution_count": 12,
   "metadata": {},
   "outputs": [],
   "source": [
    "def create_grades(subject):\n",
    "    df.loc[df[subject+' score'] >= 90, subject+' grade'] = 'A'\n",
    "    df.loc[(90 > df[subject+' score']) & (df[subject+' score'] >= 80), subject+' grade'] = 'B'\n",
    "    df.loc[(80 > df[subject+' score']) & (df[subject+' score'] >= 70), subject+' grade'] = 'C'\n",
    "    df.loc[(70 > df[subject+' score']) & (df[subject+' score'] >= 60), subject+' grade'] = 'D'\n",
    "    df.loc[60 > df[subject+' score'], subject+' grade'] = 'F'"
   ]
  },
  {
   "cell_type": "code",
   "execution_count": 13,
   "metadata": {},
   "outputs": [],
   "source": [
    "create_grades('math')\n",
    "create_grades('reading')\n",
    "create_grades('writing')"
   ]
  },
  {
   "cell_type": "code",
   "execution_count": 14,
   "metadata": {},
   "outputs": [
    {
     "data": {
      "text/html": [
       "<div>\n",
       "<style scoped>\n",
       "    .dataframe tbody tr th:only-of-type {\n",
       "        vertical-align: middle;\n",
       "    }\n",
       "\n",
       "    .dataframe tbody tr th {\n",
       "        vertical-align: top;\n",
       "    }\n",
       "\n",
       "    .dataframe thead th {\n",
       "        text-align: right;\n",
       "    }\n",
       "</style>\n",
       "<table border=\"1\" class=\"dataframe\">\n",
       "  <thead>\n",
       "    <tr style=\"text-align: right;\">\n",
       "      <th></th>\n",
       "      <th>gender</th>\n",
       "      <th>race/ethnicity</th>\n",
       "      <th>parental level of education</th>\n",
       "      <th>lunch</th>\n",
       "      <th>test preparation course</th>\n",
       "      <th>math score</th>\n",
       "      <th>reading score</th>\n",
       "      <th>writing score</th>\n",
       "      <th>overall score</th>\n",
       "      <th>math grade</th>\n",
       "      <th>reading grade</th>\n",
       "      <th>writing grade</th>\n",
       "    </tr>\n",
       "  </thead>\n",
       "  <tbody>\n",
       "    <tr>\n",
       "      <th>0</th>\n",
       "      <td>female</td>\n",
       "      <td>group B</td>\n",
       "      <td>bachelor's degree</td>\n",
       "      <td>standard</td>\n",
       "      <td>not completed</td>\n",
       "      <td>72</td>\n",
       "      <td>72</td>\n",
       "      <td>74</td>\n",
       "      <td>72.666667</td>\n",
       "      <td>C</td>\n",
       "      <td>C</td>\n",
       "      <td>C</td>\n",
       "    </tr>\n",
       "    <tr>\n",
       "      <th>1</th>\n",
       "      <td>female</td>\n",
       "      <td>group C</td>\n",
       "      <td>diploma</td>\n",
       "      <td>standard</td>\n",
       "      <td>completed</td>\n",
       "      <td>69</td>\n",
       "      <td>90</td>\n",
       "      <td>88</td>\n",
       "      <td>82.333333</td>\n",
       "      <td>D</td>\n",
       "      <td>A</td>\n",
       "      <td>B</td>\n",
       "    </tr>\n",
       "    <tr>\n",
       "      <th>2</th>\n",
       "      <td>female</td>\n",
       "      <td>group B</td>\n",
       "      <td>master's degree</td>\n",
       "      <td>standard</td>\n",
       "      <td>not completed</td>\n",
       "      <td>90</td>\n",
       "      <td>95</td>\n",
       "      <td>93</td>\n",
       "      <td>92.666667</td>\n",
       "      <td>A</td>\n",
       "      <td>A</td>\n",
       "      <td>A</td>\n",
       "    </tr>\n",
       "    <tr>\n",
       "      <th>3</th>\n",
       "      <td>male</td>\n",
       "      <td>group A</td>\n",
       "      <td>associate's degree</td>\n",
       "      <td>free/reduced</td>\n",
       "      <td>not completed</td>\n",
       "      <td>47</td>\n",
       "      <td>57</td>\n",
       "      <td>44</td>\n",
       "      <td>49.333333</td>\n",
       "      <td>F</td>\n",
       "      <td>F</td>\n",
       "      <td>F</td>\n",
       "    </tr>\n",
       "    <tr>\n",
       "      <th>4</th>\n",
       "      <td>male</td>\n",
       "      <td>group C</td>\n",
       "      <td>diploma</td>\n",
       "      <td>standard</td>\n",
       "      <td>not completed</td>\n",
       "      <td>76</td>\n",
       "      <td>78</td>\n",
       "      <td>75</td>\n",
       "      <td>76.333333</td>\n",
       "      <td>C</td>\n",
       "      <td>C</td>\n",
       "      <td>C</td>\n",
       "    </tr>\n",
       "  </tbody>\n",
       "</table>\n",
       "</div>"
      ],
      "text/plain": [
       "   gender race/ethnicity parental level of education         lunch  \\\n",
       "0  female        group B           bachelor's degree      standard   \n",
       "1  female        group C                     diploma      standard   \n",
       "2  female        group B             master's degree      standard   \n",
       "3    male        group A          associate's degree  free/reduced   \n",
       "4    male        group C                     diploma      standard   \n",
       "\n",
       "  test preparation course  math score  reading score  writing score  \\\n",
       "0           not completed          72             72             74   \n",
       "1               completed          69             90             88   \n",
       "2           not completed          90             95             93   \n",
       "3           not completed          47             57             44   \n",
       "4           not completed          76             78             75   \n",
       "\n",
       "   overall score math grade reading grade writing grade  \n",
       "0      72.666667          C             C             C  \n",
       "1      82.333333          D             A             B  \n",
       "2      92.666667          A             A             A  \n",
       "3      49.333333          F             F             F  \n",
       "4      76.333333          C             C             C  "
      ]
     },
     "execution_count": 14,
     "metadata": {},
     "output_type": "execute_result"
    }
   ],
   "source": [
    "df.head()"
   ]
  },
  {
   "attachments": {},
   "cell_type": "markdown",
   "metadata": {},
   "source": [
    "## EDA : exploratory data analysis\n",
    "\n",
    "the figure below demonstrate each variables and their values"
   ]
  },
  {
   "cell_type": "code",
   "execution_count": 15,
   "metadata": {},
   "outputs": [
    {
     "data": {
      "image/png": "[encoded data removed]",
      "text/plain": [
       "<Figure size 2000x1400 with 4 Axes>"
      ]
     },
     "metadata": {},
     "output_type": "display_data"
    }
   ],
   "source": [
    "df.hist(figsize=(20,14))\n",
    "plt.show()"
   ]
  },
  {
   "attachments": {},
   "cell_type": "markdown",
   "metadata": {},
   "source": [
    "the diagram below shows the attirbutes' values and their percentage:"
   ]
  },
  {
   "cell_type": "code",
   "execution_count": 16,
   "metadata": {},
   "outputs": [
    {
     "data": {
      "application/vnd.plotly.v1+json": {
       "config": {
        "plotlyServerURL": "https://plot.ly"
       },
       "data": [
        {
         "domain": {
          "x": [
           0,
           0.45
          ],
          "y": [
           0.7777777777777778,
           1
          ]
         },
         "hoverinfo": "label+percent",
         "labels": [
          "female",
          "male"
         ],
         "marker": {
          "colors": [
           "gold",
           "mediumturquoise",
           "darkorange",
           "lightgreen",
           "goldenrod"
          ],
          "line": {
           "color": "#000000",
           "width": 2
          }
         },
         "type": "pie",
         "values": [
          518,
          482
         ]
        },
        {
         "domain": {
          "x": [
           0.55,
           1
          ],
          "y": [
           0.7777777777777778,
           1
          ]
         },
         "hoverinfo": "label+percent",
         "labels": [
          "group C",
          "group D",
          "group B",
          "group E",
          "group A"
         ],
         "marker": {
          "colors": [
           "gold",
           "mediumturquoise",
           "darkorange",
           "lightgreen",
           "goldenrod"
          ],
          "line": {
           "color": "#000000",
           "width": 2
          }
         },
         "type": "pie",
         "values": [
          319,
          262,
          190,
          140,
          89
         ]
        },
        {
         "domain": {
          "x": [
           0,
           0.45
          ],
          "y": [
           0.3888888888888889,
           0.6111111111111112
          ]
         },
         "hoverinfo": "label+percent",
         "labels": [
          "high school",
          "diploma",
          "associate's degree",
          "bachelor's degree",
          "master's degree"
         ],
         "marker": {
          "colors": [
           "gold",
           "mediumturquoise",
           "darkorange",
           "lightgreen",
           "goldenrod"
          ],
          "line": {
           "color": "#000000",
           "width": 2
          }
         },
         "type": "pie",
         "values": [
          375,
          226,
          222,
          118,
          59
         ]
        },
        {
         "domain": {
          "x": [
           0.55,
           1
          ],
          "y": [
           0.3888888888888889,
           0.6111111111111112
          ]
         },
         "hoverinfo": "label+percent",
         "labels": [
          "standard",
          "free/reduced"
         ],
         "marker": {
          "colors": [
           "gold",
           "mediumturquoise",
           "darkorange",
           "lightgreen",
           "goldenrod"
          ],
          "line": {
           "color": "#000000",
           "width": 2
          }
         },
         "type": "pie",
         "values": [
          645,
          355
         ]
        },
        {
         "domain": {
          "x": [
           0,
           1
          ],
          "y": [
           0,
           0.22222222222222224
          ]
         },
         "hoverinfo": "label+percent",
         "labels": [
          "not completed",
          "completed"
         ],
         "marker": {
          "colors": [
           "gold",
           "mediumturquoise",
           "darkorange",
           "lightgreen",
           "goldenrod"
          ],
          "line": {
           "color": "#000000",
           "width": 2
          }
         },
         "type": "pie",
         "values": [
          642,
          358
         ]
        }
       ],
       "layout": {
        "annotations": [
         {
          "font": {
           "size": 16
          },
          "showarrow": false,
          "text": "Gender",
          "x": 0.225,
          "xanchor": "center",
          "xref": "paper",
          "y": 1,
          "yanchor": "bottom",
          "yref": "paper"
         },
         {
          "font": {
           "size": 16
          },
          "showarrow": false,
          "text": "Race/Ethnicity",
          "x": 0.775,
          "xanchor": "center",
          "xref": "paper",
          "y": 1,
          "yanchor": "bottom",
          "yref": "paper"
         },
         {
          "font": {
           "size": 16
          },
          "showarrow": false,
          "text": "parental level of education",
          "x": 0.225,
          "xanchor": "center",
          "xref": "paper",
          "y": 0.6111111111111112,
          "yanchor": "bottom",
          "yref": "paper"
         },
         {
          "font": {
           "size": 16
          },
          "showarrow": false,
          "text": "lunch",
          "x": 0.775,
          "xanchor": "center",
          "xref": "paper",
          "y": 0.6111111111111112,
          "yanchor": "bottom",
          "yref": "paper"
         },
         {
          "font": {
           "size": 16
          },
          "showarrow": false,
          "text": "test preparation course",
          "x": 0.5,
          "xanchor": "center",
          "xref": "paper",
          "y": 0.22222222222222224,
          "yanchor": "bottom",
          "yref": "paper"
         }
        ],
        "height": 800,
        "showlegend": false,
        "template": {
         "data": {
          "bar": [
           {
            "error_x": {
             "color": "#2a3f5f"
            },
            "error_y": {
             "color": "#2a3f5f"
            },
            "marker": {
             "line": {
              "color": "#E5ECF6",
              "width": 0.5
             },
             "pattern": {
              "fillmode": "overlay",
              "size": 10,
              "solidity": 0.2
             }
            },
            "type": "bar"
           }
          ],
          "barpolar": [
           {
            "marker": {
             "line": {
              "color": "#E5ECF6",
              "width": 0.5
             },
             "pattern": {
              "fillmode": "overlay",
              "size": 10,
              "solidity": 0.2
             }
            },
            "type": "barpolar"
           }
          ],
          "carpet": [
           {
            "aaxis": {
             "endlinecolor": "#2a3f5f",
             "gridcolor": "white",
             "linecolor": "white",
             "minorgridcolor": "white",
             "startlinecolor": "#2a3f5f"
            },
            "baxis": {
             "endlinecolor": "#2a3f5f",
             "gridcolor": "white",
             "linecolor": "white",
             "minorgridcolor": "white",
             "startlinecolor": "#2a3f5f"
            },
            "type": "carpet"
           }
          ],
          "choropleth": [
           {
            "colorbar": {
             "outlinewidth": 0,
             "ticks": ""
            },
            "type": "choropleth"
           }
          ],
          "contour": [
           {
            "colorbar": {
             "outlinewidth": 0,
             "ticks": ""
            },
            "colorscale": [
             [
              0,
              "#0d0887"
             ],
             [
              0.1111111111111111,
              "#46039f"
             ],
             [
              0.2222222222222222,
              "#7201a8"
             ],
             [
              0.3333333333333333,
              "#9c179e"
             ],
             [
              0.4444444444444444,
              "#bd3786"
             ],
             [
              0.5555555555555556,
              "#d8576b"
             ],
             [
              0.6666666666666666,
              "#ed7953"
             ],
             [
              0.7777777777777778,
              "#fb9f3a"
             ],
             [
              0.8888888888888888,
              "#fdca26"
             ],
             [
              1,
              "#f0f921"
             ]
            ],
            "type": "contour"
           }
          ],
          "contourcarpet": [
           {
            "colorbar": {
             "outlinewidth": 0,
             "ticks": ""
            },
            "type": "contourcarpet"
           }
          ],
          "heatmap": [
           {
            "colorbar": {
             "outlinewidth": 0,
             "ticks": ""
            },
            "colorscale": [
             [
              0,
              "#0d0887"
             ],
             [
              0.1111111111111111,
              "#46039f"
             ],
             [
              0.2222222222222222,
              "#7201a8"
             ],
             [
              0.3333333333333333,
              "#9c179e"
             ],
             [
              0.4444444444444444,
              "#bd3786"
             ],
             [
              0.5555555555555556,
              "#d8576b"
             ],
             [
              0.6666666666666666,
              "#ed7953"
             ],
             [
              0.7777777777777778,
              "#fb9f3a"
             ],
             [
              0.8888888888888888,
              "#fdca26"
             ],
             [
              1,
              "#f0f921"
             ]
            ],
            "type": "heatmap"
           }
          ],
          "heatmapgl": [
           {
            "colorbar": {
             "outlinewidth": 0,
             "ticks": ""
            },
            "colorscale": [
             [
              0,
              "#0d0887"
             ],
             [
              0.1111111111111111,
              "#46039f"
             ],
             [
              0.2222222222222222,
              "#7201a8"
             ],
             [
              0.3333333333333333,
              "#9c179e"
             ],
             [
              0.4444444444444444,
              "#bd3786"
             ],
             [
              0.5555555555555556,
              "#d8576b"
             ],
             [
              0.6666666666666666,
              "#ed7953"
             ],
             [
              0.7777777777777778,
              "#fb9f3a"
             ],
             [
              0.8888888888888888,
              "#fdca26"
             ],
             [
              1,
              "#f0f921"
             ]
            ],
            "type": "heatmapgl"
           }
          ],
          "histogram": [
           {
            "marker": {
             "pattern": {
              "fillmode": "overlay",
              "size": 10,
              "solidity": 0.2
             }
            },
            "type": "histogram"
           }
          ],
          "histogram2d": [
           {
            "colorbar": {
             "outlinewidth": 0,
             "ticks": ""
            },
            "colorscale": [
             [
              0,
              "#0d0887"
             ],
             [
              0.1111111111111111,
              "#46039f"
             ],
             [
              0.2222222222222222,
              "#7201a8"
             ],
             [
              0.3333333333333333,
              "#9c179e"
             ],
             [
              0.4444444444444444,
              "#bd3786"
             ],
             [
              0.5555555555555556,
              "#d8576b"
             ],
             [
              0.6666666666666666,
              "#ed7953"
             ],
             [
              0.7777777777777778,
              "#fb9f3a"
             ],
             [
              0.8888888888888888,
              "#fdca26"
             ],
             [
              1,
              "#f0f921"
             ]
            ],
            "type": "histogram2d"
           }
          ],
          "histogram2dcontour": [
           {
            "colorbar": {
             "outlinewidth": 0,
             "ticks": ""
            },
            "colorscale": [
             [
              0,
              "#0d0887"
             ],
             [
              0.1111111111111111,
              "#46039f"
             ],
             [
              0.2222222222222222,
              "#7201a8"
             ],
             [
              0.3333333333333333,
              "#9c179e"
             ],
             [
              0.4444444444444444,
              "#bd3786"
             ],
             [
              0.5555555555555556,
              "#d8576b"
             ],
             [
              0.6666666666666666,
              "#ed7953"
             ],
             [
              0.7777777777777778,
              "#fb9f3a"
             ],
             [
              0.8888888888888888,
              "#fdca26"
             ],
             [
              1,
              "#f0f921"
             ]
            ],
            "type": "histogram2dcontour"
           }
          ],
          "mesh3d": [
           {
            "colorbar": {
             "outlinewidth": 0,
             "ticks": ""
            },
            "type": "mesh3d"
           }
          ],
          "parcoords": [
           {
            "line": {
             "colorbar": {
              "outlinewidth": 0,
              "ticks": ""
             }
            },
            "type": "parcoords"
           }
          ],
          "pie": [
           {
            "automargin": true,
            "type": "pie"
           }
          ],
          "scatter": [
           {
            "fillpattern": {
             "fillmode": "overlay",
             "size": 10,
             "solidity": 0.2
            },
            "type": "scatter"
           }
          ],
          "scatter3d": [
           {
            "line": {
             "colorbar": {
              "outlinewidth": 0,
              "ticks": ""
             }
            },
            "marker": {
             "colorbar": {
              "outlinewidth": 0,
              "ticks": ""
             }
            },
            "type": "scatter3d"
           }
          ],
          "scattercarpet": [
           {
            "marker": {
             "colorbar": {
              "outlinewidth": 0,
              "ticks": ""
             }
            },
            "type": "scattercarpet"
           }
          ],
          "scattergeo": [
           {
            "marker": {
             "colorbar": {
              "outlinewidth": 0,
              "ticks": ""
             }
            },
            "type": "scattergeo"
           }
          ],
          "scattergl": [
           {
            "marker": {
             "colorbar": {
              "outlinewidth": 0,
              "ticks": ""
             }
            },
            "type": "scattergl"
           }
          ],
          "scattermapbox": [
           {
            "marker": {
             "colorbar": {
              "outlinewidth": 0,
              "ticks": ""
             }
            },
            "type": "scattermapbox"
           }
          ],
          "scatterpolar": [
           {
            "marker": {
             "colorbar": {
              "outlinewidth": 0,
              "ticks": ""
             }
            },
            "type": "scatterpolar"
           }
          ],
          "scatterpolargl": [
           {
            "marker": {
             "colorbar": {
              "outlinewidth": 0,
              "ticks": ""
             }
            },
            "type": "scatterpolargl"
           }
          ],
          "scatterternary": [
           {
            "marker": {
             "colorbar": {
              "outlinewidth": 0,
              "ticks": ""
             }
            },
            "type": "scatterternary"
           }
          ],
          "surface": [
           {
            "colorbar": {
             "outlinewidth": 0,
             "ticks": ""
            },
            "colorscale": [
             [
              0,
              "#0d0887"
             ],
             [
              0.1111111111111111,
              "#46039f"
             ],
             [
              0.2222222222222222,
              "#7201a8"
             ],
             [
              0.3333333333333333,
              "#9c179e"
             ],
             [
              0.4444444444444444,
              "#bd3786"
             ],
             [
              0.5555555555555556,
              "#d8576b"
             ],
             [
              0.6666666666666666,
              "#ed7953"
             ],
             [
              0.7777777777777778,
              "#fb9f3a"
             ],
             [
              0.8888888888888888,
              "#fdca26"
             ],
             [
              1,
              "#f0f921"
             ]
            ],
            "type": "surface"
           }
          ],
          "table": [
           {
            "cells": {
             "fill": {
              "color": "#EBF0F8"
             },
             "line": {
              "color": "white"
             }
            },
            "header": {
             "fill": {
              "color": "#C8D4E3"
             },
             "line": {
              "color": "white"
             }
            },
            "type": "table"
           }
          ]
         },
         "layout": {
          "annotationdefaults": {
           "arrowcolor": "#2a3f5f",
           "arrowhead": 0,
           "arrowwidth": 1
          },
          "autotypenumbers": "strict",
          "coloraxis": {
           "colorbar": {
            "outlinewidth": 0,
            "ticks": ""
           }
          },
          "colorscale": {
           "diverging": [
            [
             0,
             "#8e0152"
            ],
            [
             0.1,
             "#c51b7d"
            ],
            [
             0.2,
             "#de77ae"
            ],
            [
             0.3,
             "#f1b6da"
            ],
            [
             0.4,
             "#fde0ef"
            ],
            [
             0.5,
             "#f7f7f7"
            ],
            [
             0.6,
             "#e6f5d0"
            ],
            [
             0.7,
             "#b8e186"
            ],
            [
             0.8,
             "#7fbc41"
            ],
            [
             0.9,
             "#4d9221"
            ],
            [
             1,
             "#276419"
            ]
           ],
           "sequential": [
            [
             0,
             "#0d0887"
            ],
            [
             0.1111111111111111,
             "#46039f"
            ],
            [
             0.2222222222222222,
             "#7201a8"
            ],
            [
             0.3333333333333333,
             "#9c179e"
            ],
            [
             0.4444444444444444,
             "#bd3786"
            ],
            [
             0.5555555555555556,
             "#d8576b"
            ],
            [
             0.6666666666666666,
             "#ed7953"
            ],
            [
             0.7777777777777778,
             "#fb9f3a"
            ],
            [
             0.8888888888888888,
             "#fdca26"
            ],
            [
             1,
             "#f0f921"
            ]
           ],
           "sequentialminus": [
            [
             0,
             "#0d0887"
            ],
            [
             0.1111111111111111,
             "#46039f"
            ],
            [
             0.2222222222222222,
             "#7201a8"
            ],
            [
             0.3333333333333333,
             "#9c179e"
            ],
            [
             0.4444444444444444,
             "#bd3786"
            ],
            [
             0.5555555555555556,
             "#d8576b"
            ],
            [
             0.6666666666666666,
             "#ed7953"
            ],
            [
             0.7777777777777778,
             "#fb9f3a"
            ],
            [
             0.8888888888888888,
             "#fdca26"
            ],
            [
             1,
             "#f0f921"
            ]
           ]
          },
          "colorway": [
           "#636efa",
           "#EF553B",
           "#00cc96",
           "#ab63fa",
           "#FFA15A",
           "#19d3f3",
           "#FF6692",
           "#B6E880",
           "#FF97FF",
           "#FECB52"
          ],
          "font": {
           "color": "#2a3f5f"
          },
          "geo": {
           "bgcolor": "white",
           "lakecolor": "white",
           "landcolor": "#E5ECF6",
           "showlakes": true,
           "showland": true,
           "subunitcolor": "white"
          },
          "hoverlabel": {
           "align": "left"
          },
          "hovermode": "closest",
          "mapbox": {
           "style": "light"
          },
          "paper_bgcolor": "white",
          "plot_bgcolor": "#E5ECF6",
          "polar": {
           "angularaxis": {
            "gridcolor": "white",
            "linecolor": "white",
            "ticks": ""
           },
           "bgcolor": "#E5ECF6",
           "radialaxis": {
            "gridcolor": "white",
            "linecolor": "white",
            "ticks": ""
           }
          },
          "scene": {
           "xaxis": {
            "backgroundcolor": "#E5ECF6",
            "gridcolor": "white",
            "gridwidth": 2,
            "linecolor": "white",
            "showbackground": true,
            "ticks": "",
            "zerolinecolor": "white"
           },
           "yaxis": {
            "backgroundcolor": "#E5ECF6",
            "gridcolor": "white",
            "gridwidth": 2,
            "linecolor": "white",
            "showbackground": true,
            "ticks": "",
            "zerolinecolor": "white"
           },
           "zaxis": {
            "backgroundcolor": "#E5ECF6",
            "gridcolor": "white",
            "gridwidth": 2,
            "linecolor": "white",
            "showbackground": true,
            "ticks": "",
            "zerolinecolor": "white"
           }
          },
          "shapedefaults": {
           "line": {
            "color": "#2a3f5f"
           }
          },
          "ternary": {
           "aaxis": {
            "gridcolor": "white",
            "linecolor": "white",
            "ticks": ""
           },
           "baxis": {
            "gridcolor": "white",
            "linecolor": "white",
            "ticks": ""
           },
           "bgcolor": "#E5ECF6",
           "caxis": {
            "gridcolor": "white",
            "linecolor": "white",
            "ticks": ""
           }
          },
          "title": {
           "x": 0.05
          },
          "xaxis": {
           "automargin": true,
           "gridcolor": "white",
           "linecolor": "white",
           "ticks": "",
           "title": {
            "standoff": 15
           },
           "zerolinecolor": "white",
           "zerolinewidth": 2
          },
          "yaxis": {
           "automargin": true,
           "gridcolor": "white",
           "linecolor": "white",
           "ticks": "",
           "title": {
            "standoff": 15
           },
           "zerolinecolor": "white",
           "zerolinewidth": 2
          }
         }
        },
        "title": {
         "text": "features overview"
        },
        "width": 700
       }
      }
     },
     "metadata": {},
     "output_type": "display_data"
    }
   ],
   "source": [
    "fig = make_subplots(rows=3, cols=2,\n",
    "specs=[[{\"type\": \"pie\"}, {\"type\": \"pie\"}],\n",
    "           [{\"type\": \"pie\"}, {\"type\": \"pie\"}],\n",
    "           [{\"type\": \"pie\",\"colspan\": 2}, None]],\n",
    "\n",
    "    subplot_titles=(\"Gender\", \"Race/Ethnicity\", \"parental level of education\", \"lunch\",\"test preparation course\"))\n",
    "colors = ['gold', 'mediumturquoise', 'darkorange', 'lightgreen','goldenrod']\n",
    "\n",
    "\n",
    "\n",
    "fig.add_trace(go.Pie(labels=['female','male'], values=df['gender'].value_counts()),\n",
    "              row=1, col=1)\n",
    "\n",
    "fig.add_trace(go.Pie(labels=['group C','group D','group B','group E','group A'], values=df['race/ethnicity'].value_counts()),\n",
    "              row=1, col=2)\n",
    "\n",
    "fig.add_trace(go.Pie(labels=['high school','diploma', \n",
    "       \"associate's degree\", \"bachelor's degree\", \"master's degree\", ], values=df['parental level of education'].value_counts()),\n",
    "              row=2, col=1)\n",
    "\n",
    "fig.add_trace(go.Pie(labels=['standard', 'free/reduced'], values=df['lunch'].value_counts()),\n",
    "              row=2, col=2)\n",
    "\n",
    "fig.add_trace(go.Pie(labels=['not completed', 'completed'], values=df['test preparation course'].value_counts()),\n",
    "              row=3, col=1)\n",
    "\n",
    "fig.update_traces(hoverinfo='label+percent', \n",
    "                  marker=dict(colors=colors, line=dict(color='#000000', width=2)))\n",
    "\n",
    "fig.update_layout(height=800, width=700,\n",
    "                  title_text=\"features overview\",\n",
    "                  showlegend=False)\n",
    "\n",
    "\n",
    "fig.show()"
   ]
  },
  {
   "attachments": {},
   "cell_type": "markdown",
   "metadata": {},
   "source": [
    "we will explore scores' relationship with every attribute"
   ]
  },
  {
   "attachments": {},
   "cell_type": "markdown",
   "metadata": {},
   "source": [
    "### scores and gender"
   ]
  },
  {
   "attachments": {},
   "cell_type": "markdown",
   "metadata": {},
   "source": [
    "we will explore the relatonship between the scores and the gender of the students"
   ]
  },
  {
   "cell_type": "code",
   "execution_count": 17,
   "metadata": {},
   "outputs": [
    {
     "data": {
      "text/plain": [
       "math score       63.633205\n",
       "reading score    72.608108\n",
       "writing score    72.467181\n",
       "overall score    69.569498\n",
       "dtype: float64"
      ]
     },
     "execution_count": 17,
     "metadata": {},
     "output_type": "execute_result"
    }
   ],
   "source": [
    "df[df['gender']=='female'].mean(numeric_only=True)"
   ]
  },
  {
   "cell_type": "code",
   "execution_count": 18,
   "metadata": {},
   "outputs": [
    {
     "data": {
      "text/plain": [
       "math score       68.728216\n",
       "reading score    65.473029\n",
       "writing score    63.311203\n",
       "overall score    65.837483\n",
       "dtype: float64"
      ]
     },
     "execution_count": 18,
     "metadata": {},
     "output_type": "execute_result"
    }
   ],
   "source": [
    "df[df['gender']=='male'].mean(numeric_only=True)"
   ]
  },
  {
   "attachments": {},
   "cell_type": "markdown",
   "metadata": {},
   "source": [
    "Females have a higher overall scores, Also in writing and reading scores\n",
    "but, male students have higher math score"
   ]
  },
  {
   "attachments": {},
   "cell_type": "markdown",
   "metadata": {},
   "source": [
    "### scores and race/ethnicity"
   ]
  },
  {
   "attachments": {},
   "cell_type": "markdown",
   "metadata": {},
   "source": [
    "races have been encoded into groups from A to E to avoid bias \n",
    "\n",
    "since this data only have few outliers, the mean and the median are very similer"
   ]
  },
  {
   "cell_type": "code",
   "execution_count": 19,
   "metadata": {},
   "outputs": [
    {
     "data": {
      "application/vnd.plotly.v1+json": {
       "config": {
        "plotlyServerURL": "https://plot.ly"
       },
       "data": [
        {
         "alignmentgroup": "True",
         "boxpoints": "all",
         "hovertemplate": "race/ethnicity=group B<br>overall score=%{y}<extra></extra>",
         "legendgroup": "group B",
         "marker": {
          "color": "#636efa"
         },
         "name": "group B",
         "notched": false,
         "offsetgroup": "group B",
         "orientation": "v",
         "showlegend": true,
         "type": "box",
         "x0": " ",
         "xaxis": "x",
         "y": [
          72.66666666666667,
          92.66666666666667,
          77.33333333333333,
          91.66666666666667,
          40.666666666666664,
          49.333333333333336,
          73,
          26,
          70,
          59.333333333333336,
          63,
          56.666666666666664,
          58.666666666666664,
          63.333333333333336,
          58.666666666666664,
          64,
          58.333333333333336,
          41,
          48.666666666666664,
          46.333333333333336,
          85.66666666666667,
          64.33333333333333,
          71,
          50.333333333333336,
          66,
          68.66666666666667,
          80.66666666666667,
          90.66666666666667,
          89.33333333333333,
          69,
          48.666666666666664,
          82.33333333333333,
          65,
          60,
          78,
          78,
          51.333333333333336,
          70.66666666666667,
          76.33333333333333,
          52.666666666666664,
          61.333333333333336,
          48.333333333333336,
          64,
          51,
          77.66666666666667,
          64.66666666666667,
          77,
          61.666666666666664,
          80.66666666666667,
          71,
          57.666666666666664,
          81.66666666666667,
          63.666666666666664,
          78.66666666666667,
          52.333333333333336,
          65.33333333333333,
          63.666666666666664,
          66.66666666666667,
          74.33333333333333,
          83,
          62,
          43,
          81.66666666666667,
          79.33333333333333,
          79.66666666666667,
          63,
          73.33333333333333,
          63.666666666666664,
          76.33333333333333,
          61,
          67.66666666666667,
          49,
          83,
          65,
          29.666666666666668,
          73,
          60,
          62,
          67.66666666666667,
          59.666666666666664,
          82.33333333333333,
          83,
          60,
          64.66666666666667,
          64.33333333333333,
          79.66666666666667,
          65.66666666666667,
          38,
          77.33333333333333,
          45,
          75.33333333333333,
          68.33333333333333,
          51,
          90.33333333333333,
          70.66666666666667,
          51.666666666666664,
          58,
          62,
          67.66666666666667,
          91,
          81.33333333333333,
          56,
          59,
          89.33333333333333,
          74.66666666666667,
          70,
          88.33333333333333,
          46,
          64.33333333333333,
          48.333333333333336,
          45.333333333333336,
          52.666666666666664,
          72,
          87,
          54,
          23,
          62,
          60.333333333333336,
          67.33333333333333,
          68,
          73.66666666666667,
          76,
          77.33333333333333,
          65,
          75.66666666666667,
          52.666666666666664,
          77,
          65.33333333333333,
          83,
          60,
          62.666666666666664,
          57,
          65.33333333333333,
          65.33333333333333,
          62,
          68,
          85.66666666666667,
          84,
          43.666666666666664,
          75,
          64,
          52.333333333333336,
          85.66666666666667,
          74.33333333333333,
          62.333333333333336,
          72.66666666666667,
          66,
          49.666666666666664,
          63.666666666666664,
          63.666666666666664,
          54,
          69.33333333333333,
          83.66666666666667,
          81,
          42.333333333333336,
          29.666666666666668,
          56.666666666666664,
          48.333333333333336,
          84.66666666666667,
          54.666666666666664,
          89,
          66.66666666666667,
          80,
          58.333333333333336,
          82.66666666666667,
          51,
          56,
          34.333333333333336,
          75.66666666666667,
          96.66666666666667,
          69.33333333333333,
          49,
          48,
          54.666666666666664,
          81.33333333333333,
          69.33333333333333,
          30.666666666666668,
          73.33333333333333,
          52,
          54,
          92.66666666666667,
          61.333333333333336,
          62.333333333333336,
          81.33333333333333,
          50.333333333333336,
          79.66666666666667,
          60.666666666666664,
          18.333333333333332,
          83.33333333333333,
          75
         ],
         "y0": " ",
         "yaxis": "y"
        },
        {
         "alignmentgroup": "True",
         "boxpoints": "all",
         "hovertemplate": "race/ethnicity=group C<br>overall score=%{y}<extra></extra>",
         "legendgroup": "group C",
         "marker": {
          "color": "#EF553B"
         },
         "name": "group C",
         "notched": false,
         "offsetgroup": "group C",
         "orientation": "v",
         "showlegend": true,
         "type": "box",
         "x0": " ",
         "xaxis": "x",
         "y": [
          82.33333333333333,
          76.33333333333333,
          54.666666666666664,
          74,
          87.66666666666667,
          44.666666666666664,
          57.666666666666664,
          71.66666666666667,
          70.33333333333333,
          68.33333333333333,
          56.666666666666664,
          66.33333333333333,
          71,
          82.66666666666667,
          46.333333333333336,
          80.66666666666667,
          39,
          9,
          73.33333333333333,
          68.66666666666667,
          53.333333333333336,
          58,
          46.333333333333336,
          78.33333333333333,
          82.33333333333333,
          70.33333333333333,
          32.333333333333336,
          73.66666666666667,
          46,
          80.33333333333333,
          91.33333333333333,
          65.66666666666667,
          55.333333333333336,
          78.33333333333333,
          63,
          86.66666666666667,
          91.33333333333333,
          43.333333333333336,
          80,
          53.666666666666664,
          64,
          61.666666666666664,
          31.333333333333332,
          69,
          82.33333333333333,
          51.333333333333336,
          98.66666666666667,
          51.666666666666664,
          70.66666666666667,
          66.66666666666667,
          49.333333333333336,
          86.33333333333333,
          75,
          68.33333333333333,
          58.666666666666664,
          48.666666666666664,
          65.66666666666667,
          84,
          79.33333333333333,
          64.33333333333333,
          79,
          71.66666666666667,
          47.333333333333336,
          30,
          54.666666666666664,
          55.666666666666664,
          38.333333333333336,
          60.666666666666664,
          71.66666666666667,
          92.33333333333333,
          43.666666666666664,
          83,
          81.33333333333333,
          77.33333333333333,
          60.333333333333336,
          68.33333333333333,
          77.33333333333333,
          75.66666666666667,
          73.33333333333333,
          78.66666666666667,
          48.333333333333336,
          73,
          64.33333333333333,
          49.666666666666664,
          78,
          90,
          77,
          71.33333333333333,
          60,
          45.333333333333336,
          77.33333333333333,
          77.33333333333333,
          49,
          68,
          66,
          67.33333333333333,
          77.66666666666667,
          76.66666666666667,
          77.33333333333333,
          49.666666666666664,
          43.333333333333336,
          88.66666666666667,
          61.333333333333336,
          78,
          64,
          39.666666666666664,
          90.33333333333333,
          47.666666666666664,
          57,
          65.66666666666667,
          75.66666666666667,
          88.66666666666667,
          73.66666666666667,
          53.666666666666664,
          66.66666666666667,
          59,
          56,
          59,
          60,
          62.666666666666664,
          62.666666666666664,
          94,
          77,
          67.33333333333333,
          55.666666666666664,
          72,
          89.66666666666667,
          60,
          58.333333333333336,
          68,
          67.33333333333333,
          71,
          71.33333333333333,
          89.33333333333333,
          63.666666666666664,
          85,
          68.33333333333333,
          61.666666666666664,
          63,
          67.66666666666667,
          57.333333333333336,
          68.33333333333333,
          50.333333333333336,
          59,
          75.66666666666667,
          72.66666666666667,
          82.33333333333333,
          78,
          72,
          57.333333333333336,
          58.666666666666664,
          46.666666666666664,
          55.333333333333336,
          86,
          87.33333333333333,
          80.33333333333333,
          86,
          68.66666666666667,
          79.33333333333333,
          65.66666666666667,
          71.66666666666667,
          69.66666666666667,
          66,
          85.33333333333333,
          86.33333333333333,
          51.333333333333336,
          59.333333333333336,
          78,
          88.33333333333333,
          82.66666666666667,
          87,
          54.333333333333336,
          51.333333333333336,
          59,
          44,
          68.66666666666667,
          69.33333333333333,
          51.333333333333336,
          77.33333333333333,
          56.333333333333336,
          70.66666666666667,
          79,
          67.66666666666667,
          64.33333333333333,
          73.33333333333333,
          73.33333333333333,
          34.666666666666664,
          68.66666666666667,
          64.66666666666667,
          70.33333333333333,
          92.66666666666667,
          57,
          60,
          72.33333333333333,
          56.333333333333336,
          61,
          56.333333333333336,
          97,
          69,
          29.333333333333332,
          69.66666666666667,
          83.66666666666667,
          50.666666666666664,
          61,
          91.66666666666667,
          72,
          66.66666666666667,
          68.66666666666667,
          50,
          53.666666666666664,
          50,
          82.66666666666667,
          53.333333333333336,
          69.33333333333333,
          74.66666666666667,
          67.33333333333333,
          67,
          56.666666666666664,
          69,
          69.33333333333333,
          70,
          74.33333333333333,
          77.66666666666667,
          76,
          37.666666666666664,
          51.666666666666664,
          73.66666666666667,
          56,
          82.33333333333333,
          63.666666666666664,
          59,
          89,
          74.33333333333333,
          97,
          75.33333333333333,
          68,
          46.666666666666664,
          43,
          90,
          61,
          85,
          58.666666666666664,
          82.33333333333333,
          68,
          67,
          56.333333333333336,
          77,
          84,
          55.333333333333336,
          63,
          70,
          73,
          40.666666666666664,
          57.666666666666664,
          83.66666666666667,
          64.66666666666667,
          59.333333333333336,
          54.666666666666664,
          69.33333333333333,
          76.33333333333333,
          75.66666666666667,
          78,
          61.666666666666664,
          78.33333333333333,
          85.33333333333333,
          52.666666666666664,
          62.333333333333336,
          64.66666666666667,
          70,
          83,
          66,
          72,
          57.666666666666664,
          87,
          66.33333333333333,
          68.33333333333333,
          60.333333333333336,
          75,
          77.33333333333333,
          56,
          74,
          93.66666666666667,
          54.666666666666664,
          50.333333333333336,
          72.66666666666667,
          55.333333333333336,
          70,
          57.333333333333336,
          64.33333333333333,
          72.66666666666667,
          61.666666666666664,
          75,
          71.33333333333333,
          59.666666666666664,
          58.333333333333336,
          52.333333333333336,
          71.33333333333333,
          44.666666666666664,
          51.666666666666664,
          70.33333333333333,
          73,
          91.66666666666667,
          70,
          70.33333333333333,
          57.666666666666664,
          54.666666666666664,
          66.66666666666667,
          84,
          75.66666666666667,
          72,
          62,
          73,
          74.33333333333333,
          61.666666666666664,
          93.33333333333333,
          77,
          50,
          57.333333333333336,
          65
         ],
         "y0": " ",
         "yaxis": "y"
        },
        {
         "alignmentgroup": "True",
         "boxpoints": "all",
         "hovertemplate": "race/ethnicity=group A<br>overall score=%{y}<extra></extra>",
         "legendgroup": "group A",
         "marker": {
          "color": "#00cc96"
         },
         "name": "group A",
         "notched": false,
         "offsetgroup": "group A",
         "orientation": "v",
         "showlegend": true,
         "type": "box",
         "x0": " ",
         "xaxis": "x",
         "y": [
          49.333333333333336,
          73.33333333333333,
          53.666666666666664,
          73,
          60.666666666666664,
          37.333333333333336,
          59.333333333333336,
          46.666666666666664,
          79.66666666666667,
          50.333333333333336,
          65,
          51.333333333333336,
          50.333333333333336,
          49,
          66,
          70.66666666666667,
          73,
          68,
          48.333333333333336,
          43.333333333333336,
          80,
          68.33333333333333,
          23.333333333333332,
          61.666666666666664,
          55.666666666666664,
          55.333333333333336,
          77,
          64,
          41.333333333333336,
          44.666666666666664,
          46.333333333333336,
          56.333333333333336,
          74.66666666666667,
          59,
          52,
          67,
          78,
          65,
          68,
          83.33333333333333,
          52.333333333333336,
          81,
          75.33333333333333,
          68,
          52.333333333333336,
          91.66666666666667,
          96.33333333333333,
          93,
          49.333333333333336,
          54.666666666666664,
          67,
          59.666666666666664,
          61,
          51.666666666666664,
          89.33333333333333,
          94,
          69.66666666666667,
          74.66666666666667,
          69.66666666666667,
          51.666666666666664,
          67,
          86,
          66.33333333333333,
          48,
          50,
          58.333333333333336,
          77.66666666666667,
          76.66666666666667,
          39.333333333333336,
          47,
          56,
          89,
          59.333333333333336,
          60.666666666666664,
          78.66666666666667,
          64,
          63.333333333333336,
          41,
          78.33333333333333,
          59,
          61.333333333333336,
          59.333333333333336,
          66,
          54.333333333333336,
          61.333333333333336,
          85.33333333333333,
          54,
          44.666666666666664,
          62.666666666666664
         ],
         "y0": " ",
         "yaxis": "y"
        },
        {
         "alignmentgroup": "True",
         "boxpoints": "all",
         "hovertemplate": "race/ethnicity=group D<br>overall score=%{y}<extra></extra>",
         "legendgroup": "group D",
         "marker": {
          "color": "#ab63fa"
         },
         "name": "group D",
         "notched": false,
         "offsetgroup": "group D",
         "orientation": "v",
         "showlegend": true,
         "type": "box",
         "x0": " ",
         "xaxis": "x",
         "y": [
          65,
          45,
          66,
          50.333333333333336,
          75,
          69,
          72.33333333333333,
          40,
          79.33333333333333,
          57.666666666666664,
          84.33333333333333,
          69,
          80.33333333333333,
          52,
          58.333333333333336,
          58.666666666666664,
          39.666666666666664,
          64.66666666666667,
          60.333333333333336,
          69,
          38.333333333333336,
          72,
          80.33333333333333,
          62.333333333333336,
          64.66666666666667,
          72,
          88.33333333333333,
          95.66666666666667,
          88,
          54.333333333333336,
          79.66666666666667,
          58.333333333333336,
          58.666666666666664,
          72,
          79.33333333333333,
          85,
          76,
          67,
          73,
          79.66666666666667,
          74.66666666666667,
          50,
          63.333333333333336,
          64,
          82,
          99,
          68,
          65.33333333333333,
          79.33333333333333,
          67,
          56,
          74.33333333333333,
          74.33333333333333,
          79.33333333333333,
          66,
          80.33333333333333,
          53.666666666666664,
          68.66666666666667,
          77.33333333333333,
          65.33333333333333,
          66,
          69,
          54.333333333333336,
          72.66666666666667,
          79,
          77.33333333333333,
          52.666666666666664,
          72.33333333333333,
          47.333333333333336,
          72.66666666666667,
          91.66666666666667,
          52.666666666666664,
          68.66666666666667,
          49,
          46.333333333333336,
          78.66666666666667,
          75.33333333333333,
          76.33333333333333,
          78.33333333333333,
          84,
          54,
          52.666666666666664,
          65.33333333333333,
          83.33333333333333,
          61.333333333333336,
          71.66666666666667,
          50,
          68.66666666666667,
          73,
          71.66666666666667,
          60.666666666666664,
          86.33333333333333,
          31,
          80.66666666666667,
          73.33333333333333,
          91.66666666666667,
          67.33333333333333,
          84,
          93.33333333333333,
          63.333333333333336,
          72.66666666666667,
          74,
          57.666666666666664,
          95.66666666666667,
          55,
          85.33333333333333,
          71.66666666666667,
          65.66666666666667,
          63,
          59.666666666666664,
          57.333333333333336,
          69,
          71.33333333333333,
          86.33333333333333,
          79.66666666666667,
          65,
          85.66666666666667,
          51.666666666666664,
          31.666666666666668,
          62.333333333333336,
          76.66666666666667,
          73.33333333333333,
          63,
          55.666666666666664,
          54.666666666666664,
          66,
          71,
          78.33333333333333,
          51,
          73.33333333333333,
          54.333333333333336,
          82.33333333333333,
          74,
          57.333333333333336,
          61.333333333333336,
          39,
          59.666666666666664,
          80.33333333333333,
          88.66666666666667,
          64.33333333333333,
          67.66666666666667,
          67,
          76,
          74.33333333333333,
          70,
          67.66666666666667,
          60.666666666666664,
          91.33333333333333,
          71.33333333333333,
          76,
          74.33333333333333,
          73,
          76,
          59,
          56,
          87.66666666666667,
          64,
          83,
          86.66666666666667,
          98.66666666666667,
          51.666666666666664,
          50.666666666666664,
          67,
          82.66666666666667,
          86.66666666666667,
          74.33333333333333,
          48,
          84,
          64.66666666666667,
          76.33333333333333,
          89.66666666666667,
          65.33333333333333,
          53.666666666666664,
          87.33333333333333,
          65,
          68.66666666666667,
          76.66666666666667,
          53,
          74.66666666666667,
          78,
          61.333333333333336,
          71,
          76,
          75.66666666666667,
          84.66666666666667,
          71.33333333333333,
          64.66666666666667,
          38.666666666666664,
          85,
          53.666666666666664,
          99,
          82,
          57.666666666666664,
          83,
          48.666666666666664,
          75,
          75,
          75,
          71.66666666666667,
          69.33333333333333,
          55,
          58.666666666666664,
          53.333333333333336,
          81.66666666666667,
          60.666666666666664,
          71.33333333333333,
          74,
          53,
          65.33333333333333,
          69.66666666666667,
          70,
          71,
          69,
          87,
          78.66666666666667,
          45.666666666666664,
          56.333333333333336,
          56,
          74.66666666666667,
          39.666666666666664,
          84,
          82.33333333333333,
          70.33333333333333,
          71.33333333333333,
          48.333333333333336,
          69.33333333333333,
          47.666666666666664,
          79,
          61.333333333333336,
          75,
          86,
          97.66666666666667,
          78.33333333333333,
          80.66666666666667,
          84.66666666666667,
          46.666666666666664,
          68.66666666666667,
          68,
          71,
          65.66666666666667,
          60.333333333333336,
          68.33333333333333,
          63.666666666666664,
          83.66666666666667,
          71.33333333333333,
          88.33333333333333,
          55.666666666666664,
          78.33333333333333,
          97.33333333333333,
          55.666666666666664,
          51.666666666666664,
          62.333333333333336,
          68,
          96.33333333333333,
          58.333333333333336,
          48,
          79,
          78.66666666666667,
          69,
          69.33333333333333,
          74.33333333333333,
          83
         ],
         "y0": " ",
         "yaxis": "y"
        },
        {
         "alignmentgroup": "True",
         "boxpoints": "all",
         "hovertemplate": "race/ethnicity=group E<br>overall score=%{y}<extra></extra>",
         "legendgroup": "group E",
         "marker": {
          "color": "#FFA15A"
         },
         "name": "group E",
         "notched": false,
         "offsetgroup": "group E",
         "orientation": "v",
         "showlegend": true,
         "type": "box",
         "x0": " ",
         "xaxis": "x",
         "y": [
          64.33333333333333,
          88.66666666666667,
          80.33333333333333,
          53.333333333333336,
          52,
          71.33333333333333,
          84.33333333333333,
          75,
          26,
          66,
          66.33333333333333,
          68.33333333333333,
          64.33333333333333,
          99.66666666666667,
          78.66666666666667,
          77,
          60.333333333333336,
          50.333333333333336,
          97.66666666666667,
          72.66666666666667,
          82.66666666666667,
          88,
          86.66666666666667,
          49,
          73.66666666666667,
          66.66666666666667,
          54,
          68.66666666666667,
          79,
          86.33333333333333,
          85.66666666666667,
          51.666666666666664,
          85.66666666666667,
          82,
          51,
          79.66666666666667,
          68.33333333333333,
          94,
          72.33333333333333,
          65.66666666666667,
          89,
          76.66666666666667,
          71,
          71,
          89,
          80,
          57,
          79,
          58.333333333333336,
          77.33333333333333,
          43.333333333333336,
          44,
          72.66666666666667,
          69,
          66.33333333333333,
          70,
          81.66666666666667,
          75.33333333333333,
          55.666666666666664,
          96.33333333333333,
          100,
          72.33333333333333,
          68,
          71.33333333333333,
          73,
          92,
          71,
          62.333333333333336,
          60.333333333333336,
          87,
          74,
          80.33333333333333,
          46,
          97.33333333333333,
          75.33333333333333,
          78.66666666666667,
          66.66666666666667,
          74.33333333333333,
          78,
          62.333333333333336,
          40,
          60.333333333333336,
          78.66666666666667,
          77.66666666666667,
          64.66666666666667,
          75.66666666666667,
          97.66666666666667,
          76,
          88.66666666666667,
          75.66666666666667,
          80.66666666666667,
          83.33333333333333,
          81.33333333333333,
          75.33333333333333,
          72.33333333333333,
          58.666666666666664,
          56,
          68.33333333333333,
          90.33333333333333,
          70,
          87,
          76,
          83.33333333333333,
          66,
          78.33333333333333,
          61,
          92,
          42,
          82.33333333333333,
          50.666666666666664,
          64.66666666666667,
          86.33333333333333,
          88.33333333333333,
          70,
          84.66666666666667,
          74.66666666666667,
          87.33333333333333,
          70.33333333333333,
          52,
          96,
          87.33333333333333,
          87.33333333333333,
          63.333333333333336,
          34.666666666666664,
          68,
          68,
          100,
          66,
          57.333333333333336,
          44.333333333333336,
          57.333333333333336,
          68.33333333333333,
          79.33333333333333,
          73.33333333333333,
          63.666666666666664,
          100,
          70.33333333333333,
          77.33333333333333,
          80.66666666666667,
          94
         ],
         "y0": " ",
         "yaxis": "y"
        }
       ],
       "layout": {
        "boxmode": "group",
        "legend": {
         "title": {
          "text": "race/ethnicity"
         },
         "tracegroupgap": 0
        },
        "template": {
         "data": {
          "bar": [
           {
            "error_x": {
             "color": "#2a3f5f"
            },
            "error_y": {
             "color": "#2a3f5f"
            },
            "marker": {
             "line": {
              "color": "#E5ECF6",
              "width": 0.5
             },
             "pattern": {
              "fillmode": "overlay",
              "size": 10,
              "solidity": 0.2
             }
            },
            "type": "bar"
           }
          ],
          "barpolar": [
           {
            "marker": {
             "line": {
              "color": "#E5ECF6",
              "width": 0.5
             },
             "pattern": {
              "fillmode": "overlay",
              "size": 10,
              "solidity": 0.2
             }
            },
            "type": "barpolar"
           }
          ],
          "carpet": [
           {
            "aaxis": {
             "endlinecolor": "#2a3f5f",
             "gridcolor": "white",
             "linecolor": "white",
             "minorgridcolor": "white",
             "startlinecolor": "#2a3f5f"
            },
            "baxis": {
             "endlinecolor": "#2a3f5f",
             "gridcolor": "white",
             "linecolor": "white",
             "minorgridcolor": "white",
             "startlinecolor": "#2a3f5f"
            },
            "type": "carpet"
           }
          ],
          "choropleth": [
           {
            "colorbar": {
             "outlinewidth": 0,
             "ticks": ""
            },
            "type": "choropleth"
           }
          ],
          "contour": [
           {
            "colorbar": {
             "outlinewidth": 0,
             "ticks": ""
            },
            "colorscale": [
             [
              0,
              "#0d0887"
             ],
             [
              0.1111111111111111,
              "#46039f"
             ],
             [
              0.2222222222222222,
              "#7201a8"
             ],
             [
              0.3333333333333333,
              "#9c179e"
             ],
             [
              0.4444444444444444,
              "#bd3786"
             ],
             [
              0.5555555555555556,
              "#d8576b"
             ],
             [
              0.6666666666666666,
              "#ed7953"
             ],
             [
              0.7777777777777778,
              "#fb9f3a"
             ],
             [
              0.8888888888888888,
              "#fdca26"
             ],
             [
              1,
              "#f0f921"
             ]
            ],
            "type": "contour"
           }
          ],
          "contourcarpet": [
           {
            "colorbar": {
             "outlinewidth": 0,
             "ticks": ""
            },
            "type": "contourcarpet"
           }
          ],
          "heatmap": [
           {
            "colorbar": {
             "outlinewidth": 0,
             "ticks": ""
            },
            "colorscale": [
             [
              0,
              "#0d0887"
             ],
             [
              0.1111111111111111,
              "#46039f"
             ],
             [
              0.2222222222222222,
              "#7201a8"
             ],
             [
              0.3333333333333333,
              "#9c179e"
             ],
             [
              0.4444444444444444,
              "#bd3786"
             ],
             [
              0.5555555555555556,
              "#d8576b"
             ],
             [
              0.6666666666666666,
              "#ed7953"
             ],
             [
              0.7777777777777778,
              "#fb9f3a"
             ],
             [
              0.8888888888888888,
              "#fdca26"
             ],
             [
              1,
              "#f0f921"
             ]
            ],
            "type": "heatmap"
           }
          ],
          "heatmapgl": [
           {
            "colorbar": {
             "outlinewidth": 0,
             "ticks": ""
            },
            "colorscale": [
             [
              0,
              "#0d0887"
             ],
             [
              0.1111111111111111,
              "#46039f"
             ],
             [
              0.2222222222222222,
              "#7201a8"
             ],
             [
              0.3333333333333333,
              "#9c179e"
             ],
             [
              0.4444444444444444,
              "#bd3786"
             ],
             [
              0.5555555555555556,
              "#d8576b"
             ],
             [
              0.6666666666666666,
              "#ed7953"
             ],
             [
              0.7777777777777778,
              "#fb9f3a"
             ],
             [
              0.8888888888888888,
              "#fdca26"
             ],
             [
              1,
              "#f0f921"
             ]
            ],
            "type": "heatmapgl"
           }
          ],
          "histogram": [
           {
            "marker": {
             "pattern": {
              "fillmode": "overlay",
              "size": 10,
              "solidity": 0.2
             }
            },
            "type": "histogram"
           }
          ],
          "histogram2d": [
           {
            "colorbar": {
             "outlinewidth": 0,
             "ticks": ""
            },
            "colorscale": [
             [
              0,
              "#0d0887"
             ],
             [
              0.1111111111111111,
              "#46039f"
             ],
             [
              0.2222222222222222,
              "#7201a8"
             ],
             [
              0.3333333333333333,
              "#9c179e"
             ],
             [
              0.4444444444444444,
              "#bd3786"
             ],
             [
              0.5555555555555556,
              "#d8576b"
             ],
             [
              0.6666666666666666,
              "#ed7953"
             ],
             [
              0.7777777777777778,
              "#fb9f3a"
             ],
             [
              0.8888888888888888,
              "#fdca26"
             ],
             [
              1,
              "#f0f921"
             ]
            ],
            "type": "histogram2d"
           }
          ],
          "histogram2dcontour": [
           {
            "colorbar": {
             "outlinewidth": 0,
             "ticks": ""
            },
            "colorscale": [
             [
              0,
              "#0d0887"
             ],
             [
              0.1111111111111111,
              "#46039f"
             ],
             [
              0.2222222222222222,
              "#7201a8"
             ],
             [
              0.3333333333333333,
              "#9c179e"
             ],
             [
              0.4444444444444444,
              "#bd3786"
             ],
             [
              0.5555555555555556,
              "#d8576b"
             ],
             [
              0.6666666666666666,
              "#ed7953"
             ],
             [
              0.7777777777777778,
              "#fb9f3a"
             ],
             [
              0.8888888888888888,
              "#fdca26"
             ],
             [
              1,
              "#f0f921"
             ]
            ],
            "type": "histogram2dcontour"
           }
          ],
          "mesh3d": [
           {
            "colorbar": {
             "outlinewidth": 0,
             "ticks": ""
            },
            "type": "mesh3d"
           }
          ],
          "parcoords": [
           {
            "line": {
             "colorbar": {
              "outlinewidth": 0,
              "ticks": ""
             }
            },
            "type": "parcoords"
           }
          ],
          "pie": [
           {
            "automargin": true,
            "type": "pie"
           }
          ],
          "scatter": [
           {
            "fillpattern": {
             "fillmode": "overlay",
             "size": 10,
             "solidity": 0.2
            },
            "type": "scatter"
           }
          ],
          "scatter3d": [
           {
            "line": {
             "colorbar": {
              "outlinewidth": 0,
              "ticks": ""
             }
            },
            "marker": {
             "colorbar": {
              "outlinewidth": 0,
              "ticks": ""
             }
            },
            "type": "scatter3d"
           }
          ],
          "scattercarpet": [
           {
            "marker": {
             "colorbar": {
              "outlinewidth": 0,
              "ticks": ""
             }
            },
            "type": "scattercarpet"
           }
          ],
          "scattergeo": [
           {
            "marker": {
             "colorbar": {
              "outlinewidth": 0,
              "ticks": ""
             }
            },
            "type": "scattergeo"
           }
          ],
          "scattergl": [
           {
            "marker": {
             "colorbar": {
              "outlinewidth": 0,
              "ticks": ""
             }
            },
            "type": "scattergl"
           }
          ],
          "scattermapbox": [
           {
            "marker": {
             "colorbar": {
              "outlinewidth": 0,
              "ticks": ""
             }
            },
            "type": "scattermapbox"
           }
          ],
          "scatterpolar": [
           {
            "marker": {
             "colorbar": {
              "outlinewidth": 0,
              "ticks": ""
             }
            },
            "type": "scatterpolar"
           }
          ],
          "scatterpolargl": [
           {
            "marker": {
             "colorbar": {
              "outlinewidth": 0,
              "ticks": ""
             }
            },
            "type": "scatterpolargl"
           }
          ],
          "scatterternary": [
           {
            "marker": {
             "colorbar": {
              "outlinewidth": 0,
              "ticks": ""
             }
            },
            "type": "scatterternary"
           }
          ],
          "surface": [
           {
            "colorbar": {
             "outlinewidth": 0,
             "ticks": ""
            },
            "colorscale": [
             [
              0,
              "#0d0887"
             ],
             [
              0.1111111111111111,
              "#46039f"
             ],
             [
              0.2222222222222222,
              "#7201a8"
             ],
             [
              0.3333333333333333,
              "#9c179e"
             ],
             [
              0.4444444444444444,
              "#bd3786"
             ],
             [
              0.5555555555555556,
              "#d8576b"
             ],
             [
              0.6666666666666666,
              "#ed7953"
             ],
             [
              0.7777777777777778,
              "#fb9f3a"
             ],
             [
              0.8888888888888888,
              "#fdca26"
             ],
             [
              1,
              "#f0f921"
             ]
            ],
            "type": "surface"
           }
          ],
          "table": [
           {
            "cells": {
             "fill": {
              "color": "#EBF0F8"
             },
             "line": {
              "color": "white"
             }
            },
            "header": {
             "fill": {
              "color": "#C8D4E3"
             },
             "line": {
              "color": "white"
             }
            },
            "type": "table"
           }
          ]
         },
         "layout": {
          "annotationdefaults": {
           "arrowcolor": "#2a3f5f",
           "arrowhead": 0,
           "arrowwidth": 1
          },
          "autotypenumbers": "strict",
          "coloraxis": {
           "colorbar": {
            "outlinewidth": 0,
            "ticks": ""
           }
          },
          "colorscale": {
           "diverging": [
            [
             0,
             "#8e0152"
            ],
            [
             0.1,
             "#c51b7d"
            ],
            [
             0.2,
             "#de77ae"
            ],
            [
             0.3,
             "#f1b6da"
            ],
            [
             0.4,
             "#fde0ef"
            ],
            [
             0.5,
             "#f7f7f7"
            ],
            [
             0.6,
             "#e6f5d0"
            ],
            [
             0.7,
             "#b8e186"
            ],
            [
             0.8,
             "#7fbc41"
            ],
            [
             0.9,
             "#4d9221"
            ],
            [
             1,
             "#276419"
            ]
           ],
           "sequential": [
            [
             0,
             "#0d0887"
            ],
            [
             0.1111111111111111,
             "#46039f"
            ],
            [
             0.2222222222222222,
             "#7201a8"
            ],
            [
             0.3333333333333333,
             "#9c179e"
            ],
            [
             0.4444444444444444,
             "#bd3786"
            ],
            [
             0.5555555555555556,
             "#d8576b"
            ],
            [
             0.6666666666666666,
             "#ed7953"
            ],
            [
             0.7777777777777778,
             "#fb9f3a"
            ],
            [
             0.8888888888888888,
             "#fdca26"
            ],
            [
             1,
             "#f0f921"
            ]
           ],
           "sequentialminus": [
            [
             0,
             "#0d0887"
            ],
            [
             0.1111111111111111,
             "#46039f"
            ],
            [
             0.2222222222222222,
             "#7201a8"
            ],
            [
             0.3333333333333333,
             "#9c179e"
            ],
            [
             0.4444444444444444,
             "#bd3786"
            ],
            [
             0.5555555555555556,
             "#d8576b"
            ],
            [
             0.6666666666666666,
             "#ed7953"
            ],
            [
             0.7777777777777778,
             "#fb9f3a"
            ],
            [
             0.8888888888888888,
             "#fdca26"
            ],
            [
             1,
             "#f0f921"
            ]
           ]
          },
          "colorway": [
           "#636efa",
           "#EF553B",
           "#00cc96",
           "#ab63fa",
           "#FFA15A",
           "#19d3f3",
           "#FF6692",
           "#B6E880",
           "#FF97FF",
           "#FECB52"
          ],
          "font": {
           "color": "#2a3f5f"
          },
          "geo": {
           "bgcolor": "white",
           "lakecolor": "white",
           "landcolor": "#E5ECF6",
           "showlakes": true,
           "showland": true,
           "subunitcolor": "white"
          },
          "hoverlabel": {
           "align": "left"
          },
          "hovermode": "closest",
          "mapbox": {
           "style": "light"
          },
          "paper_bgcolor": "white",
          "plot_bgcolor": "#E5ECF6",
          "polar": {
           "angularaxis": {
            "gridcolor": "white",
            "linecolor": "white",
            "ticks": ""
           },
           "bgcolor": "#E5ECF6",
           "radialaxis": {
            "gridcolor": "white",
            "linecolor": "white",
            "ticks": ""
           }
          },
          "scene": {
           "xaxis": {
            "backgroundcolor": "#E5ECF6",
            "gridcolor": "white",
            "gridwidth": 2,
            "linecolor": "white",
            "showbackground": true,
            "ticks": "",
            "zerolinecolor": "white"
           },
           "yaxis": {
            "backgroundcolor": "#E5ECF6",
            "gridcolor": "white",
            "gridwidth": 2,
            "linecolor": "white",
            "showbackground": true,
            "ticks": "",
            "zerolinecolor": "white"
           },
           "zaxis": {
            "backgroundcolor": "#E5ECF6",
            "gridcolor": "white",
            "gridwidth": 2,
            "linecolor": "white",
            "showbackground": true,
            "ticks": "",
            "zerolinecolor": "white"
           }
          },
          "shapedefaults": {
           "line": {
            "color": "#2a3f5f"
           }
          },
          "ternary": {
           "aaxis": {
            "gridcolor": "white",
            "linecolor": "white",
            "ticks": ""
           },
           "baxis": {
            "gridcolor": "white",
            "linecolor": "white",
            "ticks": ""
           },
           "bgcolor": "#E5ECF6",
           "caxis": {
            "gridcolor": "white",
            "linecolor": "white",
            "ticks": ""
           }
          },
          "title": {
           "x": 0.05
          },
          "xaxis": {
           "automargin": true,
           "gridcolor": "white",
           "linecolor": "white",
           "ticks": "",
           "title": {
            "standoff": 15
           },
           "zerolinecolor": "white",
           "zerolinewidth": 2
          },
          "yaxis": {
           "automargin": true,
           "gridcolor": "white",
           "linecolor": "white",
           "ticks": "",
           "title": {
            "standoff": 15
           },
           "zerolinecolor": "white",
           "zerolinewidth": 2
          }
         }
        },
        "title": {
         "text": "overall score of all race groups"
        },
        "xaxis": {
         "anchor": "y",
         "domain": [
          0,
          1
         ]
        },
        "yaxis": {
         "anchor": "x",
         "domain": [
          0,
          1
         ],
         "title": {
          "text": "overall score"
         }
        }
       }
      }
     },
     "metadata": {},
     "output_type": "display_data"
    }
   ],
   "source": [
    "px.box(df, y='overall score',points=\"all\",color=\"race/ethnicity\",\n",
    "        \n",
    "        title=\"overall score of all race groups\",)\n"
   ]
  },
  {
   "cell_type": "code",
   "execution_count": 20,
   "metadata": {},
   "outputs": [
    {
     "data": {
      "text/plain": [
       "race/ethnicity\n",
       "group A    62.992509\n",
       "group B    65.468421\n",
       "group C    67.131661\n",
       "group D    69.179389\n",
       "group E    72.752381\n",
       "Name: overall score, dtype: float64"
      ]
     },
     "execution_count": 20,
     "metadata": {},
     "output_type": "execute_result"
    }
   ],
   "source": [
    "df.groupby(\"race/ethnicity\")['overall score'].mean()"
   ]
  },
  {
   "attachments": {},
   "cell_type": "markdown",
   "metadata": {},
   "source": [
    "regarding the overall scores, the group E is the highest one, followed by D, C, B, and lastly A"
   ]
  },
  {
   "cell_type": "code",
   "execution_count": 21,
   "metadata": {},
   "outputs": [
    {
     "data": {
      "application/vnd.plotly.v1+json": {
       "config": {
        "plotlyServerURL": "https://plot.ly"
       },
       "data": [
        {
         "alignmentgroup": "True",
         "hovertemplate": "race/ethnicity=group B<br>math score=%{y}<extra></extra>",
         "legendgroup": "group B",
         "marker": {
          "color": "#636efa"
         },
         "name": "group B",
         "notched": false,
         "offsetgroup": "group B",
         "orientation": "v",
         "showlegend": true,
         "type": "box",
         "x0": " ",
         "xaxis": "x",
         "y": [
          72,
          90,
          71,
          88,
          40,
          38,
          65,
          18,
          65,
          69,
          63,
          57,
          53,
          59,
          65,
          67,
          61,
          44,
          47,
          49,
          79,
          65,
          79,
          60,
          52,
          70,
          75,
          91,
          87,
          72,
          51,
          88,
          59,
          60,
          61,
          82,
          49,
          58,
          68,
          46,
          52,
          48,
          62,
          45,
          78,
          57,
          74,
          58,
          84,
          66,
          61,
          87,
          52,
          67,
          54,
          58,
          65,
          60,
          70,
          88,
          73,
          37,
          81,
          67,
          88,
          67,
          80,
          53,
          73,
          66,
          63,
          41,
          90,
          61,
          24,
          69,
          62,
          52,
          61,
          58,
          85,
          80,
          50,
          74,
          65,
          82,
          63,
          41,
          73,
          47,
          81,
          72,
          54,
          90,
          73,
          49,
          64,
          54,
          66,
          94,
          82,
          55,
          54,
          77,
          67,
          73,
          87,
          40,
          53,
          48,
          48,
          63,
          71,
          81,
          48,
          30,
          58,
          62,
          69,
          79,
          66,
          67,
          72,
          70,
          65,
          50,
          73,
          62,
          77,
          50,
          60,
          62,
          62,
          57,
          59,
          60,
          76,
          74,
          47,
          68,
          53,
          55,
          87,
          69,
          62,
          74,
          76,
          52,
          52,
          66,
          49,
          66,
          77,
          76,
          32,
          19,
          48,
          42,
          82,
          59,
          94,
          60,
          71,
          68,
          77,
          58,
          58,
          23,
          74,
          97,
          75,
          52,
          61,
          59,
          82,
          64,
          36,
          63,
          57,
          46,
          91,
          54,
          58,
          82,
          49,
          75,
          60,
          8,
          79,
          65
         ],
         "y0": " ",
         "yaxis": "y"
        },
        {
         "alignmentgroup": "True",
         "hovertemplate": "race/ethnicity=group C<br>math score=%{y}<extra></extra>",
         "legendgroup": "group C",
         "marker": {
          "color": "#EF553B"
         },
         "name": "group C",
         "notched": false,
         "offsetgroup": "group C",
         "orientation": "v",
         "showlegend": true,
         "type": "box",
         "x0": " ",
         "xaxis": "x",
         "y": [
          69,
          76,
          58,
          69,
          88,
          46,
          54,
          69,
          67,
          70,
          55,
          58,
          66,
          82,
          53,
          71,
          33,
          0,
          69,
          60,
          39,
          61,
          49,
          73,
          76,
          65,
          27,
          71,
          43,
          78,
          98,
          58,
          62,
          84,
          55,
          79,
          88,
          53,
          75,
          58,
          59,
          59,
          22,
          73,
          70,
          52,
          96,
          53,
          67,
          63,
          43,
          81,
          71,
          62,
          46,
          45,
          65,
          77,
          69,
          59,
          67,
          69,
          59,
          35,
          42,
          60,
          34,
          55,
          72,
          88,
          46,
          83,
          84,
          85,
          68,
          64,
          78,
          65,
          64,
          79,
          44,
          63,
          69,
          58,
          83,
          85,
          65,
          76,
          63,
          40,
          67,
          74,
          51,
          68,
          59,
          71,
          83,
          67,
          71,
          43,
          41,
          82,
          61,
          82,
          71,
          47,
          83,
          49,
          58,
          61,
          72,
          77,
          63,
          46,
          59,
          42,
          52,
          59,
          69,
          61,
          45,
          87,
          79,
          57,
          57,
          65,
          85,
          59,
          54,
          63,
          51,
          71,
          74,
          82,
          62,
          86,
          69,
          68,
          64,
          61,
          61,
          73,
          50,
          70,
          67,
          67,
          86,
          64,
          65,
          65,
          53,
          37,
          53,
          77,
          84,
          91,
          83,
          63,
          68,
          68,
          70,
          60,
          64,
          83,
          81,
          54,
          63,
          79,
          86,
          76,
          91,
          54,
          53,
          56,
          36,
          62,
          68,
          47,
          66,
          51,
          75,
          81,
          72,
          62,
          79,
          79,
          32,
          55,
          61,
          63,
          96,
          53,
          50,
          65,
          44,
          54,
          58,
          92,
          56,
          29,
          75,
          85,
          40,
          58,
          94,
          65,
          60,
          65,
          35,
          58,
          44,
          75,
          51,
          77,
          74,
          73,
          65,
          50,
          63,
          73,
          66,
          69,
          65,
          70,
          29,
          49,
          66,
          49,
          75,
          66,
          66,
          93,
          73,
          96,
          76,
          62,
          50,
          53,
          87,
          67,
          92,
          61,
          81,
          59,
          69,
          50,
          79,
          77,
          58,
          53,
          58,
          62,
          35,
          52,
          91,
          68,
          52,
          52,
          67,
          76,
          73,
          90,
          54,
          72,
          77,
          48,
          62,
          56,
          65,
          74,
          60,
          66,
          64,
          91,
          59,
          71,
          62,
          65,
          87,
          53,
          71,
          97,
          59,
          49,
          70,
          43,
          80,
          57,
          63,
          62,
          54,
          73,
          67,
          52,
          47,
          44,
          57,
          35,
          48,
          67,
          70,
          98,
          72,
          81,
          54,
          58,
          62,
          84,
          75,
          65,
          63,
          78,
          64,
          62,
          91,
          74,
          40,
          62,
          59
         ],
         "y0": " ",
         "yaxis": "y"
        },
        {
         "alignmentgroup": "True",
         "hovertemplate": "race/ethnicity=group A<br>math score=%{y}<extra></extra>",
         "legendgroup": "group A",
         "marker": {
          "color": "#00cc96"
         },
         "name": "group A",
         "notched": false,
         "offsetgroup": "group A",
         "orientation": "v",
         "showlegend": true,
         "type": "box",
         "x0": " ",
         "xaxis": "x",
         "y": [
          47,
          78,
          50,
          73,
          55,
          39,
          62,
          41,
          80,
          50,
          58,
          54,
          51,
          57,
          62,
          77,
          72,
          68,
          47,
          46,
          81,
          69,
          28,
          63,
          49,
          44,
          71,
          66,
          38,
          48,
          53,
          49,
          59,
          65,
          47,
          59,
          79,
          75,
          72,
          77,
          59,
          79,
          65,
          68,
          64,
          97,
          92,
          91,
          40,
          61,
          55,
          48,
          71,
          53,
          82,
          100,
          71,
          68,
          65,
          53,
          59,
          87,
          62,
          55,
          37,
          58,
          72,
          75,
          51,
          45,
          45,
          85,
          61,
          64,
          75,
          61,
          50,
          34,
          69,
          67,
          61,
          56,
          66,
          53,
          54,
          78,
          57,
          44,
          63
         ],
         "y0": " ",
         "yaxis": "y"
        },
        {
         "alignmentgroup": "True",
         "hovertemplate": "race/ethnicity=group D<br>math score=%{y}<extra></extra>",
         "legendgroup": "group D",
         "marker": {
          "color": "#ab63fa"
         },
         "name": "group D",
         "notched": false,
         "offsetgroup": "group D",
         "orientation": "v",
         "showlegend": true,
         "type": "box",
         "x0": " ",
         "xaxis": "x",
         "y": [
          64,
          40,
          66,
          44,
          74,
          62,
          69,
          40,
          74,
          50,
          75,
          57,
          88,
          52,
          58,
          59,
          45,
          58,
          63,
          61,
          42,
          71,
          73,
          58,
          65,
          68,
          85,
          87,
          77,
          51,
          78,
          51,
          63,
          65,
          82,
          89,
          74,
          71,
          76,
          88,
          68,
          54,
          62,
          66,
          79,
          97,
          65,
          62,
          76,
          77,
          61,
          65,
          74,
          80,
          56,
          86,
          57,
          76,
          80,
          63,
          64,
          73,
          56,
          75,
          71,
          80,
          54,
          76,
          59,
          69,
          88,
          47,
          65,
          53,
          45,
          73,
          70,
          86,
          78,
          90,
          56,
          49,
          67,
          77,
          56,
          76,
          35,
          67,
          79,
          75,
          59,
          80,
          27,
          73,
          74,
          82,
          59,
          80,
          85,
          62,
          73,
          77,
          60,
          88,
          52,
          87,
          70,
          71,
          68,
          57,
          47,
          75,
          75,
          89,
          78,
          69,
          79,
          53,
          26,
          59,
          71,
          80,
          55,
          52,
          61,
          68,
          59,
          74,
          40,
          76,
          62,
          74,
          66,
          71,
          69,
          29,
          51,
          79,
          82,
          64,
          77,
          73,
          74,
          63,
          61,
          68,
          53,
          81,
          63,
          73,
          69,
          69,
          65,
          54,
          60,
          84,
          69,
          88,
          95,
          100,
          61,
          49,
          67,
          84,
          80,
          76,
          41,
          74,
          59,
          69,
          85,
          69,
          43,
          90,
          55,
          80,
          81,
          52,
          69,
          81,
          63,
          67,
          77,
          77,
          79,
          57,
          63,
          46,
          89,
          42,
          98,
          81,
          55,
          73,
          55,
          81,
          80,
          72,
          69,
          71,
          55,
          52,
          48,
          78,
          60,
          68,
          75,
          46,
          60,
          66,
          70,
          64,
          61,
          78,
          69,
          39,
          40,
          64,
          80,
          39,
          82,
          81,
          59,
          64,
          55,
          69,
          44,
          88,
          67,
          65,
          85,
          93,
          67,
          88,
          79,
          50,
          69,
          72,
          74,
          65,
          62,
          61,
          70,
          85,
          77,
          78,
          49,
          75,
          92,
          45,
          48,
          72,
          62,
          89,
          49,
          55,
          81,
          67,
          55,
          62,
          68,
          77
         ],
         "y0": " ",
         "yaxis": "y"
        },
        {
         "alignmentgroup": "True",
         "hovertemplate": "race/ethnicity=group E<br>math score=%{y}<extra></extra>",
         "legendgroup": "group E",
         "marker": {
          "color": "#FFA15A"
         },
         "name": "group E",
         "notched": false,
         "offsetgroup": "group E",
         "orientation": "v",
         "showlegend": true,
         "type": "box",
         "x0": " ",
         "xaxis": "x",
         "y": [
          56,
          97,
          81,
          50,
          53,
          77,
          82,
          79,
          30,
          62,
          72,
          63,
          66,
          99,
          83,
          87,
          70,
          42,
          100,
          66,
          75,
          81,
          94,
          50,
          80,
          66,
          55,
          82,
          81,
          87,
          83,
          45,
          92,
          80,
          59,
          89,
          62,
          99,
          71,
          59,
          97,
          77,
          65,
          71,
          99,
          75,
          62,
          87,
          66,
          84,
          46,
          38,
          67,
          64,
          73,
          76,
          84,
          84,
          57,
          100,
          100,
          71,
          76,
          76,
          76,
          95,
          66,
          68,
          62,
          79,
          85,
          78,
          53,
          92,
          74,
          77,
          68,
          74,
          76,
          61,
          37,
          61,
          86,
          74,
          64,
          73,
          94,
          85,
          93,
          73,
          79,
          80,
          91,
          81,
          65,
          68,
          53,
          68,
          84,
          70,
          94,
          72,
          89,
          57,
          70,
          69,
          87,
          41,
          87,
          49,
          73,
          90,
          87,
          82,
          81,
          78,
          90,
          71,
          51,
          93,
          86,
          85,
          59,
          32,
          70,
          68,
          100,
          74,
          64,
          46,
          57,
          57,
          94,
          74,
          72,
          100,
          68,
          81,
          86,
          88
         ],
         "y0": " ",
         "yaxis": "y"
        }
       ],
       "layout": {
        "boxmode": "group",
        "legend": {
         "title": {
          "text": "race/ethnicity"
         },
         "tracegroupgap": 0
        },
        "margin": {
         "b": 80,
         "l": 40,
         "r": 30,
         "t": 100
        },
        "paper_bgcolor": "rgb(243, 243, 243)",
        "plot_bgcolor": "rgb(243, 243, 243)",
        "showlegend": false,
        "template": {
         "data": {
          "bar": [
           {
            "error_x": {
             "color": "#2a3f5f"
            },
            "error_y": {
             "color": "#2a3f5f"
            },
            "marker": {
             "line": {
              "color": "#E5ECF6",
              "width": 0.5
             },
             "pattern": {
              "fillmode": "overlay",
              "size": 10,
              "solidity": 0.2
             }
            },
            "type": "bar"
           }
          ],
          "barpolar": [
           {
            "marker": {
             "line": {
              "color": "#E5ECF6",
              "width": 0.5
             },
             "pattern": {
              "fillmode": "overlay",
              "size": 10,
              "solidity": 0.2
             }
            },
            "type": "barpolar"
           }
          ],
          "carpet": [
           {
            "aaxis": {
             "endlinecolor": "#2a3f5f",
             "gridcolor": "white",
             "linecolor": "white",
             "minorgridcolor": "white",
             "startlinecolor": "#2a3f5f"
            },
            "baxis": {
             "endlinecolor": "#2a3f5f",
             "gridcolor": "white",
             "linecolor": "white",
             "minorgridcolor": "white",
             "startlinecolor": "#2a3f5f"
            },
            "type": "carpet"
           }
          ],
          "choropleth": [
           {
            "colorbar": {
             "outlinewidth": 0,
             "ticks": ""
            },
            "type": "choropleth"
           }
          ],
          "contour": [
           {
            "colorbar": {
             "outlinewidth": 0,
             "ticks": ""
            },
            "colorscale": [
             [
              0,
              "#0d0887"
             ],
             [
              0.1111111111111111,
              "#46039f"
             ],
             [
              0.2222222222222222,
              "#7201a8"
             ],
             [
              0.3333333333333333,
              "#9c179e"
             ],
             [
              0.4444444444444444,
              "#bd3786"
             ],
             [
              0.5555555555555556,
              "#d8576b"
             ],
             [
              0.6666666666666666,
              "#ed7953"
             ],
             [
              0.7777777777777778,
              "#fb9f3a"
             ],
             [
              0.8888888888888888,
              "#fdca26"
             ],
             [
              1,
              "#f0f921"
             ]
            ],
            "type": "contour"
           }
          ],
          "contourcarpet": [
           {
            "colorbar": {
             "outlinewidth": 0,
             "ticks": ""
            },
            "type": "contourcarpet"
           }
          ],
          "heatmap": [
           {
            "colorbar": {
             "outlinewidth": 0,
             "ticks": ""
            },
            "colorscale": [
             [
              0,
              "#0d0887"
             ],
             [
              0.1111111111111111,
              "#46039f"
             ],
             [
              0.2222222222222222,
              "#7201a8"
             ],
             [
              0.3333333333333333,
              "#9c179e"
             ],
             [
              0.4444444444444444,
              "#bd3786"
             ],
             [
              0.5555555555555556,
              "#d8576b"
             ],
             [
              0.6666666666666666,
              "#ed7953"
             ],
             [
              0.7777777777777778,
              "#fb9f3a"
             ],
             [
              0.8888888888888888,
              "#fdca26"
             ],
             [
              1,
              "#f0f921"
             ]
            ],
            "type": "heatmap"
           }
          ],
          "heatmapgl": [
           {
            "colorbar": {
             "outlinewidth": 0,
             "ticks": ""
            },
            "colorscale": [
             [
              0,
              "#0d0887"
             ],
             [
              0.1111111111111111,
              "#46039f"
             ],
             [
              0.2222222222222222,
              "#7201a8"
             ],
             [
              0.3333333333333333,
              "#9c179e"
             ],
             [
              0.4444444444444444,
              "#bd3786"
             ],
             [
              0.5555555555555556,
              "#d8576b"
             ],
             [
              0.6666666666666666,
              "#ed7953"
             ],
             [
              0.7777777777777778,
              "#fb9f3a"
             ],
             [
              0.8888888888888888,
              "#fdca26"
             ],
             [
              1,
              "#f0f921"
             ]
            ],
            "type": "heatmapgl"
           }
          ],
          "histogram": [
           {
            "marker": {
             "pattern": {
              "fillmode": "overlay",
              "size": 10,
              "solidity": 0.2
             }
            },
            "type": "histogram"
           }
          ],
          "histogram2d": [
           {
            "colorbar": {
             "outlinewidth": 0,
             "ticks": ""
            },
            "colorscale": [
             [
              0,
              "#0d0887"
             ],
             [
              0.1111111111111111,
              "#46039f"
             ],
             [
              0.2222222222222222,
              "#7201a8"
             ],
             [
              0.3333333333333333,
              "#9c179e"
             ],
             [
              0.4444444444444444,
              "#bd3786"
             ],
             [
              0.5555555555555556,
              "#d8576b"
             ],
             [
              0.6666666666666666,
              "#ed7953"
             ],
             [
              0.7777777777777778,
              "#fb9f3a"
             ],
             [
              0.8888888888888888,
              "#fdca26"
             ],
             [
              1,
              "#f0f921"
             ]
            ],
            "type": "histogram2d"
           }
          ],
          "histogram2dcontour": [
           {
            "colorbar": {
             "outlinewidth": 0,
             "ticks": ""
            },
            "colorscale": [
             [
              0,
              "#0d0887"
             ],
             [
              0.1111111111111111,
              "#46039f"
             ],
             [
              0.2222222222222222,
              "#7201a8"
             ],
             [
              0.3333333333333333,
              "#9c179e"
             ],
             [
              0.4444444444444444,
              "#bd3786"
             ],
             [
              0.5555555555555556,
              "#d8576b"
             ],
             [
              0.6666666666666666,
              "#ed7953"
             ],
             [
              0.7777777777777778,
              "#fb9f3a"
             ],
             [
              0.8888888888888888,
              "#fdca26"
             ],
             [
              1,
              "#f0f921"
             ]
            ],
            "type": "histogram2dcontour"
           }
          ],
          "mesh3d": [
           {
            "colorbar": {
             "outlinewidth": 0,
             "ticks": ""
            },
            "type": "mesh3d"
           }
          ],
          "parcoords": [
           {
            "line": {
             "colorbar": {
              "outlinewidth": 0,
              "ticks": ""
             }
            },
            "type": "parcoords"
           }
          ],
          "pie": [
           {
            "automargin": true,
            "type": "pie"
           }
          ],
          "scatter": [
           {
            "fillpattern": {
             "fillmode": "overlay",
             "size": 10,
             "solidity": 0.2
            },
            "type": "scatter"
           }
          ],
          "scatter3d": [
           {
            "line": {
             "colorbar": {
              "outlinewidth": 0,
              "ticks": ""
             }
            },
            "marker": {
             "colorbar": {
              "outlinewidth": 0,
              "ticks": ""
             }
            },
            "type": "scatter3d"
           }
          ],
          "scattercarpet": [
           {
            "marker": {
             "colorbar": {
              "outlinewidth": 0,
              "ticks": ""
             }
            },
            "type": "scattercarpet"
           }
          ],
          "scattergeo": [
           {
            "marker": {
             "colorbar": {
              "outlinewidth": 0,
              "ticks": ""
             }
            },
            "type": "scattergeo"
           }
          ],
          "scattergl": [
           {
            "marker": {
             "colorbar": {
              "outlinewidth": 0,
              "ticks": ""
             }
            },
            "type": "scattergl"
           }
          ],
          "scattermapbox": [
           {
            "marker": {
             "colorbar": {
              "outlinewidth": 0,
              "ticks": ""
             }
            },
            "type": "scattermapbox"
           }
          ],
          "scatterpolar": [
           {
            "marker": {
             "colorbar": {
              "outlinewidth": 0,
              "ticks": ""
             }
            },
            "type": "scatterpolar"
           }
          ],
          "scatterpolargl": [
           {
            "marker": {
             "colorbar": {
              "outlinewidth": 0,
              "ticks": ""
             }
            },
            "type": "scatterpolargl"
           }
          ],
          "scatterternary": [
           {
            "marker": {
             "colorbar": {
              "outlinewidth": 0,
              "ticks": ""
             }
            },
            "type": "scatterternary"
           }
          ],
          "surface": [
           {
            "colorbar": {
             "outlinewidth": 0,
             "ticks": ""
            },
            "colorscale": [
             [
              0,
              "#0d0887"
             ],
             [
              0.1111111111111111,
              "#46039f"
             ],
             [
              0.2222222222222222,
              "#7201a8"
             ],
             [
              0.3333333333333333,
              "#9c179e"
             ],
             [
              0.4444444444444444,
              "#bd3786"
             ],
             [
              0.5555555555555556,
              "#d8576b"
             ],
             [
              0.6666666666666666,
              "#ed7953"
             ],
             [
              0.7777777777777778,
              "#fb9f3a"
             ],
             [
              0.8888888888888888,
              "#fdca26"
             ],
             [
              1,
              "#f0f921"
             ]
            ],
            "type": "surface"
           }
          ],
          "table": [
           {
            "cells": {
             "fill": {
              "color": "#EBF0F8"
             },
             "line": {
              "color": "white"
             }
            },
            "header": {
             "fill": {
              "color": "#C8D4E3"
             },
             "line": {
              "color": "white"
             }
            },
            "type": "table"
           }
          ]
         },
         "layout": {
          "annotationdefaults": {
           "arrowcolor": "#2a3f5f",
           "arrowhead": 0,
           "arrowwidth": 1
          },
          "autotypenumbers": "strict",
          "coloraxis": {
           "colorbar": {
            "outlinewidth": 0,
            "ticks": ""
           }
          },
          "colorscale": {
           "diverging": [
            [
             0,
             "#8e0152"
            ],
            [
             0.1,
             "#c51b7d"
            ],
            [
             0.2,
             "#de77ae"
            ],
            [
             0.3,
             "#f1b6da"
            ],
            [
             0.4,
             "#fde0ef"
            ],
            [
             0.5,
             "#f7f7f7"
            ],
            [
             0.6,
             "#e6f5d0"
            ],
            [
             0.7,
             "#b8e186"
            ],
            [
             0.8,
             "#7fbc41"
            ],
            [
             0.9,
             "#4d9221"
            ],
            [
             1,
             "#276419"
            ]
           ],
           "sequential": [
            [
             0,
             "#0d0887"
            ],
            [
             0.1111111111111111,
             "#46039f"
            ],
            [
             0.2222222222222222,
             "#7201a8"
            ],
            [
             0.3333333333333333,
             "#9c179e"
            ],
            [
             0.4444444444444444,
             "#bd3786"
            ],
            [
             0.5555555555555556,
             "#d8576b"
            ],
            [
             0.6666666666666666,
             "#ed7953"
            ],
            [
             0.7777777777777778,
             "#fb9f3a"
            ],
            [
             0.8888888888888888,
             "#fdca26"
            ],
            [
             1,
             "#f0f921"
            ]
           ],
           "sequentialminus": [
            [
             0,
             "#0d0887"
            ],
            [
             0.1111111111111111,
             "#46039f"
            ],
            [
             0.2222222222222222,
             "#7201a8"
            ],
            [
             0.3333333333333333,
             "#9c179e"
            ],
            [
             0.4444444444444444,
             "#bd3786"
            ],
            [
             0.5555555555555556,
             "#d8576b"
            ],
            [
             0.6666666666666666,
             "#ed7953"
            ],
            [
             0.7777777777777778,
             "#fb9f3a"
            ],
            [
             0.8888888888888888,
             "#fdca26"
            ],
            [
             1,
             "#f0f921"
            ]
           ]
          },
          "colorway": [
           "#636efa",
           "#EF553B",
           "#00cc96",
           "#ab63fa",
           "#FFA15A",
           "#19d3f3",
           "#FF6692",
           "#B6E880",
           "#FF97FF",
           "#FECB52"
          ],
          "font": {
           "color": "#2a3f5f"
          },
          "geo": {
           "bgcolor": "white",
           "lakecolor": "white",
           "landcolor": "#E5ECF6",
           "showlakes": true,
           "showland": true,
           "subunitcolor": "white"
          },
          "hoverlabel": {
           "align": "left"
          },
          "hovermode": "closest",
          "mapbox": {
           "style": "light"
          },
          "paper_bgcolor": "white",
          "plot_bgcolor": "#E5ECF6",
          "polar": {
           "angularaxis": {
            "gridcolor": "white",
            "linecolor": "white",
            "ticks": ""
           },
           "bgcolor": "#E5ECF6",
           "radialaxis": {
            "gridcolor": "white",
            "linecolor": "white",
            "ticks": ""
           }
          },
          "scene": {
           "xaxis": {
            "backgroundcolor": "#E5ECF6",
            "gridcolor": "white",
            "gridwidth": 2,
            "linecolor": "white",
            "showbackground": true,
            "ticks": "",
            "zerolinecolor": "white"
           },
           "yaxis": {
            "backgroundcolor": "#E5ECF6",
            "gridcolor": "white",
            "gridwidth": 2,
            "linecolor": "white",
            "showbackground": true,
            "ticks": "",
            "zerolinecolor": "white"
           },
           "zaxis": {
            "backgroundcolor": "#E5ECF6",
            "gridcolor": "white",
            "gridwidth": 2,
            "linecolor": "white",
            "showbackground": true,
            "ticks": "",
            "zerolinecolor": "white"
           }
          },
          "shapedefaults": {
           "line": {
            "color": "#2a3f5f"
           }
          },
          "ternary": {
           "aaxis": {
            "gridcolor": "white",
            "linecolor": "white",
            "ticks": ""
           },
           "baxis": {
            "gridcolor": "white",
            "linecolor": "white",
            "ticks": ""
           },
           "bgcolor": "#E5ECF6",
           "caxis": {
            "gridcolor": "white",
            "linecolor": "white",
            "ticks": ""
           }
          },
          "title": {
           "x": 0.05
          },
          "xaxis": {
           "automargin": true,
           "gridcolor": "white",
           "linecolor": "white",
           "ticks": "",
           "title": {
            "standoff": 15
           },
           "zerolinecolor": "white",
           "zerolinewidth": 2
          },
          "yaxis": {
           "automargin": true,
           "gridcolor": "white",
           "linecolor": "white",
           "ticks": "",
           "title": {
            "standoff": 15
           },
           "zerolinecolor": "white",
           "zerolinewidth": 2
          }
         }
        },
        "title": {
         "text": "math score of all race groups"
        },
        "xaxis": {
         "anchor": "y",
         "domain": [
          0,
          1
         ]
        },
        "yaxis": {
         "anchor": "x",
         "autorange": true,
         "domain": [
          0,
          1
         ],
         "gridcolor": "rgb(255, 255, 255)",
         "gridwidth": 1,
         "showgrid": true,
         "title": {
          "text": "math score"
         },
         "zeroline": true,
         "zerolinecolor": "rgb(255, 255, 255)",
         "zerolinewidth": 2
        }
       }
      }
     },
     "metadata": {},
     "output_type": "display_data"
    }
   ],
   "source": [
    "fig =px.box(df, y='math score',color=\"race/ethnicity\",\n",
    "        \n",
    "        title=\"math score of all race groups\",)\n",
    "\n",
    "fig.update_layout(\n",
    "    \n",
    "    yaxis=dict(\n",
    "        autorange=True,\n",
    "        showgrid=True,\n",
    "        zeroline=True,\n",
    "\n",
    "        gridcolor='rgb(255, 255, 255)',\n",
    "        gridwidth=1,\n",
    "        zerolinecolor='rgb(255, 255, 255)',\n",
    "        zerolinewidth=2,\n",
    "    ),\n",
    "    margin=dict(\n",
    "        l=40,\n",
    "        r=30,\n",
    "        b=80,\n",
    "        t=100,\n",
    "    ),\n",
    "    paper_bgcolor='rgb(243, 243, 243)',\n",
    "    plot_bgcolor='rgb(243, 243, 243)',\n",
    "    showlegend=False\n",
    ")\n"
   ]
  },
  {
   "attachments": {},
   "cell_type": "markdown",
   "metadata": {},
   "source": [
    "regarding the math scores, the group E is the highest one, followed by D, C, B, and lastly A"
   ]
  },
  {
   "cell_type": "code",
   "execution_count": 22,
   "metadata": {},
   "outputs": [
    {
     "data": {
      "application/vnd.plotly.v1+json": {
       "config": {
        "plotlyServerURL": "https://plot.ly"
       },
       "data": [
        {
         "alignmentgroup": "True",
         "hovertemplate": "race/ethnicity=group B<br>reading score=%{y}<extra></extra>",
         "legendgroup": "group B",
         "marker": {
          "color": "#636efa"
         },
         "name": "group B",
         "notched": false,
         "offsetgroup": "group B",
         "orientation": "v",
         "showlegend": true,
         "type": "box",
         "x0": " ",
         "xaxis": "x",
         "y": [
          72,
          95,
          83,
          95,
          43,
          60,
          81,
          32,
          75,
          54,
          65,
          56,
          58,
          65,
          54,
          64,
          58,
          41,
          49,
          45,
          86,
          66,
          67,
          44,
          76,
          64,
          85,
          89,
          95,
          68,
          54,
          84,
          70,
          60,
          86,
          78,
          53,
          76,
          83,
          54,
          70,
          52,
          64,
          53,
          79,
          69,
          81,
          61,
          83,
          77,
          56,
          85,
          66,
          86,
          52,
          70,
          64,
          70,
          75,
          85,
          56,
          46,
          82,
          89,
          75,
          62,
          76,
          71,
          76,
          60,
          71,
          55,
          78,
          68,
          38,
          76,
          61,
          65,
          72,
          62,
          84,
          86,
          67,
          63,
          65,
          80,
          67,
          39,
          83,
          46,
          73,
          65,
          54,
          90,
          71,
          52,
          53,
          64,
          69,
          87,
          82,
          59,
          61,
          97,
          78,
          69,
          90,
          48,
          70,
          51,
          43,
          48,
          75,
          91,
          56,
          24,
          63,
          63,
          70,
          60,
          74,
          80,
          81,
          65,
          81,
          53,
          79,
          67,
          85,
          64,
          68,
          55,
          66,
          67,
          63,
          70,
          94,
          90,
          43,
          77,
          66,
          55,
          84,
          77,
          62,
          72,
          62,
          48,
          67,
          65,
          58,
          72,
          90,
          85,
          51,
          38,
          62,
          52,
          85,
          54,
          86,
          72,
          87,
          54,
          82,
          50,
          57,
          44,
          77,
          97,
          68,
          49,
          42,
          58,
          84,
          73,
          29,
          78,
          48,
          61,
          96,
          65,
          68,
          82,
          50,
          84,
          62,
          24,
          85,
          82
         ],
         "y0": " ",
         "yaxis": "y"
        },
        {
         "alignmentgroup": "True",
         "hovertemplate": "race/ethnicity=group C<br>reading score=%{y}<extra></extra>",
         "legendgroup": "group C",
         "marker": {
          "color": "#EF553B"
         },
         "name": "group C",
         "notched": false,
         "offsetgroup": "group C",
         "orientation": "v",
         "showlegend": true,
         "type": "box",
         "x0": " ",
         "xaxis": "x",
         "y": [
          90,
          78,
          54,
          75,
          89,
          42,
          58,
          73,
          69,
          70,
          61,
          73,
          71,
          84,
          44,
          84,
          41,
          17,
          80,
          72,
          64,
          57,
          49,
          80,
          83,
          72,
          34,
          79,
          45,
          81,
          86,
          67,
          55,
          77,
          69,
          92,
          93,
          37,
          81,
          55,
          66,
          62,
          39,
          68,
          89,
          53,
          100,
          51,
          75,
          67,
          51,
          91,
          77,
          68,
          64,
          52,
          67,
          88,
          84,
          69,
          84,
          77,
          41,
          28,
          62,
          51,
          42,
          65,
          72,
          95,
          43,
          82,
          80,
          76,
          60,
          73,
          77,
          81,
          79,
          79,
          50,
          75,
          63,
          49,
          78,
          92,
          86,
          70,
          60,
          46,
          84,
          75,
          52,
          67,
          64,
          66,
          72,
          79,
          81,
          53,
          46,
          90,
          61,
          75,
          60,
          37,
          93,
          51,
          61,
          73,
          80,
          94,
          78,
          58,
          71,
          66,
          58,
          60,
          58,
          66,
          73,
          100,
          81,
          78,
          54,
          74,
          89,
          54,
          59,
          73,
          72,
          74,
          73,
          93,
          67,
          83,
          71,
          63,
          66,
          72,
          56,
          66,
          48,
          56,
          81,
          74,
          81,
          85,
          77,
          58,
          61,
          56,
          58,
          90,
          87,
          74,
          85,
          69,
          86,
          68,
          74,
          75,
          64,
          83,
          88,
          48,
          61,
          78,
          92,
          87,
          86,
          59,
          52,
          61,
          53,
          74,
          67,
          54,
          83,
          60,
          69,
          77,
          67,
          67,
          72,
          76,
          39,
          72,
          67,
          74,
          90,
          62,
          66,
          76,
          63,
          64,
          57,
          100,
          79,
          29,
          72,
          84,
          58,
          59,
          90,
          77,
          68,
          73,
          61,
          51,
          51,
          88,
          56,
          67,
          77,
          66,
          69,
          60,
          73,
          74,
          76,
          78,
          84,
          82,
          40,
          53,
          74,
          63,
          82,
          66,
          59,
          84,
          78,
          96,
          76,
          72,
          48,
          39,
          89,
          57,
          79,
          60,
          84,
          73,
          64,
          60,
          77,
          90,
          55,
          72,
          75,
          78,
          44,
          59,
          81,
          65,
          65,
          55,
          73,
          80,
          76,
          75,
          64,
          80,
          91,
          58,
          67,
          68,
          69,
          86,
          64,
          77,
          58,
          85,
          72,
          67,
          64,
          79,
          73,
          62,
          71,
          93,
          53,
          51,
          72,
          62,
          64,
          61,
          64,
          76,
          72,
          78,
          75,
          61,
          62,
          61,
          77,
          53,
          56,
          74,
          75,
          87,
          66,
          66,
          61,
          52,
          69,
          87,
          81,
          76,
          63,
          72,
          82,
          65,
          95,
          75,
          59,
          55,
          71
         ],
         "y0": " ",
         "yaxis": "y"
        },
        {
         "alignmentgroup": "True",
         "hovertemplate": "race/ethnicity=group A<br>reading score=%{y}<extra></extra>",
         "legendgroup": "group A",
         "marker": {
          "color": "#00cc96"
         },
         "name": "group A",
         "notched": false,
         "offsetgroup": "group A",
         "orientation": "v",
         "showlegend": true,
         "type": "box",
         "x0": " ",
         "xaxis": "x",
         "y": [
          57,
          72,
          53,
          74,
          65,
          39,
          61,
          51,
          78,
          47,
          70,
          53,
          49,
          43,
          67,
          67,
          73,
          72,
          49,
          41,
          78,
          67,
          23,
          61,
          58,
          64,
          83,
          64,
          43,
          45,
          43,
          65,
          85,
          59,
          59,
          73,
          82,
          58,
          67,
          88,
          52,
          82,
          85,
          70,
          50,
          92,
          100,
          96,
          55,
          51,
          73,
          66,
          62,
          54,
          93,
          96,
          74,
          80,
          70,
          58,
          72,
          84,
          72,
          46,
          57,
          60,
          79,
          81,
          31,
          47,
          59,
          90,
          60,
          60,
          82,
          68,
          67,
          48,
          84,
          57,
          62,
          58,
          68,
          50,
          63,
          87,
          51,
          45,
          63
         ],
         "y0": " ",
         "yaxis": "y"
        },
        {
         "alignmentgroup": "True",
         "hovertemplate": "race/ethnicity=group D<br>reading score=%{y}<extra></extra>",
         "legendgroup": "group D",
         "marker": {
          "color": "#ab63fa"
         },
         "name": "group D",
         "notched": false,
         "offsetgroup": "group D",
         "orientation": "v",
         "showlegend": true,
         "type": "box",
         "x0": " ",
         "xaxis": "x",
         "y": [
          64,
          52,
          69,
          54,
          71,
          70,
          74,
          42,
          81,
          64,
          90,
          74,
          78,
          55,
          59,
          58,
          37,
          63,
          55,
          74,
          39,
          71,
          86,
          67,
          67,
          74,
          91,
          100,
          89,
          58,
          82,
          63,
          57,
          77,
          82,
          84,
          79,
          61,
          72,
          73,
          75,
          49,
          67,
          62,
          86,
          100,
          69,
          66,
          83,
          62,
          55,
          81,
          71,
          79,
          68,
          80,
          50,
          64,
          75,
          66,
          60,
          68,
          52,
          74,
          83,
          80,
          52,
          73,
          42,
          72,
          92,
          53,
          70,
          52,
          48,
          79,
          78,
          73,
          77,
          87,
          54,
          57,
          61,
          82,
          65,
          70,
          55,
          72,
          73,
          74,
          62,
          90,
          34,
          84,
          74,
          97,
          70,
          90,
          95,
          64,
          70,
          68,
          59,
          99,
          57,
          84,
          71,
          66,
          59,
          58,
          58,
          68,
          66,
          88,
          81,
          66,
          89,
          54,
          31,
          67,
          76,
          68,
          64,
          59,
          47,
          64,
          78,
          79,
          59,
          71,
          49,
          89,
          78,
          49,
          58,
          41,
          66,
          82,
          95,
          63,
          62,
          66,
          75,
          80,
          71,
          68,
          61,
          97,
          73,
          75,
          77,
          77,
          82,
          60,
          57,
          89,
          60,
          78,
          81,
          97,
          48,
          57,
          64,
          84,
          92,
          74,
          52,
          88,
          70,
          79,
          86,
          66,
          60,
          87,
          71,
          63,
          72,
          57,
          77,
          75,
          61,
          72,
          78,
          77,
          89,
          78,
          64,
          34,
          87,
          61,
          100,
          81,
          59,
          92,
          47,
          71,
          73,
          79,
          75,
          69,
          58,
          59,
          58,
          81,
          63,
          71,
          73,
          56,
          66,
          74,
          70,
          74,
          70,
          90,
          86,
          52,
          65,
          54,
          75,
          42,
          82,
          82,
          72,
          76,
          46,
          65,
          51,
          74,
          54,
          78,
          84,
          100,
          84,
          77,
          84,
          42,
          70,
          66,
          70,
          61,
          57,
          71,
          63,
          81,
          68,
          91,
          58,
          77,
          100,
          63,
          54,
          57,
          70,
          100,
          65,
          41,
          78,
          86,
          76,
          72,
          78,
          86
         ],
         "y0": " ",
         "yaxis": "y"
        },
        {
         "alignmentgroup": "True",
         "hovertemplate": "race/ethnicity=group E<br>reading score=%{y}<extra></extra>",
         "legendgroup": "group E",
         "marker": {
          "color": "#FFA15A"
         },
         "name": "group E",
         "notched": false,
         "offsetgroup": "group E",
         "orientation": "v",
         "showlegend": true,
         "type": "box",
         "x0": " ",
         "xaxis": "x",
         "y": [
          72,
          87,
          81,
          56,
          55,
          69,
          85,
          74,
          26,
          68,
          64,
          72,
          63,
          100,
          80,
          74,
          55,
          55,
          100,
          74,
          88,
          92,
          88,
          50,
          76,
          65,
          56,
          62,
          80,
          91,
          86,
          56,
          87,
          83,
          51,
          76,
          73,
          93,
          76,
          63,
          82,
          76,
          73,
          74,
          87,
          86,
          56,
          74,
          57,
          77,
          43,
          49,
          76,
          73,
          67,
          67,
          83,
          73,
          56,
          92,
          100,
          70,
          62,
          71,
          71,
          89,
          74,
          60,
          61,
          88,
          66,
          83,
          45,
          100,
          81,
          79,
          68,
          76,
          78,
          64,
          45,
          58,
          76,
          79,
          62,
          78,
          99,
          75,
          90,
          76,
          81,
          85,
          73,
          74,
          75,
          51,
          58,
          72,
          95,
          68,
          85,
          79,
          84,
          68,
          84,
          60,
          94,
          45,
          84,
          52,
          64,
          85,
          85,
          67,
          86,
          74,
          90,
          70,
          51,
          100,
          85,
          92,
          62,
          34,
          64,
          70,
          100,
          64,
          56,
          43,
          58,
          75,
          73,
          74,
          57,
          100,
          76,
          75,
          81,
          99
         ],
         "y0": " ",
         "yaxis": "y"
        }
       ],
       "layout": {
        "boxmode": "group",
        "legend": {
         "title": {
          "text": "race/ethnicity"
         },
         "tracegroupgap": 0
        },
        "margin": {
         "b": 80,
         "l": 40,
         "r": 30,
         "t": 100
        },
        "paper_bgcolor": "rgb(243, 243, 243)",
        "plot_bgcolor": "rgb(243, 243, 243)",
        "showlegend": false,
        "template": {
         "data": {
          "bar": [
           {
            "error_x": {
             "color": "#2a3f5f"
            },
            "error_y": {
             "color": "#2a3f5f"
            },
            "marker": {
             "line": {
              "color": "#E5ECF6",
              "width": 0.5
             },
             "pattern": {
              "fillmode": "overlay",
              "size": 10,
              "solidity": 0.2
             }
            },
            "type": "bar"
           }
          ],
          "barpolar": [
           {
            "marker": {
             "line": {
              "color": "#E5ECF6",
              "width": 0.5
             },
             "pattern": {
              "fillmode": "overlay",
              "size": 10,
              "solidity": 0.2
             }
            },
            "type": "barpolar"
           }
          ],
          "carpet": [
           {
            "aaxis": {
             "endlinecolor": "#2a3f5f",
             "gridcolor": "white",
             "linecolor": "white",
             "minorgridcolor": "white",
             "startlinecolor": "#2a3f5f"
            },
            "baxis": {
             "endlinecolor": "#2a3f5f",
             "gridcolor": "white",
             "linecolor": "white",
             "minorgridcolor": "white",
             "startlinecolor": "#2a3f5f"
            },
            "type": "carpet"
           }
          ],
          "choropleth": [
           {
            "colorbar": {
             "outlinewidth": 0,
             "ticks": ""
            },
            "type": "choropleth"
           }
          ],
          "contour": [
           {
            "colorbar": {
             "outlinewidth": 0,
             "ticks": ""
            },
            "colorscale": [
             [
              0,
              "#0d0887"
             ],
             [
              0.1111111111111111,
              "#46039f"
             ],
             [
              0.2222222222222222,
              "#7201a8"
             ],
             [
              0.3333333333333333,
              "#9c179e"
             ],
             [
              0.4444444444444444,
              "#bd3786"
             ],
             [
              0.5555555555555556,
              "#d8576b"
             ],
             [
              0.6666666666666666,
              "#ed7953"
             ],
             [
              0.7777777777777778,
              "#fb9f3a"
             ],
             [
              0.8888888888888888,
              "#fdca26"
             ],
             [
              1,
              "#f0f921"
             ]
            ],
            "type": "contour"
           }
          ],
          "contourcarpet": [
           {
            "colorbar": {
             "outlinewidth": 0,
             "ticks": ""
            },
            "type": "contourcarpet"
           }
          ],
          "heatmap": [
           {
            "colorbar": {
             "outlinewidth": 0,
             "ticks": ""
            },
            "colorscale": [
             [
              0,
              "#0d0887"
             ],
             [
              0.1111111111111111,
              "#46039f"
             ],
             [
              0.2222222222222222,
              "#7201a8"
             ],
             [
              0.3333333333333333,
              "#9c179e"
             ],
             [
              0.4444444444444444,
              "#bd3786"
             ],
             [
              0.5555555555555556,
              "#d8576b"
             ],
             [
              0.6666666666666666,
              "#ed7953"
             ],
             [
              0.7777777777777778,
              "#fb9f3a"
             ],
             [
              0.8888888888888888,
              "#fdca26"
             ],
             [
              1,
              "#f0f921"
             ]
            ],
            "type": "heatmap"
           }
          ],
          "heatmapgl": [
           {
            "colorbar": {
             "outlinewidth": 0,
             "ticks": ""
            },
            "colorscale": [
             [
              0,
              "#0d0887"
             ],
             [
              0.1111111111111111,
              "#46039f"
             ],
             [
              0.2222222222222222,
              "#7201a8"
             ],
             [
              0.3333333333333333,
              "#9c179e"
             ],
             [
              0.4444444444444444,
              "#bd3786"
             ],
             [
              0.5555555555555556,
              "#d8576b"
             ],
             [
              0.6666666666666666,
              "#ed7953"
             ],
             [
              0.7777777777777778,
              "#fb9f3a"
             ],
             [
              0.8888888888888888,
              "#fdca26"
             ],
             [
              1,
              "#f0f921"
             ]
            ],
            "type": "heatmapgl"
           }
          ],
          "histogram": [
           {
            "marker": {
             "pattern": {
              "fillmode": "overlay",
              "size": 10,
              "solidity": 0.2
             }
            },
            "type": "histogram"
           }
          ],
          "histogram2d": [
           {
            "colorbar": {
             "outlinewidth": 0,
             "ticks": ""
            },
            "colorscale": [
             [
              0,
              "#0d0887"
             ],
             [
              0.1111111111111111,
              "#46039f"
             ],
             [
              0.2222222222222222,
              "#7201a8"
             ],
             [
              0.3333333333333333,
              "#9c179e"
             ],
             [
              0.4444444444444444,
              "#bd3786"
             ],
             [
              0.5555555555555556,
              "#d8576b"
             ],
             [
              0.6666666666666666,
              "#ed7953"
             ],
             [
              0.7777777777777778,
              "#fb9f3a"
             ],
             [
              0.8888888888888888,
              "#fdca26"
             ],
             [
              1,
              "#f0f921"
             ]
            ],
            "type": "histogram2d"
           }
          ],
          "histogram2dcontour": [
           {
            "colorbar": {
             "outlinewidth": 0,
             "ticks": ""
            },
            "colorscale": [
             [
              0,
              "#0d0887"
             ],
             [
              0.1111111111111111,
              "#46039f"
             ],
             [
              0.2222222222222222,
              "#7201a8"
             ],
             [
              0.3333333333333333,
              "#9c179e"
             ],
             [
              0.4444444444444444,
              "#bd3786"
             ],
             [
              0.5555555555555556,
              "#d8576b"
             ],
             [
              0.6666666666666666,
              "#ed7953"
             ],
             [
              0.7777777777777778,
              "#fb9f3a"
             ],
             [
              0.8888888888888888,
              "#fdca26"
             ],
             [
              1,
              "#f0f921"
             ]
            ],
            "type": "histogram2dcontour"
           }
          ],
          "mesh3d": [
           {
            "colorbar": {
             "outlinewidth": 0,
             "ticks": ""
            },
            "type": "mesh3d"
           }
          ],
          "parcoords": [
           {
            "line": {
             "colorbar": {
              "outlinewidth": 0,
              "ticks": ""
             }
            },
            "type": "parcoords"
           }
          ],
          "pie": [
           {
            "automargin": true,
            "type": "pie"
           }
          ],
          "scatter": [
           {
            "fillpattern": {
             "fillmode": "overlay",
             "size": 10,
             "solidity": 0.2
            },
            "type": "scatter"
           }
          ],
          "scatter3d": [
           {
            "line": {
             "colorbar": {
              "outlinewidth": 0,
              "ticks": ""
             }
            },
            "marker": {
             "colorbar": {
              "outlinewidth": 0,
              "ticks": ""
             }
            },
            "type": "scatter3d"
           }
          ],
          "scattercarpet": [
           {
            "marker": {
             "colorbar": {
              "outlinewidth": 0,
              "ticks": ""
             }
            },
            "type": "scattercarpet"
           }
          ],
          "scattergeo": [
           {
            "marker": {
             "colorbar": {
              "outlinewidth": 0,
              "ticks": ""
             }
            },
            "type": "scattergeo"
           }
          ],
          "scattergl": [
           {
            "marker": {
             "colorbar": {
              "outlinewidth": 0,
              "ticks": ""
             }
            },
            "type": "scattergl"
           }
          ],
          "scattermapbox": [
           {
            "marker": {
             "colorbar": {
              "outlinewidth": 0,
              "ticks": ""
             }
            },
            "type": "scattermapbox"
           }
          ],
          "scatterpolar": [
           {
            "marker": {
             "colorbar": {
              "outlinewidth": 0,
              "ticks": ""
             }
            },
            "type": "scatterpolar"
           }
          ],
          "scatterpolargl": [
           {
            "marker": {
             "colorbar": {
              "outlinewidth": 0,
              "ticks": ""
             }
            },
            "type": "scatterpolargl"
           }
          ],
          "scatterternary": [
           {
            "marker": {
             "colorbar": {
              "outlinewidth": 0,
              "ticks": ""
             }
            },
            "type": "scatterternary"
           }
          ],
          "surface": [
           {
            "colorbar": {
             "outlinewidth": 0,
             "ticks": ""
            },
            "colorscale": [
             [
              0,
              "#0d0887"
             ],
             [
              0.1111111111111111,
              "#46039f"
             ],
             [
              0.2222222222222222,
              "#7201a8"
             ],
             [
              0.3333333333333333,
              "#9c179e"
             ],
             [
              0.4444444444444444,
              "#bd3786"
             ],
             [
              0.5555555555555556,
              "#d8576b"
             ],
             [
              0.6666666666666666,
              "#ed7953"
             ],
             [
              0.7777777777777778,
              "#fb9f3a"
             ],
             [
              0.8888888888888888,
              "#fdca26"
             ],
             [
              1,
              "#f0f921"
             ]
            ],
            "type": "surface"
           }
          ],
          "table": [
           {
            "cells": {
             "fill": {
              "color": "#EBF0F8"
             },
             "line": {
              "color": "white"
             }
            },
            "header": {
             "fill": {
              "color": "#C8D4E3"
             },
             "line": {
              "color": "white"
             }
            },
            "type": "table"
           }
          ]
         },
         "layout": {
          "annotationdefaults": {
           "arrowcolor": "#2a3f5f",
           "arrowhead": 0,
           "arrowwidth": 1
          },
          "autotypenumbers": "strict",
          "coloraxis": {
           "colorbar": {
            "outlinewidth": 0,
            "ticks": ""
           }
          },
          "colorscale": {
           "diverging": [
            [
             0,
             "#8e0152"
            ],
            [
             0.1,
             "#c51b7d"
            ],
            [
             0.2,
             "#de77ae"
            ],
            [
             0.3,
             "#f1b6da"
            ],
            [
             0.4,
             "#fde0ef"
            ],
            [
             0.5,
             "#f7f7f7"
            ],
            [
             0.6,
             "#e6f5d0"
            ],
            [
             0.7,
             "#b8e186"
            ],
            [
             0.8,
             "#7fbc41"
            ],
            [
             0.9,
             "#4d9221"
            ],
            [
             1,
             "#276419"
            ]
           ],
           "sequential": [
            [
             0,
             "#0d0887"
            ],
            [
             0.1111111111111111,
             "#46039f"
            ],
            [
             0.2222222222222222,
             "#7201a8"
            ],
            [
             0.3333333333333333,
             "#9c179e"
            ],
            [
             0.4444444444444444,
             "#bd3786"
            ],
            [
             0.5555555555555556,
             "#d8576b"
            ],
            [
             0.6666666666666666,
             "#ed7953"
            ],
            [
             0.7777777777777778,
             "#fb9f3a"
            ],
            [
             0.8888888888888888,
             "#fdca26"
            ],
            [
             1,
             "#f0f921"
            ]
           ],
           "sequentialminus": [
            [
             0,
             "#0d0887"
            ],
            [
             0.1111111111111111,
             "#46039f"
            ],
            [
             0.2222222222222222,
             "#7201a8"
            ],
            [
             0.3333333333333333,
             "#9c179e"
            ],
            [
             0.4444444444444444,
             "#bd3786"
            ],
            [
             0.5555555555555556,
             "#d8576b"
            ],
            [
             0.6666666666666666,
             "#ed7953"
            ],
            [
             0.7777777777777778,
             "#fb9f3a"
            ],
            [
             0.8888888888888888,
             "#fdca26"
            ],
            [
             1,
             "#f0f921"
            ]
           ]
          },
          "colorway": [
           "#636efa",
           "#EF553B",
           "#00cc96",
           "#ab63fa",
           "#FFA15A",
           "#19d3f3",
           "#FF6692",
           "#B6E880",
           "#FF97FF",
           "#FECB52"
          ],
          "font": {
           "color": "#2a3f5f"
          },
          "geo": {
           "bgcolor": "white",
           "lakecolor": "white",
           "landcolor": "#E5ECF6",
           "showlakes": true,
           "showland": true,
           "subunitcolor": "white"
          },
          "hoverlabel": {
           "align": "left"
          },
          "hovermode": "closest",
          "mapbox": {
           "style": "light"
          },
          "paper_bgcolor": "white",
          "plot_bgcolor": "#E5ECF6",
          "polar": {
           "angularaxis": {
            "gridcolor": "white",
            "linecolor": "white",
            "ticks": ""
           },
           "bgcolor": "#E5ECF6",
           "radialaxis": {
            "gridcolor": "white",
            "linecolor": "white",
            "ticks": ""
           }
          },
          "scene": {
           "xaxis": {
            "backgroundcolor": "#E5ECF6",
            "gridcolor": "white",
            "gridwidth": 2,
            "linecolor": "white",
            "showbackground": true,
            "ticks": "",
            "zerolinecolor": "white"
           },
           "yaxis": {
            "backgroundcolor": "#E5ECF6",
            "gridcolor": "white",
            "gridwidth": 2,
            "linecolor": "white",
            "showbackground": true,
            "ticks": "",
            "zerolinecolor": "white"
           },
           "zaxis": {
            "backgroundcolor": "#E5ECF6",
            "gridcolor": "white",
            "gridwidth": 2,
            "linecolor": "white",
            "showbackground": true,
            "ticks": "",
            "zerolinecolor": "white"
           }
          },
          "shapedefaults": {
           "line": {
            "color": "#2a3f5f"
           }
          },
          "ternary": {
           "aaxis": {
            "gridcolor": "white",
            "linecolor": "white",
            "ticks": ""
           },
           "baxis": {
            "gridcolor": "white",
            "linecolor": "white",
            "ticks": ""
           },
           "bgcolor": "#E5ECF6",
           "caxis": {
            "gridcolor": "white",
            "linecolor": "white",
            "ticks": ""
           }
          },
          "title": {
           "x": 0.05
          },
          "xaxis": {
           "automargin": true,
           "gridcolor": "white",
           "linecolor": "white",
           "ticks": "",
           "title": {
            "standoff": 15
           },
           "zerolinecolor": "white",
           "zerolinewidth": 2
          },
          "yaxis": {
           "automargin": true,
           "gridcolor": "white",
           "linecolor": "white",
           "ticks": "",
           "title": {
            "standoff": 15
           },
           "zerolinecolor": "white",
           "zerolinewidth": 2
          }
         }
        },
        "title": {
         "text": "reading score of all race groups"
        },
        "xaxis": {
         "anchor": "y",
         "domain": [
          0,
          1
         ]
        },
        "yaxis": {
         "anchor": "x",
         "autorange": true,
         "domain": [
          0,
          1
         ],
         "gridcolor": "rgb(255, 255, 255)",
         "gridwidth": 1,
         "showgrid": true,
         "title": {
          "text": "reading score"
         },
         "zeroline": true,
         "zerolinecolor": "rgb(255, 255, 255)",
         "zerolinewidth": 2
        }
       }
      }
     },
     "metadata": {},
     "output_type": "display_data"
    }
   ],
   "source": [
    "fig = px.box(df, y='reading score',color=\"race/ethnicity\",\n",
    "        \n",
    "        title=\"reading score of all race groups\",)\n",
    "\n",
    "fig.update_layout(\n",
    "    \n",
    "    yaxis=dict(\n",
    "        autorange=True,\n",
    "        showgrid=True,\n",
    "        zeroline=True,\n",
    "\n",
    "        gridcolor='rgb(255, 255, 255)',\n",
    "        gridwidth=1,\n",
    "        zerolinecolor='rgb(255, 255, 255)',\n",
    "        zerolinewidth=2,\n",
    "    ),\n",
    "    margin=dict(\n",
    "        l=40,\n",
    "        r=30,\n",
    "        b=80,\n",
    "        t=100,\n",
    "    ),\n",
    "    paper_bgcolor='rgb(243, 243, 243)',\n",
    "    plot_bgcolor='rgb(243, 243, 243)',\n",
    "    showlegend=False\n",
    ")"
   ]
  },
  {
   "attachments": {},
   "cell_type": "markdown",
   "metadata": {},
   "source": [
    "regarding the reading scores, the group E is the highest one, followed by (D, C) with the same mean then, B, and lastly A"
   ]
  },
  {
   "cell_type": "code",
   "execution_count": 23,
   "metadata": {},
   "outputs": [
    {
     "data": {
      "application/vnd.plotly.v1+json": {
       "config": {
        "plotlyServerURL": "https://plot.ly"
       },
       "data": [
        {
         "alignmentgroup": "True",
         "hovertemplate": "race/ethnicity=group B<br>writing score=%{y}<extra></extra>",
         "legendgroup": "group B",
         "marker": {
          "color": "#636efa"
         },
         "name": "group B",
         "notched": false,
         "offsetgroup": "group B",
         "orientation": "v",
         "showlegend": true,
         "type": "box",
         "x0": " ",
         "xaxis": "x",
         "y": [
          74,
          93,
          78,
          92,
          39,
          50,
          73,
          28,
          70,
          55,
          61,
          57,
          65,
          66,
          57,
          61,
          56,
          38,
          50,
          45,
          92,
          62,
          67,
          47,
          70,
          72,
          82,
          92,
          86,
          67,
          41,
          75,
          66,
          60,
          87,
          74,
          52,
          78,
          78,
          58,
          62,
          45,
          66,
          55,
          76,
          68,
          76,
          66,
          75,
          70,
          56,
          73,
          73,
          83,
          51,
          68,
          62,
          70,
          78,
          76,
          57,
          46,
          82,
          82,
          76,
          60,
          64,
          67,
          80,
          57,
          69,
          51,
          81,
          66,
          27,
          74,
          57,
          69,
          70,
          59,
          78,
          83,
          63,
          57,
          63,
          77,
          67,
          34,
          76,
          42,
          72,
          68,
          45,
          91,
          68,
          54,
          57,
          68,
          68,
          92,
          80,
          54,
          62,
          94,
          79,
          68,
          88,
          50,
          70,
          46,
          45,
          47,
          70,
          89,
          58,
          15,
          65,
          56,
          63,
          65,
          81,
          81,
          79,
          60,
          81,
          55,
          79,
          67,
          87,
          66,
          60,
          54,
          68,
          72,
          64,
          74,
          87,
          88,
          41,
          80,
          73,
          47,
          86,
          77,
          63,
          72,
          60,
          49,
          72,
          60,
          55,
          70,
          84,
          82,
          44,
          32,
          60,
          51,
          87,
          51,
          87,
          68,
          82,
          53,
          89,
          45,
          53,
          36,
          76,
          96,
          65,
          46,
          41,
          47,
          78,
          71,
          27,
          79,
          51,
          55,
          91,
          65,
          61,
          80,
          52,
          80,
          60,
          23,
          86,
          78
         ],
         "y0": " ",
         "yaxis": "y"
        },
        {
         "alignmentgroup": "True",
         "hovertemplate": "race/ethnicity=group C<br>writing score=%{y}<extra></extra>",
         "legendgroup": "group C",
         "marker": {
          "color": "#EF553B"
         },
         "name": "group C",
         "notched": false,
         "offsetgroup": "group C",
         "orientation": "v",
         "showlegend": true,
         "type": "box",
         "x0": " ",
         "xaxis": "x",
         "y": [
          88,
          75,
          52,
          78,
          86,
          46,
          61,
          73,
          75,
          65,
          54,
          68,
          76,
          82,
          42,
          87,
          43,
          10,
          71,
          74,
          57,
          56,
          41,
          82,
          88,
          74,
          36,
          71,
          50,
          82,
          90,
          72,
          49,
          74,
          65,
          89,
          93,
          40,
          84,
          48,
          67,
          64,
          33,
          66,
          88,
          49,
          100,
          51,
          70,
          70,
          54,
          87,
          77,
          75,
          66,
          49,
          65,
          87,
          85,
          65,
          86,
          69,
          42,
          27,
          60,
          56,
          39,
          62,
          71,
          94,
          42,
          84,
          80,
          71,
          53,
          68,
          77,
          81,
          77,
          78,
          51,
          81,
          61,
          42,
          73,
          93,
          80,
          68,
          57,
          50,
          81,
          83,
          44,
          69,
          75,
          65,
          78,
          84,
          80,
          53,
          43,
          94,
          62,
          77,
          61,
          35,
          95,
          43,
          52,
          63,
          75,
          95,
          80,
          57,
          70,
          69,
          58,
          58,
          53,
          61,
          70,
          95,
          71,
          67,
          56,
          77,
          95,
          67,
          62,
          68,
          79,
          68,
          67,
          93,
          62,
          86,
          65,
          54,
          59,
          70,
          55,
          66,
          53,
          51,
          79,
          77,
          80,
          85,
          74,
          49,
          62,
          47,
          55,
          91,
          91,
          76,
          90,
          74,
          84,
          61,
          71,
          74,
          70,
          90,
          90,
          52,
          54,
          77,
          87,
          85,
          84,
          50,
          49,
          60,
          43,
          70,
          73,
          53,
          83,
          58,
          68,
          79,
          64,
          64,
          69,
          65,
          33,
          79,
          66,
          74,
          92,
          56,
          64,
          76,
          62,
          65,
          54,
          99,
          72,
          30,
          62,
          82,
          54,
          66,
          91,
          74,
          72,
          68,
          54,
          52,
          55,
          85,
          53,
          64,
          73,
          63,
          67,
          60,
          71,
          61,
          68,
          76,
          84,
          76,
          44,
          53,
          81,
          56,
          90,
          59,
          52,
          90,
          72,
          99,
          74,
          70,
          42,
          37,
          94,
          59,
          84,
          55,
          82,
          72,
          68,
          59,
          75,
          85,
          53,
          64,
          77,
          79,
          43,
          62,
          79,
          61,
          61,
          57,
          68,
          73,
          78,
          69,
          67,
          83,
          88,
          52,
          58,
          70,
          76,
          89,
          74,
          73,
          51,
          85,
          68,
          67,
          55,
          81,
          72,
          53,
          80,
          91,
          52,
          51,
          76,
          61,
          66,
          54,
          66,
          80,
          59,
          74,
          72,
          66,
          66,
          52,
          80,
          46,
          51,
          70,
          74,
          90,
          72,
          64,
          58,
          54,
          69,
          81,
          71,
          75,
          60,
          69,
          77,
          58,
          94,
          82,
          51,
          55,
          65
         ],
         "y0": " ",
         "yaxis": "y"
        },
        {
         "alignmentgroup": "True",
         "hovertemplate": "race/ethnicity=group A<br>writing score=%{y}<extra></extra>",
         "legendgroup": "group A",
         "marker": {
          "color": "#00cc96"
         },
         "name": "group A",
         "notched": false,
         "offsetgroup": "group A",
         "orientation": "v",
         "showlegend": true,
         "type": "box",
         "x0": " ",
         "xaxis": "x",
         "y": [
          44,
          70,
          58,
          72,
          62,
          34,
          55,
          48,
          81,
          54,
          67,
          47,
          51,
          47,
          69,
          68,
          74,
          64,
          49,
          43,
          81,
          69,
          19,
          61,
          60,
          58,
          77,
          62,
          43,
          41,
          43,
          55,
          80,
          53,
          50,
          69,
          73,
          62,
          65,
          85,
          46,
          82,
          76,
          66,
          43,
          86,
          97,
          92,
          53,
          52,
          73,
          65,
          50,
          48,
          93,
          86,
          64,
          76,
          74,
          44,
          70,
          87,
          65,
          43,
          56,
          57,
          82,
          74,
          36,
          49,
          64,
          92,
          57,
          58,
          79,
          63,
          73,
          41,
          82,
          53,
          61,
          64,
          64,
          60,
          67,
          91,
          54,
          45,
          62
         ],
         "y0": " ",
         "yaxis": "y"
        },
        {
         "alignmentgroup": "True",
         "hovertemplate": "race/ethnicity=group D<br>writing score=%{y}<extra></extra>",
         "legendgroup": "group D",
         "marker": {
          "color": "#ab63fa"
         },
         "name": "group D",
         "notched": false,
         "offsetgroup": "group D",
         "orientation": "v",
         "showlegend": true,
         "type": "box",
         "x0": " ",
         "xaxis": "x",
         "y": [
          67,
          43,
          63,
          53,
          80,
          75,
          74,
          38,
          83,
          59,
          88,
          76,
          75,
          49,
          58,
          59,
          37,
          73,
          63,
          72,
          34,
          74,
          82,
          62,
          62,
          74,
          89,
          100,
          98,
          54,
          79,
          61,
          56,
          74,
          74,
          82,
          75,
          69,
          71,
          78,
          81,
          47,
          61,
          64,
          81,
          100,
          70,
          68,
          79,
          62,
          52,
          77,
          78,
          79,
          74,
          75,
          54,
          66,
          77,
          67,
          74,
          66,
          55,
          69,
          83,
          72,
          52,
          68,
          41,
          77,
          95,
          58,
          71,
          42,
          46,
          84,
          78,
          70,
          80,
          75,
          52,
          52,
          68,
          91,
          63,
          69,
          60,
          67,
          67,
          66,
          61,
          89,
          32,
          85,
          72,
          96,
          73,
          82,
          100,
          64,
          75,
          77,
          54,
          100,
          56,
          85,
          74,
          60,
          62,
          64,
          67,
          64,
          73,
          82,
          80,
          60,
          89,
          48,
          38,
          61,
          83,
          72,
          70,
          56,
          56,
          66,
          76,
          82,
          54,
          73,
          52,
          84,
          78,
          52,
          57,
          47,
          62,
          80,
          89,
          66,
          64,
          62,
          79,
          80,
          78,
          67,
          68,
          96,
          78,
          80,
          77,
          73,
          81,
          63,
          51,
          90,
          63,
          83,
          84,
          99,
          46,
          46,
          70,
          80,
          88,
          73,
          51,
          90,
          65,
          81,
          98,
          61,
          58,
          85,
          69,
          63,
          77,
          50,
          78,
          78,
          60,
          74,
          73,
          73,
          86,
          79,
          67,
          36,
          79,
          58,
          99,
          84,
          59,
          84,
          44,
          73,
          72,
          74,
          71,
          68,
          52,
          65,
          54,
          86,
          59,
          75,
          74,
          57,
          70,
          69,
          70,
          75,
          76,
          93,
          81,
          46,
          64,
          50,
          69,
          38,
          88,
          84,
          80,
          74,
          44,
          74,
          48,
          75,
          63,
          82,
          89,
          100,
          84,
          77,
          91,
          48,
          67,
          66,
          69,
          71,
          62,
          73,
          58,
          85,
          69,
          96,
          60,
          83,
          100,
          59,
          53,
          58,
          72,
          100,
          61,
          48,
          78,
          83,
          76,
          74,
          77,
          86
         ],
         "y0": " ",
         "yaxis": "y"
        },
        {
         "alignmentgroup": "True",
         "hovertemplate": "race/ethnicity=group E<br>writing score=%{y}<extra></extra>",
         "legendgroup": "group E",
         "marker": {
          "color": "#FFA15A"
         },
         "name": "group E",
         "notched": false,
         "offsetgroup": "group E",
         "orientation": "v",
         "showlegend": true,
         "type": "box",
         "x0": " ",
         "xaxis": "x",
         "y": [
          65,
          82,
          79,
          54,
          48,
          68,
          86,
          72,
          22,
          68,
          63,
          70,
          64,
          100,
          73,
          70,
          56,
          54,
          93,
          78,
          85,
          91,
          78,
          47,
          65,
          69,
          51,
          62,
          76,
          81,
          88,
          54,
          78,
          83,
          43,
          74,
          70,
          90,
          70,
          75,
          88,
          77,
          75,
          68,
          81,
          79,
          53,
          76,
          52,
          71,
          41,
          45,
          75,
          70,
          59,
          67,
          78,
          69,
          54,
          97,
          100,
          76,
          66,
          67,
          72,
          92,
          73,
          59,
          58,
          94,
          71,
          80,
          40,
          100,
          71,
          80,
          64,
          73,
          80,
          62,
          38,
          62,
          74,
          80,
          68,
          76,
          100,
          68,
          83,
          78,
          82,
          85,
          80,
          71,
          77,
          57,
          57,
          65,
          92,
          72,
          82,
          77,
          77,
          73,
          81,
          54,
          95,
          40,
          76,
          51,
          57,
          84,
          93,
          61,
          87,
          72,
          82,
          70,
          54,
          95,
          91,
          85,
          69,
          38,
          70,
          66,
          100,
          60,
          52,
          44,
          57,
          73,
          71,
          72,
          62,
          100,
          67,
          76,
          75,
          95
         ],
         "y0": " ",
         "yaxis": "y"
        }
       ],
       "layout": {
        "boxmode": "group",
        "legend": {
         "title": {
          "text": "race/ethnicity"
         },
         "tracegroupgap": 0
        },
        "margin": {
         "b": 80,
         "l": 40,
         "r": 30,
         "t": 100
        },
        "paper_bgcolor": "rgb(243, 243, 243)",
        "plot_bgcolor": "rgb(243, 243, 243)",
        "showlegend": false,
        "template": {
         "data": {
          "bar": [
           {
            "error_x": {
             "color": "#2a3f5f"
            },
            "error_y": {
             "color": "#2a3f5f"
            },
            "marker": {
             "line": {
              "color": "#E5ECF6",
              "width": 0.5
             },
             "pattern": {
              "fillmode": "overlay",
              "size": 10,
              "solidity": 0.2
             }
            },
            "type": "bar"
           }
          ],
          "barpolar": [
           {
            "marker": {
             "line": {
              "color": "#E5ECF6",
              "width": 0.5
             },
             "pattern": {
              "fillmode": "overlay",
              "size": 10,
              "solidity": 0.2
             }
            },
            "type": "barpolar"
           }
          ],
          "carpet": [
           {
            "aaxis": {
             "endlinecolor": "#2a3f5f",
             "gridcolor": "white",
             "linecolor": "white",
             "minorgridcolor": "white",
             "startlinecolor": "#2a3f5f"
            },
            "baxis": {
             "endlinecolor": "#2a3f5f",
             "gridcolor": "white",
             "linecolor": "white",
             "minorgridcolor": "white",
             "startlinecolor": "#2a3f5f"
            },
            "type": "carpet"
           }
          ],
          "choropleth": [
           {
            "colorbar": {
             "outlinewidth": 0,
             "ticks": ""
            },
            "type": "choropleth"
           }
          ],
          "contour": [
           {
            "colorbar": {
             "outlinewidth": 0,
             "ticks": ""
            },
            "colorscale": [
             [
              0,
              "#0d0887"
             ],
             [
              0.1111111111111111,
              "#46039f"
             ],
             [
              0.2222222222222222,
              "#7201a8"
             ],
             [
              0.3333333333333333,
              "#9c179e"
             ],
             [
              0.4444444444444444,
              "#bd3786"
             ],
             [
              0.5555555555555556,
              "#d8576b"
             ],
             [
              0.6666666666666666,
              "#ed7953"
             ],
             [
              0.7777777777777778,
              "#fb9f3a"
             ],
             [
              0.8888888888888888,
              "#fdca26"
             ],
             [
              1,
              "#f0f921"
             ]
            ],
            "type": "contour"
           }
          ],
          "contourcarpet": [
           {
            "colorbar": {
             "outlinewidth": 0,
             "ticks": ""
            },
            "type": "contourcarpet"
           }
          ],
          "heatmap": [
           {
            "colorbar": {
             "outlinewidth": 0,
             "ticks": ""
            },
            "colorscale": [
             [
              0,
              "#0d0887"
             ],
             [
              0.1111111111111111,
              "#46039f"
             ],
             [
              0.2222222222222222,
              "#7201a8"
             ],
             [
              0.3333333333333333,
              "#9c179e"
             ],
             [
              0.4444444444444444,
              "#bd3786"
             ],
             [
              0.5555555555555556,
              "#d8576b"
             ],
             [
              0.6666666666666666,
              "#ed7953"
             ],
             [
              0.7777777777777778,
              "#fb9f3a"
             ],
             [
              0.8888888888888888,
              "#fdca26"
             ],
             [
              1,
              "#f0f921"
             ]
            ],
            "type": "heatmap"
           }
          ],
          "heatmapgl": [
           {
            "colorbar": {
             "outlinewidth": 0,
             "ticks": ""
            },
            "colorscale": [
             [
              0,
              "#0d0887"
             ],
             [
              0.1111111111111111,
              "#46039f"
             ],
             [
              0.2222222222222222,
              "#7201a8"
             ],
             [
              0.3333333333333333,
              "#9c179e"
             ],
             [
              0.4444444444444444,
              "#bd3786"
             ],
             [
              0.5555555555555556,
              "#d8576b"
             ],
             [
              0.6666666666666666,
              "#ed7953"
             ],
             [
              0.7777777777777778,
              "#fb9f3a"
             ],
             [
              0.8888888888888888,
              "#fdca26"
             ],
             [
              1,
              "#f0f921"
             ]
            ],
            "type": "heatmapgl"
           }
          ],
          "histogram": [
           {
            "marker": {
             "pattern": {
              "fillmode": "overlay",
              "size": 10,
              "solidity": 0.2
             }
            },
            "type": "histogram"
           }
          ],
          "histogram2d": [
           {
            "colorbar": {
             "outlinewidth": 0,
             "ticks": ""
            },
            "colorscale": [
             [
              0,
              "#0d0887"
             ],
             [
              0.1111111111111111,
              "#46039f"
             ],
             [
              0.2222222222222222,
              "#7201a8"
             ],
             [
              0.3333333333333333,
              "#9c179e"
             ],
             [
              0.4444444444444444,
              "#bd3786"
             ],
             [
              0.5555555555555556,
              "#d8576b"
             ],
             [
              0.6666666666666666,
              "#ed7953"
             ],
             [
              0.7777777777777778,
              "#fb9f3a"
             ],
             [
              0.8888888888888888,
              "#fdca26"
             ],
             [
              1,
              "#f0f921"
             ]
            ],
            "type": "histogram2d"
           }
          ],
          "histogram2dcontour": [
           {
            "colorbar": {
             "outlinewidth": 0,
             "ticks": ""
            },
            "colorscale": [
             [
              0,
              "#0d0887"
             ],
             [
              0.1111111111111111,
              "#46039f"
             ],
             [
              0.2222222222222222,
              "#7201a8"
             ],
             [
              0.3333333333333333,
              "#9c179e"
             ],
             [
              0.4444444444444444,
              "#bd3786"
             ],
             [
              0.5555555555555556,
              "#d8576b"
             ],
             [
              0.6666666666666666,
              "#ed7953"
             ],
             [
              0.7777777777777778,
              "#fb9f3a"
             ],
             [
              0.8888888888888888,
              "#fdca26"
             ],
             [
              1,
              "#f0f921"
             ]
            ],
            "type": "histogram2dcontour"
           }
          ],
          "mesh3d": [
           {
            "colorbar": {
             "outlinewidth": 0,
             "ticks": ""
            },
            "type": "mesh3d"
           }
          ],
          "parcoords": [
           {
            "line": {
             "colorbar": {
              "outlinewidth": 0,
              "ticks": ""
             }
            },
            "type": "parcoords"
           }
          ],
          "pie": [
           {
            "automargin": true,
            "type": "pie"
           }
          ],
          "scatter": [
           {
            "fillpattern": {
             "fillmode": "overlay",
             "size": 10,
             "solidity": 0.2
            },
            "type": "scatter"
           }
          ],
          "scatter3d": [
           {
            "line": {
             "colorbar": {
              "outlinewidth": 0,
              "ticks": ""
             }
            },
            "marker": {
             "colorbar": {
              "outlinewidth": 0,
              "ticks": ""
             }
            },
            "type": "scatter3d"
           }
          ],
          "scattercarpet": [
           {
            "marker": {
             "colorbar": {
              "outlinewidth": 0,
              "ticks": ""
             }
            },
            "type": "scattercarpet"
           }
          ],
          "scattergeo": [
           {
            "marker": {
             "colorbar": {
              "outlinewidth": 0,
              "ticks": ""
             }
            },
            "type": "scattergeo"
           }
          ],
          "scattergl": [
           {
            "marker": {
             "colorbar": {
              "outlinewidth": 0,
              "ticks": ""
             }
            },
            "type": "scattergl"
           }
          ],
          "scattermapbox": [
           {
            "marker": {
             "colorbar": {
              "outlinewidth": 0,
              "ticks": ""
             }
            },
            "type": "scattermapbox"
           }
          ],
          "scatterpolar": [
           {
            "marker": {
             "colorbar": {
              "outlinewidth": 0,
              "ticks": ""
             }
            },
            "type": "scatterpolar"
           }
          ],
          "scatterpolargl": [
           {
            "marker": {
             "colorbar": {
              "outlinewidth": 0,
              "ticks": ""
             }
            },
            "type": "scatterpolargl"
           }
          ],
          "scatterternary": [
           {
            "marker": {
             "colorbar": {
              "outlinewidth": 0,
              "ticks": ""
             }
            },
            "type": "scatterternary"
           }
          ],
          "surface": [
           {
            "colorbar": {
             "outlinewidth": 0,
             "ticks": ""
            },
            "colorscale": [
             [
              0,
              "#0d0887"
             ],
             [
              0.1111111111111111,
              "#46039f"
             ],
             [
              0.2222222222222222,
              "#7201a8"
             ],
             [
              0.3333333333333333,
              "#9c179e"
             ],
             [
              0.4444444444444444,
              "#bd3786"
             ],
             [
              0.5555555555555556,
              "#d8576b"
             ],
             [
              0.6666666666666666,
              "#ed7953"
             ],
             [
              0.7777777777777778,
              "#fb9f3a"
             ],
             [
              0.8888888888888888,
              "#fdca26"
             ],
             [
              1,
              "#f0f921"
             ]
            ],
            "type": "surface"
           }
          ],
          "table": [
           {
            "cells": {
             "fill": {
              "color": "#EBF0F8"
             },
             "line": {
              "color": "white"
             }
            },
            "header": {
             "fill": {
              "color": "#C8D4E3"
             },
             "line": {
              "color": "white"
             }
            },
            "type": "table"
           }
          ]
         },
         "layout": {
          "annotationdefaults": {
           "arrowcolor": "#2a3f5f",
           "arrowhead": 0,
           "arrowwidth": 1
          },
          "autotypenumbers": "strict",
          "coloraxis": {
           "colorbar": {
            "outlinewidth": 0,
            "ticks": ""
           }
          },
          "colorscale": {
           "diverging": [
            [
             0,
             "#8e0152"
            ],
            [
             0.1,
             "#c51b7d"
            ],
            [
             0.2,
             "#de77ae"
            ],
            [
             0.3,
             "#f1b6da"
            ],
            [
             0.4,
             "#fde0ef"
            ],
            [
             0.5,
             "#f7f7f7"
            ],
            [
             0.6,
             "#e6f5d0"
            ],
            [
             0.7,
             "#b8e186"
            ],
            [
             0.8,
             "#7fbc41"
            ],
            [
             0.9,
             "#4d9221"
            ],
            [
             1,
             "#276419"
            ]
           ],
           "sequential": [
            [
             0,
             "#0d0887"
            ],
            [
             0.1111111111111111,
             "#46039f"
            ],
            [
             0.2222222222222222,
             "#7201a8"
            ],
            [
             0.3333333333333333,
             "#9c179e"
            ],
            [
             0.4444444444444444,
             "#bd3786"
            ],
            [
             0.5555555555555556,
             "#d8576b"
            ],
            [
             0.6666666666666666,
             "#ed7953"
            ],
            [
             0.7777777777777778,
             "#fb9f3a"
            ],
            [
             0.8888888888888888,
             "#fdca26"
            ],
            [
             1,
             "#f0f921"
            ]
           ],
           "sequentialminus": [
            [
             0,
             "#0d0887"
            ],
            [
             0.1111111111111111,
             "#46039f"
            ],
            [
             0.2222222222222222,
             "#7201a8"
            ],
            [
             0.3333333333333333,
             "#9c179e"
            ],
            [
             0.4444444444444444,
             "#bd3786"
            ],
            [
             0.5555555555555556,
             "#d8576b"
            ],
            [
             0.6666666666666666,
             "#ed7953"
            ],
            [
             0.7777777777777778,
             "#fb9f3a"
            ],
            [
             0.8888888888888888,
             "#fdca26"
            ],
            [
             1,
             "#f0f921"
            ]
           ]
          },
          "colorway": [
           "#636efa",
           "#EF553B",
           "#00cc96",
           "#ab63fa",
           "#FFA15A",
           "#19d3f3",
           "#FF6692",
           "#B6E880",
           "#FF97FF",
           "#FECB52"
          ],
          "font": {
           "color": "#2a3f5f"
          },
          "geo": {
           "bgcolor": "white",
           "lakecolor": "white",
           "landcolor": "#E5ECF6",
           "showlakes": true,
           "showland": true,
           "subunitcolor": "white"
          },
          "hoverlabel": {
           "align": "left"
          },
          "hovermode": "closest",
          "mapbox": {
           "style": "light"
          },
          "paper_bgcolor": "white",
          "plot_bgcolor": "#E5ECF6",
          "polar": {
           "angularaxis": {
            "gridcolor": "white",
            "linecolor": "white",
            "ticks": ""
           },
           "bgcolor": "#E5ECF6",
           "radialaxis": {
            "gridcolor": "white",
            "linecolor": "white",
            "ticks": ""
           }
          },
          "scene": {
           "xaxis": {
            "backgroundcolor": "#E5ECF6",
            "gridcolor": "white",
            "gridwidth": 2,
            "linecolor": "white",
            "showbackground": true,
            "ticks": "",
            "zerolinecolor": "white"
           },
           "yaxis": {
            "backgroundcolor": "#E5ECF6",
            "gridcolor": "white",
            "gridwidth": 2,
            "linecolor": "white",
            "showbackground": true,
            "ticks": "",
            "zerolinecolor": "white"
           },
           "zaxis": {
            "backgroundcolor": "#E5ECF6",
            "gridcolor": "white",
            "gridwidth": 2,
            "linecolor": "white",
            "showbackground": true,
            "ticks": "",
            "zerolinecolor": "white"
           }
          },
          "shapedefaults": {
           "line": {
            "color": "#2a3f5f"
           }
          },
          "ternary": {
           "aaxis": {
            "gridcolor": "white",
            "linecolor": "white",
            "ticks": ""
           },
           "baxis": {
            "gridcolor": "white",
            "linecolor": "white",
            "ticks": ""
           },
           "bgcolor": "#E5ECF6",
           "caxis": {
            "gridcolor": "white",
            "linecolor": "white",
            "ticks": ""
           }
          },
          "title": {
           "x": 0.05
          },
          "xaxis": {
           "automargin": true,
           "gridcolor": "white",
           "linecolor": "white",
           "ticks": "",
           "title": {
            "standoff": 15
           },
           "zerolinecolor": "white",
           "zerolinewidth": 2
          },
          "yaxis": {
           "automargin": true,
           "gridcolor": "white",
           "linecolor": "white",
           "ticks": "",
           "title": {
            "standoff": 15
           },
           "zerolinecolor": "white",
           "zerolinewidth": 2
          }
         }
        },
        "title": {
         "text": "writing score of all race groups"
        },
        "xaxis": {
         "anchor": "y",
         "domain": [
          0,
          1
         ]
        },
        "yaxis": {
         "anchor": "x",
         "autorange": true,
         "domain": [
          0,
          1
         ],
         "gridcolor": "rgb(255, 255, 255)",
         "gridwidth": 1,
         "showgrid": true,
         "title": {
          "text": "writing score"
         },
         "zeroline": true,
         "zerolinecolor": "rgb(255, 255, 255)",
         "zerolinewidth": 2
        }
       }
      }
     },
     "metadata": {},
     "output_type": "display_data"
    }
   ],
   "source": [
    "fig =px.box(df, y='writing score',color=\"race/ethnicity\",\n",
    "        \n",
    "        title=\"writing score of all race groups\",)\n",
    "fig.update_layout(\n",
    "    \n",
    "    yaxis=dict(\n",
    "        autorange=True,\n",
    "        showgrid=True,\n",
    "        zeroline=True,\n",
    "\n",
    "        gridcolor='rgb(255, 255, 255)',\n",
    "        gridwidth=1,\n",
    "        zerolinecolor='rgb(255, 255, 255)',\n",
    "        zerolinewidth=2,\n",
    "    ),\n",
    "    margin=dict(\n",
    "        l=40,\n",
    "        r=30,\n",
    "        b=80,\n",
    "        t=100,\n",
    "    ),\n",
    "    paper_bgcolor='rgb(243, 243, 243)',\n",
    "    plot_bgcolor='rgb(243, 243, 243)',\n",
    "    showlegend=False\n",
    ")"
   ]
  },
  {
   "attachments": {},
   "cell_type": "markdown",
   "metadata": {},
   "source": [
    "regarding the writing scores, the group E and D are the highest groups, followed by C, B, and lastly A"
   ]
  },
  {
   "attachments": {},
   "cell_type": "markdown",
   "metadata": {},
   "source": [
    "the result is that race can affect the student performance, every culture have different point of view which can play a part in our lives and how we can do things and the expected results \n",
    "\n",
    "Race E is the one how have a better chance of scoring higher scores and race A have lower chance of doing the same "
   ]
  },
  {
   "attachments": {},
   "cell_type": "markdown",
   "metadata": {},
   "source": [
    "### scores and test preparation course"
   ]
  },
  {
   "attachments": {},
   "cell_type": "markdown",
   "metadata": {},
   "source": [
    "this histogram shows the probability of given score based on whether the student completed the test preparation course or not  "
   ]
  },
  {
   "cell_type": "code",
   "execution_count": 24,
   "metadata": {},
   "outputs": [
    {
     "data": {
      "application/vnd.plotly.v1+json": {
       "config": {
        "plotlyServerURL": "https://plot.ly"
       },
       "data": [
        {
         "alignmentgroup": "True",
         "bingroup": "x",
         "histnorm": "probability",
         "hovertemplate": "test preparation course=not completed<br>overall score=%{x}<br>probability=%{y}<extra></extra>",
         "legendgroup": "not completed",
         "marker": {
          "color": "#636efa",
          "opacity": 0.5,
          "pattern": {
           "shape": ""
          }
         },
         "name": "not completed",
         "offsetgroup": "not completed",
         "orientation": "v",
         "showlegend": true,
         "type": "histogram",
         "x": [
          72.66666666666667,
          92.66666666666667,
          49.333333333333336,
          76.33333333333333,
          77.33333333333333,
          40.666666666666664,
          49.333333333333336,
          54.666666666666664,
          45,
          73,
          53.666666666666664,
          74,
          87.66666666666667,
          26,
          57.666666666666664,
          66,
          50.333333333333336,
          71.66666666666667,
          73,
          59.333333333333336,
          70.33333333333333,
          68.33333333333333,
          69,
          72.33333333333333,
          63,
          64.33333333333333,
          40,
          88.66666666666667,
          79.33333333333333,
          57.666666666666664,
          56.666666666666664,
          56.666666666666664,
          66.33333333333333,
          58.666666666666664,
          53.333333333333336,
          58.666666666666664,
          71,
          52,
          46.333333333333336,
          80.33333333333333,
          39,
          52,
          9,
          37.333333333333336,
          59.333333333333336,
          73.33333333333333,
          58.666666666666664,
          64,
          39.666666666666664,
          68.66666666666667,
          58.333333333333336,
          53.333333333333336,
          46.666666666666664,
          58,
          46.333333333333336,
          41,
          26,
          66,
          48.666666666666664,
          46.333333333333336,
          66.33333333333333,
          38.333333333333336,
          78.33333333333333,
          82.33333333333333,
          72,
          65,
          80.33333333333333,
          70.33333333333333,
          32.333333333333336,
          73.66666666666667,
          85.66666666666667,
          62.333333333333336,
          64.66666666666667,
          71,
          88.33333333333333,
          65.66666666666667,
          95.66666666666667,
          66,
          68.66666666666667,
          55.333333333333336,
          51.333333333333336,
          54.333333333333336,
          78.33333333333333,
          80.66666666666667,
          79.66666666666667,
          58.333333333333336,
          63,
          58.666666666666664,
          78.66666666666667,
          89.33333333333333,
          69,
          79.33333333333333,
          50.333333333333336,
          85,
          53.666666666666664,
          60.333333333333336,
          64,
          73,
          61.666666666666664,
          49,
          79.66666666666667,
          31.333333333333332,
          82.33333333333333,
          69,
          70.66666666666667,
          50,
          63.333333333333336,
          60,
          64,
          51.333333333333336,
          51.333333333333336,
          88,
          86.66666666666667,
          82,
          66.66666666666667,
          58.666666666666664,
          49,
          68,
          73.66666666666667,
          48.333333333333336,
          84,
          66.66666666666667,
          64,
          56,
          54,
          51,
          77.66666666666667,
          74.33333333333333,
          71.66666666666667,
          64.66666666666667,
          47.333333333333336,
          68.66666666666667,
          77,
          61.666666666666664,
          30,
          54.666666666666664,
          38.333333333333336,
          71,
          81.66666666666667,
          60.666666666666664,
          80.33333333333333,
          51.666666666666664,
          71.66666666666667,
          53.666666666666664,
          68,
          68.66666666666667,
          43.666666666666664,
          78.66666666666667,
          85.66666666666667,
          77.33333333333333,
          65.33333333333333,
          52.333333333333336,
          81.33333333333333,
          82,
          54.333333333333336,
          51,
          72.66666666666667,
          77.33333333333333,
          79.66666666666667,
          63.666666666666664,
          60.333333333333336,
          79,
          77.33333333333333,
          52.666666666666664,
          68.33333333333333,
          68.33333333333333,
          74.33333333333333,
          48.333333333333336,
          94,
          72.33333333333333,
          47.333333333333336,
          73,
          72.66666666666667,
          72.33333333333333,
          64.33333333333333,
          49.666666666666664,
          52.666666666666664,
          68.66666666666667,
          78,
          77,
          62,
          49,
          46.333333333333336,
          78.66666666666667,
          43,
          79.33333333333333,
          79.66666666666667,
          71.33333333333333,
          76.33333333333333,
          71,
          63,
          84,
          54,
          73.33333333333333,
          68.33333333333333,
          49,
          63.666666666666664,
          52.666666666666664,
          76.33333333333333,
          61,
          67.33333333333333,
          77.66666666666667,
          67.66666666666667,
          61.333333333333336,
          80,
          77.33333333333333,
          49.666666666666664,
          43.333333333333336,
          88.66666666666667,
          61.333333333333336,
          23.333333333333332,
          49,
          64,
          39.666666666666664,
          83,
          90.33333333333333,
          65,
          47.666666666666664,
          29.666666666666668,
          57,
          65.66666666666667,
          73,
          75.66666666666667,
          60,
          71.66666666666667,
          79,
          62,
          58.333333333333336,
          53.666666666666664,
          66.66666666666667,
          67.66666666666667,
          61.666666666666664,
          60.666666666666664,
          86.33333333333333,
          59.666666666666664,
          56,
          31,
          59,
          62.666666666666664,
          55.333333333333336,
          80.66666666666667,
          77.33333333333333,
          73.33333333333333,
          67.33333333333333,
          43.333333333333336,
          84,
          77,
          64,
          83,
          77,
          44,
          41.333333333333336,
          72.66666666666667,
          69,
          67.33333333333333,
          63.333333333333336,
          72.66666666666667,
          74,
          70,
          44.666666666666664,
          60,
          89.66666666666667,
          64.66666666666667,
          57.666666666666664,
          46.333333333333336,
          56.333333333333336,
          58.333333333333336,
          68,
          79.66666666666667,
          65.66666666666667,
          75.33333333333333,
          71.33333333333333,
          63,
          38,
          63.666666666666664,
          85,
          68.33333333333333,
          59,
          61.666666666666664,
          63,
          67.66666666666667,
          57.333333333333336,
          52,
          68.33333333333333,
          69,
          71.33333333333333,
          59,
          79.66666666666667,
          67,
          77.33333333333333,
          78,
          65,
          45,
          75.33333333333333,
          96.33333333333333,
          72,
          57.333333333333336,
          58.666666666666664,
          46.666666666666664,
          85.66666666666667,
          51.666666666666664,
          100,
          55.333333333333336,
          51,
          72.33333333333333,
          86,
          87.33333333333333,
          31.666666666666668,
          80.33333333333333,
          68.66666666666667,
          62.333333333333336,
          73.33333333333333,
          63,
          71.33333333333333,
          55.666666666666664,
          65.66666666666667,
          52.333333333333336,
          51.666666666666664,
          71.66666666666667,
          54.666666666666664,
          69.66666666666667,
          75.33333333333333,
          66,
          85.33333333333333,
          86.33333333333333,
          62,
          51.333333333333336,
          67.66666666666667,
          73,
          78.33333333333333,
          59.333333333333336,
          51,
          81.33333333333333,
          68,
          56,
          78,
          88.33333333333333,
          73.33333333333333,
          52.333333333333336,
          54.333333333333336,
          82.33333333333333,
          57.333333333333336,
          87,
          61.333333333333336,
          54.333333333333336,
          62.333333333333336,
          44,
          39,
          68.66666666666667,
          51.333333333333336,
          59.666666666666664,
          79,
          88.66666666666667,
          64.33333333333333,
          64.33333333333333,
          73.33333333333333,
          73.33333333333333,
          46,
          67.66666666666667,
          46,
          34.666666666666664,
          64.66666666666667,
          64.33333333333333,
          67,
          70.33333333333333,
          48.333333333333336,
          45.333333333333336,
          52.666666666666664,
          67.66666666666667,
          93,
          57,
          75.33333333333333,
          87,
          60.666666666666664,
          91.33333333333333,
          78.66666666666667,
          71.33333333333333,
          74.33333333333333,
          72.33333333333333,
          67,
          56.333333333333336,
          61,
          59.666666666666664,
          56.333333333333336,
          61,
          66.66666666666667,
          74.33333333333333,
          23,
          51.666666666666664,
          73,
          76,
          59,
          29.333333333333332,
          78,
          56,
          69.66666666666667,
          83.66666666666667,
          50.666666666666664,
          62.333333333333336,
          62,
          61,
          72,
          89.33333333333333,
          66.66666666666667,
          40,
          83,
          86.66666666666667,
          50,
          60.333333333333336,
          60.333333333333336,
          51.666666666666664,
          50.666666666666664,
          67,
          68,
          82.66666666666667,
          82.66666666666667,
          69.66666666666667,
          78.66666666666667,
          74.33333333333333,
          48,
          77.33333333333333,
          65,
          64.66666666666667,
          64.66666666666667,
          52.666666666666664,
          77,
          65.33333333333333,
          69.33333333333333,
          65.33333333333333,
          53.666666666666664,
          87.33333333333333,
          74.66666666666667,
          67.33333333333333,
          65,
          67,
          68.66666666666667,
          83,
          69.33333333333333,
          70,
          53,
          74.33333333333333,
          78,
          61.333333333333336,
          71,
          62.666666666666664,
          57,
          76,
          51.666666666666664,
          88.66666666666667,
          51.666666666666664,
          75.66666666666667,
          75.66666666666667,
          56,
          84.66666666666667,
          67,
          63.666666666666664,
          65.33333333333333,
          64.66666666666667,
          66.33333333333333,
          38.666666666666664,
          59,
          85,
          99,
          82,
          75.33333333333333,
          68,
          46.666666666666664,
          43.666666666666664,
          83,
          43,
          48,
          48.666666666666664,
          56,
          61,
          85,
          75,
          58.666666666666664,
          75,
          50,
          82.33333333333333,
          52.333333333333336,
          75,
          71.66666666666667,
          67,
          56.333333333333336,
          68.33333333333333,
          55.333333333333336,
          90.33333333333333,
          55,
          63,
          53.333333333333336,
          62.333333333333336,
          60.666666666666664,
          72.66666666666667,
          71.33333333333333,
          58.333333333333336,
          49.666666666666664,
          74,
          73,
          63.666666666666664,
          54,
          69.33333333333333,
          40.666666666666664,
          53,
          83.66666666666667,
          76,
          29.666666666666668,
          64.66666666666667,
          59.333333333333336,
          56.666666666666664,
          65.33333333333333,
          69.66666666666667,
          48.333333333333336,
          70,
          78.33333333333333,
          61,
          54.666666666666664,
          92,
          84.66666666666667,
          75.66666666666667,
          76.66666666666667,
          71,
          42,
          78,
          54.666666666666664,
          39.333333333333336,
          47,
          78.33333333333333,
          56,
          66.66666666666667,
          85.33333333333333,
          87,
          80,
          52.666666666666664,
          62.333333333333336,
          70,
          58.333333333333336,
          59.333333333333336,
          60.666666666666664,
          51,
          64.66666666666667,
          72,
          45.666666666666664,
          57.666666666666664,
          86.33333333333333,
          56,
          66.33333333333333,
          74.66666666666667,
          68.33333333333333,
          64,
          88.33333333333333,
          70,
          60.333333333333336,
          96.66666666666667,
          69.33333333333333,
          75,
          77.33333333333333,
          56,
          84.66666666666667,
          93.66666666666667,
          54.666666666666664,
          48,
          50.333333333333336,
          54.666666666666664,
          87.33333333333333,
          55.333333333333336,
          70,
          82.33333333333333,
          57.333333333333336,
          70.33333333333333,
          71.33333333333333,
          69.33333333333333,
          48.333333333333336,
          52,
          61.666666666666664,
          69.33333333333333,
          47.666666666666664,
          87.33333333333333,
          63.333333333333336,
          63.333333333333336,
          34.666666666666664,
          30.666666666666668,
          86,
          75,
          78.33333333333333,
          80.66666666666667,
          52,
          71.33333333333333,
          46.666666666666664,
          78.33333333333333,
          54,
          68,
          52.333333333333336,
          68.66666666666667,
          44.666666666666664,
          68,
          61.333333333333336,
          71,
          57.333333333333336,
          51.666666666666664,
          60.333333333333336,
          63.666666666666664,
          59,
          57.333333333333336,
          88.33333333333333,
          70.33333333333333,
          62.333333333333336,
          57.666666666666664,
          81.33333333333333,
          55.666666666666664,
          79.33333333333333,
          73.33333333333333,
          66.66666666666667,
          63.666666666666664,
          84,
          97.33333333333333,
          55.666666666666664,
          75.66666666666667,
          59.333333333333336,
          51.666666666666664,
          100,
          62.333333333333336,
          68,
          62,
          70.33333333333333,
          79.66666666666667,
          96.33333333333333,
          58.333333333333336,
          61.333333333333336,
          61.666666666666664,
          93.33333333333333,
          18.333333333333332,
          79,
          77,
          54,
          50,
          44.666666666666664,
          69,
          69.33333333333333,
          62.666666666666664,
          57.333333333333336,
          83
         ],
         "xaxis": "x",
         "yaxis": "y"
        },
        {
         "alignmentgroup": "True",
         "bingroup": "x",
         "histnorm": "probability",
         "hovertemplate": "test preparation course=completed<br>overall score=%{x}<br>probability=%{y}<extra></extra>",
         "legendgroup": "completed",
         "marker": {
          "color": "#EF553B",
          "opacity": 0.5,
          "pattern": {
           "shape": ""
          }
         },
         "name": "completed",
         "offsetgroup": "completed",
         "orientation": "v",
         "showlegend": true,
         "type": "histogram",
         "x": [
          82.33333333333333,
          91.66666666666667,
          65,
          73.33333333333333,
          44.666666666666664,
          70,
          75,
          80.33333333333333,
          84.33333333333333,
          63.333333333333336,
          60.666666666666664,
          69,
          82.66666666666667,
          71.33333333333333,
          80.66666666666667,
          84.33333333333333,
          58.333333333333336,
          75,
          64.66666666666667,
          60.333333333333336,
          79.66666666666667,
          69,
          50.333333333333336,
          46,
          80.33333333333333,
          64.33333333333333,
          68.33333333333333,
          72,
          50.333333333333336,
          91.33333333333333,
          64.33333333333333,
          88,
          99.66666666666667,
          86.66666666666667,
          90.66666666666667,
          91.33333333333333,
          72,
          43.333333333333336,
          77,
          80,
          76,
          48.666666666666664,
          67,
          50.333333333333336,
          74.66666666666667,
          97.66666666666667,
          66,
          65,
          82.33333333333333,
          72.66666666666667,
          78,
          78,
          82.66666666666667,
          98.66666666666667,
          51.666666666666664,
          70.66666666666667,
          76.33333333333333,
          70.66666666666667,
          73,
          49.333333333333336,
          86.33333333333333,
          52.666666666666664,
          75,
          61.333333333333336,
          99,
          68.33333333333333,
          48.666666666666664,
          65.66666666666667,
          65.33333333333333,
          79.33333333333333,
          67,
          79.33333333333333,
          64.33333333333333,
          79,
          74.33333333333333,
          79,
          79.33333333333333,
          55.666666666666664,
          86.33333333333333,
          80.66666666666667,
          85.66666666666667,
          57.666666666666664,
          66,
          63.666666666666664,
          92.33333333333333,
          83,
          66,
          69,
          65.33333333333333,
          48.333333333333336,
          66.66666666666667,
          77.33333333333333,
          75.66666666666667,
          73.33333333333333,
          78.66666666666667,
          91.66666666666667,
          83,
          90,
          65.66666666666667,
          75.33333333333333,
          81.66666666666667,
          89,
          76.66666666666667,
          60,
          78.33333333333333,
          43.333333333333336,
          71,
          45.333333333333336,
          80,
          77.33333333333333,
          77.33333333333333,
          89,
          65.33333333333333,
          68,
          66,
          83.33333333333333,
          76.66666666666667,
          78,
          57,
          71.66666666666667,
          50,
          73,
          68.66666666666667,
          88.66666666666667,
          73.66666666666667,
          59,
          82.33333333333333,
          55.666666666666664,
          60,
          62.666666666666664,
          91.66666666666667,
          93.33333333333333,
          94,
          66.33333333333333,
          55.666666666666664,
          72,
          60,
          95.66666666666667,
          64.33333333333333,
          55,
          85.33333333333333,
          71.66666666666667,
          81.66666666666667,
          65.66666666666667,
          67.33333333333333,
          71,
          55.666666666666664,
          89.33333333333333,
          59.666666666666664,
          57.333333333333336,
          74.66666666666667,
          50.333333333333336,
          86.33333333333333,
          75.66666666666667,
          72.66666666666667,
          82.33333333333333,
          78,
          68.33333333333333,
          65,
          68,
          83.33333333333333,
          86,
          79.33333333333333,
          90.33333333333333,
          76.66666666666667,
          68,
          70.66666666666667,
          58,
          81,
          66,
          71,
          91,
          92,
          59,
          89.33333333333333,
          82.66666666666667,
          71,
          74,
          74.66666666666667,
          51.333333333333336,
          59,
          69.33333333333333,
          60.333333333333336,
          87,
          70,
          77.33333333333333,
          56.333333333333336,
          74,
          91.66666666666667,
          70.66666666666667,
          80.33333333333333,
          80.33333333333333,
          96.33333333333333,
          67.66666666666667,
          88.33333333333333,
          68.66666666666667,
          76,
          92.66666666666667,
          74.33333333333333,
          97.33333333333333,
          70,
          72,
          60,
          49.333333333333336,
          54.666666666666664,
          54,
          76,
          97,
          69,
          87.66666666666667,
          64,
          91.66666666666667,
          68.66666666666667,
          53.666666666666664,
          94,
          98.66666666666667,
          67.33333333333333,
          50,
          73.66666666666667,
          76,
          86.66666666666667,
          84,
          77.66666666666667,
          75.66666666666667,
          76.33333333333333,
          53.333333333333336,
          74.66666666666667,
          89.66666666666667,
          69.66666666666667,
          56.666666666666664,
          69,
          76.66666666666667,
          77.66666666666667,
          74.66666666666667,
          60,
          75.66666666666667,
          76,
          37.666666666666664,
          65.33333333333333,
          97.66666666666667,
          76,
          73.66666666666667,
          82.33333333333333,
          71.33333333333333,
          80.66666666666667,
          86,
          62,
          53.666666666666664,
          89,
          83.33333333333333,
          68,
          85.66666666666667,
          74.33333333333333,
          97,
          81.33333333333333,
          57.666666666666664,
          84,
          75.33333333333333,
          72.33333333333333,
          58.666666666666664,
          75,
          90,
          64,
          68,
          85.66666666666667,
          69.33333333333333,
          77,
          84,
          70,
          58.666666666666664,
          74.33333333333333,
          81.66666666666667,
          70,
          66,
          63.666666666666664,
          77.66666666666667,
          87,
          81,
          57.666666666666664,
          83.66666666666667,
          42.333333333333336,
          83.33333333333333,
          66,
          69.33333333333333,
          76.33333333333333,
          61.666666666666664,
          82.33333333333333,
          89,
          69,
          89,
          50.666666666666664,
          64.66666666666667,
          78.66666666666667,
          83,
          82.66666666666667,
          66,
          78.66666666666667,
          56,
          34.333333333333336,
          75.66666666666667,
          56.333333333333336,
          87,
          49,
          39.666666666666664,
          74,
          84,
          74.66666666666667,
          72.66666666666667,
          81.33333333333333,
          64.33333333333333,
          70.33333333333333,
          72.66666666666667,
          96,
          87.33333333333333,
          79,
          73.33333333333333,
          61.333333333333336,
          75,
          41,
          97.66666666666667,
          84.66666666666667,
          68,
          59.666666666666664,
          58.333333333333336,
          100,
          71.33333333333333,
          92.66666666666667,
          66,
          65.66666666666667,
          44.333333333333336,
          70.33333333333333,
          68.33333333333333,
          73,
          91.66666666666667,
          83.66666666666667,
          71.33333333333333,
          70,
          61.333333333333336,
          50.333333333333336,
          68.33333333333333,
          78.33333333333333,
          54.666666666666664,
          72,
          66,
          73,
          54.333333333333336,
          74.33333333333333,
          60.666666666666664,
          48,
          83.33333333333333,
          85.33333333333333,
          77.33333333333333,
          78.66666666666667,
          80.66666666666667,
          75,
          94,
          65,
          74.33333333333333
         ],
         "xaxis": "x",
         "yaxis": "y"
        }
       ],
       "layout": {
        "barmode": "overlay",
        "legend": {
         "title": {
          "text": "test preparation course"
         },
         "tracegroupgap": 0
        },
        "margin": {
         "t": 60
        },
        "template": {
         "data": {
          "bar": [
           {
            "error_x": {
             "color": "#2a3f5f"
            },
            "error_y": {
             "color": "#2a3f5f"
            },
            "marker": {
             "line": {
              "color": "#E5ECF6",
              "width": 0.5
             },
             "pattern": {
              "fillmode": "overlay",
              "size": 10,
              "solidity": 0.2
             }
            },
            "type": "bar"
           }
          ],
          "barpolar": [
           {
            "marker": {
             "line": {
              "color": "#E5ECF6",
              "width": 0.5
             },
             "pattern": {
              "fillmode": "overlay",
              "size": 10,
              "solidity": 0.2
             }
            },
            "type": "barpolar"
           }
          ],
          "carpet": [
           {
            "aaxis": {
             "endlinecolor": "#2a3f5f",
             "gridcolor": "white",
             "linecolor": "white",
             "minorgridcolor": "white",
             "startlinecolor": "#2a3f5f"
            },
            "baxis": {
             "endlinecolor": "#2a3f5f",
             "gridcolor": "white",
             "linecolor": "white",
             "minorgridcolor": "white",
             "startlinecolor": "#2a3f5f"
            },
            "type": "carpet"
           }
          ],
          "choropleth": [
           {
            "colorbar": {
             "outlinewidth": 0,
             "ticks": ""
            },
            "type": "choropleth"
           }
          ],
          "contour": [
           {
            "colorbar": {
             "outlinewidth": 0,
             "ticks": ""
            },
            "colorscale": [
             [
              0,
              "#0d0887"
             ],
             [
              0.1111111111111111,
              "#46039f"
             ],
             [
              0.2222222222222222,
              "#7201a8"
             ],
             [
              0.3333333333333333,
              "#9c179e"
             ],
             [
              0.4444444444444444,
              "#bd3786"
             ],
             [
              0.5555555555555556,
              "#d8576b"
             ],
             [
              0.6666666666666666,
              "#ed7953"
             ],
             [
              0.7777777777777778,
              "#fb9f3a"
             ],
             [
              0.8888888888888888,
              "#fdca26"
             ],
             [
              1,
              "#f0f921"
             ]
            ],
            "type": "contour"
           }
          ],
          "contourcarpet": [
           {
            "colorbar": {
             "outlinewidth": 0,
             "ticks": ""
            },
            "type": "contourcarpet"
           }
          ],
          "heatmap": [
           {
            "colorbar": {
             "outlinewidth": 0,
             "ticks": ""
            },
            "colorscale": [
             [
              0,
              "#0d0887"
             ],
             [
              0.1111111111111111,
              "#46039f"
             ],
             [
              0.2222222222222222,
              "#7201a8"
             ],
             [
              0.3333333333333333,
              "#9c179e"
             ],
             [
              0.4444444444444444,
              "#bd3786"
             ],
             [
              0.5555555555555556,
              "#d8576b"
             ],
             [
              0.6666666666666666,
              "#ed7953"
             ],
             [
              0.7777777777777778,
              "#fb9f3a"
             ],
             [
              0.8888888888888888,
              "#fdca26"
             ],
             [
              1,
              "#f0f921"
             ]
            ],
            "type": "heatmap"
           }
          ],
          "heatmapgl": [
           {
            "colorbar": {
             "outlinewidth": 0,
             "ticks": ""
            },
            "colorscale": [
             [
              0,
              "#0d0887"
             ],
             [
              0.1111111111111111,
              "#46039f"
             ],
             [
              0.2222222222222222,
              "#7201a8"
             ],
             [
              0.3333333333333333,
              "#9c179e"
             ],
             [
              0.4444444444444444,
              "#bd3786"
             ],
             [
              0.5555555555555556,
              "#d8576b"
             ],
             [
              0.6666666666666666,
              "#ed7953"
             ],
             [
              0.7777777777777778,
              "#fb9f3a"
             ],
             [
              0.8888888888888888,
              "#fdca26"
             ],
             [
              1,
              "#f0f921"
             ]
            ],
            "type": "heatmapgl"
           }
          ],
          "histogram": [
           {
            "marker": {
             "pattern": {
              "fillmode": "overlay",
              "size": 10,
              "solidity": 0.2
             }
            },
            "type": "histogram"
           }
          ],
          "histogram2d": [
           {
            "colorbar": {
             "outlinewidth": 0,
             "ticks": ""
            },
            "colorscale": [
             [
              0,
              "#0d0887"
             ],
             [
              0.1111111111111111,
              "#46039f"
             ],
             [
              0.2222222222222222,
              "#7201a8"
             ],
             [
              0.3333333333333333,
              "#9c179e"
             ],
             [
              0.4444444444444444,
              "#bd3786"
             ],
             [
              0.5555555555555556,
              "#d8576b"
             ],
             [
              0.6666666666666666,
              "#ed7953"
             ],
             [
              0.7777777777777778,
              "#fb9f3a"
             ],
             [
              0.8888888888888888,
              "#fdca26"
             ],
             [
              1,
              "#f0f921"
             ]
            ],
            "type": "histogram2d"
           }
          ],
          "histogram2dcontour": [
           {
            "colorbar": {
             "outlinewidth": 0,
             "ticks": ""
            },
            "colorscale": [
             [
              0,
              "#0d0887"
             ],
             [
              0.1111111111111111,
              "#46039f"
             ],
             [
              0.2222222222222222,
              "#7201a8"
             ],
             [
              0.3333333333333333,
              "#9c179e"
             ],
             [
              0.4444444444444444,
              "#bd3786"
             ],
             [
              0.5555555555555556,
              "#d8576b"
             ],
             [
              0.6666666666666666,
              "#ed7953"
             ],
             [
              0.7777777777777778,
              "#fb9f3a"
             ],
             [
              0.8888888888888888,
              "#fdca26"
             ],
             [
              1,
              "#f0f921"
             ]
            ],
            "type": "histogram2dcontour"
           }
          ],
          "mesh3d": [
           {
            "colorbar": {
             "outlinewidth": 0,
             "ticks": ""
            },
            "type": "mesh3d"
           }
          ],
          "parcoords": [
           {
            "line": {
             "colorbar": {
              "outlinewidth": 0,
              "ticks": ""
             }
            },
            "type": "parcoords"
           }
          ],
          "pie": [
           {
            "automargin": true,
            "type": "pie"
           }
          ],
          "scatter": [
           {
            "fillpattern": {
             "fillmode": "overlay",
             "size": 10,
             "solidity": 0.2
            },
            "type": "scatter"
           }
          ],
          "scatter3d": [
           {
            "line": {
             "colorbar": {
              "outlinewidth": 0,
              "ticks": ""
             }
            },
            "marker": {
             "colorbar": {
              "outlinewidth": 0,
              "ticks": ""
             }
            },
            "type": "scatter3d"
           }
          ],
          "scattercarpet": [
           {
            "marker": {
             "colorbar": {
              "outlinewidth": 0,
              "ticks": ""
             }
            },
            "type": "scattercarpet"
           }
          ],
          "scattergeo": [
           {
            "marker": {
             "colorbar": {
              "outlinewidth": 0,
              "ticks": ""
             }
            },
            "type": "scattergeo"
           }
          ],
          "scattergl": [
           {
            "marker": {
             "colorbar": {
              "outlinewidth": 0,
              "ticks": ""
             }
            },
            "type": "scattergl"
           }
          ],
          "scattermapbox": [
           {
            "marker": {
             "colorbar": {
              "outlinewidth": 0,
              "ticks": ""
             }
            },
            "type": "scattermapbox"
           }
          ],
          "scatterpolar": [
           {
            "marker": {
             "colorbar": {
              "outlinewidth": 0,
              "ticks": ""
             }
            },
            "type": "scatterpolar"
           }
          ],
          "scatterpolargl": [
           {
            "marker": {
             "colorbar": {
              "outlinewidth": 0,
              "ticks": ""
             }
            },
            "type": "scatterpolargl"
           }
          ],
          "scatterternary": [
           {
            "marker": {
             "colorbar": {
              "outlinewidth": 0,
              "ticks": ""
             }
            },
            "type": "scatterternary"
           }
          ],
          "surface": [
           {
            "colorbar": {
             "outlinewidth": 0,
             "ticks": ""
            },
            "colorscale": [
             [
              0,
              "#0d0887"
             ],
             [
              0.1111111111111111,
              "#46039f"
             ],
             [
              0.2222222222222222,
              "#7201a8"
             ],
             [
              0.3333333333333333,
              "#9c179e"
             ],
             [
              0.4444444444444444,
              "#bd3786"
             ],
             [
              0.5555555555555556,
              "#d8576b"
             ],
             [
              0.6666666666666666,
              "#ed7953"
             ],
             [
              0.7777777777777778,
              "#fb9f3a"
             ],
             [
              0.8888888888888888,
              "#fdca26"
             ],
             [
              1,
              "#f0f921"
             ]
            ],
            "type": "surface"
           }
          ],
          "table": [
           {
            "cells": {
             "fill": {
              "color": "#EBF0F8"
             },
             "line": {
              "color": "white"
             }
            },
            "header": {
             "fill": {
              "color": "#C8D4E3"
             },
             "line": {
              "color": "white"
             }
            },
            "type": "table"
           }
          ]
         },
         "layout": {
          "annotationdefaults": {
           "arrowcolor": "#2a3f5f",
           "arrowhead": 0,
           "arrowwidth": 1
          },
          "autotypenumbers": "strict",
          "coloraxis": {
           "colorbar": {
            "outlinewidth": 0,
            "ticks": ""
           }
          },
          "colorscale": {
           "diverging": [
            [
             0,
             "#8e0152"
            ],
            [
             0.1,
             "#c51b7d"
            ],
            [
             0.2,
             "#de77ae"
            ],
            [
             0.3,
             "#f1b6da"
            ],
            [
             0.4,
             "#fde0ef"
            ],
            [
             0.5,
             "#f7f7f7"
            ],
            [
             0.6,
             "#e6f5d0"
            ],
            [
             0.7,
             "#b8e186"
            ],
            [
             0.8,
             "#7fbc41"
            ],
            [
             0.9,
             "#4d9221"
            ],
            [
             1,
             "#276419"
            ]
           ],
           "sequential": [
            [
             0,
             "#0d0887"
            ],
            [
             0.1111111111111111,
             "#46039f"
            ],
            [
             0.2222222222222222,
             "#7201a8"
            ],
            [
             0.3333333333333333,
             "#9c179e"
            ],
            [
             0.4444444444444444,
             "#bd3786"
            ],
            [
             0.5555555555555556,
             "#d8576b"
            ],
            [
             0.6666666666666666,
             "#ed7953"
            ],
            [
             0.7777777777777778,
             "#fb9f3a"
            ],
            [
             0.8888888888888888,
             "#fdca26"
            ],
            [
             1,
             "#f0f921"
            ]
           ],
           "sequentialminus": [
            [
             0,
             "#0d0887"
            ],
            [
             0.1111111111111111,
             "#46039f"
            ],
            [
             0.2222222222222222,
             "#7201a8"
            ],
            [
             0.3333333333333333,
             "#9c179e"
            ],
            [
             0.4444444444444444,
             "#bd3786"
            ],
            [
             0.5555555555555556,
             "#d8576b"
            ],
            [
             0.6666666666666666,
             "#ed7953"
            ],
            [
             0.7777777777777778,
             "#fb9f3a"
            ],
            [
             0.8888888888888888,
             "#fdca26"
            ],
            [
             1,
             "#f0f921"
            ]
           ]
          },
          "colorway": [
           "#636efa",
           "#EF553B",
           "#00cc96",
           "#ab63fa",
           "#FFA15A",
           "#19d3f3",
           "#FF6692",
           "#B6E880",
           "#FF97FF",
           "#FECB52"
          ],
          "font": {
           "color": "#2a3f5f"
          },
          "geo": {
           "bgcolor": "white",
           "lakecolor": "white",
           "landcolor": "#E5ECF6",
           "showlakes": true,
           "showland": true,
           "subunitcolor": "white"
          },
          "hoverlabel": {
           "align": "left"
          },
          "hovermode": "closest",
          "mapbox": {
           "style": "light"
          },
          "paper_bgcolor": "white",
          "plot_bgcolor": "#E5ECF6",
          "polar": {
           "angularaxis": {
            "gridcolor": "white",
            "linecolor": "white",
            "ticks": ""
           },
           "bgcolor": "#E5ECF6",
           "radialaxis": {
            "gridcolor": "white",
            "linecolor": "white",
            "ticks": ""
           }
          },
          "scene": {
           "xaxis": {
            "backgroundcolor": "#E5ECF6",
            "gridcolor": "white",
            "gridwidth": 2,
            "linecolor": "white",
            "showbackground": true,
            "ticks": "",
            "zerolinecolor": "white"
           },
           "yaxis": {
            "backgroundcolor": "#E5ECF6",
            "gridcolor": "white",
            "gridwidth": 2,
            "linecolor": "white",
            "showbackground": true,
            "ticks": "",
            "zerolinecolor": "white"
           },
           "zaxis": {
            "backgroundcolor": "#E5ECF6",
            "gridcolor": "white",
            "gridwidth": 2,
            "linecolor": "white",
            "showbackground": true,
            "ticks": "",
            "zerolinecolor": "white"
           }
          },
          "shapedefaults": {
           "line": {
            "color": "#2a3f5f"
           }
          },
          "ternary": {
           "aaxis": {
            "gridcolor": "white",
            "linecolor": "white",
            "ticks": ""
           },
           "baxis": {
            "gridcolor": "white",
            "linecolor": "white",
            "ticks": ""
           },
           "bgcolor": "#E5ECF6",
           "caxis": {
            "gridcolor": "white",
            "linecolor": "white",
            "ticks": ""
           }
          },
          "title": {
           "x": 0.05
          },
          "xaxis": {
           "automargin": true,
           "gridcolor": "white",
           "linecolor": "white",
           "ticks": "",
           "title": {
            "standoff": 15
           },
           "zerolinecolor": "white",
           "zerolinewidth": 2
          },
          "yaxis": {
           "automargin": true,
           "gridcolor": "white",
           "linecolor": "white",
           "ticks": "",
           "title": {
            "standoff": 15
           },
           "zerolinecolor": "white",
           "zerolinewidth": 2
          }
         }
        },
        "xaxis": {
         "anchor": "y",
         "domain": [
          0,
          1
         ],
         "title": {
          "text": "overall score"
         }
        },
        "yaxis": {
         "anchor": "x",
         "domain": [
          0,
          1
         ],
         "title": {
          "text": "probability"
         }
        }
       }
      }
     },
     "metadata": {},
     "output_type": "display_data"
    }
   ],
   "source": [
    "fig = px.histogram(df, x=\"overall score\", histnorm='probability',color=\"test preparation course\",barmode='overlay')\n",
    "fig.show()"
   ]
  },
  {
   "attachments": {},
   "cell_type": "markdown",
   "metadata": {},
   "source": [
    "students who completed the course have a better results "
   ]
  },
  {
   "attachments": {},
   "cell_type": "markdown",
   "metadata": {},
   "source": [
    "### scores and lunch type"
   ]
  },
  {
   "cell_type": "code",
   "execution_count": 25,
   "metadata": {},
   "outputs": [
    {
     "data": {
      "text/plain": [
       "62.199061032863845"
      ]
     },
     "execution_count": 25,
     "metadata": {},
     "output_type": "execute_result"
    }
   ],
   "source": [
    "df[df['lunch'] ==\"free/reduced\"]['overall score'].mean()"
   ]
  },
  {
   "cell_type": "code",
   "execution_count": 26,
   "metadata": {},
   "outputs": [
    {
     "data": {
      "text/plain": [
       "70.83720930232563"
      ]
     },
     "execution_count": 26,
     "metadata": {},
     "output_type": "execute_result"
    }
   ],
   "source": [
    "df[df['lunch'] ==\"standard\"]['overall score'].mean()"
   ]
  },
  {
   "attachments": {},
   "cell_type": "markdown",
   "metadata": {},
   "source": [
    "The lunch is a symbol of the financial stability of the student's family, which affects their health in regard to providing good meals for the student.\n",
    "The difference between the averages of the students who have standard and free/reduced lunch is noticeable, which is a good indicator that lunch plays an important role in the students' performance."
   ]
  },
  {
   "attachments": {},
   "cell_type": "markdown",
   "metadata": {},
   "source": [
    "### scores and parental level of education\n"
   ]
  },
  {
   "attachments": {},
   "cell_type": "markdown",
   "metadata": {},
   "source": [
    "In the next 3 diagrams, we will explore the relationship between the parent's education and the student performance in each subject."
   ]
  },
  {
   "cell_type": "code",
   "execution_count": 30,
   "metadata": {},
   "outputs": [
    {
     "data": {
      "application/vnd.plotly.v1+json": {
       "config": {
        "plotlyServerURL": "https://plot.ly"
       },
       "data": [
        {
         "alignmentgroup": "True",
         "bingroup": "x",
         "histfunc": "count",
         "hovertemplate": "parental level of education=bachelor's degree<br>math grade=%{x}<br>count=%{y}<extra></extra>",
         "legendgroup": "",
         "marker": {
          "color": "#636efa",
          "pattern": {
           "shape": ""
          }
         },
         "name": "",
         "offsetgroup": "",
         "orientation": "v",
         "showlegend": false,
         "type": "histogram",
         "x": [
          "C",
          "C",
          "D",
          "C",
          "B",
          "D",
          "D",
          "D",
          "A",
          "C",
          "C",
          "C",
          "F",
          "C",
          "F",
          "D",
          "C",
          "F",
          "A",
          "F",
          "C",
          "C",
          "B",
          "D",
          "B",
          "D",
          "B",
          "D",
          "D",
          "B",
          "C",
          "C",
          "B",
          "D",
          "D",
          "D",
          "F",
          "D",
          "B",
          "C",
          "F",
          "D",
          "F",
          "D",
          "F",
          "D",
          "D",
          "F",
          "C",
          "B",
          "F",
          "C",
          "A",
          "F",
          "C",
          "C",
          "C",
          "B",
          "F",
          "B",
          "D",
          "F",
          "D",
          "B",
          "B",
          "A",
          "F",
          "A",
          "D",
          "A",
          "D",
          "F",
          "D",
          "A",
          "F",
          "A",
          "F",
          "B",
          "D",
          "D",
          "D",
          "D",
          "C",
          "D",
          "F",
          "C",
          "B",
          "D",
          "B",
          "F",
          "C",
          "C",
          "D",
          "A",
          "F",
          "F",
          "D",
          "C",
          "C",
          "D",
          "A",
          "D",
          "F",
          "F",
          "D",
          "C",
          "F",
          "A",
          "D",
          "C",
          "F",
          "F",
          "F",
          "A",
          "C",
          "C",
          "B",
          "D"
         ],
         "xaxis": "x",
         "yaxis": "y"
        },
        {
         "alignmentgroup": "True",
         "bingroup": "x",
         "histfunc": "count",
         "hovertemplate": "parental level of education=diploma<br>math grade=%{x}<br>count=%{y}<extra></extra>",
         "legendgroup": "",
         "marker": {
          "color": "#636efa",
          "pattern": {
           "shape": ""
          }
         },
         "name": "",
         "offsetgroup": "",
         "orientation": "v",
         "showlegend": false,
         "type": "histogram",
         "x": [
          "D",
          "C",
          "B",
          "F",
          "C",
          "D",
          "F",
          "D",
          "D",
          "D",
          "F",
          "A",
          "F",
          "F",
          "F",
          "F",
          "D",
          "F",
          "D",
          "F",
          "C",
          "C",
          "F",
          "C",
          "D",
          "F",
          "C",
          "A",
          "F",
          "F",
          "F",
          "B",
          "B",
          "D",
          "B",
          "C",
          "C",
          "F",
          "F",
          "B",
          "F",
          "C",
          "D",
          "C",
          "D",
          "C",
          "F",
          "C",
          "C",
          "F",
          "D",
          "F",
          "C",
          "F",
          "F",
          "C",
          "B",
          "C",
          "F",
          "F",
          "C",
          "D",
          "C",
          "C",
          "C",
          "F",
          "D",
          "B",
          "C",
          "B",
          "D",
          "A",
          "C",
          "B",
          "D",
          "F",
          "D",
          "C",
          "D",
          "D",
          "D",
          "F",
          "F",
          "F",
          "B",
          "F",
          "F",
          "B",
          "F",
          "B",
          "D",
          "C",
          "C",
          "F",
          "F",
          "B",
          "D",
          "F",
          "D",
          "F",
          "D",
          "D",
          "D",
          "A",
          "D",
          "F",
          "C",
          "C",
          "B",
          "A",
          "D",
          "D",
          "B",
          "F",
          "F",
          "C",
          "D",
          "C",
          "C",
          "D",
          "C",
          "D",
          "C",
          "F",
          "C",
          "D",
          "D",
          "C",
          "F",
          "D",
          "F",
          "D",
          "F",
          "F",
          "C",
          "D",
          "D",
          "F",
          "A",
          "A",
          "F",
          "D",
          "B",
          "D",
          "B",
          "D",
          "C",
          "F",
          "D",
          "C",
          "D",
          "F",
          "C",
          "D",
          "D",
          "B",
          "A",
          "C",
          "D",
          "D",
          "A",
          "A",
          "D",
          "F",
          "B",
          "F",
          "B",
          "F",
          "F",
          "F",
          "D",
          "B",
          "D",
          "F",
          "F",
          "D",
          "D",
          "F",
          "D",
          "F",
          "C",
          "F",
          "D",
          "D",
          "B",
          "C",
          "C",
          "D",
          "F",
          "D",
          "F",
          "C",
          "B",
          "C",
          "C",
          "B",
          "C",
          "B",
          "B",
          "D",
          "B",
          "B",
          "C",
          "D",
          "D",
          "A",
          "D",
          "D",
          "C",
          "B",
          "F",
          "C",
          "D",
          "B",
          "F",
          "C",
          "D",
          "D",
          "F",
          "F",
          "D",
          "D",
          "C",
          "D",
          "D",
          "C"
         ],
         "xaxis": "x2",
         "yaxis": "y2"
        },
        {
         "alignmentgroup": "True",
         "bingroup": "x",
         "histfunc": "count",
         "hovertemplate": "parental level of education=master's degree<br>math grade=%{x}<br>count=%{y}<extra></extra>",
         "legendgroup": "",
         "marker": {
          "color": "#636efa",
          "pattern": {
           "shape": ""
          }
         },
         "name": "",
         "offsetgroup": "",
         "orientation": "v",
         "showlegend": false,
         "type": "histogram",
         "x": [
          "A",
          "F",
          "F",
          "C",
          "D",
          "F",
          "D",
          "B",
          "B",
          "B",
          "F",
          "B",
          "F",
          "B",
          "F",
          "D",
          "D",
          "F",
          "B",
          "D",
          "C",
          "B",
          "C",
          "C",
          "C",
          "F",
          "F",
          "C",
          "F",
          "C",
          "C",
          "F",
          "D",
          "C",
          "D",
          "D",
          "F",
          "F",
          "B",
          "F",
          "A",
          "A",
          "B",
          "D",
          "C",
          "C",
          "F",
          "F",
          "A",
          "A",
          "C",
          "B",
          "F",
          "B",
          "C",
          "C",
          "C",
          "A",
          "B"
         ],
         "xaxis": "x3",
         "yaxis": "y3"
        },
        {
         "alignmentgroup": "True",
         "bingroup": "x",
         "histfunc": "count",
         "hovertemplate": "parental level of education=associate's degree<br>math grade=%{x}<br>count=%{y}<extra></extra>",
         "legendgroup": "",
         "marker": {
          "color": "#636efa",
          "pattern": {
           "shape": ""
          }
         },
         "name": "",
         "offsetgroup": "",
         "orientation": "v",
         "showlegend": false,
         "type": "histogram",
         "x": [
          "F",
          "C",
          "F",
          "F",
          "F",
          "B",
          "C",
          "C",
          "F",
          "F",
          "F",
          "F",
          "F",
          "D",
          "F",
          "F",
          "C",
          "B",
          "F",
          "D",
          "D",
          "D",
          "F",
          "F",
          "F",
          "F",
          "C",
          "C",
          "F",
          "C",
          "B",
          "D",
          "F",
          "C",
          "F",
          "A",
          "F",
          "C",
          "A",
          "F",
          "D",
          "D",
          "B",
          "D",
          "C",
          "D",
          "D",
          "D",
          "D",
          "D",
          "D",
          "F",
          "D",
          "B",
          "B",
          "F",
          "F",
          "B",
          "B",
          "B",
          "B",
          "D",
          "C",
          "B",
          "F",
          "B",
          "A",
          "C",
          "D",
          "C",
          "A",
          "D",
          "B",
          "C",
          "F",
          "C",
          "D",
          "B",
          "F",
          "B",
          "F",
          "D",
          "A",
          "F",
          "D",
          "B",
          "F",
          "D",
          "F",
          "B",
          "B",
          "F",
          "F",
          "B",
          "D",
          "B",
          "B",
          "C",
          "C",
          "B",
          "D",
          "C",
          "C",
          "C",
          "B",
          "D",
          "F",
          "F",
          "F",
          "B",
          "D",
          "A",
          "B",
          "C",
          "F",
          "F",
          "D",
          "C",
          "D",
          "D",
          "A",
          "A",
          "A",
          "D",
          "D",
          "D",
          "C",
          "F",
          "A",
          "C",
          "B",
          "B",
          "F",
          "F",
          "F",
          "F",
          "F",
          "F",
          "C",
          "D",
          "B",
          "F",
          "D",
          "B",
          "D",
          "D",
          "D",
          "C",
          "C",
          "F",
          "D",
          "C",
          "F",
          "A",
          "B",
          "B",
          "F",
          "D",
          "B",
          "C",
          "F",
          "C",
          "C",
          "C",
          "F",
          "F",
          "C",
          "C",
          "A",
          "A",
          "D",
          "D",
          "A",
          "B",
          "F",
          "F",
          "C",
          "F",
          "B",
          "A",
          "F",
          "F",
          "D",
          "F",
          "C",
          "F",
          "B",
          "F",
          "F",
          "D",
          "B",
          "B",
          "F",
          "A",
          "D",
          "C",
          "F",
          "B",
          "A",
          "D",
          "F",
          "D",
          "A",
          "B",
          "F",
          "D",
          "F",
          "F",
          "F",
          "D",
          "F",
          "D",
          "A",
          "D",
          "F",
          "C",
          "A",
          "D",
          "D",
          "A",
          "F",
          "F"
         ],
         "xaxis": "x4",
         "yaxis": "y4"
        },
        {
         "alignmentgroup": "True",
         "bingroup": "x",
         "histfunc": "count",
         "hovertemplate": "parental level of education=high school<br>math grade=%{x}<br>count=%{y}<extra></extra>",
         "legendgroup": "",
         "marker": {
          "color": "#636efa",
          "pattern": {
           "shape": ""
          }
         },
         "name": "",
         "offsetgroup": "",
         "orientation": "v",
         "showlegend": false,
         "type": "histogram",
         "x": [
          "D",
          "F",
          "D",
          "D",
          "B",
          "F",
          "D",
          "D",
          "C",
          "F",
          "D",
          "B",
          "B",
          "C",
          "F",
          "F",
          "F",
          "F",
          "D",
          "F",
          "D",
          "F",
          "F",
          "D",
          "F",
          "F",
          "C",
          "F",
          "C",
          "D",
          "D",
          "C",
          "D",
          "B",
          "F",
          "D",
          "B",
          "C",
          "F",
          "F",
          "C",
          "C",
          "F",
          "B",
          "D",
          "D",
          "D",
          "F",
          "F",
          "D",
          "C",
          "A",
          "F",
          "A",
          "F",
          "F",
          "B",
          "D",
          "F",
          "D",
          "F",
          "F",
          "C",
          "B",
          "B",
          "F",
          "B",
          "B",
          "F",
          "D",
          "D",
          "F",
          "F",
          "B",
          "F",
          "D",
          "A",
          "D",
          "C",
          "F",
          "C",
          "F",
          "D",
          "D",
          "F",
          "D",
          "F",
          "D",
          "F",
          "A",
          "C",
          "F",
          "D",
          "B",
          "F",
          "D",
          "F",
          "F",
          "F",
          "D",
          "C",
          "B",
          "D",
          "C",
          "F",
          "F",
          "F",
          "F",
          "F",
          "C",
          "D",
          "C",
          "F",
          "F",
          "F",
          "C",
          "C",
          "F",
          "F",
          "F",
          "D",
          "D",
          "C",
          "C",
          "F",
          "B",
          "F",
          "D",
          "F",
          "C",
          "C",
          "B",
          "C",
          "F",
          "F",
          "D",
          "C",
          "D",
          "F",
          "F",
          "C",
          "D",
          "F",
          "B",
          "F",
          "D",
          "F",
          "D",
          "B",
          "F",
          "F",
          "F",
          "D",
          "D",
          "D",
          "D",
          "D",
          "F",
          "C",
          "C",
          "B",
          "C",
          "F",
          "C",
          "D",
          "B",
          "F",
          "C",
          "C",
          "C",
          "D",
          "F",
          "C",
          "F",
          "C",
          "D",
          "F",
          "D",
          "D",
          "B",
          "D",
          "D",
          "D",
          "F",
          "C",
          "D",
          "D",
          "F",
          "F",
          "F",
          "F",
          "C",
          "F",
          "C",
          "C",
          "A",
          "C",
          "D",
          "C",
          "C",
          "D",
          "F",
          "C",
          "B",
          "B",
          "C",
          "F",
          "F",
          "C",
          "C",
          "F",
          "F",
          "D",
          "D",
          "F",
          "D",
          "C",
          "D",
          "F",
          "F",
          "F",
          "C",
          "C",
          "B",
          "C",
          "D",
          "B",
          "F",
          "C",
          "C",
          "C",
          "D",
          "F",
          "F",
          "D",
          "C",
          "D",
          "C",
          "D",
          "F",
          "D",
          "D",
          "C",
          "D",
          "D",
          "D",
          "F",
          "F",
          "F",
          "D",
          "F",
          "F",
          "F",
          "B",
          "B",
          "D",
          "C",
          "F",
          "C",
          "F",
          "D",
          "C",
          "F",
          "F",
          "D",
          "B",
          "D",
          "C",
          "C",
          "F",
          "F",
          "C",
          "D",
          "C",
          "F",
          "C",
          "D",
          "F",
          "F",
          "F",
          "D",
          "C",
          "F",
          "C",
          "F",
          "D",
          "B",
          "F",
          "C",
          "D",
          "C",
          "F",
          "A",
          "F",
          "F",
          "B",
          "C",
          "A",
          "D",
          "C",
          "B",
          "C",
          "F",
          "D",
          "D",
          "D",
          "D",
          "C",
          "D",
          "C",
          "C",
          "F",
          "D",
          "F",
          "F",
          "D",
          "F",
          "D",
          "B",
          "D",
          "F",
          "F",
          "F",
          "F",
          "F",
          "D",
          "F",
          "F",
          "B",
          "F",
          "F",
          "D",
          "D",
          "F",
          "D",
          "F",
          "F",
          "D",
          "F",
          "C",
          "C",
          "C",
          "D",
          "F",
          "F",
          "C",
          "B",
          "D",
          "F",
          "B",
          "F",
          "F",
          "A",
          "C",
          "F",
          "F",
          "C",
          "F",
          "D",
          "D",
          "C",
          "F",
          "F",
          "F",
          "B",
          "C",
          "C",
          "F",
          "B",
          "F",
          "B",
          "D",
          "D",
          "D",
          "F"
         ],
         "xaxis": "x5",
         "yaxis": "y5"
        }
       ],
       "layout": {
        "annotations": [
         {
          "font": {},
          "showarrow": false,
          "text": "bachelor's degree",
          "x": 0.09200000000000001,
          "xanchor": "center",
          "xref": "paper",
          "y": 1,
          "yanchor": "bottom",
          "yref": "paper"
         },
         {
          "font": {},
          "showarrow": false,
          "text": "diploma",
          "x": 0.29600000000000004,
          "xanchor": "center",
          "xref": "paper",
          "y": 1,
          "yanchor": "bottom",
          "yref": "paper"
         },
         {
          "font": {},
          "showarrow": false,
          "text": "master's degree",
          "x": 0.5,
          "xanchor": "center",
          "xref": "paper",
          "y": 1,
          "yanchor": "bottom",
          "yref": "paper"
         },
         {
          "font": {},
          "showarrow": false,
          "text": "associate's degree",
          "x": 0.7040000000000002,
          "xanchor": "center",
          "xref": "paper",
          "y": 1,
          "yanchor": "bottom",
          "yref": "paper"
         },
         {
          "font": {},
          "showarrow": false,
          "text": "high school",
          "x": 0.908,
          "xanchor": "center",
          "xref": "paper",
          "y": 1,
          "yanchor": "bottom",
          "yref": "paper"
         }
        ],
        "barmode": "relative",
        "legend": {
         "tracegroupgap": 0
        },
        "template": {
         "data": {
          "bar": [
           {
            "error_x": {
             "color": "#2a3f5f"
            },
            "error_y": {
             "color": "#2a3f5f"
            },
            "marker": {
             "line": {
              "color": "#E5ECF6",
              "width": 0.5
             },
             "pattern": {
              "fillmode": "overlay",
              "size": 10,
              "solidity": 0.2
             }
            },
            "type": "bar"
           }
          ],
          "barpolar": [
           {
            "marker": {
             "line": {
              "color": "#E5ECF6",
              "width": 0.5
             },
             "pattern": {
              "fillmode": "overlay",
              "size": 10,
              "solidity": 0.2
             }
            },
            "type": "barpolar"
           }
          ],
          "carpet": [
           {
            "aaxis": {
             "endlinecolor": "#2a3f5f",
             "gridcolor": "white",
             "linecolor": "white",
             "minorgridcolor": "white",
             "startlinecolor": "#2a3f5f"
            },
            "baxis": {
             "endlinecolor": "#2a3f5f",
             "gridcolor": "white",
             "linecolor": "white",
             "minorgridcolor": "white",
             "startlinecolor": "#2a3f5f"
            },
            "type": "carpet"
           }
          ],
          "choropleth": [
           {
            "colorbar": {
             "outlinewidth": 0,
             "ticks": ""
            },
            "type": "choropleth"
           }
          ],
          "contour": [
           {
            "colorbar": {
             "outlinewidth": 0,
             "ticks": ""
            },
            "colorscale": [
             [
              0,
              "#0d0887"
             ],
             [
              0.1111111111111111,
              "#46039f"
             ],
             [
              0.2222222222222222,
              "#7201a8"
             ],
             [
              0.3333333333333333,
              "#9c179e"
             ],
             [
              0.4444444444444444,
              "#bd3786"
             ],
             [
              0.5555555555555556,
              "#d8576b"
             ],
             [
              0.6666666666666666,
              "#ed7953"
             ],
             [
              0.7777777777777778,
              "#fb9f3a"
             ],
             [
              0.8888888888888888,
              "#fdca26"
             ],
             [
              1,
              "#f0f921"
             ]
            ],
            "type": "contour"
           }
          ],
          "contourcarpet": [
           {
            "colorbar": {
             "outlinewidth": 0,
             "ticks": ""
            },
            "type": "contourcarpet"
           }
          ],
          "heatmap": [
           {
            "colorbar": {
             "outlinewidth": 0,
             "ticks": ""
            },
            "colorscale": [
             [
              0,
              "#0d0887"
             ],
             [
              0.1111111111111111,
              "#46039f"
             ],
             [
              0.2222222222222222,
              "#7201a8"
             ],
             [
              0.3333333333333333,
              "#9c179e"
             ],
             [
              0.4444444444444444,
              "#bd3786"
             ],
             [
              0.5555555555555556,
              "#d8576b"
             ],
             [
              0.6666666666666666,
              "#ed7953"
             ],
             [
              0.7777777777777778,
              "#fb9f3a"
             ],
             [
              0.8888888888888888,
              "#fdca26"
             ],
             [
              1,
              "#f0f921"
             ]
            ],
            "type": "heatmap"
           }
          ],
          "heatmapgl": [
           {
            "colorbar": {
             "outlinewidth": 0,
             "ticks": ""
            },
            "colorscale": [
             [
              0,
              "#0d0887"
             ],
             [
              0.1111111111111111,
              "#46039f"
             ],
             [
              0.2222222222222222,
              "#7201a8"
             ],
             [
              0.3333333333333333,
              "#9c179e"
             ],
             [
              0.4444444444444444,
              "#bd3786"
             ],
             [
              0.5555555555555556,
              "#d8576b"
             ],
             [
              0.6666666666666666,
              "#ed7953"
             ],
             [
              0.7777777777777778,
              "#fb9f3a"
             ],
             [
              0.8888888888888888,
              "#fdca26"
             ],
             [
              1,
              "#f0f921"
             ]
            ],
            "type": "heatmapgl"
           }
          ],
          "histogram": [
           {
            "marker": {
             "pattern": {
              "fillmode": "overlay",
              "size": 10,
              "solidity": 0.2
             }
            },
            "type": "histogram"
           }
          ],
          "histogram2d": [
           {
            "colorbar": {
             "outlinewidth": 0,
             "ticks": ""
            },
            "colorscale": [
             [
              0,
              "#0d0887"
             ],
             [
              0.1111111111111111,
              "#46039f"
             ],
             [
              0.2222222222222222,
              "#7201a8"
             ],
             [
              0.3333333333333333,
              "#9c179e"
             ],
             [
              0.4444444444444444,
              "#bd3786"
             ],
             [
              0.5555555555555556,
              "#d8576b"
             ],
             [
              0.6666666666666666,
              "#ed7953"
             ],
             [
              0.7777777777777778,
              "#fb9f3a"
             ],
             [
              0.8888888888888888,
              "#fdca26"
             ],
             [
              1,
              "#f0f921"
             ]
            ],
            "type": "histogram2d"
           }
          ],
          "histogram2dcontour": [
           {
            "colorbar": {
             "outlinewidth": 0,
             "ticks": ""
            },
            "colorscale": [
             [
              0,
              "#0d0887"
             ],
             [
              0.1111111111111111,
              "#46039f"
             ],
             [
              0.2222222222222222,
              "#7201a8"
             ],
             [
              0.3333333333333333,
              "#9c179e"
             ],
             [
              0.4444444444444444,
              "#bd3786"
             ],
             [
              0.5555555555555556,
              "#d8576b"
             ],
             [
              0.6666666666666666,
              "#ed7953"
             ],
             [
              0.7777777777777778,
              "#fb9f3a"
             ],
             [
              0.8888888888888888,
              "#fdca26"
             ],
             [
              1,
              "#f0f921"
             ]
            ],
            "type": "histogram2dcontour"
           }
          ],
          "mesh3d": [
           {
            "colorbar": {
             "outlinewidth": 0,
             "ticks": ""
            },
            "type": "mesh3d"
           }
          ],
          "parcoords": [
           {
            "line": {
             "colorbar": {
              "outlinewidth": 0,
              "ticks": ""
             }
            },
            "type": "parcoords"
           }
          ],
          "pie": [
           {
            "automargin": true,
            "type": "pie"
           }
          ],
          "scatter": [
           {
            "fillpattern": {
             "fillmode": "overlay",
             "size": 10,
             "solidity": 0.2
            },
            "type": "scatter"
           }
          ],
          "scatter3d": [
           {
            "line": {
             "colorbar": {
              "outlinewidth": 0,
              "ticks": ""
             }
            },
            "marker": {
             "colorbar": {
              "outlinewidth": 0,
              "ticks": ""
             }
            },
            "type": "scatter3d"
           }
          ],
          "scattercarpet": [
           {
            "marker": {
             "colorbar": {
              "outlinewidth": 0,
              "ticks": ""
             }
            },
            "type": "scattercarpet"
           }
          ],
          "scattergeo": [
           {
            "marker": {
             "colorbar": {
              "outlinewidth": 0,
              "ticks": ""
             }
            },
            "type": "scattergeo"
           }
          ],
          "scattergl": [
           {
            "marker": {
             "colorbar": {
              "outlinewidth": 0,
              "ticks": ""
             }
            },
            "type": "scattergl"
           }
          ],
          "scattermapbox": [
           {
            "marker": {
             "colorbar": {
              "outlinewidth": 0,
              "ticks": ""
             }
            },
            "type": "scattermapbox"
           }
          ],
          "scatterpolar": [
           {
            "marker": {
             "colorbar": {
              "outlinewidth": 0,
              "ticks": ""
             }
            },
            "type": "scatterpolar"
           }
          ],
          "scatterpolargl": [
           {
            "marker": {
             "colorbar": {
              "outlinewidth": 0,
              "ticks": ""
             }
            },
            "type": "scatterpolargl"
           }
          ],
          "scatterternary": [
           {
            "marker": {
             "colorbar": {
              "outlinewidth": 0,
              "ticks": ""
             }
            },
            "type": "scatterternary"
           }
          ],
          "surface": [
           {
            "colorbar": {
             "outlinewidth": 0,
             "ticks": ""
            },
            "colorscale": [
             [
              0,
              "#0d0887"
             ],
             [
              0.1111111111111111,
              "#46039f"
             ],
             [
              0.2222222222222222,
              "#7201a8"
             ],
             [
              0.3333333333333333,
              "#9c179e"
             ],
             [
              0.4444444444444444,
              "#bd3786"
             ],
             [
              0.5555555555555556,
              "#d8576b"
             ],
             [
              0.6666666666666666,
              "#ed7953"
             ],
             [
              0.7777777777777778,
              "#fb9f3a"
             ],
             [
              0.8888888888888888,
              "#fdca26"
             ],
             [
              1,
              "#f0f921"
             ]
            ],
            "type": "surface"
           }
          ],
          "table": [
           {
            "cells": {
             "fill": {
              "color": "#EBF0F8"
             },
             "line": {
              "color": "white"
             }
            },
            "header": {
             "fill": {
              "color": "#C8D4E3"
             },
             "line": {
              "color": "white"
             }
            },
            "type": "table"
           }
          ]
         },
         "layout": {
          "annotationdefaults": {
           "arrowcolor": "#2a3f5f",
           "arrowhead": 0,
           "arrowwidth": 1
          },
          "autotypenumbers": "strict",
          "coloraxis": {
           "colorbar": {
            "outlinewidth": 0,
            "ticks": ""
           }
          },
          "colorscale": {
           "diverging": [
            [
             0,
             "#8e0152"
            ],
            [
             0.1,
             "#c51b7d"
            ],
            [
             0.2,
             "#de77ae"
            ],
            [
             0.3,
             "#f1b6da"
            ],
            [
             0.4,
             "#fde0ef"
            ],
            [
             0.5,
             "#f7f7f7"
            ],
            [
             0.6,
             "#e6f5d0"
            ],
            [
             0.7,
             "#b8e186"
            ],
            [
             0.8,
             "#7fbc41"
            ],
            [
             0.9,
             "#4d9221"
            ],
            [
             1,
             "#276419"
            ]
           ],
           "sequential": [
            [
             0,
             "#0d0887"
            ],
            [
             0.1111111111111111,
             "#46039f"
            ],
            [
             0.2222222222222222,
             "#7201a8"
            ],
            [
             0.3333333333333333,
             "#9c179e"
            ],
            [
             0.4444444444444444,
             "#bd3786"
            ],
            [
             0.5555555555555556,
             "#d8576b"
            ],
            [
             0.6666666666666666,
             "#ed7953"
            ],
            [
             0.7777777777777778,
             "#fb9f3a"
            ],
            [
             0.8888888888888888,
             "#fdca26"
            ],
            [
             1,
             "#f0f921"
            ]
           ],
           "sequentialminus": [
            [
             0,
             "#0d0887"
            ],
            [
             0.1111111111111111,
             "#46039f"
            ],
            [
             0.2222222222222222,
             "#7201a8"
            ],
            [
             0.3333333333333333,
             "#9c179e"
            ],
            [
             0.4444444444444444,
             "#bd3786"
            ],
            [
             0.5555555555555556,
             "#d8576b"
            ],
            [
             0.6666666666666666,
             "#ed7953"
            ],
            [
             0.7777777777777778,
             "#fb9f3a"
            ],
            [
             0.8888888888888888,
             "#fdca26"
            ],
            [
             1,
             "#f0f921"
            ]
           ]
          },
          "colorway": [
           "#636efa",
           "#EF553B",
           "#00cc96",
           "#ab63fa",
           "#FFA15A",
           "#19d3f3",
           "#FF6692",
           "#B6E880",
           "#FF97FF",
           "#FECB52"
          ],
          "font": {
           "color": "#2a3f5f"
          },
          "geo": {
           "bgcolor": "white",
           "lakecolor": "white",
           "landcolor": "#E5ECF6",
           "showlakes": true,
           "showland": true,
           "subunitcolor": "white"
          },
          "hoverlabel": {
           "align": "left"
          },
          "hovermode": "closest",
          "mapbox": {
           "style": "light"
          },
          "paper_bgcolor": "white",
          "plot_bgcolor": "#E5ECF6",
          "polar": {
           "angularaxis": {
            "gridcolor": "white",
            "linecolor": "white",
            "ticks": ""
           },
           "bgcolor": "#E5ECF6",
           "radialaxis": {
            "gridcolor": "white",
            "linecolor": "white",
            "ticks": ""
           }
          },
          "scene": {
           "xaxis": {
            "backgroundcolor": "#E5ECF6",
            "gridcolor": "white",
            "gridwidth": 2,
            "linecolor": "white",
            "showbackground": true,
            "ticks": "",
            "zerolinecolor": "white"
           },
           "yaxis": {
            "backgroundcolor": "#E5ECF6",
            "gridcolor": "white",
            "gridwidth": 2,
            "linecolor": "white",
            "showbackground": true,
            "ticks": "",
            "zerolinecolor": "white"
           },
           "zaxis": {
            "backgroundcolor": "#E5ECF6",
            "gridcolor": "white",
            "gridwidth": 2,
            "linecolor": "white",
            "showbackground": true,
            "ticks": "",
            "zerolinecolor": "white"
           }
          },
          "shapedefaults": {
           "line": {
            "color": "#2a3f5f"
           }
          },
          "ternary": {
           "aaxis": {
            "gridcolor": "white",
            "linecolor": "white",
            "ticks": ""
           },
           "baxis": {
            "gridcolor": "white",
            "linecolor": "white",
            "ticks": ""
           },
           "bgcolor": "#E5ECF6",
           "caxis": {
            "gridcolor": "white",
            "linecolor": "white",
            "ticks": ""
           }
          },
          "title": {
           "x": 0.05
          },
          "xaxis": {
           "automargin": true,
           "gridcolor": "white",
           "linecolor": "white",
           "ticks": "",
           "title": {
            "standoff": 15
           },
           "zerolinecolor": "white",
           "zerolinewidth": 2
          },
          "yaxis": {
           "automargin": true,
           "gridcolor": "white",
           "linecolor": "white",
           "ticks": "",
           "title": {
            "standoff": 15
           },
           "zerolinecolor": "white",
           "zerolinewidth": 2
          }
         }
        },
        "title": {
         "text": "Math scores and parents level of education"
        },
        "xaxis": {
         "anchor": "y",
         "categoryorder": "category ascending",
         "domain": [
          0,
          0.18400000000000002
         ],
         "title": {
          "text": "math grade"
         }
        },
        "xaxis2": {
         "anchor": "y2",
         "categoryorder": "category ascending",
         "domain": [
          0.20400000000000001,
          0.388
         ],
         "matches": "x",
         "title": {
          "text": "math grade"
         }
        },
        "xaxis3": {
         "anchor": "y3",
         "categoryorder": "category ascending",
         "domain": [
          0.40800000000000003,
          0.5920000000000001
         ],
         "matches": "x",
         "title": {
          "text": "math grade"
         }
        },
        "xaxis4": {
         "anchor": "y4",
         "categoryorder": "category ascending",
         "domain": [
          0.6120000000000001,
          0.7960000000000002
         ],
         "matches": "x",
         "title": {
          "text": "math grade"
         }
        },
        "xaxis5": {
         "anchor": "y5",
         "categoryorder": "category ascending",
         "domain": [
          0.8160000000000001,
          1
         ],
         "matches": "x",
         "title": {
          "text": "math grade"
         }
        },
        "yaxis": {
         "anchor": "x",
         "domain": [
          0,
          1
         ],
         "title": {
          "text": "count"
         }
        },
        "yaxis2": {
         "anchor": "x2",
         "domain": [
          0,
          1
         ],
         "matches": "y",
         "showticklabels": false
        },
        "yaxis3": {
         "anchor": "x3",
         "domain": [
          0,
          1
         ],
         "matches": "y",
         "showticklabels": false
        },
        "yaxis4": {
         "anchor": "x4",
         "domain": [
          0,
          1
         ],
         "matches": "y",
         "showticklabels": false
        },
        "yaxis5": {
         "anchor": "x5",
         "domain": [
          0,
          1
         ],
         "matches": "y",
         "showticklabels": false
        }
       }
      }
     },
     "metadata": {},
     "output_type": "display_data"
    }
   ],
   "source": [
    "\n",
    "fig=px.histogram(df,histfunc=\"count\", x='math grade', facet_col='parental level of education',title=\"Math scores and parents level of education\"\n",
    "        ).update_xaxes(categoryorder='category ascending')\n",
    "fig.for_each_annotation(lambda a: a.update(text=a.text.split(\"=\")[-1]))\n",
    "fig.show()"
   ]
  },
  {
   "attachments": {},
   "cell_type": "markdown",
   "metadata": {},
   "source": [
    "In math, everybody seems to be failing their children, the most common grades are F or D \n",
    "\n",
    "suprisengly, the parents who have a master's degree, their children have more F than the students who have parents with bachelor's or diplome degree\n"
   ]
  },
  {
   "cell_type": "code",
   "execution_count": 31,
   "metadata": {},
   "outputs": [
    {
     "data": {
      "application/vnd.plotly.v1+json": {
       "config": {
        "plotlyServerURL": "https://plot.ly"
       },
       "data": [
        {
         "alignmentgroup": "True",
         "bingroup": "x",
         "histfunc": "count",
         "hovertemplate": "parental level of education=bachelor's degree<br>reading grade=%{x}<br>count=%{y}<extra></extra>",
         "legendgroup": "",
         "marker": {
          "color": "#636efa",
          "pattern": {
           "shape": ""
          }
         },
         "name": "",
         "offsetgroup": "",
         "orientation": "v",
         "showlegend": false,
         "type": "histogram",
         "x": [
          "C",
          "C",
          "D",
          "C",
          "C",
          "C",
          "D",
          "C",
          "A",
          "B",
          "B",
          "A",
          "F",
          "C",
          "F",
          "C",
          "D",
          "F",
          "A",
          "F",
          "B",
          "C",
          "D",
          "B",
          "B",
          "D",
          "B",
          "C",
          "D",
          "C",
          "F",
          "C",
          "C",
          "C",
          "D",
          "D",
          "D",
          "C",
          "A",
          "A",
          "D",
          "C",
          "F",
          "D",
          "C",
          "D",
          "C",
          "C",
          "C",
          "B",
          "F",
          "B",
          "A",
          "F",
          "F",
          "C",
          "D",
          "B",
          "F",
          "A",
          "F",
          "F",
          "B",
          "D",
          "A",
          "A",
          "F",
          "A",
          "D",
          "A",
          "C",
          "D",
          "D",
          "A",
          "C",
          "A",
          "F",
          "C",
          "D",
          "F",
          "C",
          "B",
          "B",
          "C",
          "C",
          "B",
          "B",
          "C",
          "C",
          "D",
          "D",
          "C",
          "C",
          "B",
          "F",
          "F",
          "C",
          "A",
          "B",
          "D",
          "A",
          "C",
          "F",
          "D",
          "D",
          "C",
          "F",
          "A",
          "C",
          "D",
          "F",
          "D",
          "D",
          "A",
          "C",
          "B",
          "A",
          "C"
         ],
         "xaxis": "x",
         "yaxis": "y"
        },
        {
         "alignmentgroup": "True",
         "bingroup": "x",
         "histfunc": "count",
         "hovertemplate": "parental level of education=diploma<br>reading grade=%{x}<br>count=%{y}<extra></extra>",
         "legendgroup": "",
         "marker": {
          "color": "#636efa",
          "pattern": {
           "shape": ""
          }
         },
         "name": "",
         "offsetgroup": "",
         "orientation": "v",
         "showlegend": false,
         "type": "histogram",
         "x": [
          "A",
          "C",
          "A",
          "F",
          "C",
          "C",
          "F",
          "F",
          "C",
          "D",
          "F",
          "B",
          "D",
          "F",
          "F",
          "F",
          "C",
          "D",
          "F",
          "F",
          "B",
          "B",
          "C",
          "B",
          "C",
          "D",
          "D",
          "B",
          "D",
          "F",
          "D",
          "A",
          "B",
          "C",
          "C",
          "B",
          "D",
          "D",
          "F",
          "C",
          "F",
          "B",
          "D",
          "B",
          "C",
          "B",
          "D",
          "B",
          "D",
          "F",
          "B",
          "F",
          "B",
          "D",
          "F",
          "C",
          "A",
          "D",
          "F",
          "F",
          "B",
          "C",
          "C",
          "C",
          "C",
          "F",
          "C",
          "B",
          "C",
          "C",
          "D",
          "B",
          "B",
          "A",
          "D",
          "F",
          "D",
          "C",
          "D",
          "F",
          "C",
          "C",
          "D",
          "D",
          "A",
          "F",
          "D",
          "C",
          "C",
          "A",
          "C",
          "D",
          "D",
          "F",
          "D",
          "B",
          "F",
          "F",
          "D",
          "F",
          "B",
          "D",
          "B",
          "A",
          "F",
          "F",
          "C",
          "A",
          "B",
          "C",
          "D",
          "F",
          "B",
          "F",
          "C",
          "C",
          "D",
          "C",
          "B",
          "C",
          "F",
          "D",
          "D",
          "F",
          "C",
          "C",
          "B",
          "C",
          "D",
          "F",
          "F",
          "C",
          "D",
          "F",
          "C",
          "D",
          "D",
          "F",
          "A",
          "A",
          "F",
          "D",
          "C",
          "C",
          "B",
          "D",
          "C",
          "C",
          "C",
          "C",
          "C",
          "D",
          "C",
          "D",
          "D",
          "C",
          "A",
          "B",
          "D",
          "F",
          "B",
          "A",
          "C",
          "F",
          "C",
          "F",
          "B",
          "F",
          "D",
          "F",
          "D",
          "B",
          "C",
          "F",
          "F",
          "C",
          "D",
          "D",
          "D",
          "F",
          "C",
          "F",
          "D",
          "D",
          "B",
          "C",
          "B",
          "C",
          "F",
          "D",
          "F",
          "C",
          "B",
          "D",
          "C",
          "B",
          "C",
          "D",
          "B",
          "D",
          "B",
          "C",
          "B",
          "B",
          "C",
          "A",
          "C",
          "F",
          "D",
          "B",
          "F",
          "C",
          "D",
          "B",
          "F",
          "F",
          "C",
          "D",
          "D",
          "D",
          "B",
          "D",
          "B",
          "B",
          "C",
          "B"
         ],
         "xaxis": "x2",
         "yaxis": "y2"
        },
        {
         "alignmentgroup": "True",
         "bingroup": "x",
         "histfunc": "count",
         "hovertemplate": "parental level of education=master's degree<br>reading grade=%{x}<br>count=%{y}<extra></extra>",
         "legendgroup": "",
         "marker": {
          "color": "#636efa",
          "pattern": {
           "shape": ""
          }
         },
         "name": "",
         "offsetgroup": "",
         "orientation": "v",
         "showlegend": false,
         "type": "histogram",
         "x": [
          "A",
          "F",
          "F",
          "C",
          "C",
          "C",
          "D",
          "A",
          "B",
          "B",
          "F",
          "A",
          "C",
          "A",
          "C",
          "D",
          "B",
          "F",
          "B",
          "B",
          "B",
          "A",
          "B",
          "C",
          "C",
          "F",
          "D",
          "C",
          "F",
          "C",
          "A",
          "F",
          "D",
          "C",
          "D",
          "C",
          "D",
          "D",
          "B",
          "F",
          "B",
          "A",
          "B",
          "F",
          "C",
          "A",
          "D",
          "D",
          "B",
          "B",
          "D",
          "B",
          "D",
          "B",
          "C",
          "D",
          "A",
          "A",
          "A"
         ],
         "xaxis": "x3",
         "yaxis": "y3"
        },
        {
         "alignmentgroup": "True",
         "bingroup": "x",
         "histfunc": "count",
         "hovertemplate": "parental level of education=associate's degree<br>reading grade=%{x}<br>count=%{y}<extra></extra>",
         "legendgroup": "",
         "marker": {
          "color": "#636efa",
          "pattern": {
           "shape": ""
          }
         },
         "name": "",
         "offsetgroup": "",
         "orientation": "v",
         "showlegend": false,
         "type": "histogram",
         "x": [
          "F",
          "B",
          "F",
          "F",
          "F",
          "B",
          "B",
          "A",
          "F",
          "D",
          "C",
          "F",
          "F",
          "F",
          "D",
          "C",
          "D",
          "B",
          "F",
          "D",
          "B",
          "F",
          "D",
          "F",
          "F",
          "F",
          "D",
          "C",
          "F",
          "B",
          "A",
          "D",
          "C",
          "B",
          "F",
          "B",
          "D",
          "D",
          "A",
          "C",
          "B",
          "D",
          "C",
          "D",
          "C",
          "D",
          "D",
          "D",
          "F",
          "B",
          "C",
          "D",
          "F",
          "B",
          "B",
          "D",
          "F",
          "C",
          "B",
          "C",
          "C",
          "C",
          "C",
          "A",
          "F",
          "B",
          "B",
          "C",
          "D",
          "C",
          "B",
          "B",
          "C",
          "C",
          "C",
          "C",
          "D",
          "C",
          "D",
          "C",
          "F",
          "F",
          "C",
          "F",
          "C",
          "C",
          "F",
          "D",
          "F",
          "B",
          "A",
          "C",
          "F",
          "B",
          "D",
          "B",
          "B",
          "D",
          "C",
          "A",
          "D",
          "D",
          "D",
          "B",
          "C",
          "C",
          "D",
          "F",
          "F",
          "B",
          "B",
          "A",
          "D",
          "C",
          "F",
          "F",
          "C",
          "B",
          "B",
          "D",
          "B",
          "B",
          "B",
          "C",
          "D",
          "D",
          "B",
          "D",
          "A",
          "B",
          "C",
          "A",
          "F",
          "F",
          "C",
          "C",
          "F",
          "F",
          "C",
          "C",
          "B",
          "D",
          "C",
          "A",
          "C",
          "C",
          "F",
          "C",
          "B",
          "C",
          "C",
          "D",
          "D",
          "B",
          "D",
          "C",
          "F",
          "B",
          "C",
          "C",
          "F",
          "C",
          "C",
          "B",
          "C",
          "D",
          "A",
          "C",
          "A",
          "C",
          "C",
          "C",
          "C",
          "C",
          "F",
          "C",
          "C",
          "F",
          "A",
          "B",
          "F",
          "F",
          "D",
          "D",
          "B",
          "F",
          "A",
          "D",
          "F",
          "C",
          "C",
          "C",
          "D",
          "A",
          "F",
          "C",
          "F",
          "B",
          "A",
          "C",
          "F",
          "C",
          "A",
          "A",
          "D",
          "F",
          "D",
          "C",
          "D",
          "F",
          "F",
          "C",
          "B",
          "F",
          "D",
          "F",
          "A",
          "C",
          "D",
          "A",
          "F",
          "C"
         ],
         "xaxis": "x4",
         "yaxis": "y4"
        },
        {
         "alignmentgroup": "True",
         "bingroup": "x",
         "histfunc": "count",
         "hovertemplate": "parental level of education=high school<br>reading grade=%{x}<br>count=%{y}<extra></extra>",
         "legendgroup": "",
         "marker": {
          "color": "#636efa",
          "pattern": {
           "shape": ""
          }
         },
         "name": "",
         "offsetgroup": "",
         "orientation": "v",
         "showlegend": false,
         "type": "histogram",
         "x": [
          "D",
          "D",
          "B",
          "C",
          "B",
          "F",
          "D",
          "C",
          "C",
          "D",
          "C",
          "B",
          "C",
          "B",
          "F",
          "F",
          "F",
          "F",
          "D",
          "F",
          "F",
          "F",
          "F",
          "C",
          "F",
          "F",
          "B",
          "F",
          "C",
          "D",
          "F",
          "D",
          "F",
          "C",
          "D",
          "F",
          "A",
          "D",
          "F",
          "F",
          "F",
          "C",
          "F",
          "B",
          "D",
          "D",
          "C",
          "F",
          "F",
          "B",
          "C",
          "B",
          "F",
          "A",
          "F",
          "F",
          "C",
          "D",
          "F",
          "D",
          "D",
          "F",
          "C",
          "B",
          "C",
          "D",
          "A",
          "B",
          "F",
          "C",
          "F",
          "D",
          "D",
          "B",
          "F",
          "C",
          "B",
          "D",
          "D",
          "F",
          "C",
          "C",
          "D",
          "D",
          "F",
          "C",
          "F",
          "C",
          "F",
          "A",
          "C",
          "F",
          "C",
          "A",
          "D",
          "B",
          "F",
          "F",
          "F",
          "B",
          "C",
          "C",
          "D",
          "C",
          "F",
          "F",
          "F",
          "F",
          "F",
          "D",
          "C",
          "B",
          "F",
          "F",
          "F",
          "D",
          "C",
          "F",
          "F",
          "D",
          "C",
          "C",
          "B",
          "C",
          "D",
          "B",
          "F",
          "F",
          "D",
          "B",
          "C",
          "A",
          "B",
          "F",
          "F",
          "D",
          "D",
          "C",
          "F",
          "D",
          "D",
          "F",
          "F",
          "A",
          "F",
          "C",
          "F",
          "D",
          "C",
          "F",
          "F",
          "B",
          "C",
          "F",
          "D",
          "C",
          "F",
          "F",
          "D",
          "F",
          "B",
          "B",
          "C",
          "B",
          "C",
          "B",
          "F",
          "D",
          "D",
          "B",
          "D",
          "D",
          "C",
          "F",
          "C",
          "F",
          "D",
          "D",
          "D",
          "B",
          "C",
          "F",
          "F",
          "D",
          "B",
          "C",
          "C",
          "F",
          "D",
          "F",
          "F",
          "D",
          "D",
          "D",
          "B",
          "A",
          "D",
          "D",
          "C",
          "D",
          "F",
          "D",
          "B",
          "A",
          "A",
          "C",
          "C",
          "D",
          "D",
          "C",
          "F",
          "F",
          "C",
          "B",
          "F",
          "F",
          "C",
          "D",
          "D",
          "F",
          "F",
          "D",
          "B",
          "B",
          "C",
          "B",
          "A",
          "F",
          "B",
          "C",
          "D",
          "D",
          "F",
          "F",
          "B",
          "C",
          "D",
          "D",
          "D",
          "D",
          "C",
          "C",
          "B",
          "C",
          "D",
          "F",
          "F",
          "F",
          "D",
          "D",
          "D",
          "D",
          "F",
          "B",
          "B",
          "C",
          "C",
          "F",
          "A",
          "F",
          "F",
          "A",
          "F",
          "F",
          "D",
          "B",
          "C",
          "D",
          "A",
          "C",
          "F",
          "B",
          "D",
          "C",
          "C",
          "D",
          "C",
          "F",
          "D",
          "F",
          "C",
          "B",
          "F",
          "C",
          "D",
          "C",
          "B",
          "F",
          "C",
          "C",
          "B",
          "F",
          "C",
          "F",
          "F",
          "B",
          "B",
          "B",
          "C",
          "A",
          "A",
          "B",
          "F",
          "D",
          "D",
          "B",
          "F",
          "B",
          "D",
          "D",
          "B",
          "F",
          "F",
          "F",
          "D",
          "F",
          "C",
          "D",
          "D",
          "D",
          "F",
          "F",
          "F",
          "D",
          "C",
          "C",
          "C",
          "F",
          "C",
          "F",
          "F",
          "C",
          "C",
          "F",
          "B",
          "F",
          "D",
          "C",
          "F",
          "D",
          "C",
          "D",
          "D",
          "F",
          "F",
          "D",
          "D",
          "D",
          "D",
          "B",
          "F",
          "C",
          "C",
          "C",
          "F",
          "D",
          "B",
          "F",
          "C",
          "D",
          "C",
          "F",
          "F",
          "F",
          "C",
          "B",
          "C",
          "F",
          "C",
          "F",
          "B",
          "B",
          "D",
          "F",
          "C"
         ],
         "xaxis": "x5",
         "yaxis": "y5"
        }
       ],
       "layout": {
        "annotations": [
         {
          "font": {},
          "showarrow": false,
          "text": "bachelor's degree",
          "x": 0.09200000000000001,
          "xanchor": "center",
          "xref": "paper",
          "y": 1,
          "yanchor": "bottom",
          "yref": "paper"
         },
         {
          "font": {},
          "showarrow": false,
          "text": "diploma",
          "x": 0.29600000000000004,
          "xanchor": "center",
          "xref": "paper",
          "y": 1,
          "yanchor": "bottom",
          "yref": "paper"
         },
         {
          "font": {},
          "showarrow": false,
          "text": "master's degree",
          "x": 0.5,
          "xanchor": "center",
          "xref": "paper",
          "y": 1,
          "yanchor": "bottom",
          "yref": "paper"
         },
         {
          "font": {},
          "showarrow": false,
          "text": "associate's degree",
          "x": 0.7040000000000002,
          "xanchor": "center",
          "xref": "paper",
          "y": 1,
          "yanchor": "bottom",
          "yref": "paper"
         },
         {
          "font": {},
          "showarrow": false,
          "text": "high school",
          "x": 0.908,
          "xanchor": "center",
          "xref": "paper",
          "y": 1,
          "yanchor": "bottom",
          "yref": "paper"
         }
        ],
        "barmode": "relative",
        "legend": {
         "tracegroupgap": 0
        },
        "template": {
         "data": {
          "bar": [
           {
            "error_x": {
             "color": "#2a3f5f"
            },
            "error_y": {
             "color": "#2a3f5f"
            },
            "marker": {
             "line": {
              "color": "#E5ECF6",
              "width": 0.5
             },
             "pattern": {
              "fillmode": "overlay",
              "size": 10,
              "solidity": 0.2
             }
            },
            "type": "bar"
           }
          ],
          "barpolar": [
           {
            "marker": {
             "line": {
              "color": "#E5ECF6",
              "width": 0.5
             },
             "pattern": {
              "fillmode": "overlay",
              "size": 10,
              "solidity": 0.2
             }
            },
            "type": "barpolar"
           }
          ],
          "carpet": [
           {
            "aaxis": {
             "endlinecolor": "#2a3f5f",
             "gridcolor": "white",
             "linecolor": "white",
             "minorgridcolor": "white",
             "startlinecolor": "#2a3f5f"
            },
            "baxis": {
             "endlinecolor": "#2a3f5f",
             "gridcolor": "white",
             "linecolor": "white",
             "minorgridcolor": "white",
             "startlinecolor": "#2a3f5f"
            },
            "type": "carpet"
           }
          ],
          "choropleth": [
           {
            "colorbar": {
             "outlinewidth": 0,
             "ticks": ""
            },
            "type": "choropleth"
           }
          ],
          "contour": [
           {
            "colorbar": {
             "outlinewidth": 0,
             "ticks": ""
            },
            "colorscale": [
             [
              0,
              "#0d0887"
             ],
             [
              0.1111111111111111,
              "#46039f"
             ],
             [
              0.2222222222222222,
              "#7201a8"
             ],
             [
              0.3333333333333333,
              "#9c179e"
             ],
             [
              0.4444444444444444,
              "#bd3786"
             ],
             [
              0.5555555555555556,
              "#d8576b"
             ],
             [
              0.6666666666666666,
              "#ed7953"
             ],
             [
              0.7777777777777778,
              "#fb9f3a"
             ],
             [
              0.8888888888888888,
              "#fdca26"
             ],
             [
              1,
              "#f0f921"
             ]
            ],
            "type": "contour"
           }
          ],
          "contourcarpet": [
           {
            "colorbar": {
             "outlinewidth": 0,
             "ticks": ""
            },
            "type": "contourcarpet"
           }
          ],
          "heatmap": [
           {
            "colorbar": {
             "outlinewidth": 0,
             "ticks": ""
            },
            "colorscale": [
             [
              0,
              "#0d0887"
             ],
             [
              0.1111111111111111,
              "#46039f"
             ],
             [
              0.2222222222222222,
              "#7201a8"
             ],
             [
              0.3333333333333333,
              "#9c179e"
             ],
             [
              0.4444444444444444,
              "#bd3786"
             ],
             [
              0.5555555555555556,
              "#d8576b"
             ],
             [
              0.6666666666666666,
              "#ed7953"
             ],
             [
              0.7777777777777778,
              "#fb9f3a"
             ],
             [
              0.8888888888888888,
              "#fdca26"
             ],
             [
              1,
              "#f0f921"
             ]
            ],
            "type": "heatmap"
           }
          ],
          "heatmapgl": [
           {
            "colorbar": {
             "outlinewidth": 0,
             "ticks": ""
            },
            "colorscale": [
             [
              0,
              "#0d0887"
             ],
             [
              0.1111111111111111,
              "#46039f"
             ],
             [
              0.2222222222222222,
              "#7201a8"
             ],
             [
              0.3333333333333333,
              "#9c179e"
             ],
             [
              0.4444444444444444,
              "#bd3786"
             ],
             [
              0.5555555555555556,
              "#d8576b"
             ],
             [
              0.6666666666666666,
              "#ed7953"
             ],
             [
              0.7777777777777778,
              "#fb9f3a"
             ],
             [
              0.8888888888888888,
              "#fdca26"
             ],
             [
              1,
              "#f0f921"
             ]
            ],
            "type": "heatmapgl"
           }
          ],
          "histogram": [
           {
            "marker": {
             "pattern": {
              "fillmode": "overlay",
              "size": 10,
              "solidity": 0.2
             }
            },
            "type": "histogram"
           }
          ],
          "histogram2d": [
           {
            "colorbar": {
             "outlinewidth": 0,
             "ticks": ""
            },
            "colorscale": [
             [
              0,
              "#0d0887"
             ],
             [
              0.1111111111111111,
              "#46039f"
             ],
             [
              0.2222222222222222,
              "#7201a8"
             ],
             [
              0.3333333333333333,
              "#9c179e"
             ],
             [
              0.4444444444444444,
              "#bd3786"
             ],
             [
              0.5555555555555556,
              "#d8576b"
             ],
             [
              0.6666666666666666,
              "#ed7953"
             ],
             [
              0.7777777777777778,
              "#fb9f3a"
             ],
             [
              0.8888888888888888,
              "#fdca26"
             ],
             [
              1,
              "#f0f921"
             ]
            ],
            "type": "histogram2d"
           }
          ],
          "histogram2dcontour": [
           {
            "colorbar": {
             "outlinewidth": 0,
             "ticks": ""
            },
            "colorscale": [
             [
              0,
              "#0d0887"
             ],
             [
              0.1111111111111111,
              "#46039f"
             ],
             [
              0.2222222222222222,
              "#7201a8"
             ],
             [
              0.3333333333333333,
              "#9c179e"
             ],
             [
              0.4444444444444444,
              "#bd3786"
             ],
             [
              0.5555555555555556,
              "#d8576b"
             ],
             [
              0.6666666666666666,
              "#ed7953"
             ],
             [
              0.7777777777777778,
              "#fb9f3a"
             ],
             [
              0.8888888888888888,
              "#fdca26"
             ],
             [
              1,
              "#f0f921"
             ]
            ],
            "type": "histogram2dcontour"
           }
          ],
          "mesh3d": [
           {
            "colorbar": {
             "outlinewidth": 0,
             "ticks": ""
            },
            "type": "mesh3d"
           }
          ],
          "parcoords": [
           {
            "line": {
             "colorbar": {
              "outlinewidth": 0,
              "ticks": ""
             }
            },
            "type": "parcoords"
           }
          ],
          "pie": [
           {
            "automargin": true,
            "type": "pie"
           }
          ],
          "scatter": [
           {
            "fillpattern": {
             "fillmode": "overlay",
             "size": 10,
             "solidity": 0.2
            },
            "type": "scatter"
           }
          ],
          "scatter3d": [
           {
            "line": {
             "colorbar": {
              "outlinewidth": 0,
              "ticks": ""
             }
            },
            "marker": {
             "colorbar": {
              "outlinewidth": 0,
              "ticks": ""
             }
            },
            "type": "scatter3d"
           }
          ],
          "scattercarpet": [
           {
            "marker": {
             "colorbar": {
              "outlinewidth": 0,
              "ticks": ""
             }
            },
            "type": "scattercarpet"
           }
          ],
          "scattergeo": [
           {
            "marker": {
             "colorbar": {
              "outlinewidth": 0,
              "ticks": ""
             }
            },
            "type": "scattergeo"
           }
          ],
          "scattergl": [
           {
            "marker": {
             "colorbar": {
              "outlinewidth": 0,
              "ticks": ""
             }
            },
            "type": "scattergl"
           }
          ],
          "scattermapbox": [
           {
            "marker": {
             "colorbar": {
              "outlinewidth": 0,
              "ticks": ""
             }
            },
            "type": "scattermapbox"
           }
          ],
          "scatterpolar": [
           {
            "marker": {
             "colorbar": {
              "outlinewidth": 0,
              "ticks": ""
             }
            },
            "type": "scatterpolar"
           }
          ],
          "scatterpolargl": [
           {
            "marker": {
             "colorbar": {
              "outlinewidth": 0,
              "ticks": ""
             }
            },
            "type": "scatterpolargl"
           }
          ],
          "scatterternary": [
           {
            "marker": {
             "colorbar": {
              "outlinewidth": 0,
              "ticks": ""
             }
            },
            "type": "scatterternary"
           }
          ],
          "surface": [
           {
            "colorbar": {
             "outlinewidth": 0,
             "ticks": ""
            },
            "colorscale": [
             [
              0,
              "#0d0887"
             ],
             [
              0.1111111111111111,
              "#46039f"
             ],
             [
              0.2222222222222222,
              "#7201a8"
             ],
             [
              0.3333333333333333,
              "#9c179e"
             ],
             [
              0.4444444444444444,
              "#bd3786"
             ],
             [
              0.5555555555555556,
              "#d8576b"
             ],
             [
              0.6666666666666666,
              "#ed7953"
             ],
             [
              0.7777777777777778,
              "#fb9f3a"
             ],
             [
              0.8888888888888888,
              "#fdca26"
             ],
             [
              1,
              "#f0f921"
             ]
            ],
            "type": "surface"
           }
          ],
          "table": [
           {
            "cells": {
             "fill": {
              "color": "#EBF0F8"
             },
             "line": {
              "color": "white"
             }
            },
            "header": {
             "fill": {
              "color": "#C8D4E3"
             },
             "line": {
              "color": "white"
             }
            },
            "type": "table"
           }
          ]
         },
         "layout": {
          "annotationdefaults": {
           "arrowcolor": "#2a3f5f",
           "arrowhead": 0,
           "arrowwidth": 1
          },
          "autotypenumbers": "strict",
          "coloraxis": {
           "colorbar": {
            "outlinewidth": 0,
            "ticks": ""
           }
          },
          "colorscale": {
           "diverging": [
            [
             0,
             "#8e0152"
            ],
            [
             0.1,
             "#c51b7d"
            ],
            [
             0.2,
             "#de77ae"
            ],
            [
             0.3,
             "#f1b6da"
            ],
            [
             0.4,
             "#fde0ef"
            ],
            [
             0.5,
             "#f7f7f7"
            ],
            [
             0.6,
             "#e6f5d0"
            ],
            [
             0.7,
             "#b8e186"
            ],
            [
             0.8,
             "#7fbc41"
            ],
            [
             0.9,
             "#4d9221"
            ],
            [
             1,
             "#276419"
            ]
           ],
           "sequential": [
            [
             0,
             "#0d0887"
            ],
            [
             0.1111111111111111,
             "#46039f"
            ],
            [
             0.2222222222222222,
             "#7201a8"
            ],
            [
             0.3333333333333333,
             "#9c179e"
            ],
            [
             0.4444444444444444,
             "#bd3786"
            ],
            [
             0.5555555555555556,
             "#d8576b"
            ],
            [
             0.6666666666666666,
             "#ed7953"
            ],
            [
             0.7777777777777778,
             "#fb9f3a"
            ],
            [
             0.8888888888888888,
             "#fdca26"
            ],
            [
             1,
             "#f0f921"
            ]
           ],
           "sequentialminus": [
            [
             0,
             "#0d0887"
            ],
            [
             0.1111111111111111,
             "#46039f"
            ],
            [
             0.2222222222222222,
             "#7201a8"
            ],
            [
             0.3333333333333333,
             "#9c179e"
            ],
            [
             0.4444444444444444,
             "#bd3786"
            ],
            [
             0.5555555555555556,
             "#d8576b"
            ],
            [
             0.6666666666666666,
             "#ed7953"
            ],
            [
             0.7777777777777778,
             "#fb9f3a"
            ],
            [
             0.8888888888888888,
             "#fdca26"
            ],
            [
             1,
             "#f0f921"
            ]
           ]
          },
          "colorway": [
           "#636efa",
           "#EF553B",
           "#00cc96",
           "#ab63fa",
           "#FFA15A",
           "#19d3f3",
           "#FF6692",
           "#B6E880",
           "#FF97FF",
           "#FECB52"
          ],
          "font": {
           "color": "#2a3f5f"
          },
          "geo": {
           "bgcolor": "white",
           "lakecolor": "white",
           "landcolor": "#E5ECF6",
           "showlakes": true,
           "showland": true,
           "subunitcolor": "white"
          },
          "hoverlabel": {
           "align": "left"
          },
          "hovermode": "closest",
          "mapbox": {
           "style": "light"
          },
          "paper_bgcolor": "white",
          "plot_bgcolor": "#E5ECF6",
          "polar": {
           "angularaxis": {
            "gridcolor": "white",
            "linecolor": "white",
            "ticks": ""
           },
           "bgcolor": "#E5ECF6",
           "radialaxis": {
            "gridcolor": "white",
            "linecolor": "white",
            "ticks": ""
           }
          },
          "scene": {
           "xaxis": {
            "backgroundcolor": "#E5ECF6",
            "gridcolor": "white",
            "gridwidth": 2,
            "linecolor": "white",
            "showbackground": true,
            "ticks": "",
            "zerolinecolor": "white"
           },
           "yaxis": {
            "backgroundcolor": "#E5ECF6",
            "gridcolor": "white",
            "gridwidth": 2,
            "linecolor": "white",
            "showbackground": true,
            "ticks": "",
            "zerolinecolor": "white"
           },
           "zaxis": {
            "backgroundcolor": "#E5ECF6",
            "gridcolor": "white",
            "gridwidth": 2,
            "linecolor": "white",
            "showbackground": true,
            "ticks": "",
            "zerolinecolor": "white"
           }
          },
          "shapedefaults": {
           "line": {
            "color": "#2a3f5f"
           }
          },
          "ternary": {
           "aaxis": {
            "gridcolor": "white",
            "linecolor": "white",
            "ticks": ""
           },
           "baxis": {
            "gridcolor": "white",
            "linecolor": "white",
            "ticks": ""
           },
           "bgcolor": "#E5ECF6",
           "caxis": {
            "gridcolor": "white",
            "linecolor": "white",
            "ticks": ""
           }
          },
          "title": {
           "x": 0.05
          },
          "xaxis": {
           "automargin": true,
           "gridcolor": "white",
           "linecolor": "white",
           "ticks": "",
           "title": {
            "standoff": 15
           },
           "zerolinecolor": "white",
           "zerolinewidth": 2
          },
          "yaxis": {
           "automargin": true,
           "gridcolor": "white",
           "linecolor": "white",
           "ticks": "",
           "title": {
            "standoff": 15
           },
           "zerolinecolor": "white",
           "zerolinewidth": 2
          }
         }
        },
        "title": {
         "text": "Reading scores and parents level of education"
        },
        "xaxis": {
         "anchor": "y",
         "categoryorder": "category ascending",
         "domain": [
          0,
          0.18400000000000002
         ],
         "title": {
          "text": "reading grade"
         }
        },
        "xaxis2": {
         "anchor": "y2",
         "categoryorder": "category ascending",
         "domain": [
          0.20400000000000001,
          0.388
         ],
         "matches": "x",
         "title": {
          "text": "reading grade"
         }
        },
        "xaxis3": {
         "anchor": "y3",
         "categoryorder": "category ascending",
         "domain": [
          0.40800000000000003,
          0.5920000000000001
         ],
         "matches": "x",
         "title": {
          "text": "reading grade"
         }
        },
        "xaxis4": {
         "anchor": "y4",
         "categoryorder": "category ascending",
         "domain": [
          0.6120000000000001,
          0.7960000000000002
         ],
         "matches": "x",
         "title": {
          "text": "reading grade"
         }
        },
        "xaxis5": {
         "anchor": "y5",
         "categoryorder": "category ascending",
         "domain": [
          0.8160000000000001,
          1
         ],
         "matches": "x",
         "title": {
          "text": "reading grade"
         }
        },
        "yaxis": {
         "anchor": "x",
         "domain": [
          0,
          1
         ],
         "title": {
          "text": "count"
         }
        },
        "yaxis2": {
         "anchor": "x2",
         "domain": [
          0,
          1
         ],
         "matches": "y",
         "showticklabels": false
        },
        "yaxis3": {
         "anchor": "x3",
         "domain": [
          0,
          1
         ],
         "matches": "y",
         "showticklabels": false
        },
        "yaxis4": {
         "anchor": "x4",
         "domain": [
          0,
          1
         ],
         "matches": "y",
         "showticklabels": false
        },
        "yaxis5": {
         "anchor": "x5",
         "domain": [
          0,
          1
         ],
         "matches": "y",
         "showticklabels": false
        }
       }
      }
     },
     "metadata": {},
     "output_type": "display_data"
    }
   ],
   "source": [
    "\n",
    "fig=px.histogram(df,histfunc=\"count\", x='reading grade', facet_col='parental level of education',title=\"Reading scores and parents level of education\"\n",
    "        ).update_xaxes(categoryorder='category ascending')\n",
    "fig.for_each_annotation(lambda a: a.update(text=a.text.split(\"=\")[-1]))\n",
    "fig.show()"
   ]
  },
  {
   "attachments": {},
   "cell_type": "markdown",
   "metadata": {},
   "source": [
    "In reading, the most common grade is C \n",
    "\n",
    "But for the high school parents, the most common grade is F"
   ]
  },
  {
   "cell_type": "code",
   "execution_count": 32,
   "metadata": {},
   "outputs": [
    {
     "data": {
      "application/vnd.plotly.v1+json": {
       "config": {
        "plotlyServerURL": "https://plot.ly"
       },
       "data": [
        {
         "alignmentgroup": "True",
         "bingroup": "x",
         "histfunc": "count",
         "hovertemplate": "parental level of education=bachelor's degree<br>writing grade=%{x}<br>count=%{y}<extra></extra>",
         "legendgroup": "",
         "marker": {
          "color": "#636efa",
          "pattern": {
           "shape": ""
          }
         },
         "name": "",
         "offsetgroup": "",
         "orientation": "v",
         "showlegend": false,
         "type": "histogram",
         "x": [
          "C",
          "B",
          "C",
          "C",
          "B",
          "C",
          "D",
          "C",
          "A",
          "B",
          "C",
          "B",
          "F",
          "C",
          "F",
          "B",
          "D",
          "F",
          "A",
          "F",
          "B",
          "C",
          "D",
          "B",
          "B",
          "D",
          "B",
          "B",
          "D",
          "C",
          "F",
          "B",
          "C",
          "C",
          "F",
          "D",
          "C",
          "D",
          "A",
          "A",
          "D",
          "C",
          "D",
          "D",
          "C",
          "D",
          "C",
          "C",
          "D",
          "B",
          "F",
          "B",
          "A",
          "F",
          "D",
          "B",
          "D",
          "A",
          "F",
          "B",
          "F",
          "F",
          "B",
          "C",
          "B",
          "A",
          "F",
          "A",
          "D",
          "A",
          "C",
          "D",
          "D",
          "A",
          "C",
          "A",
          "F",
          "B",
          "F",
          "D",
          "B",
          "B",
          "B",
          "B",
          "C",
          "B",
          "B",
          "D",
          "C",
          "F",
          "C",
          "C",
          "C",
          "C",
          "F",
          "D",
          "C",
          "A",
          "B",
          "F",
          "A",
          "B",
          "F",
          "D",
          "D",
          "C",
          "F",
          "A",
          "C",
          "C",
          "F",
          "D",
          "D",
          "A",
          "C",
          "B",
          "A",
          "C"
         ],
         "xaxis": "x",
         "yaxis": "y"
        },
        {
         "alignmentgroup": "True",
         "bingroup": "x",
         "histfunc": "count",
         "hovertemplate": "parental level of education=diploma<br>writing grade=%{x}<br>count=%{y}<extra></extra>",
         "legendgroup": "",
         "marker": {
          "color": "#636efa",
          "pattern": {
           "shape": ""
          }
         },
         "name": "",
         "offsetgroup": "",
         "orientation": "v",
         "showlegend": false,
         "type": "histogram",
         "x": [
          "B",
          "C",
          "A",
          "F",
          "C",
          "C",
          "F",
          "F",
          "C",
          "D",
          "F",
          "B",
          "D",
          "F",
          "F",
          "F",
          "C",
          "C",
          "D",
          "F",
          "B",
          "B",
          "D",
          "A",
          "C",
          "D",
          "D",
          "A",
          "C",
          "F",
          "D",
          "A",
          "C",
          "C",
          "C",
          "B",
          "D",
          "D",
          "F",
          "C",
          "F",
          "B",
          "D",
          "B",
          "C",
          "B",
          "D",
          "C",
          "D",
          "F",
          "C",
          "F",
          "C",
          "D",
          "F",
          "C",
          "A",
          "D",
          "F",
          "F",
          "B",
          "C",
          "C",
          "C",
          "C",
          "F",
          "C",
          "C",
          "C",
          "B",
          "D",
          "B",
          "B",
          "A",
          "D",
          "F",
          "D",
          "D",
          "F",
          "F",
          "B",
          "C",
          "D",
          "D",
          "B",
          "F",
          "F",
          "C",
          "C",
          "A",
          "C",
          "C",
          "D",
          "F",
          "F",
          "C",
          "D",
          "F",
          "D",
          "F",
          "C",
          "D",
          "B",
          "A",
          "F",
          "F",
          "C",
          "A",
          "A",
          "C",
          "D",
          "F",
          "A",
          "F",
          "C",
          "C",
          "F",
          "C",
          "B",
          "C",
          "F",
          "F",
          "D",
          "F",
          "C",
          "C",
          "B",
          "C",
          "F",
          "F",
          "F",
          "C",
          "D",
          "F",
          "B",
          "D",
          "D",
          "D",
          "B",
          "A",
          "F",
          "C",
          "C",
          "B",
          "A",
          "D",
          "C",
          "D",
          "C",
          "D",
          "C",
          "D",
          "C",
          "D",
          "D",
          "D",
          "B",
          "B",
          "D",
          "F",
          "A",
          "A",
          "C",
          "F",
          "C",
          "F",
          "A",
          "F",
          "C",
          "F",
          "D",
          "B",
          "D",
          "F",
          "D",
          "C",
          "F",
          "F",
          "D",
          "F",
          "B",
          "F",
          "C",
          "F",
          "B",
          "C",
          "C",
          "C",
          "F",
          "F",
          "F",
          "C",
          "A",
          "D",
          "B",
          "B",
          "C",
          "D",
          "B",
          "C",
          "A",
          "C",
          "A",
          "B",
          "D",
          "A",
          "C",
          "D",
          "F",
          "B",
          "D",
          "B",
          "D",
          "B",
          "D",
          "F",
          "C",
          "D",
          "D",
          "D",
          "C",
          "D",
          "A",
          "B",
          "C",
          "B"
         ],
         "xaxis": "x2",
         "yaxis": "y2"
        },
        {
         "alignmentgroup": "True",
         "bingroup": "x",
         "histfunc": "count",
         "hovertemplate": "parental level of education=master's degree<br>writing grade=%{x}<br>count=%{y}<extra></extra>",
         "legendgroup": "",
         "marker": {
          "color": "#636efa",
          "pattern": {
           "shape": ""
          }
         },
         "name": "",
         "offsetgroup": "",
         "orientation": "v",
         "showlegend": false,
         "type": "histogram",
         "x": [
          "A",
          "F",
          "F",
          "C",
          "C",
          "D",
          "D",
          "A",
          "C",
          "B",
          "F",
          "A",
          "C",
          "B",
          "D",
          "C",
          "B",
          "F",
          "C",
          "B",
          "A",
          "A",
          "C",
          "C",
          "C",
          "D",
          "C",
          "B",
          "F",
          "C",
          "A",
          "F",
          "D",
          "D",
          "D",
          "C",
          "D",
          "D",
          "A",
          "F",
          "B",
          "A",
          "B",
          "F",
          "C",
          "B",
          "D",
          "D",
          "B",
          "B",
          "D",
          "B",
          "C",
          "B",
          "C",
          "C",
          "A",
          "A",
          "A"
         ],
         "xaxis": "x3",
         "yaxis": "y3"
        },
        {
         "alignmentgroup": "True",
         "bingroup": "x",
         "histfunc": "count",
         "hovertemplate": "parental level of education=associate's degree<br>writing grade=%{x}<br>count=%{y}<extra></extra>",
         "legendgroup": "",
         "marker": {
          "color": "#636efa",
          "pattern": {
           "shape": ""
          }
         },
         "name": "",
         "offsetgroup": "",
         "orientation": "v",
         "showlegend": false,
         "type": "histogram",
         "x": [
          "F",
          "C",
          "F",
          "F",
          "D",
          "C",
          "B",
          "B",
          "F",
          "F",
          "D",
          "D",
          "F",
          "F",
          "D",
          "C",
          "D",
          "B",
          "F",
          "F",
          "C",
          "F",
          "F",
          "F",
          "F",
          "F",
          "D",
          "C",
          "F",
          "B",
          "B",
          "D",
          "C",
          "A",
          "F",
          "A",
          "D",
          "D",
          "A",
          "D",
          "B",
          "D",
          "C",
          "C",
          "C",
          "C",
          "D",
          "D",
          "F",
          "B",
          "D",
          "D",
          "F",
          "B",
          "C",
          "C",
          "F",
          "C",
          "B",
          "C",
          "C",
          "D",
          "C",
          "A",
          "F",
          "B",
          "B",
          "D",
          "D",
          "D",
          "C",
          "B",
          "D",
          "B",
          "D",
          "B",
          "D",
          "C",
          "D",
          "C",
          "F",
          "F",
          "B",
          "F",
          "D",
          "C",
          "F",
          "D",
          "F",
          "B",
          "A",
          "D",
          "F",
          "A",
          "D",
          "C",
          "B",
          "D",
          "D",
          "A",
          "F",
          "D",
          "C",
          "C",
          "C",
          "C",
          "D",
          "F",
          "F",
          "A",
          "B",
          "A",
          "C",
          "D",
          "F",
          "F",
          "C",
          "B",
          "C",
          "C",
          "A",
          "A",
          "B",
          "C",
          "C",
          "F",
          "A",
          "F",
          "B",
          "B",
          "C",
          "B",
          "F",
          "F",
          "C",
          "C",
          "F",
          "F",
          "B",
          "C",
          "B",
          "D",
          "C",
          "A",
          "D",
          "D",
          "F",
          "C",
          "A",
          "D",
          "C",
          "D",
          "F",
          "B",
          "D",
          "C",
          "F",
          "B",
          "C",
          "C",
          "F",
          "C",
          "C",
          "A",
          "C",
          "F",
          "B",
          "C",
          "A",
          "B",
          "C",
          "B",
          "B",
          "C",
          "F",
          "C",
          "C",
          "F",
          "A",
          "B",
          "F",
          "D",
          "D",
          "C",
          "B",
          "F",
          "A",
          "C",
          "F",
          "C",
          "D",
          "C",
          "F",
          "A",
          "F",
          "C",
          "F",
          "C",
          "B",
          "C",
          "F",
          "B",
          "A",
          "B",
          "D",
          "D",
          "F",
          "B",
          "D",
          "F",
          "F",
          "C",
          "A",
          "F",
          "F",
          "D",
          "A",
          "D",
          "F",
          "A",
          "F",
          "C"
         ],
         "xaxis": "x4",
         "yaxis": "y4"
        },
        {
         "alignmentgroup": "True",
         "bingroup": "x",
         "histfunc": "count",
         "hovertemplate": "parental level of education=high school<br>writing grade=%{x}<br>count=%{y}<extra></extra>",
         "legendgroup": "",
         "marker": {
          "color": "#636efa",
          "pattern": {
           "shape": ""
          }
         },
         "name": "",
         "offsetgroup": "",
         "orientation": "v",
         "showlegend": false,
         "type": "histogram",
         "x": [
          "D",
          "F",
          "C",
          "C",
          "B",
          "F",
          "D",
          "C",
          "D",
          "F",
          "C",
          "B",
          "C",
          "B",
          "F",
          "F",
          "F",
          "F",
          "D",
          "F",
          "F",
          "F",
          "F",
          "C",
          "F",
          "F",
          "B",
          "F",
          "C",
          "D",
          "F",
          "C",
          "F",
          "C",
          "D",
          "F",
          "B",
          "D",
          "F",
          "F",
          "F",
          "C",
          "F",
          "C",
          "D",
          "D",
          "C",
          "F",
          "F",
          "C",
          "C",
          "C",
          "F",
          "A",
          "F",
          "F",
          "D",
          "D",
          "F",
          "D",
          "D",
          "F",
          "C",
          "C",
          "C",
          "D",
          "B",
          "C",
          "F",
          "C",
          "F",
          "C",
          "D",
          "C",
          "F",
          "D",
          "C",
          "C",
          "D",
          "F",
          "D",
          "D",
          "D",
          "F",
          "F",
          "C",
          "F",
          "C",
          "F",
          "A",
          "D",
          "F",
          "C",
          "A",
          "C",
          "B",
          "F",
          "F",
          "F",
          "B",
          "C",
          "C",
          "F",
          "B",
          "F",
          "F",
          "F",
          "F",
          "F",
          "D",
          "B",
          "C",
          "F",
          "F",
          "F",
          "D",
          "D",
          "F",
          "D",
          "F",
          "D",
          "C",
          "C",
          "D",
          "F",
          "C",
          "F",
          "F",
          "F",
          "B",
          "C",
          "B",
          "C",
          "F",
          "F",
          "D",
          "F",
          "C",
          "F",
          "D",
          "F",
          "F",
          "D",
          "A",
          "D",
          "D",
          "F",
          "D",
          "D",
          "F",
          "D",
          "B",
          "D",
          "F",
          "F",
          "C",
          "F",
          "F",
          "D",
          "F",
          "B",
          "B",
          "D",
          "C",
          "C",
          "B",
          "F",
          "D",
          "D",
          "B",
          "C",
          "D",
          "D",
          "F",
          "C",
          "F",
          "D",
          "D",
          "D",
          "B",
          "D",
          "F",
          "F",
          "D",
          "B",
          "C",
          "C",
          "F",
          "D",
          "F",
          "F",
          "D",
          "D",
          "D",
          "B",
          "A",
          "D",
          "D",
          "D",
          "D",
          "F",
          "D",
          "C",
          "B",
          "A",
          "B",
          "C",
          "D",
          "F",
          "C",
          "F",
          "F",
          "C",
          "B",
          "F",
          "F",
          "D",
          "C",
          "F",
          "F",
          "F",
          "D",
          "B",
          "B",
          "D",
          "B",
          "B",
          "F",
          "C",
          "B",
          "D",
          "D",
          "F",
          "F",
          "C",
          "C",
          "D",
          "D",
          "D",
          "D",
          "D",
          "C",
          "C",
          "C",
          "D",
          "F",
          "F",
          "F",
          "F",
          "F",
          "C",
          "D",
          "F",
          "C",
          "B",
          "C",
          "C",
          "F",
          "B",
          "F",
          "F",
          "B",
          "F",
          "F",
          "F",
          "B",
          "C",
          "D",
          "B",
          "D",
          "F",
          "B",
          "D",
          "C",
          "C",
          "D",
          "C",
          "F",
          "C",
          "F",
          "C",
          "B",
          "F",
          "C",
          "D",
          "D",
          "C",
          "F",
          "C",
          "D",
          "C",
          "F",
          "D",
          "F",
          "F",
          "C",
          "B",
          "B",
          "D",
          "B",
          "A",
          "B",
          "F",
          "F",
          "C",
          "B",
          "F",
          "B",
          "C",
          "F",
          "C",
          "F",
          "F",
          "F",
          "D",
          "F",
          "D",
          "D",
          "D",
          "F",
          "F",
          "F",
          "F",
          "F",
          "B",
          "C",
          "F",
          "F",
          "C",
          "F",
          "F",
          "C",
          "B",
          "F",
          "B",
          "F",
          "F",
          "D",
          "F",
          "D",
          "D",
          "D",
          "C",
          "F",
          "F",
          "D",
          "D",
          "D",
          "D",
          "B",
          "F",
          "C",
          "C",
          "C",
          "F",
          "F",
          "C",
          "F",
          "C",
          "D",
          "D",
          "D",
          "F",
          "F",
          "C",
          "B",
          "B",
          "F",
          "C",
          "F",
          "C",
          "C",
          "D",
          "F",
          "D"
         ],
         "xaxis": "x5",
         "yaxis": "y5"
        }
       ],
       "layout": {
        "annotations": [
         {
          "font": {},
          "showarrow": false,
          "text": "bachelor's degree",
          "x": 0.09200000000000001,
          "xanchor": "center",
          "xref": "paper",
          "y": 1,
          "yanchor": "bottom",
          "yref": "paper"
         },
         {
          "font": {},
          "showarrow": false,
          "text": "diploma",
          "x": 0.29600000000000004,
          "xanchor": "center",
          "xref": "paper",
          "y": 1,
          "yanchor": "bottom",
          "yref": "paper"
         },
         {
          "font": {},
          "showarrow": false,
          "text": "master's degree",
          "x": 0.5,
          "xanchor": "center",
          "xref": "paper",
          "y": 1,
          "yanchor": "bottom",
          "yref": "paper"
         },
         {
          "font": {},
          "showarrow": false,
          "text": "associate's degree",
          "x": 0.7040000000000002,
          "xanchor": "center",
          "xref": "paper",
          "y": 1,
          "yanchor": "bottom",
          "yref": "paper"
         },
         {
          "font": {},
          "showarrow": false,
          "text": "high school",
          "x": 0.908,
          "xanchor": "center",
          "xref": "paper",
          "y": 1,
          "yanchor": "bottom",
          "yref": "paper"
         }
        ],
        "barmode": "relative",
        "legend": {
         "tracegroupgap": 0
        },
        "template": {
         "data": {
          "bar": [
           {
            "error_x": {
             "color": "#2a3f5f"
            },
            "error_y": {
             "color": "#2a3f5f"
            },
            "marker": {
             "line": {
              "color": "#E5ECF6",
              "width": 0.5
             },
             "pattern": {
              "fillmode": "overlay",
              "size": 10,
              "solidity": 0.2
             }
            },
            "type": "bar"
           }
          ],
          "barpolar": [
           {
            "marker": {
             "line": {
              "color": "#E5ECF6",
              "width": 0.5
             },
             "pattern": {
              "fillmode": "overlay",
              "size": 10,
              "solidity": 0.2
             }
            },
            "type": "barpolar"
           }
          ],
          "carpet": [
           {
            "aaxis": {
             "endlinecolor": "#2a3f5f",
             "gridcolor": "white",
             "linecolor": "white",
             "minorgridcolor": "white",
             "startlinecolor": "#2a3f5f"
            },
            "baxis": {
             "endlinecolor": "#2a3f5f",
             "gridcolor": "white",
             "linecolor": "white",
             "minorgridcolor": "white",
             "startlinecolor": "#2a3f5f"
            },
            "type": "carpet"
           }
          ],
          "choropleth": [
           {
            "colorbar": {
             "outlinewidth": 0,
             "ticks": ""
            },
            "type": "choropleth"
           }
          ],
          "contour": [
           {
            "colorbar": {
             "outlinewidth": 0,
             "ticks": ""
            },
            "colorscale": [
             [
              0,
              "#0d0887"
             ],
             [
              0.1111111111111111,
              "#46039f"
             ],
             [
              0.2222222222222222,
              "#7201a8"
             ],
             [
              0.3333333333333333,
              "#9c179e"
             ],
             [
              0.4444444444444444,
              "#bd3786"
             ],
             [
              0.5555555555555556,
              "#d8576b"
             ],
             [
              0.6666666666666666,
              "#ed7953"
             ],
             [
              0.7777777777777778,
              "#fb9f3a"
             ],
             [
              0.8888888888888888,
              "#fdca26"
             ],
             [
              1,
              "#f0f921"
             ]
            ],
            "type": "contour"
           }
          ],
          "contourcarpet": [
           {
            "colorbar": {
             "outlinewidth": 0,
             "ticks": ""
            },
            "type": "contourcarpet"
           }
          ],
          "heatmap": [
           {
            "colorbar": {
             "outlinewidth": 0,
             "ticks": ""
            },
            "colorscale": [
             [
              0,
              "#0d0887"
             ],
             [
              0.1111111111111111,
              "#46039f"
             ],
             [
              0.2222222222222222,
              "#7201a8"
             ],
             [
              0.3333333333333333,
              "#9c179e"
             ],
             [
              0.4444444444444444,
              "#bd3786"
             ],
             [
              0.5555555555555556,
              "#d8576b"
             ],
             [
              0.6666666666666666,
              "#ed7953"
             ],
             [
              0.7777777777777778,
              "#fb9f3a"
             ],
             [
              0.8888888888888888,
              "#fdca26"
             ],
             [
              1,
              "#f0f921"
             ]
            ],
            "type": "heatmap"
           }
          ],
          "heatmapgl": [
           {
            "colorbar": {
             "outlinewidth": 0,
             "ticks": ""
            },
            "colorscale": [
             [
              0,
              "#0d0887"
             ],
             [
              0.1111111111111111,
              "#46039f"
             ],
             [
              0.2222222222222222,
              "#7201a8"
             ],
             [
              0.3333333333333333,
              "#9c179e"
             ],
             [
              0.4444444444444444,
              "#bd3786"
             ],
             [
              0.5555555555555556,
              "#d8576b"
             ],
             [
              0.6666666666666666,
              "#ed7953"
             ],
             [
              0.7777777777777778,
              "#fb9f3a"
             ],
             [
              0.8888888888888888,
              "#fdca26"
             ],
             [
              1,
              "#f0f921"
             ]
            ],
            "type": "heatmapgl"
           }
          ],
          "histogram": [
           {
            "marker": {
             "pattern": {
              "fillmode": "overlay",
              "size": 10,
              "solidity": 0.2
             }
            },
            "type": "histogram"
           }
          ],
          "histogram2d": [
           {
            "colorbar": {
             "outlinewidth": 0,
             "ticks": ""
            },
            "colorscale": [
             [
              0,
              "#0d0887"
             ],
             [
              0.1111111111111111,
              "#46039f"
             ],
             [
              0.2222222222222222,
              "#7201a8"
             ],
             [
              0.3333333333333333,
              "#9c179e"
             ],
             [
              0.4444444444444444,
              "#bd3786"
             ],
             [
              0.5555555555555556,
              "#d8576b"
             ],
             [
              0.6666666666666666,
              "#ed7953"
             ],
             [
              0.7777777777777778,
              "#fb9f3a"
             ],
             [
              0.8888888888888888,
              "#fdca26"
             ],
             [
              1,
              "#f0f921"
             ]
            ],
            "type": "histogram2d"
           }
          ],
          "histogram2dcontour": [
           {
            "colorbar": {
             "outlinewidth": 0,
             "ticks": ""
            },
            "colorscale": [
             [
              0,
              "#0d0887"
             ],
             [
              0.1111111111111111,
              "#46039f"
             ],
             [
              0.2222222222222222,
              "#7201a8"
             ],
             [
              0.3333333333333333,
              "#9c179e"
             ],
             [
              0.4444444444444444,
              "#bd3786"
             ],
             [
              0.5555555555555556,
              "#d8576b"
             ],
             [
              0.6666666666666666,
              "#ed7953"
             ],
             [
              0.7777777777777778,
              "#fb9f3a"
             ],
             [
              0.8888888888888888,
              "#fdca26"
             ],
             [
              1,
              "#f0f921"
             ]
            ],
            "type": "histogram2dcontour"
           }
          ],
          "mesh3d": [
           {
            "colorbar": {
             "outlinewidth": 0,
             "ticks": ""
            },
            "type": "mesh3d"
           }
          ],
          "parcoords": [
           {
            "line": {
             "colorbar": {
              "outlinewidth": 0,
              "ticks": ""
             }
            },
            "type": "parcoords"
           }
          ],
          "pie": [
           {
            "automargin": true,
            "type": "pie"
           }
          ],
          "scatter": [
           {
            "fillpattern": {
             "fillmode": "overlay",
             "size": 10,
             "solidity": 0.2
            },
            "type": "scatter"
           }
          ],
          "scatter3d": [
           {
            "line": {
             "colorbar": {
              "outlinewidth": 0,
              "ticks": ""
             }
            },
            "marker": {
             "colorbar": {
              "outlinewidth": 0,
              "ticks": ""
             }
            },
            "type": "scatter3d"
           }
          ],
          "scattercarpet": [
           {
            "marker": {
             "colorbar": {
              "outlinewidth": 0,
              "ticks": ""
             }
            },
            "type": "scattercarpet"
           }
          ],
          "scattergeo": [
           {
            "marker": {
             "colorbar": {
              "outlinewidth": 0,
              "ticks": ""
             }
            },
            "type": "scattergeo"
           }
          ],
          "scattergl": [
           {
            "marker": {
             "colorbar": {
              "outlinewidth": 0,
              "ticks": ""
             }
            },
            "type": "scattergl"
           }
          ],
          "scattermapbox": [
           {
            "marker": {
             "colorbar": {
              "outlinewidth": 0,
              "ticks": ""
             }
            },
            "type": "scattermapbox"
           }
          ],
          "scatterpolar": [
           {
            "marker": {
             "colorbar": {
              "outlinewidth": 0,
              "ticks": ""
             }
            },
            "type": "scatterpolar"
           }
          ],
          "scatterpolargl": [
           {
            "marker": {
             "colorbar": {
              "outlinewidth": 0,
              "ticks": ""
             }
            },
            "type": "scatterpolargl"
           }
          ],
          "scatterternary": [
           {
            "marker": {
             "colorbar": {
              "outlinewidth": 0,
              "ticks": ""
             }
            },
            "type": "scatterternary"
           }
          ],
          "surface": [
           {
            "colorbar": {
             "outlinewidth": 0,
             "ticks": ""
            },
            "colorscale": [
             [
              0,
              "#0d0887"
             ],
             [
              0.1111111111111111,
              "#46039f"
             ],
             [
              0.2222222222222222,
              "#7201a8"
             ],
             [
              0.3333333333333333,
              "#9c179e"
             ],
             [
              0.4444444444444444,
              "#bd3786"
             ],
             [
              0.5555555555555556,
              "#d8576b"
             ],
             [
              0.6666666666666666,
              "#ed7953"
             ],
             [
              0.7777777777777778,
              "#fb9f3a"
             ],
             [
              0.8888888888888888,
              "#fdca26"
             ],
             [
              1,
              "#f0f921"
             ]
            ],
            "type": "surface"
           }
          ],
          "table": [
           {
            "cells": {
             "fill": {
              "color": "#EBF0F8"
             },
             "line": {
              "color": "white"
             }
            },
            "header": {
             "fill": {
              "color": "#C8D4E3"
             },
             "line": {
              "color": "white"
             }
            },
            "type": "table"
           }
          ]
         },
         "layout": {
          "annotationdefaults": {
           "arrowcolor": "#2a3f5f",
           "arrowhead": 0,
           "arrowwidth": 1
          },
          "autotypenumbers": "strict",
          "coloraxis": {
           "colorbar": {
            "outlinewidth": 0,
            "ticks": ""
           }
          },
          "colorscale": {
           "diverging": [
            [
             0,
             "#8e0152"
            ],
            [
             0.1,
             "#c51b7d"
            ],
            [
             0.2,
             "#de77ae"
            ],
            [
             0.3,
             "#f1b6da"
            ],
            [
             0.4,
             "#fde0ef"
            ],
            [
             0.5,
             "#f7f7f7"
            ],
            [
             0.6,
             "#e6f5d0"
            ],
            [
             0.7,
             "#b8e186"
            ],
            [
             0.8,
             "#7fbc41"
            ],
            [
             0.9,
             "#4d9221"
            ],
            [
             1,
             "#276419"
            ]
           ],
           "sequential": [
            [
             0,
             "#0d0887"
            ],
            [
             0.1111111111111111,
             "#46039f"
            ],
            [
             0.2222222222222222,
             "#7201a8"
            ],
            [
             0.3333333333333333,
             "#9c179e"
            ],
            [
             0.4444444444444444,
             "#bd3786"
            ],
            [
             0.5555555555555556,
             "#d8576b"
            ],
            [
             0.6666666666666666,
             "#ed7953"
            ],
            [
             0.7777777777777778,
             "#fb9f3a"
            ],
            [
             0.8888888888888888,
             "#fdca26"
            ],
            [
             1,
             "#f0f921"
            ]
           ],
           "sequentialminus": [
            [
             0,
             "#0d0887"
            ],
            [
             0.1111111111111111,
             "#46039f"
            ],
            [
             0.2222222222222222,
             "#7201a8"
            ],
            [
             0.3333333333333333,
             "#9c179e"
            ],
            [
             0.4444444444444444,
             "#bd3786"
            ],
            [
             0.5555555555555556,
             "#d8576b"
            ],
            [
             0.6666666666666666,
             "#ed7953"
            ],
            [
             0.7777777777777778,
             "#fb9f3a"
            ],
            [
             0.8888888888888888,
             "#fdca26"
            ],
            [
             1,
             "#f0f921"
            ]
           ]
          },
          "colorway": [
           "#636efa",
           "#EF553B",
           "#00cc96",
           "#ab63fa",
           "#FFA15A",
           "#19d3f3",
           "#FF6692",
           "#B6E880",
           "#FF97FF",
           "#FECB52"
          ],
          "font": {
           "color": "#2a3f5f"
          },
          "geo": {
           "bgcolor": "white",
           "lakecolor": "white",
           "landcolor": "#E5ECF6",
           "showlakes": true,
           "showland": true,
           "subunitcolor": "white"
          },
          "hoverlabel": {
           "align": "left"
          },
          "hovermode": "closest",
          "mapbox": {
           "style": "light"
          },
          "paper_bgcolor": "white",
          "plot_bgcolor": "#E5ECF6",
          "polar": {
           "angularaxis": {
            "gridcolor": "white",
            "linecolor": "white",
            "ticks": ""
           },
           "bgcolor": "#E5ECF6",
           "radialaxis": {
            "gridcolor": "white",
            "linecolor": "white",
            "ticks": ""
           }
          },
          "scene": {
           "xaxis": {
            "backgroundcolor": "#E5ECF6",
            "gridcolor": "white",
            "gridwidth": 2,
            "linecolor": "white",
            "showbackground": true,
            "ticks": "",
            "zerolinecolor": "white"
           },
           "yaxis": {
            "backgroundcolor": "#E5ECF6",
            "gridcolor": "white",
            "gridwidth": 2,
            "linecolor": "white",
            "showbackground": true,
            "ticks": "",
            "zerolinecolor": "white"
           },
           "zaxis": {
            "backgroundcolor": "#E5ECF6",
            "gridcolor": "white",
            "gridwidth": 2,
            "linecolor": "white",
            "showbackground": true,
            "ticks": "",
            "zerolinecolor": "white"
           }
          },
          "shapedefaults": {
           "line": {
            "color": "#2a3f5f"
           }
          },
          "ternary": {
           "aaxis": {
            "gridcolor": "white",
            "linecolor": "white",
            "ticks": ""
           },
           "baxis": {
            "gridcolor": "white",
            "linecolor": "white",
            "ticks": ""
           },
           "bgcolor": "#E5ECF6",
           "caxis": {
            "gridcolor": "white",
            "linecolor": "white",
            "ticks": ""
           }
          },
          "title": {
           "x": 0.05
          },
          "xaxis": {
           "automargin": true,
           "gridcolor": "white",
           "linecolor": "white",
           "ticks": "",
           "title": {
            "standoff": 15
           },
           "zerolinecolor": "white",
           "zerolinewidth": 2
          },
          "yaxis": {
           "automargin": true,
           "gridcolor": "white",
           "linecolor": "white",
           "ticks": "",
           "title": {
            "standoff": 15
           },
           "zerolinecolor": "white",
           "zerolinewidth": 2
          }
         }
        },
        "title": {
         "text": "Writing scores and parents level of education"
        },
        "xaxis": {
         "anchor": "y",
         "categoryorder": "category ascending",
         "domain": [
          0,
          0.18400000000000002
         ],
         "title": {
          "text": "writing grade"
         }
        },
        "xaxis2": {
         "anchor": "y2",
         "categoryorder": "category ascending",
         "domain": [
          0.20400000000000001,
          0.388
         ],
         "matches": "x",
         "title": {
          "text": "writing grade"
         }
        },
        "xaxis3": {
         "anchor": "y3",
         "categoryorder": "category ascending",
         "domain": [
          0.40800000000000003,
          0.5920000000000001
         ],
         "matches": "x",
         "title": {
          "text": "writing grade"
         }
        },
        "xaxis4": {
         "anchor": "y4",
         "categoryorder": "category ascending",
         "domain": [
          0.6120000000000001,
          0.7960000000000002
         ],
         "matches": "x",
         "title": {
          "text": "writing grade"
         }
        },
        "xaxis5": {
         "anchor": "y5",
         "categoryorder": "category ascending",
         "domain": [
          0.8160000000000001,
          1
         ],
         "matches": "x",
         "title": {
          "text": "writing grade"
         }
        },
        "yaxis": {
         "anchor": "x",
         "domain": [
          0,
          1
         ],
         "title": {
          "text": "count"
         }
        },
        "yaxis2": {
         "anchor": "x2",
         "domain": [
          0,
          1
         ],
         "matches": "y",
         "showticklabels": false
        },
        "yaxis3": {
         "anchor": "x3",
         "domain": [
          0,
          1
         ],
         "matches": "y",
         "showticklabels": false
        },
        "yaxis4": {
         "anchor": "x4",
         "domain": [
          0,
          1
         ],
         "matches": "y",
         "showticklabels": false
        },
        "yaxis5": {
         "anchor": "x5",
         "domain": [
          0,
          1
         ],
         "matches": "y",
         "showticklabels": false
        }
       }
      }
     },
     "metadata": {},
     "output_type": "display_data"
    }
   ],
   "source": [
    "\n",
    "fig=px.histogram(df,histfunc=\"count\", x='writing grade', facet_col='parental level of education',title=\"Writing scores and parents level of education\"\n",
    "        ).update_xaxes(categoryorder='category ascending')\n",
    "fig.for_each_annotation(lambda a: a.update(text=a.text.split(\"=\")[-1]))\n",
    "fig.show()"
   ]
  },
  {
   "attachments": {},
   "cell_type": "markdown",
   "metadata": {},
   "source": [
    "In Writing, the most common grade is C \n",
    "\n",
    "But for the high school parents, the most common grade is F"
   ]
  },
  {
   "attachments": {},
   "cell_type": "markdown",
   "metadata": {},
   "source": [
    "the expected outcome of this analysis is that the parents' education have a direct affect on the students' performance, but it turned out false\n",
    "\n",
    "It might open a new point of view where we discuss if the degree can affect the time that the parents spend to teach their children or they type of treatment that they provide but since we don't have enough data to dive deep in this, we can conclude that the parents education doesn't have a clear relationship with the student performance"
   ]
  },
  {
   "attachments": {},
   "cell_type": "markdown",
   "metadata": {},
   "source": [
    "## conclusion \n",
    "\n",
    "student performance is affected by many factors, some of them have a stronger relationship than others."
   ]
  }
 ],
 "metadata": {
  "kernelspec": {
   "display_name": "base",
   "language": "python",
   "name": "python3"
  },
  "language_info": {
   "codemirror_mode": {
    "name": "ipython",
    "version": 3
   },
   "file_extension": ".py",
   "mimetype": "text/x-python",
   "name": "python",
   "nbconvert_exporter": "python",
   "pygments_lexer": "ipython3",
   "version": "3.9.13"
  },
  "orig_nbformat": 4,
  "vscode": {
   "interpreter": {
    "hash": "3a9c20e25270862eb1677b1284953a7c1bb047c43aa5b8ab1ce898b0e9ee8ecd"
   }
  }
 },
 "nbformat": 4,
 "nbformat_minor": 2
}
